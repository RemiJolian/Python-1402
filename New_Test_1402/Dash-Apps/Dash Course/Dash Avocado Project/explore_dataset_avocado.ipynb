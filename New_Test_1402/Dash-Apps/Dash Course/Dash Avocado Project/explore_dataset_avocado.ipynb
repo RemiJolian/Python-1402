{
 "cells": [
  {
   "cell_type": "markdown",
   "metadata": {},
   "source": [
    "This notebook demonstrates an example for exploring the dataset in the Jupyter Notebook. This is often *mandatory* before we start making the dashboard using Dash. \n",
    "\n",
    "Not familiar with data importing, manipulation, cleaning, or exploration in Python? \n",
    "\n",
    "Please take our course **Python for Data Analysis: step-by-step with projects**:\n",
    "https://www.udemy.com/course/python-for-data-analysis-step-by-step/?referralCode=C8B8B507FB1197183455.\n",
    " You'll become proficient and confident with analyzing data in Python with its practical content.\n"
   ]
  },
  {
   "cell_type": "markdown",
   "metadata": {},
   "source": [
    "# import two libraries:\n",
    "- pandas: for loading and manipulating datasets.\n",
    "- plotly.express: for generating data visualizations."
   ]
  },
  {
   "cell_type": "code",
   "execution_count": 15,
   "metadata": {},
   "outputs": [],
   "source": [
    "import pandas as pd\n",
    "import plotly.express as px"
   ]
  },
  {
   "cell_type": "markdown",
   "metadata": {},
   "source": [
    "# load the dataset with the `read_csv` function and take a look at its `info` summary"
   ]
  },
  {
   "cell_type": "code",
   "execution_count": 16,
   "metadata": {},
   "outputs": [
    {
     "name": "stdout",
     "output_type": "stream",
     "text": [
      "<class 'pandas.core.frame.DataFrame'>\n",
      "RangeIndex: 30022 entries, 0 to 30021\n",
      "Data columns (total 13 columns):\n",
      " #   Column         Non-Null Count  Dtype  \n",
      "---  ------         --------------  -----  \n",
      " 0   date           30022 non-null  object \n",
      " 1   average_price  30022 non-null  float64\n",
      " 2   total_volume   30022 non-null  float64\n",
      " 3   4046           30022 non-null  float64\n",
      " 4   4225           30022 non-null  float64\n",
      " 5   4770           30022 non-null  float64\n",
      " 6   total_bags     30022 non-null  float64\n",
      " 7   small_bags     30022 non-null  float64\n",
      " 8   large_bags     30022 non-null  float64\n",
      " 9   xlarge_bags    30022 non-null  float64\n",
      " 10  type           30021 non-null  object \n",
      " 11  year           30022 non-null  int64  \n",
      " 12  geography      30022 non-null  object \n",
      "dtypes: float64(9), int64(1), object(3)\n",
      "memory usage: 3.0+ MB\n"
     ]
    }
   ],
   "source": [
    "df = pd.read_csv('avocado.csv')\n",
    "df.info()"
   ]
  },
  {
   "cell_type": "markdown",
   "metadata": {},
   "source": [
    "# Suppose we want to present the average prices of different types of avocados for various geographies across time?\n",
    "i.e., we want to focus on presenting the information of the columns `date`, `average_price`, `type`, and `geography`"
   ]
  },
  {
   "cell_type": "markdown",
   "metadata": {},
   "source": [
    "# What are the different `type` and `geography` of avocados?\n",
    "\n",
    "Let’s look at the categories using the `value_counts` method with `dropna = False`. This will show us the \n",
    "unique categories for these variables."
   ]
  },
  {
   "cell_type": "code",
   "execution_count": 13,
   "metadata": {},
   "outputs": [
    {
     "name": "stdout",
     "output_type": "stream",
     "text": [
      "type\n",
      "conventional    15012\n",
      "organic         15009\n",
      "NaN                 1\n",
      "Name: count, dtype: int64\n"
     ]
    }
   ],
   "source": [
    "# df = pd.read_csv('avocado.csv')\n",
    "print(df['type'].value_counts(dropna=False))"
   ]
  },
  {
   "cell_type": "markdown",
   "metadata": {},
   "source": [
    "df['type'].value_counts(dropna=False): This is performing a specific operation using the pandas library. Here's a detailed explanation:\n",
    "\n",
    "df['type']: This part accesses a column named \"type\" within a DataFrame named \"df\". DataFrames are tabular data structures in pandas, similar to spreadsheets.\n",
    ".value_counts(): This method is applied to the \"type\" column to count the occurrences of each unique value within it.\n",
    "dropna=False: This argument is passed to value_counts() to control how missing values (NaN) are handled. Setting it to False ensures that missing values are included in the count, not ignored."
   ]
  },
  {
   "cell_type": "code",
   "execution_count": 17,
   "metadata": {},
   "outputs": [
    {
     "name": "stdout",
     "output_type": "stream",
     "text": [
      "geography\n",
      "Albany                  556\n",
      "Sacramento              556\n",
      "Northeast               556\n",
      "Northern New England    556\n",
      "Orlando                 556\n",
      "Philadelphia            556\n",
      "Phoenix/Tucson          556\n",
      "Pittsburgh              556\n",
      "Plains                  556\n",
      "Portland                556\n",
      "Raleigh/Greensboro      556\n",
      "Richmond/Norfolk        556\n",
      "Roanoke                 556\n",
      "San Diego               556\n",
      "Atlanta                 556\n",
      "San Francisco           556\n",
      "Seattle                 556\n",
      "South Carolina          556\n",
      "South Central           556\n",
      "Southeast               556\n",
      "Spokane                 556\n",
      "St. Louis               556\n",
      "Syracuse                556\n",
      "Tampa                   556\n",
      "Total U.S.              556\n",
      "West                    556\n",
      "New York                556\n",
      "New Orleans/Mobile      556\n",
      "Nashville               556\n",
      "Midsouth                556\n",
      "Baltimore/Washington    556\n",
      "Boise                   556\n",
      "Boston                  556\n",
      "Buffalo/Rochester       556\n",
      "California              556\n",
      "Charlotte               556\n",
      "Chicago                 556\n",
      "Cincinnati/Dayton       556\n",
      "Columbus                556\n",
      "Dallas/Ft. Worth        556\n",
      "Denver                  556\n",
      "Detroit                 556\n",
      "Grand Rapids            556\n",
      "Great Lakes             556\n",
      "Harrisburg/Scranton     556\n",
      "Hartford/Springfield    556\n",
      "Houston                 556\n",
      "Indianapolis            556\n",
      "Jacksonville            556\n",
      "Las Vegas               556\n",
      "Los Angeles             556\n",
      "Louisville              556\n",
      "Miami/Ft. Lauderdale    556\n",
      "West Tex/New Mexico     554\n",
      "Name: count, dtype: int64\n"
     ]
    }
   ],
   "source": [
    "print(df['geography'].value_counts(dropna=False))"
   ]
  },
  {
   "cell_type": "markdown",
   "metadata": {},
   "source": [
    "There are two categories of `type`, and many different categories for `geography`. "
   ]
  },
  {
   "cell_type": "markdown",
   "metadata": {},
   "source": [
    "Since there are only two avocados types, we can plot their `average_price` time series on the same line chart.\n",
    "\n",
    "Let’s try to plot such a figure when `geography` is ‘Los Angeles’."
   ]
  },
  {
   "cell_type": "code",
   "execution_count": null,
   "metadata": {},
   "outputs": [],
   "source": [
    "msk = df['geography'] == 'Los Angeles'\n",
    "px.line(df[msk], x='date', y='average_price', color='type')"
   ]
  },
  {
   "cell_type": "markdown",
   "metadata": {},
   "source": [
    "This is a nice chart, but it’s only for one geography of ‘Los Angeles’.\n",
    "\n",
    "How can we make it easy for users to explore this information from different `geography`?\n",
    "\n",
    "If we have a dropdown with `geography` options, the users would be able to choose among them. Then according to the `geography` selected by the users, we can display the above line plot to them for that specific `geography`.\n",
    "\n",
    "This is something we can do easily with Dash!\n",
    "\n",
    "It’s time to use Dash."
   ]
  }
 ],
 "metadata": {
  "kernelspec": {
   "display_name": "Python 3 (ipykernel)",
   "language": "python",
   "name": "python3"
  },
  "language_info": {
   "codemirror_mode": {
    "name": "ipython",
    "version": 3
   },
   "file_extension": ".py",
   "mimetype": "text/x-python",
   "name": "python",
   "nbconvert_exporter": "python",
   "pygments_lexer": "ipython3",
   "version": "3.12.0"
  }
 },
 "nbformat": 4,
 "nbformat_minor": 4
}
