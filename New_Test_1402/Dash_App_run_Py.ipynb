{
 "cells": [
  {
   "cell_type": "code",
   "execution_count": 8,
   "metadata": {},
   "outputs": [],
   "source": [
    "import dash\n",
    "import dash_html_components as html\n",
    "from flask import Flask\n",
    "import subprocess\n",
    "import dash_core_components as dcc"
   ]
  },
  {
   "cell_type": "code",
   "execution_count": 5,
   "metadata": {},
   "outputs": [],
   "source": [
    "server = Flask(__name__)\n",
    "app = dash.Dash(__name__, server=server)"
   ]
  },
  {
   "cell_type": "code",
   "execution_count": 6,
   "metadata": {},
   "outputs": [],
   "source": [
    "app.layout = html.Div([\n",
    "    html.H1('Run Python File'),\n",
    "    html.Div([\n",
    "        html.Label('Enter file name: '),\n",
    "        html.Div([\n",
    "            dcc.Input(id='input-box', type='text'),\n",
    "            html.Button('Run', id='button')\n",
    "        ])\n",
    "    ]),\n",
    "    html.Div(id='output-container')\n",
    "])"
   ]
  },
  {
   "cell_type": "code",
   "execution_count": 7,
   "metadata": {},
   "outputs": [],
   "source": [
    "@app.callback(\n",
    "    dash.dependencies.Output('output-container', 'children'),\n",
    "    [dash.dependencies.Input('button', 'n_clicks')],\n",
    "    [dash.dependencies.State('input-box', 'value')])\n",
    "def run_script(n_clicks, value):\n",
    "    if n_clicks is not None:\n",
    "        result = subprocess.run(['python', value], stdout=subprocess.PIPE)\n",
    "        return html.Div([\n",
    "            html.P(result.stdout.decode('utf-8'))\n",
    "        ])"
   ]
  }
 ],
 "metadata": {
  "kernelspec": {
   "display_name": "Python 3",
   "language": "python",
   "name": "python3"
  },
  "language_info": {
   "codemirror_mode": {
    "name": "ipython",
    "version": 3
   },
   "file_extension": ".py",
   "mimetype": "text/x-python",
   "name": "python",
   "nbconvert_exporter": "python",
   "pygments_lexer": "ipython3",
   "version": "3.11.1"
  },
  "orig_nbformat": 4
 },
 "nbformat": 4,
 "nbformat_minor": 2
}
