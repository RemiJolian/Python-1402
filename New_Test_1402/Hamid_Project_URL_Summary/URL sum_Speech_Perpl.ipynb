{
 "cells": [
  {
   "cell_type": "code",
   "execution_count": null,
   "metadata": {},
   "outputs": [],
   "source": [
    "# Importing necessary libraries\n",
    "import requests\n",
    "from bs4 import BeautifulSoup\n",
    "from gtts import gTTS\n",
    "from playsound import playsound\n",
    "from transformers import pipeline\n",
    "\n",
    "# Getting the URL address\n",
    "url = input(\"Enter the URL address: \")\n",
    "\n",
    "# Extracting text from the website\n",
    "response = requests.get(url)\n",
    "soup = BeautifulSoup(response.text, 'html.parser')\n",
    "text = ' '.join(map(lambda p: p.text, soup.find_all('p')))\n",
    "\n",
    "# Summarizing the text\n",
    "summarizer = pipeline('summarization')\n",
    "summary = summarizer(text, max_length=120, min_length=30, do_sample=False)[0]['summary_text']\n",
    "\n",
    "# Converting the summary to speech\n",
    "tts = gTTS(summary)\n",
    "tts.save('summary.mp3')\n",
    "\n",
    "# Playing the speech\n",
    "playsound('summary.mp3')"
   ]
  }
 ],
 "metadata": {
  "kernelspec": {
   "display_name": "Python 3",
   "language": "python",
   "name": "python3"
  },
  "language_info": {
   "codemirror_mode": {
    "name": "ipython",
    "version": 3
   },
   "file_extension": ".py",
   "mimetype": "text/x-python",
   "name": "python",
   "nbconvert_exporter": "python",
   "pygments_lexer": "ipython3",
   "version": "3.12.0"
  },
  "orig_nbformat": 4
 },
 "nbformat": 4,
 "nbformat_minor": 2
}
