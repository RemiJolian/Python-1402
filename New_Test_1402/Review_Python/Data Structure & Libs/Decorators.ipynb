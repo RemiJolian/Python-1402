{
 "cells": [
  {
   "cell_type": "markdown",
   "metadata": {},
   "source": [
    "# Review of Decorators\n",
    "\n",
    "First, Review of function\n",
    "Functions are object like everything in python. so They are used as argument of another function.\n",
    "Every places u can declare a function."
   ]
  },
  {
   "cell_type": "code",
   "execution_count": 38,
   "metadata": {},
   "outputs": [
    {
     "name": "stdout",
     "output_type": "stream",
     "text": [
      "10\n",
      "100\n"
     ]
    }
   ],
   "source": [
    "# function as input\n",
    "def f(g):\n",
    "    g(10)\n",
    "    return g\n",
    "def g(a):\n",
    "    print(a)\n",
    "\n",
    "f(g)(100)"
   ]
  },
  {
   "cell_type": "markdown",
   "metadata": {},
   "source": [
    "# Remember:\n",
    "In general, you should use \"return\" when you want to send a value from one \n",
    "point in your code to another, and use \"print\" when you want to display output to the console or terminal.\n",
    "\"return\" Exits a function and sends a value back to the calling code.\n",
    "\"print\" displays text or the value of an expression to the console.\n"
   ]
  },
  {
   "cell_type": "code",
   "execution_count": 1,
   "metadata": {},
   "outputs": [
    {
     "name": "stdout",
     "output_type": "stream",
     "text": [
      "salam\n"
     ]
    }
   ],
   "source": [
    "g = print\n",
    "g(\"salam\")"
   ]
  },
  {
   "cell_type": "code",
   "execution_count": 2,
   "metadata": {},
   "outputs": [
    {
     "data": {
      "text/plain": [
       "3"
      ]
     },
     "execution_count": 2,
     "metadata": {},
     "output_type": "execute_result"
    }
   ],
   "source": [
    "def poly_builder(ls):\n",
    "    def p(x):\n",
    "        ret = 0\n",
    "        for i in range(len(ls)):\n",
    "            ret += ls[i] * (x ** i)\n",
    "        return ret\n",
    "    return p\n",
    "my_ls = [1, 1]\n",
    "poly_builder(my_ls)(2)\n",
    "#or:\n",
    "# f = poly_builder(my_ls)\n",
    "# f(2)\n"
   ]
  },
  {
   "cell_type": "code",
   "execution_count": null,
   "metadata": {},
   "outputs": [],
   "source": [
    "# Taylor series of sin function\n",
    "\n",
    "def poly_builder(ls):\n",
    "    def p(x):\n",
    "        ret = 0\n",
    "        for i in range(len(ls)):\n",
    "            ret += ls[i] * (x**i)\n",
    "        return ret\n",
    "    return p\n",
    "\n",
    "import math\n",
    "\n",
    "def fact(n):\n",
    "    if n == 0:\n",
    "        return 1\n",
    "    return fact(n-1)*n\n",
    "\n",
    "a = []\n",
    "for i in range(0, 100):\n",
    "    a.append(0)\n",
    "    if i%2 == 0:\n",
    "        continue\n",
    "    a[i] = 1.0/fact(i)\n",
    "    if int(i/2)%2 == 1:\n",
    "        a[i] *= -1\n",
    "\n",
    "sin = poly_builder(a)\n",
    "\n",
    "print('math sin: ')\n",
    "print(math.sin(math.pi/6))\n",
    "print('our sin: ')\n",
    "print(sin(math.pi/6))\n"
   ]
  },
  {
   "cell_type": "code",
   "execution_count": 3,
   "metadata": {},
   "outputs": [
    {
     "data": {
      "text/plain": [
       "400"
      ]
     },
     "execution_count": 3,
     "metadata": {},
     "output_type": "execute_result"
    }
   ],
   "source": [
    "# a class called, like a function\n",
    "\n",
    "class A:\n",
    "    def __call__(self, x):\n",
    "        return x**2\n",
    "\n",
    "a = A()\n",
    "a(20)"
   ]
  },
  {
   "cell_type": "markdown",
   "metadata": {},
   "source": [
    "# Now, What is decorators:\n",
    "\n",
    "In Python, a decorator is a design pattern that allows you to modify the behavior of a function or class by wrapping it in another function or class.\n",
    "The decorator takes the original function or class as an argument and returns a modified version of it. Decorators are used to add functionality to an existing object without modifying its structure.\n",
    "# Generally, a decorator is a function that takes an input function and creates a new function based on the input function (which involves a series of management and preparations between calling this function and the original function) and returns the created function as output.\"\n",
    "For example:"
   ]
  },
  {
   "cell_type": "code",
   "execution_count": 1,
   "metadata": {},
   "outputs": [
    {
     "name": "stdout",
     "output_type": "stream",
     "text": [
      "Before the function is called.\n",
      "Hello!\n",
      "After the function is called.\n"
     ]
    }
   ],
   "source": [
    "def my_decorator(func):\n",
    "    def wrapper():\n",
    "        print(\"Before the function is called.\")\n",
    "        func()\n",
    "        print(\"After the function is called.\")\n",
    "    return wrapper\n",
    "\n",
    "@my_decorator\n",
    "def say_hello():\n",
    "    print(\"Hello!\")\n",
    "\n",
    "say_hello()"
   ]
  },
  {
   "cell_type": "markdown",
   "metadata": {},
   "source": [
    "In this example, we define a decorator called my_decorator that takes a function as its argument and returns a modified version of it. The modified version of the function prints a message before and after the original function is called. We then define a function called say_hello and decorate it using the @my_decorator syntax. When we call the say_hello function, the decorator is applied to it, and the modified version of the function is called."
   ]
  },
  {
   "cell_type": "markdown",
   "metadata": {},
   "source": [
    "Note that decorators can also be used with classes, and multiple decorators can be applied to a single function or class. Decorators are a powerful tool in Python that can be used to add functionality to existing code without modifying its structure."
   ]
  },
  {
   "cell_type": "code",
   "execution_count": null,
   "metadata": {},
   "outputs": [],
   "source": [
    "# first see:\n",
    "def int_check_decorator(f):\n",
    "    def g(x):\n",
    "        if type(x) != int:\n",
    "            raise Exception('argument should be int')\n",
    "        return f(x)\n",
    "    return g\n",
    "\n",
    "def f(a):\n",
    "    return a + a\n",
    "\n",
    "print(f('salam'))\n",
    "\n",
    "k = int_check_decorator(f)\n",
    "print(k('salam'))"
   ]
  },
  {
   "cell_type": "code",
   "execution_count": null,
   "metadata": {},
   "outputs": [],
   "source": [
    "# OR u can write:\n",
    "def int_check_decorator(f):\n",
    "    def g(x):\n",
    "        if type(x) != int:\n",
    "            raise Exception('argument should be int')\n",
    "        return f(x)\n",
    "    return g\n",
    "\n",
    "@int_check_decorator\n",
    "def f(a):\n",
    "    return a+a\n",
    "\n",
    "print(f('salam'))"
   ]
  }
 ],
 "metadata": {
  "kernelspec": {
   "display_name": "Python 3",
   "language": "python",
   "name": "python3"
  },
  "language_info": {
   "codemirror_mode": {
    "name": "ipython",
    "version": 3
   },
   "file_extension": ".py",
   "mimetype": "text/x-python",
   "name": "python",
   "nbconvert_exporter": "python",
   "pygments_lexer": "ipython3",
   "version": "3.12.0"
  }
 },
 "nbformat": 4,
 "nbformat_minor": 2
}
