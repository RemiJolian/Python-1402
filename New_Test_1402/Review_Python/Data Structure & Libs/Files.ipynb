{
 "cells": [
  {
   "cell_type": "markdown",
   "metadata": {},
   "source": [
    "**use files in python**"
   ]
  },
  {
   "cell_type": "markdown",
   "metadata": {},
   "source": [
    "to open a file, you use open() and the output is a file object\n",
    "f = open(\"file address\", \"opening mode\")"
   ]
  },
  {
   "cell_type": "markdown",
   "metadata": {},
   "source": [
    "**read**\n",
    "f.read(x): it reads x character that not read yet. if x > len(f), no error"
   ]
  },
  {
   "cell_type": "code",
   "execution_count": null,
   "metadata": {},
   "outputs": [],
   "source": [
    "f = open('info.txt','r')\n",
    "print(f.read(7))\n",
    "print(f.read(6))"
   ]
  },
  {
   "cell_type": "code",
   "execution_count": 20,
   "metadata": {},
   "outputs": [
    {
     "data": {
      "text/plain": [
       "'Hello!\\nI am Ramin.\\nHow are you?'"
      ]
     },
     "execution_count": 20,
     "metadata": {},
     "output_type": "execute_result"
    }
   ],
   "source": [
    "f = open('info.txt','r') # read all file\n",
    "f.read()"
   ]
  },
  {
   "cell_type": "markdown",
   "metadata": {},
   "source": [
    "**readline()**"
   ]
  },
  {
   "cell_type": "markdown",
   "metadata": {},
   "source": [
    "**close(), u must close file, at the end**"
   ]
  },
  {
   "cell_type": "code",
   "execution_count": 49,
   "metadata": {},
   "outputs": [
    {
     "name": "stdout",
     "output_type": "stream",
     "text": [
      "Hello!\n",
      "\n",
      "I am Ramin.\n",
      "\n",
      "How are you?\n"
     ]
    }
   ],
   "source": [
    "f = open('info.txt','r') # read all file\n",
    "print(f.readline())\n",
    "print(f.readline())\n",
    "print(f.readline())\n",
    "f.close()"
   ]
  },
  {
   "cell_type": "markdown",
   "metadata": {},
   "source": [
    "**readlines()** # s"
   ]
  },
  {
   "cell_type": "code",
   "execution_count": 48,
   "metadata": {},
   "outputs": [
    {
     "name": "stdout",
     "output_type": "stream",
     "text": [
      "['Hello!\\n', 'I am Ramin.\\n', 'How are you?']\n"
     ]
    }
   ],
   "source": [
    "f = open('info.txt','r') # read all file\n",
    "print(f.readlines())\n",
    "f.close()"
   ]
  },
  {
   "cell_type": "code",
   "execution_count": 31,
   "metadata": {},
   "outputs": [
    {
     "name": "stdout",
     "output_type": "stream",
     "text": [
      "['How are you?', 'I am Ramin.\\n', 'Hello!\\n']\n"
     ]
    }
   ],
   "source": [
    "# reading all line of a file and print it reversely\n",
    "\n",
    "f = open('info.txt', 'r')\n",
    "list1 = []\n",
    "while True:\n",
    "    line = f.readline()\n",
    "    if line == '':\n",
    "        break\n",
    "    else:\n",
    "        list1.append(line)\n",
    "ans = list(reversed(list1))\n",
    "f.close()\n",
    "print(ans)"
   ]
  },
  {
   "cell_type": "code",
   "execution_count": 9,
   "metadata": {},
   "outputs": [],
   "source": [
    "f = open('name.txt', 'w+')\n",
    "for i in range(5):\n",
    "    f.write('This is line %d\\r\\n'%(i+1))\n",
    "f.close()"
   ]
  },
  {
   "cell_type": "code",
   "execution_count": 34,
   "metadata": {},
   "outputs": [
    {
     "name": "stdout",
     "output_type": "stream",
     "text": [
      "How are you?\n",
      "I am Ramin.\n",
      "\n",
      "Hello!\n",
      "\n"
     ]
    }
   ],
   "source": [
    "f = open(\"Info.txt\", \"r\")\n",
    "lines = []\n",
    "while True:\n",
    "    line = f.readline()\n",
    "    if line == '':\n",
    "        break # end of file\n",
    "    lines.append(line)\n",
    "lines.reverse()\n",
    "for line in lines:\n",
    "    print(line)\n",
    "f.close()"
   ]
  },
  {
   "cell_type": "markdown",
   "metadata": {},
   "source": [
    "**write, notice you must add '\\n\\' to end, write not similar to print"
   ]
  },
  {
   "cell_type": "code",
   "execution_count": 40,
   "metadata": {},
   "outputs": [],
   "source": [
    "# an example: append n lines of input, to a file\n",
    "\n",
    "n = int(input())\n",
    "f = open('dsv.txt', 'w')\n",
    "for i in range(n):\n",
    "    line = input()\n",
    "    f.write(line + '\\n')\n",
    "f.close()\n",
    "\n"
   ]
  },
  {
   "cell_type": "code",
   "execution_count": 43,
   "metadata": {},
   "outputs": [],
   "source": [
    "n = int(input())\n",
    "f = open('dsv.txt', 'a')            # a, append\n",
    "for i in range(n):\n",
    "    line = input()\n",
    "    f.write(line + '\\n')\n",
    "f.close()\n"
   ]
  },
  {
   "cell_type": "markdown",
   "metadata": {},
   "source": [
    "**flush() function**\n",
    "those change u write or append to a file, not execute that time, you must use flush()\n",
    "the flush() method is called on the file object to clear the internal buffer and ensure that the data is saved to the file"
   ]
  },
  {
   "cell_type": "code",
   "execution_count": 50,
   "metadata": {},
   "outputs": [],
   "source": [
    "file = open(\"example.txt\", \"w\")\n",
    "file.write(\"Hello, world!\")\n",
    "file.flush()\n",
    "file.close()\n"
   ]
  },
  {
   "cell_type": "markdown",
   "metadata": {},
   "source": [
    "**use as to not forget close the file**"
   ]
  },
  {
   "cell_type": "code",
   "execution_count": null,
   "metadata": {},
   "outputs": [],
   "source": [
    "with open(\"file address\", \"opening mode\") as f:\n",
    "    #tasks to do with file\n",
    "    pass"
   ]
  },
  {
   "cell_type": "markdown",
   "metadata": {},
   "source": [
    "**how to use generator at reading a huge file**\n",
    "at first see :"
   ]
  },
  {
   "cell_type": "code",
   "execution_count": 52,
   "metadata": {},
   "outputs": [],
   "source": [
    "def csv_reader(path):\n",
    "    file = open(path)\n",
    "    result = file.read().split(\"\\n\")\n",
    "    return result"
   ]
  },
  {
   "cell_type": "markdown",
   "metadata": {},
   "source": [
    "if the file above  has 1 million line, then u see storage error, so:"
   ]
  },
  {
   "cell_type": "code",
   "execution_count": 53,
   "metadata": {},
   "outputs": [],
   "source": [
    "def csv_reader(path):\n",
    "    with open(path, 'r') as file:\n",
    "        for row in file:\n",
    "            yield row"
   ]
  },
  {
   "cell_type": "markdown",
   "metadata": {},
   "source": [
    "**tell()**\n",
    "\n",
    "The tell() method is used to retrieve the current position of the file read/write pointer within the file.\n",
    "It returns an integer value that represents the current position in bits or bytes, depending on the file mode."
   ]
  },
  {
   "cell_type": "code",
   "execution_count": null,
   "metadata": {},
   "outputs": [],
   "source": [
    "# Opening a file in read mode\n",
    "file_object = open(\"text_file.txt\", \"r\")\n",
    "\n",
    "# Determining the position of the pointer\n",
    "print(file_object.tell())  # Output: 0\n",
    "\n",
    "# Reading the first five characters in the file and printing them\n",
    "print(file_object.read(5))  # Output: \"Hello\"\n",
    "print(file_object.tell())  # Output: 5\n",
    "\n",
    "# Reading the remaining characters in the file and printing them\n",
    "print(file_object.read(21))  # Output: \" and Welcome to Python\"\n",
    "print(file_object.tell())  # Output: 26\n",
    "\n",
    "# Closing the file\n",
    "file_object.close()\n"
   ]
  },
  {
   "cell_type": "code",
   "execution_count": null,
   "metadata": {},
   "outputs": [],
   "source": [
    "# not exist, create b\n",
    "f = open('b.txt', 'w') \n",
    "\n",
    "# file is empty, pointer is at beginning of file:\n",
    "print(f.tell()) \n",
    " \n",
    " # write a string\n",
    "f.write('Hello')\n",
    "\n",
    "# Now pointer is in end of string\n",
    "print(f.tell())\n",
    "\n",
    "# again add a string\n",
    "f.write('ava')\n",
    "\n",
    "print(f.tell())\n"
   ]
  },
  {
   "cell_type": "markdown",
   "metadata": {},
   "source": [
    "**seek()**\n",
    "the seek() method is used to change the position of the file handle to a specific position within a file. also read:"
   ]
  },
  {
   "cell_type": "markdown",
   "metadata": {},
   "source": [
    "The file handle is like a cursor that defines from where the data has to be read or written in the file. The seek() method takes two parameters: offset and from_what.\n",
    "offset: Number of positions to move forward.\n",
    "from_what: It defines the point of reference. It accepts three values:\n",
    "0: sets the reference point at the beginning of the file.\n",
    "1: sets the reference point at the current file position.\n",
    "2: sets the reference point at the end of the file.\n",
    "By default, the from_what argument is set to 0."
   ]
  },
  {
   "cell_type": "code",
   "execution_count": 63,
   "metadata": {},
   "outputs": [
    {
     "name": "stdout",
     "output_type": "stream",
     "text": [
      "am Ra\n"
     ]
    }
   ],
   "source": [
    "# Open a file in read mode\n",
    "file = open(\"info.txt\", \"r\")\n",
    "\n",
    "# Move the file handle to the 10th byte from the beginning of the file\n",
    "file.seek(10)\n",
    "\n",
    "# Read the next 5 bytes from the file\n",
    "data = file.read(5)\n",
    "print(data)\n",
    "\n",
    "# Close the file\n",
    "file.close()\n"
   ]
  },
  {
   "cell_type": "markdown",
   "metadata": {},
   "source": [
    "get l and r from input, and type r-l characters:"
   ]
  },
  {
   "cell_type": "code",
   "execution_count": null,
   "metadata": {},
   "outputs": [],
   "source": [
    "f = open(\"info.txt\", \"r\")\n",
    "l, r = (int(x) for x in input().split())\n",
    "f.seek(l)\n",
    "s = f.read(r - l + 1)\n",
    "print(s)"
   ]
  },
  {
   "cell_type": "markdown",
   "metadata": {},
   "source": [
    "**Queiz: sole code python, lines:**"
   ]
  },
  {
   "cell_type": "code",
   "execution_count": 93,
   "metadata": {},
   "outputs": [
    {
     "name": "stdout",
     "output_type": "stream",
     "text": [
      "5\n"
     ]
    }
   ],
   "source": [
    "with open('info.txt', 'r') as f:\n",
    "   c = 0\n",
    "   for line in f.readlines():\n",
    "      line = line.strip()\n",
    "      if line == '' or line[0] == '#':\n",
    "         continue\n",
    "      else:\n",
    "         c += 1\n",
    "print(c)"
   ]
  },
  {
   "cell_type": "markdown",
   "metadata": {},
   "source": [
    "and these solution:"
   ]
  },
  {
   "cell_type": "code",
   "execution_count": null,
   "metadata": {},
   "outputs": [],
   "source": [
    "def solve(path):\n",
    "    import re\n",
    "    count = 0\n",
    "    with open(path, 'r') as csv_file:\n",
    "        line = csv_file.readlines()\n",
    "        for lines in line:\n",
    "            if lines.strip() != '' and not re.match(r'#.', lines.strip()):\n",
    "                count += 1\n",
    "\n",
    "        return count\n"
   ]
  },
  {
   "cell_type": "code",
   "execution_count": null,
   "metadata": {},
   "outputs": [],
   "source": [
    "import re\n",
    "\n",
    "def solve(file_path):\n",
    "    try:\n",
    "        with open(file_path, 'r', encoding='utf-8') as file:\n",
    "            code = file.read()\n",
    "        \n",
    "        code = re.sub(r'#.*', '', code)\n",
    "        \n",
    "        lines_with_commands = [line for line in code.split('\\n') if line.strip()]\n",
    "        \n",
    "        return len(lines_with_commands)\n",
    "    except FileNotFoundError:\n",
    "        return -1"
   ]
  },
  {
   "cell_type": "markdown",
   "metadata": {},
   "source": [
    "**csv files, Queiz**\n",
    "comma separated value"
   ]
  },
  {
   "cell_type": "code",
   "execution_count": 36,
   "metadata": {},
   "outputs": [
    {
     "data": {
      "text/plain": [
       "<generator object csv_reader at 0x00000273FFA03E20>"
      ]
     },
     "execution_count": 36,
     "metadata": {},
     "output_type": "execute_result"
    }
   ],
   "source": [
    " def csv_reader(path):\n",
    "    import csv\n",
    "    with open(path, 'r') as csv:\n",
    "        for row in csv.readlines():\n",
    "            yield row.rstrip().split(',')\n",
    "    ans1 = list(csv_reader('ans.csv'))\n",
    "    for i in ans1:\n",
    "        sum = 0\n",
    "        for j in i:\n",
    "            sum += int(j)\n",
    "        i.append(str(sum))\n",
    "    print(list(ans1))\n",
    "    with open('ans1.csv', 'w', newline='') as f:\n",
    "        writer = csv.writer(f)\n",
    "        writer.writerows(ans1)\n",
    "csv_reader('ans.csv')"
   ]
  },
  {
   "cell_type": "markdown",
   "metadata": {},
   "source": [
    "**AND SEE THESE SOLUTION**"
   ]
  },
  {
   "cell_type": "code",
   "execution_count": null,
   "metadata": {},
   "outputs": [],
   "source": [
    "def csv_reader(path):\n",
    "    with open(path) as csv:\n",
    "        for row in csv.readlines():\n",
    "            yield row.rstrip()\n",
    "\n",
    "def process(path):\n",
    "    with open('ans.csv', 'w') as out:\n",
    "        for line in csv_reader(path):\n",
    "            ssum = sum(list(map(int, line.split(','))))\n",
    "            line = line + ',' + str(ssum)\n",
    "            out.write(line + '\\n')  "
   ]
  },
  {
   "cell_type": "code",
   "execution_count": null,
   "metadata": {},
   "outputs": [],
   "source": [
    "def csv_reader(path):\n",
    "    data = []\n",
    "    with open(path) as csv:\n",
    "        for row in csv.readlines():\n",
    "            row = row.rstrip()\n",
    "            row = row.split(',')\n",
    "            row = [int(x) for x in row] \n",
    "            data.append(row)\n",
    "    return data\n",
    "\n",
    "def csv_writer(data, path):\n",
    "    with open(path, 'w') as csv:\n",
    "        for row in data:\n",
    "            row = [str(x) for x in row]\n",
    "            row = ','.join(row)\n",
    "            csv.write(row + '\\n') \n",
    "\n",
    "def process(input_path):\n",
    "    data = csv_reader(input_path)\n",
    "    for i in range(len(data)):\n",
    "        row_sum = sum(data[i])\n",
    "        data[i].append(row_sum)\n",
    "    output_path = 'ans.csv'\n",
    "    csv_writer(data, output_path)\n"
   ]
  },
  {
   "cell_type": "code",
   "execution_count": 41,
   "metadata": {},
   "outputs": [],
   "source": [
    "def process(path):\n",
    "    import csv\n",
    "    with open(path, 'r') as csv_file:\n",
    "        data = [row.rstrip().split(',') for row in csv_file.readlines()]\n",
    "        for i in data:\n",
    "            sum = 0\n",
    "            for j in i:\n",
    "                sum += int(j)\n",
    "            i.append(str(sum))\n",
    "        with open('ans.csv', 'w', newline='') as f:\n",
    "            writer = csv.writer(f)\n",
    "            writer.writerows(data)\n",
    "\n",
    "#process('ans.csv')\n",
    "\n"
   ]
  },
  {
   "cell_type": "markdown",
   "metadata": {},
   "source": [
    "**convert a list of numbers to a CSV file in Python**"
   ]
  },
  {
   "cell_type": "code",
   "execution_count": 38,
   "metadata": {},
   "outputs": [],
   "source": [
    "import csv\n",
    "\n",
    "data = [['3', ' 3', ' 1', ' 1', ' 1', ' 1', ' 1', '11'],\n",
    "        ['1', ' 1', ' 4', ' 5', ' 6', ' 7', ' 8', '32'],\n",
    "        ['1', ' 5', ' 6', ' 7', ' 4', ' 3', ' 1', '27']]\n",
    "\n",
    "filename = 'output.csv'\n",
    "\n",
    "with open(filename, 'w', newline='') as f:\n",
    "    writer = csv.writer(f)\n",
    "    writer.writerows(data)\n"
   ]
  },
  {
   "cell_type": "markdown",
   "metadata": {},
   "source": [
    "create a simple file csv"
   ]
  },
  {
   "cell_type": "code",
   "execution_count": 3,
   "metadata": {},
   "outputs": [],
   "source": [
    "import csv\n",
    "\n",
    "numbers = [1, 2, 3]\n",
    "\n",
    "with open('numbers.csv', 'w', newline='') as f:\n",
    "    writer = csv.writer(f)\n",
    "    writer.writerow(numbers)\n"
   ]
  },
  {
   "cell_type": "markdown",
   "metadata": {},
   "source": [
    "**binary files**"
   ]
  },
  {
   "cell_type": "code",
   "execution_count": 22,
   "metadata": {},
   "outputs": [
    {
     "data": {
      "text/plain": [
       "128"
      ]
     },
     "execution_count": 22,
     "metadata": {},
     "output_type": "execute_result"
    }
   ],
   "source": [
    "a = b'\\x02\\x80'\n",
    "a[1]"
   ]
  },
  {
   "cell_type": "code",
   "execution_count": 27,
   "metadata": {},
   "outputs": [
    {
     "name": "stdout",
     "output_type": "stream",
     "text": [
      "95\n",
      "[97, 98, 95, 42, 40]\n"
     ]
    }
   ],
   "source": [
    "y = b'ab_*('\n",
    "print(y[2])\n",
    "print(list(y))      # represent ASCII codes"
   ]
  },
  {
   "cell_type": "code",
   "execution_count": 29,
   "metadata": {},
   "outputs": [
    {
     "data": {
      "text/plain": [
       "b'\\x01\\x81\\xe7'"
      ]
     },
     "execution_count": 29,
     "metadata": {},
     "output_type": "execute_result"
    }
   ],
   "source": [
    "a = bytes([1, 129, 231])\n",
    "a"
   ]
  },
  {
   "cell_type": "code",
   "execution_count": 40,
   "metadata": {},
   "outputs": [
    {
     "data": {
      "text/plain": [
       "b'\\x00\\x00\\x00\\x00\\x00\\x00\\x00\\x00\\x00\\x00\\x00\\x00\\x00\\x00\\x00\\x00\\x00\\x00\\x00\\x00\\x00\\x00\\x00\\x00\\x00\\x00\\x00\\x00\\x00\\x00\\x00\\x00\\x00\\x00\\x00\\x00\\x00\\x00\\x00\\x00\\x00\\x00\\x00\\x00'"
      ]
     },
     "execution_count": 40,
     "metadata": {},
     "output_type": "execute_result"
    }
   ],
   "source": [
    "bytes(44)"
   ]
  },
  {
   "cell_type": "markdown",
   "metadata": {},
   "source": [
    "**read and write a binary file**"
   ]
  },
  {
   "cell_type": "code",
   "execution_count": 41,
   "metadata": {},
   "outputs": [],
   "source": [
    "with open('Polgars_image.png', 'rb') as src:\n",
    "    data = src.read()\n",
    "    with open('dst.png', 'wb') as dst:\n",
    "        dst.write(data)"
   ]
  }
 ],
 "metadata": {
  "kernelspec": {
   "display_name": "Python 3",
   "language": "python",
   "name": "python3"
  },
  "language_info": {
   "codemirror_mode": {
    "name": "ipython",
    "version": 3
   },
   "file_extension": ".py",
   "mimetype": "text/x-python",
   "name": "python",
   "nbconvert_exporter": "python",
   "pygments_lexer": "ipython3",
   "version": "3.11.1"
  }
 },
 "nbformat": 4,
 "nbformat_minor": 2
}
