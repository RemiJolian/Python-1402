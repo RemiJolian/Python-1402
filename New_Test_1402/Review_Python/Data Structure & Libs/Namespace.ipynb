{
 "cells": [
  {
   "cell_type": "markdown",
   "metadata": {},
   "source": [
    "Scope and space of variables\n",
    "Global and local var:"
   ]
  },
  {
   "cell_type": "code",
   "execution_count": null,
   "metadata": {},
   "outputs": [],
   "source": [
    "# Local Scope\n",
    "def f():\n",
    "    z = 100\n",
    "    print(z)\n",
    "f()\n",
    "print(z)  # error"
   ]
  },
  {
   "cell_type": "code",
   "execution_count": 9,
   "metadata": {},
   "outputs": [
    {
     "name": "stdout",
     "output_type": "stream",
     "text": [
      "12\n"
     ]
    }
   ],
   "source": [
    "# Global Scope\n",
    "y = 12\n",
    "def f():\n",
    "    print(y)\n",
    "\n",
    "f()"
   ]
  },
  {
   "cell_type": "markdown",
   "metadata": {},
   "source": [
    "or u can use:"
   ]
  },
  {
   "cell_type": "code",
   "execution_count": 8,
   "metadata": {},
   "outputs": [
    {
     "name": "stdout",
     "output_type": "stream",
     "text": [
      "100\n"
     ]
    }
   ],
   "source": [
    "def f():\n",
    "    global a\n",
    "    print(a)\n",
    "a = 100\n",
    "f()"
   ]
  },
  {
   "cell_type": "markdown",
   "metadata": {},
   "source": [
    "# nonlocal, access to variable of main block"
   ]
  },
  {
   "cell_type": "code",
   "execution_count": null,
   "metadata": {},
   "outputs": [],
   "source": [
    "def f():\n",
    "    name = 'mohammad'\n",
    "    age = 10\n",
    "    def g():\n",
    "        name = 'saeid'\n",
    "        nonlocal age\n",
    "        age = 15\n",
    "        print(name, age)\n",
    "    print(name, age)\n",
    "    g()\n",
    "    print(name, age)\n",
    "\n",
    "f()"
   ]
  },
  {
   "cell_type": "markdown",
   "metadata": {},
   "source": [
    "local, nonlocal and global variables, here in one example:"
   ]
  },
  {
   "cell_type": "code",
   "execution_count": 15,
   "metadata": {},
   "outputs": [],
   "source": [
    "def test():\n",
    "\n",
    "    msg= \"salam\"\n",
    "\n",
    "    def test_local():\n",
    "        msg = \"khoobi?\"\n",
    "        print(\"in function: \" + msg)\n",
    "\n",
    "    def test_nonlocal():\n",
    "        nonlocal msg\n",
    "        msg = \"chetori?\"\n",
    "        print(\"in function: \" + msg)\n",
    "\n",
    "    def test_global():\n",
    "        global msg\n",
    "        msg = \"chera?!\"\n",
    "        print(\"in function: \" + msg)\n",
    "\n",
    "    test_local()\n",
    "    print(msg)\n",
    "    test_nonlocal()\n",
    "    print(msg)\n",
    "    test_global()\n",
    "    print(msg)\n",
    "\n",
    "test()\n",
    "print(msg)"
   ]
  }
 ],
 "metadata": {
  "kernelspec": {
   "display_name": "Python 3",
   "language": "python",
   "name": "python3"
  },
  "language_info": {
   "codemirror_mode": {
    "name": "ipython",
    "version": 3
   },
   "file_extension": ".py",
   "mimetype": "text/x-python",
   "name": "python",
   "nbconvert_exporter": "python",
   "pygments_lexer": "ipython3",
   "version": "3.12.0"
  }
 },
 "nbformat": 4,
 "nbformat_minor": 2
}
