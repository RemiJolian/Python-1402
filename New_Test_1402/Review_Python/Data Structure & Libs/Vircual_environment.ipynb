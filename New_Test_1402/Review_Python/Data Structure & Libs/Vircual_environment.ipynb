{
 "cells": [
  {
   "cell_type": "markdown",
   "metadata": {},
   "source": [
    "# Name of Virtual Environment  in python is virtualenv.\n",
    "virtualenv is a tool in Python that is used to create isolated Python environments.\n",
    "It allows you to create a separate environment for each project, with its own set of dependencies and packages, without affecting the global Python environment or other projects. This is useful when you are working on multiple projects that require different versions of the same package or library."
   ]
  },
  {
   "cell_type": "markdown",
   "metadata": {},
   "source": [
    "When you create a virtual environment using virtualenv, it creates a new directory that contains a copy of the Python interpreter, as well as a copy of the pip package manager and other necessary packages.\n",
    "You can then activate the virtual environment and install packages using pip, without affecting the global Python environment or other virtual environments."
   ]
  },
  {
   "cell_type": "code",
   "execution_count": null,
   "metadata": {},
   "outputs": [],
   "source": [
    "# Install virtualenv using pip, in terminal or cmd\n",
    "pip3 install virtualenv\n",
    "\n",
    "# Create a new virtual environment\n",
    "virtualenv myenv\n",
    "\n",
    "# Activate the virtual environment\n",
    "source myenv/bin/activate\n",
    "\n",
    "# Install packages using pip\n",
    "pip3 install package_name\n",
    "\n",
    "# Deactivate the virtual environment\n",
    "deactivate\n"
   ]
  },
  {
   "cell_type": "markdown",
   "metadata": {},
   "source": [
    "In this example above, we first install virtualenv using pip. We then create a new virtual environment called myenv using virtualenv. We activate the virtual environment using the source command, which sets the environment variables to use the virtual environment. We then install packages using pip and deactivate the virtual environment using the deactivate command."
   ]
  },
  {
   "cell_type": "code",
   "execution_count": null,
   "metadata": {},
   "outputs": [],
   "source": []
  },
  {
   "cell_type": "code",
   "execution_count": 1,
   "metadata": {},
   "outputs": [
    {
     "name": "stdout",
     "output_type": "stream",
     "text": [
      "You are in the global environment.\n"
     ]
    }
   ],
   "source": [
    "import sys\n",
    "\n",
    "if sys.prefix != sys.base_prefix:\n",
    "    print(\"You are in a virtual environment.\")\n",
    "else:\n",
    "    print(\"You are in the global environment.\")\n"
   ]
  }
 ],
 "metadata": {
  "kernelspec": {
   "display_name": "Python 3",
   "language": "python",
   "name": "python3"
  },
  "language_info": {
   "codemirror_mode": {
    "name": "ipython",
    "version": 3
   },
   "file_extension": ".py",
   "mimetype": "text/x-python",
   "name": "python",
   "nbconvert_exporter": "python",
   "pygments_lexer": "ipython3",
   "version": "3.12.0"
  }
 },
 "nbformat": 4,
 "nbformat_minor": 2
}
