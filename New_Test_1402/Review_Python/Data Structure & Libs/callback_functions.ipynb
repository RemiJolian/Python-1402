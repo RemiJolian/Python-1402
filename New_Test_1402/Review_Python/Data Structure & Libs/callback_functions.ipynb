{
 "cells": [
  {
   "cell_type": "markdown",
   "metadata": {},
   "source": [
    "In Python, a callback function is a function that is passed as an argument to another function and is executed by that function. The purpose of a callback function is to allow the calling function to be more flexible and modular by allowing the caller to specify a function to be executed when a certain event occurs or when a certain condition is met.\n",
    "In Python, callback functions are commonly used in event-driven programming, where the program waits for an event to occur and then executes a callback function in response to that event. For example, in the Dash library, a callback function is executed when an input component's property changes, allowing the output component to be updated in response to the change."
   ]
  },
  {
   "cell_type": "markdown",
   "metadata": {},
   "source": [
    "Here's an example of a simple callback function in Python:"
   ]
  },
  {
   "cell_type": "code",
   "execution_count": 13,
   "metadata": {},
   "outputs": [
    {
     "name": "stdout",
     "output_type": "stream",
     "text": [
      "Add any two digits.\n",
      "Sum = 3\n"
     ]
    }
   ],
   "source": [
    "def callback_func(a, b):\n",
    "    print('Sum = {0}'.format(a+b))\n",
    "\n",
    "def main(callback=None):\n",
    "    print('Add any two digits.')\n",
    "    if callback != None:\n",
    "        callback(1, 2)\n",
    "\n",
    "main(callback_func)"
   ]
  },
  {
   "cell_type": "markdown",
   "metadata": {},
   "source": [
    "In this example, the callback_func function is defined to take two arguments and print their sum. The main function takes a callback function as an argument and executes it with the arguments 1 and 2. When the main function is called with the callback_func function as an argument, it prints the sum of 1 and 2."
   ]
  },
  {
   "cell_type": "markdown",
   "metadata": {},
   "source": [
    "Overall, callback functions are a powerful tool in Python that allow for flexible and modular programming by allowing functions to be executed in response to certain events or conditions."
   ]
  },
  {
   "cell_type": "markdown",
   "metadata": {},
   "source": [
    "# callback in dash library\n",
    "In the context of the Dash library in Python, a callback is a function that is automatically called by Dash whenever an input component's property changes. It is used to update the properties of other components in the app, allowing for interactive and responsive behavior.\n",
    "# When using Dash, callbacks are declared by using the @app.callback decorator above the respective function.\n",
    " The callback function is provided with the new value of the input property as its argument, and Dash updates the property of the output component with whatever is returned by the function. Callbacks can be used to create interactive and dynamic web applications, where changes in one component trigger updates in other parts of the app.\n",
    "Here's an example of a simple callback in Dash:"
   ]
  },
  {
   "cell_type": "code",
   "execution_count": 25,
   "metadata": {},
   "outputs": [
    {
     "data": {
      "text/plain": [
       "'You have entered: 12'"
      ]
     },
     "execution_count": 25,
     "metadata": {},
     "output_type": "execute_result"
    }
   ],
   "source": [
    "from dash import Dash, Input, Output\n",
    "\n",
    "app1 = Dash()\n",
    "\n",
    "@app1.callback(\n",
    "    Output('output-div', 'children'),\n",
    "    Input('input-box', 'value')\n",
    ")\n",
    "def update_output(value):\n",
    "    return 'You have entered: {}'.format(value)\n",
    "\n",
    "update_output(12)"
   ]
  },
  {
   "cell_type": "markdown",
   "metadata": {},
   "source": [
    "In this example, the update_output function is a callback that updates the children property of the output-div component based on the value of the input-box component.\n",
    "Dash also supports long callbacks, which run in separate processes and won't cause timeout errors. They are declared using the @app.long_callback decorator and are useful for handling time-consuming code in callback functions.\n",
    "Overall, callbacks are a fundamental part of creating interactive and responsive web applications with the Dash library in Python. They allow for dynamic updates and interactivity based on user input or other events."
   ]
  }
 ],
 "metadata": {
  "kernelspec": {
   "display_name": "Python 3",
   "language": "python",
   "name": "python3"
  },
  "language_info": {
   "codemirror_mode": {
    "name": "ipython",
    "version": 3
   },
   "file_extension": ".py",
   "mimetype": "text/x-python",
   "name": "python",
   "nbconvert_exporter": "python",
   "pygments_lexer": "ipython3",
   "version": "3.12.0"
  }
 },
 "nbformat": 4,
 "nbformat_minor": 2
}
