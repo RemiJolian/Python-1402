{
 "cells": [
  {
   "cell_type": "markdown",
   "metadata": {},
   "source": [
    "# Debug methods:\n",
    "- use print\n",
    "- assert\n",
    "- after each change in your code, run it\n",
    "- use paper and pen! try it! you see have better focus\n",
    "- use python debugger: pdb"
   ]
  },
  {
   "cell_type": "code",
   "execution_count": null,
   "metadata": {},
   "outputs": [],
   "source": [
    "# assert\n",
    "def divide(num):\n",
    "    assert type(num) == int, 'num must be a number'\n",
    "    n = int(num)\n",
    "    return 100 / n\n",
    "\n",
    "print(divide('yang'))"
   ]
  },
  {
   "cell_type": "markdown",
   "metadata": {},
   "source": [
    "# pdb\n",
    "To use the Python debugger (pdb) in your program, follow these steps:\n",
    "- Import the pdb module: import pdb\n",
    "- Set a breakpoint in your code by calling the pdb.set_trace() function at the desired location.\n",
    "- Run your script normally, and execution will stop at the breakpoint, allowing you to interactively debug your code.\n",
    "Here's an example of how to use pdb to debug a simple program:"
   ]
  },
  {
   "cell_type": "code",
   "execution_count": null,
   "metadata": {},
   "outputs": [],
   "source": [
    "import pdb\n",
    "\n",
    "def add(a, b):\n",
    "    result = a + b\n",
    "    pdb.set_trace()  # Set a breakpoint\n",
    "    return result\n",
    "\n",
    "x = 5\n",
    "y = 3\n",
    "z = add(x, y)\n",
    "print(z)\n"
   ]
  },
  {
   "cell_type": "markdown",
   "metadata": {},
   "source": [
    "When you run this script, the execution will stop at the pdb.set_trace() line, and you will enter the pdb debugger prompt. From here, you can use various commands to inspect variables, step through the code, and identify and fix any issues."
   ]
  },
  {
   "cell_type": "markdown",
   "metadata": {},
   "source": [
    "# Some useful pdb commands are:\n",
    "n (next): Execute the next line of code.\n",
    "s (step): Step into a function call.\n",
    "c (continue): Continue execution until the next breakpoint or the end of the program.\n",
    "l (list): Show the current position in the code with surrounding lines.\n",
    "p (print): Print the value of a variable.\n",
    "q (quit): Quit the debugger and exit the program."
   ]
  }
 ],
 "metadata": {
  "kernelspec": {
   "display_name": "Python 3",
   "language": "python",
   "name": "python3"
  },
  "language_info": {
   "codemirror_mode": {
    "name": "ipython",
    "version": 3
   },
   "file_extension": ".py",
   "mimetype": "text/x-python",
   "name": "python",
   "nbconvert_exporter": "python",
   "pygments_lexer": "ipython3",
   "version": "3.12.0"
  }
 },
 "nbformat": 4,
 "nbformat_minor": 2
}
