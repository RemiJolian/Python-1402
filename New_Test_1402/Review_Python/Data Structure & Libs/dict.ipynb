{
 "cells": [
  {
   "cell_type": "markdown",
   "metadata": {},
   "source": [
    "**Review from Quera**"
   ]
  },
  {
   "cell_type": "markdown",
   "metadata": {},
   "source": [
    "dict is mutable\n",
    "d = {key1: Value1, key2: value2, ....}\n",
    "but keys are not mutable"
   ]
  },
  {
   "cell_type": "code",
   "execution_count": 1,
   "metadata": {},
   "outputs": [
    {
     "data": {
      "text/plain": [
       "{'ava': 15, 'Asra': 17}"
      ]
     },
     "execution_count": 1,
     "metadata": {},
     "output_type": "execute_result"
    }
   ],
   "source": [
    "my_dict = {'ava': 12, 'Asra': 17}\n",
    "my_dict['ava'] = 15\n",
    "my_dict"
   ]
  },
  {
   "cell_type": "code",
   "execution_count": 3,
   "metadata": {},
   "outputs": [
    {
     "data": {
      "text/plain": [
       "['ava', 'Asra']"
      ]
     },
     "execution_count": 3,
     "metadata": {},
     "output_type": "execute_result"
    }
   ],
   "source": [
    "my_dict = {'ava': 12, 'Asra': 17}\n",
    "list(my_dict)           # only a list of keys"
   ]
  },
  {
   "cell_type": "code",
   "execution_count": 6,
   "metadata": {},
   "outputs": [
    {
     "data": {
      "text/plain": [
       "{'A': 1, 'B': 2}"
      ]
     },
     "execution_count": 6,
     "metadata": {},
     "output_type": "execute_result"
    }
   ],
   "source": [
    "d1 = dict([('A', 1), ('B', 2)])\n",
    "d1"
   ]
  },
  {
   "cell_type": "markdown",
   "metadata": {},
   "source": [
    "**add**"
   ]
  },
  {
   "cell_type": "code",
   "execution_count": 17,
   "metadata": {},
   "outputs": [
    {
     "data": {
      "text/plain": [
       "{'A': 0, 'B': 2, 'c': 3}"
      ]
     },
     "execution_count": 17,
     "metadata": {},
     "output_type": "execute_result"
    }
   ],
   "source": [
    "d1 = {'A': 1, 'B': 2}\n",
    "d1['A'] = 0\n",
    "d1['c'] = 3\n",
    "d1"
   ]
  },
  {
   "cell_type": "code",
   "execution_count": 18,
   "metadata": {},
   "outputs": [
    {
     "data": {
      "text/plain": [
       "True"
      ]
     },
     "execution_count": 18,
     "metadata": {},
     "output_type": "execute_result"
    }
   ],
   "source": [
    "'c' in d1"
   ]
  },
  {
   "cell_type": "code",
   "execution_count": 19,
   "metadata": {},
   "outputs": [
    {
     "data": {
      "text/plain": [
       "{'A': 0, 'B': 2}"
      ]
     },
     "execution_count": 19,
     "metadata": {},
     "output_type": "execute_result"
    }
   ],
   "source": [
    "del d1['c']\n",
    "d1"
   ]
  },
  {
   "cell_type": "code",
   "execution_count": 20,
   "metadata": {},
   "outputs": [
    {
     "name": "stdout",
     "output_type": "stream",
     "text": [
      "{'A': 0, 'B': 2}\n",
      "{'B': 2}\n"
     ]
    }
   ],
   "source": [
    "print(d1)\n",
    "d1.pop('A')\n",
    "print(d1)"
   ]
  },
  {
   "cell_type": "markdown",
   "metadata": {},
   "source": [
    "# in dict1 == dict2: It is True if both of keys and values are same"
   ]
  },
  {
   "cell_type": "code",
   "execution_count": null,
   "metadata": {},
   "outputs": [],
   "source": [
    "s = {'n': 1, 'a': 3, 'g': 1, 'r': 1, 'm': 1}\n",
    "t = {'a': 3, 'n': 1, 'g': 1, 'r': 1, 'm': 1}\n",
    "s == t"
   ]
  },
  {
   "cell_type": "code",
   "execution_count": null,
   "metadata": {},
   "outputs": [],
   "source": [
    "grade = {'maryam': 20, 'ali':19, 'pooyan':19}\n"
   ]
  },
  {
   "cell_type": "code",
   "execution_count": 1,
   "metadata": {},
   "outputs": [
    {
     "name": "stdout",
     "output_type": "stream",
     "text": [
      "<class 'dict_values'>\n",
      "dict_values([21, 18, 22, 25])\n",
      "[21, 18, 22, 25]\n"
     ]
    }
   ],
   "source": [
    "age = {'ali': 21, 'mmdreza': 18, 'mahdi': 22, 'pooyan':25}\n",
    "print(type(age.values()))\n",
    "print(age.values())\n",
    "print(list(age.values()))"
   ]
  },
  {
   "cell_type": "markdown",
   "metadata": {},
   "source": [
    "# The dict.get(key, x) method in Python returns the value for a given key if it exists in the dictionary. If the key is not found, it returns a default value x that you can specify. Also you can use it as dict.get(key)\n",
    "Here are some examples of how to use this method:**"
   ]
  },
  {
   "cell_type": "code",
   "execution_count": 3,
   "metadata": {},
   "outputs": [
    {
     "name": "stdout",
     "output_type": "stream",
     "text": [
      "1\n",
      "2\n",
      "99\n",
      "No grape\n"
     ]
    }
   ],
   "source": [
    "my_dict = {\"apple\": 1, \"banana\": 2, \"orange\": 3}\n",
    "print(my_dict.get(\"apple\", 0))  \n",
    "print(my_dict.get(\"banana\"))\n",
    "print(my_dict.get(\"grape\", 99)) \n",
    "print(my_dict.get(\"grape\", 'No grape'))  "
   ]
  },
  {
   "cell_type": "code",
   "execution_count": null,
   "metadata": {},
   "outputs": [],
   "source": [
    "my_dict = {\"apple\": 1, \"banana\": 2, \"orange\": 3}\n",
    "print(my_dict.get(\"grape\", \"Not found\"))  # Output: \"Not found\""
   ]
  },
  {
   "cell_type": "code",
   "execution_count": 31,
   "metadata": {},
   "outputs": [
    {
     "name": "stdout",
     "output_type": "stream",
     "text": [
      "one\n",
      "Not found\n"
     ]
    }
   ],
   "source": [
    "my_dict = {1: \"one\", 2: \"two\", 3: \"three\"}\n",
    "print(my_dict.get(1, \"Not found\"))  # Output: \"one\"\n",
    "print(my_dict.get(4, \"Not found\"))  # Output: \"Not found\""
   ]
  },
  {
   "cell_type": "code",
   "execution_count": null,
   "metadata": {},
   "outputs": [],
   "source": [
    "my_dict = {\"fruits\": [\"apple\", \"banana\", \"orange\"]}\n",
    "print(my_dict.get(\"fruits\", []))  # Output: [\"apple\", \"banana\", \"orange\"]\n",
    "print(my_dict.get(\"vegetables\", []))  # Output: [] (empty list)"
   ]
  },
  {
   "cell_type": "code",
   "execution_count": 33,
   "metadata": {},
   "outputs": [
    {
     "name": "stdout",
     "output_type": "stream",
     "text": [
      "bekhoda nist nadarim\n"
     ]
    }
   ],
   "source": [
    "def get_default():\n",
    "    return \"bekhoda nist nadarim\"\n",
    "\n",
    "my_dict = {\"apple\": 1, \"banana\": 2, \"orange\": 3}\n",
    "print(my_dict.get(\"grape\", get_default()))  # Output: \"Default value\""
   ]
  },
  {
   "cell_type": "code",
   "execution_count": 4,
   "metadata": {},
   "outputs": [
    {
     "data": {
      "text/plain": [
       "20"
      ]
     },
     "execution_count": 4,
     "metadata": {},
     "output_type": "execute_result"
    }
   ],
   "source": [
    "grade = {'mamad': 20, 'ali':19, 'pooyan':19}\n",
    "grade.get('ali')\n",
    "grade['mahdi'] = grade.get('mahdi', 19) + 1  # not exit then get 19, then + 1\n",
    "grade.get('mahdi')"
   ]
  },
  {
   "cell_type": "markdown",
   "metadata": {},
   "source": [
    "dict representative"
   ]
  },
  {
   "cell_type": "code",
   "execution_count": 35,
   "metadata": {},
   "outputs": [
    {
     "data": {
      "text/plain": [
       "{1: 1, 2: 4, 3: 9, 4: 16, 5: 25}"
      ]
     },
     "execution_count": 35,
     "metadata": {},
     "output_type": "execute_result"
    }
   ],
   "source": [
    "{x: x*x for x in range(1, 6)}\n"
   ]
  },
  {
   "cell_type": "code",
   "execution_count": 36,
   "metadata": {},
   "outputs": [
    {
     "data": {
      "text/plain": [
       "{'ali': 12, 'amir': 2.3}"
      ]
     },
     "execution_count": 36,
     "metadata": {},
     "output_type": "execute_result"
    }
   ],
   "source": [
    "dict(ali=12, amir=2.3)"
   ]
  },
  {
   "cell_type": "code",
   "execution_count": 39,
   "metadata": {},
   "outputs": [
    {
     "name": "stdout",
     "output_type": "stream",
     "text": [
      "ali got A\n",
      "amir got B\n"
     ]
    }
   ],
   "source": [
    "d = {'ali': 'A', 'amir': 'B'}\n",
    "for k, v in d.items():\n",
    "    print(k + ' got ' + v)"
   ]
  },
  {
   "cell_type": "markdown",
   "metadata": {},
   "source": [
    "**Queiz Karmandan ziadi**"
   ]
  },
  {
   "cell_type": "code",
   "execution_count": 9,
   "metadata": {},
   "outputs": [
    {
     "name": "stdout",
     "output_type": "stream",
     "text": [
      "{'bagher': 2, 'jack': 1}\n",
      "2\n"
     ]
    }
   ],
   "source": [
    "n = int(input())\n",
    "employees = dict()\n",
    "for i in range(n):\n",
    "    f, l = map(str, input().split())\n",
    "    if f not in employees:\n",
    "        employees[f] = 1\n",
    "    else:\n",
    "        employees[f] += 1\n",
    "print(employees)\n",
    "print(max(employees.values()))\n"
   ]
  },
  {
   "cell_type": "markdown",
   "metadata": {},
   "source": [
    "and these solution:"
   ]
  },
  {
   "cell_type": "code",
   "execution_count": null,
   "metadata": {},
   "outputs": [],
   "source": [
    "n = int(input())\n",
    "d = {}\n",
    "for i in range(n):\n",
    "    first_n, last_n = map(str,input().split())\n",
    "    x = d.get(first_n,-1)\n",
    "    if x == -1:\n",
    "        d[first_n] = 1\n",
    "    else:\n",
    "        d[first_n] += 1\n",
    "#print(d)\n",
    "print(max(d.values()))"
   ]
  },
  {
   "cell_type": "code",
   "execution_count": null,
   "metadata": {},
   "outputs": [],
   "source": [
    "names=[]\n",
    "for i in range(int(input())):\n",
    "    names.append(input().split()[0])\n",
    "unique_names={name:names.count(name) for name in set(names)}\n",
    "print(names)\n",
    "#print(max(unique_names.values()))\n",
    "        "
   ]
  },
  {
   "cell_type": "code",
   "execution_count": 12,
   "metadata": {},
   "outputs": [
    {
     "data": {
      "text/plain": [
       "{'bagher', 'jack'}"
      ]
     },
     "execution_count": 12,
     "metadata": {},
     "output_type": "execute_result"
    }
   ],
   "source": [
    "set(['bagher', 'bagher', 'jack'])"
   ]
  },
  {
   "cell_type": "code",
   "execution_count": null,
   "metadata": {},
   "outputs": [],
   "source": []
  },
  {
   "cell_type": "code",
   "execution_count": null,
   "metadata": {},
   "outputs": [],
   "source": [
    "import collections\n",
    "ans = collections.defaultdict(list)"
   ]
  },
  {
   "cell_type": "markdown",
   "metadata": {},
   "source": [
    "# The collections module in Python\n",
    "provides specialized container datatypes as alternatives to the general-purpose built-in containers like dict, list, set, and tuple\n",
    "It includes various data structures such as namedtuple, deque, Counter, OrderedDict, and defaultdict\n",
    "These data structures are designed to solve specific programming problems efficiently and are valuable for tasks such as counting objects, creating queues and stacks, and handling missing keys in dictionaries\n",
    "The module aims to improve the functionalities and provide high-performance alternatives to the general built-in containers\n",
    "In summary, the collections module in Python offers a rich set of specialized data types for handling collections of data, making it a valuable tool for developers."
   ]
  },
  {
   "cell_type": "code",
   "execution_count": 1,
   "metadata": {},
   "outputs": [
    {
     "name": "stdout",
     "output_type": "stream",
     "text": [
      "Counter({1: 4, 2: 3, 3: 2, 4: 2, 5: 1})\n"
     ]
    }
   ],
   "source": [
    "from collections import Counter\n",
    "\n",
    "my_list = [1, 2, 3, 1, 2, 1, 4, 5, 4, 3, 2, 1]\n",
    "counted = Counter(my_list)\n",
    "print(counted)"
   ]
  },
  {
   "cell_type": "markdown",
   "metadata": {},
   "source": [
    "# The line ans = collections.defaultdict(list) \n",
    "creates a defaultdict object with list as the default factory. This means that whenever you try to access a key that does not exist in the dictionary, it will automatically create a new list as the value for that key. This is useful when you want to append items to a list without checking if the key exists or not.\n",
    "\n",
    "For example, if you have a normal dictionary d = {} and you try to do d[\"key\"].append(1), you will get a KeyError because the key “key” is not in the dictionary. But if you have a defaultdict with list as the default factory, d = collections.defaultdict(list), then d[\"key\"].append(1) will work fine and create a new list with 1 as the first element.\n",
    "\n",
    "In your code, you are using the defaultdict to group the anagrams together. An anagram is a word that has the same letters as another word, but in a different order. For example, “eat”, “tea” and “ate” are anagrams of each other. To group the anagrams, you are using a tuple of 26 numbers as the key, where each number represents the frequency of a letter from “a” to “z” in the word. For example, the word “eat” has the tuple (1, 0, 0, 0, 1, 0, ..., 0, 0, 0, 1, 0, 0) as the key, where the first 1 means there is one “a” in the word, the second 1 means there is one “e” in the word, and the last 1 means there is one “t” in the word. The rest of the numbers are zeros because there are no other letters in the word.\n",
    "\n",
    "By using this tuple as the key, you can group all the words that have the same letters and frequencies together in a list. For example, the words “eat”, “tea” and “ate” will all have the same tuple as the key, and they will be appended to the same list in the defaultdict. This way, you can get all the anagrams as a list of lists.\n",
    "\n",
    "If you want to learn more about the defaultdict class, you can check out these links:\n",
    "\n",
    "Collections.defaultdict difference with normal dict - Stack Overflow\n",
    "Defaultdict in Python - GeeksforGeeks\n",
    "collections — Container datatypes — Python 3.12.1 documentation"
   ]
  }
 ],
 "metadata": {
  "kernelspec": {
   "display_name": "Python 3",
   "language": "python",
   "name": "python3"
  },
  "language_info": {
   "codemirror_mode": {
    "name": "ipython",
    "version": 3
   },
   "file_extension": ".py",
   "mimetype": "text/x-python",
   "name": "python",
   "nbconvert_exporter": "python",
   "pygments_lexer": "ipython3",
   "version": "3.12.0"
  }
 },
 "nbformat": 4,
 "nbformat_minor": 2
}
