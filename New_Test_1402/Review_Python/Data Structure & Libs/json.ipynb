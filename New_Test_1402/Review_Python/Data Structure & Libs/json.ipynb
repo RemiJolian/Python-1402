{
 "cells": [
  {
   "cell_type": "markdown",
   "metadata": {},
   "source": [
    "# JSON stands for JavaScript Object Notation, which is a lightweight data interchange format. It is used to store and transfer data in a language-independent format that is easy to understand since it is self-describing in nature. JSON is a text-based format that is easy for humans to read and write, and easy for machines to parse and generate."
   ]
  },
  {
   "cell_type": "markdown",
   "metadata": {},
   "source": [
    "# Python is a programming language that has a built-in package called json that can be used to work with JSON data. The json package provides methods for encoding and decoding JSON data, as well as reading and writing JSON files."
   ]
  },
  {
   "cell_type": "markdown",
   "metadata": {},
   "source": [
    "# dict, in json file\n",
    "data =\n",
    "{\n",
    "  \"firstName\": \"Mohamadreza\",\n",
    "  \"lastName\": \"Kariminejad\",\n",
    "  \"isAlive\": true,\n",
    "  \"age\": 18,\n",
    "  \"address\": {\n",
    "    \"city\": \"Yasuj\",\n",
    "    \"village\": \"Karim-Abad\"\n",
    "  },\n",
    "  \"children\": [],\n",
    "  \"wife\": null\n",
    "}\n"
   ]
  },
  {
   "cell_type": "markdown",
   "metadata": {},
   "source": [
    "# How to read a json file in python\n",
    "- loads() func; input of loads() must be a string"
   ]
  },
  {
   "cell_type": "code",
   "execution_count": 28,
   "metadata": {},
   "outputs": [
    {
     "name": "stdout",
     "output_type": "stream",
     "text": [
      "{'name': 'John', 'age': 30, 'city': 'New York', 'health': True}\n",
      "<class 'dict'>\n"
     ]
    }
   ],
   "source": [
    "import json\n",
    "\n",
    "json_string = '{\"name\": \"John\", \"age\": 30, \"city\": \"New York\", \"health\": true}'\n",
    "data = json.loads(json_string)\n",
    "\n",
    "print(data)\n",
    "print(type(data))"
   ]
  },
  {
   "cell_type": "markdown",
   "metadata": {},
   "source": [
    "# dumps() : convert to json format"
   ]
  },
  {
   "cell_type": "code",
   "execution_count": 5,
   "metadata": {},
   "outputs": [
    {
     "data": {
      "text/plain": [
       "'true'"
      ]
     },
     "execution_count": 5,
     "metadata": {},
     "output_type": "execute_result"
    }
   ],
   "source": [
    "import json\n",
    "json.dumps(True)"
   ]
  },
  {
   "cell_type": "code",
   "execution_count": 6,
   "metadata": {},
   "outputs": [
    {
     "data": {
      "text/plain": [
       "'[1, 2, 3]'"
      ]
     },
     "execution_count": 6,
     "metadata": {},
     "output_type": "execute_result"
    }
   ],
   "source": [
    "import json\n",
    "json.dumps([1, 2, 3])"
   ]
  },
  {
   "cell_type": "code",
   "execution_count": 22,
   "metadata": {},
   "outputs": [
    {
     "name": "stdout",
     "output_type": "stream",
     "text": [
      "<class 'str'>\n"
     ]
    },
    {
     "data": {
      "text/plain": [
       "'{\"a\": 1}'"
      ]
     },
     "execution_count": 22,
     "metadata": {},
     "output_type": "execute_result"
    }
   ],
   "source": [
    "d = {'a': 1}\n",
    "print(type(json.dumps(d)))\n",
    "json.dumps(d)"
   ]
  },
  {
   "cell_type": "markdown",
   "metadata": {},
   "source": [
    "# load() and dump()------- no 's'; \n",
    "# input of load() is a json file not a string in json format( not similar to loads(), notice 's' character)\n",
    "# input of dump() is a python object, output is a string"
   ]
  },
  {
   "cell_type": "code",
   "execution_count": 45,
   "metadata": {},
   "outputs": [
    {
     "data": {
      "text/plain": [
       "{'name': 'Patrick', 'age': 20, 'city': 'Paris'}"
      ]
     },
     "execution_count": 45,
     "metadata": {},
     "output_type": "execute_result"
    }
   ],
   "source": [
    "import json\n",
    "# data.json file exist here in directory, we want to read it and convert to python format\n",
    "with open('data.json', 'r') as file1:\n",
    "    new_file = json.load(file1)\n",
    "    \n",
    "new_file"
   ]
  },
  {
   "cell_type": "code",
   "execution_count": 44,
   "metadata": {},
   "outputs": [],
   "source": [
    "import json\n",
    "\n",
    "data_2 = {\n",
    "    \"name\": \"Patrick\",\n",
    "    \"age\": 20,\n",
    "    \"city\": \"Paris\"\n",
    "}\n",
    "\n",
    "with open(\"data.json\", \"w\") as file:\n",
    "    # read data.json file in directory, then write data_2 to it\n",
    "    new_file = json.dump(data_2, file)      \n"
   ]
  },
  {
   "cell_type": "markdown",
   "metadata": {},
   "source": [
    "# Queiz, Quera: Cheyson!"
   ]
  },
  {
   "cell_type": "code",
   "execution_count": null,
   "metadata": {},
   "outputs": [],
   "source": [
    "def convert_to_python(code_lines):\n",
    "    python_code = \"\"\n",
    "    for line in code_lines:\n",
    "        if line.startswith(\"a :=\"):\n",
    "            values = line.split(\":=\")[1].strip()[1:-1].split(\",\")\n",
    "            python_code += f\"a = {values}\\n\"\n",
    "        \n",
    "            python_dict = \"{\"\n",
    "            for pair in pairs:\n",
    "                key, value = pair.strip().split(\":\")\n",
    "                python_dict += f'\"{key.strip()}\": {value.strip()}, '\n",
    "            python_dict = python_dict[:-2] + \"}\"\n",
    "            python_code += f\"b = {python_dict}\\n\"\n",
    "        elif line.startswith(\"print a\"):\n",
    "            index = int(line.split(\"[\")[1].split(\"]\")[0])\n",
    "            python_code += f\"print(a[{index}])\\n\"\n",
    "      \n",
    "    return python_code\n",
    "\n",
    "code_lines = [\n",
    "    \"a := [1, 2, 3]\",\n",
    "    'b := {\"2\": 1, \"1\": 4, \"4\": 5}',\n",
    "    \"print a[1]\",\n",
    "    'print b[\"1\"]'\n",
    "]\n",
    "\n",
    "python_program = convert_to_python(code_lines)\n",
    "print(python_program)\n"
   ]
  },
  {
   "cell_type": "code",
   "execution_count": null,
   "metadata": {},
   "outputs": [],
   "source": [
    "# 4\n",
    "# a := [1, 2, 3]\n",
    "# b := {\"2\": 1, \"1\": 4, \"4\": 5}\n",
    "# print a[1]\n",
    "# print b[\"1\"]\n",
    "\n",
    "import json\n",
    "n = int(input())\n",
    "d = {}\n",
    "for i in range(n):\n",
    "    data = input()\n",
    "    if ':=' in data:\n",
    "        var, value = data.split(':=')\n",
    "        d[var] = json.loads(value)\n",
    "        #globals()[list_new[0]] = json.loads(list_new[1])\n",
    "    elif 'print' in data:\n",
    "        x = data.split()\n",
    "        print(x)\n",
    "        print(d)\n",
    "        #list_new = data.split(' ') # ['print', 'a[1]']\n",
    "        #eval(list_new[0] + '(' + list_new[1] + ')')"
   ]
  },
  {
   "cell_type": "code",
   "execution_count": 44,
   "metadata": {},
   "outputs": [
    {
     "name": "stdout",
     "output_type": "stream",
     "text": [
      "{'a': [1, 2, 3], 'b': {'2': 1, '1': 4, '4': 5}}\n",
      "Variable not found\n",
      "{'a': [1, 2, 3], 'b': {'2': 1, '1': 4, '4': 5}}\n",
      "Variable not found\n"
     ]
    }
   ],
   "source": [
    "import json\n",
    "\n",
    "variables = {}\n",
    "\n",
    "n = int(input(\"Enter the number of inputs: \"))\n",
    "for i in range(n):\n",
    "    data = input(\"Enter the data: \")    # a := [1, 2, 3]\n",
    "    if ':=' in data:\n",
    "        variable, value = data.split(':=')\n",
    "        value = value.strip()  # Remove leading and trailing whitespace\n",
    "        if '[' in value or '{' in value:\n",
    "            variables[variable.strip()] = json.loads(value)\n",
    "        else:\n",
    "            variables[variable.strip()] = value\n",
    "    elif 'print' in data:\n",
    "        variable = data.split(' ')[1]\n",
    "        print(variables)\n",
    "        print(variables.get(variable, \"Variable not found\"))\n"
   ]
  },
  {
   "cell_type": "code",
   "execution_count": 32,
   "metadata": {},
   "outputs": [
    {
     "data": {
      "text/plain": [
       "['[1', '2', '3]']"
      ]
     },
     "execution_count": 32,
     "metadata": {},
     "output_type": "execute_result"
    }
   ],
   "source": [
    "s = '[1,2,3]'\n",
    "s.split(',')"
   ]
  },
  {
   "cell_type": "code",
   "execution_count": null,
   "metadata": {},
   "outputs": [],
   "source": [
    "import json\n",
    "\n",
    "data = 'a := [1, 2, 3]'\n",
    "variable_name, value = data.split(' := ')\n",
    "value = json.loads(value)\n",
    "globals()[variable_name] = value\n",
    "\n",
    "print(a)  # Output: [1, 2, 3]\n"
   ]
  }
 ],
 "metadata": {
  "kernelspec": {
   "display_name": "Python 3",
   "language": "python",
   "name": "python3"
  },
  "language_info": {
   "codemirror_mode": {
    "name": "ipython",
    "version": 3
   },
   "file_extension": ".py",
   "mimetype": "text/x-python",
   "name": "python",
   "nbconvert_exporter": "python",
   "pygments_lexer": "ipython3",
   "version": "3.12.0"
  }
 },
 "nbformat": 4,
 "nbformat_minor": 2
}
