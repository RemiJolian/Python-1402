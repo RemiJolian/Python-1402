{
 "cells": [
  {
   "cell_type": "code",
   "execution_count": 2,
   "metadata": {},
   "outputs": [
    {
     "name": "stdout",
     "output_type": "stream",
     "text": [
      "salam Py Hello World\n"
     ]
    }
   ],
   "source": [
    "print('salam Py', end = \" \")\n",
    "print('Hello World')"
   ]
  },
  {
   "cell_type": "code",
   "execution_count": 3,
   "metadata": {},
   "outputs": [
    {
     "name": "stdout",
     "output_type": "stream",
     "text": [
      "sum=  5\n"
     ]
    }
   ],
   "source": [
    "a = 2\n",
    "b = 3\n",
    "print('sum = ', a + b)"
   ]
  },
  {
   "cell_type": "code",
   "execution_count": 6,
   "metadata": {},
   "outputs": [
    {
     "name": "stdout",
     "output_type": "stream",
     "text": [
      "Hello  Baran\n"
     ]
    }
   ],
   "source": [
    "name = input('inter ur name')\n",
    "print (\"Hello \", name)"
   ]
  },
  {
   "cell_type": "code",
   "execution_count": 16,
   "metadata": {},
   "outputs": [
    {
     "data": {
      "text/plain": [
       "0"
      ]
     },
     "execution_count": 16,
     "metadata": {},
     "output_type": "execute_result"
    }
   ],
   "source": [
    "a = 3\n",
    "type(a)\n",
    "b = 2.2\n",
    "int(3.3)\n",
    "float('4.5')\n",
    "int(-1.7)\n",
    "int(-0.5)\n"
   ]
  },
  {
   "cell_type": "code",
   "execution_count": 17,
   "metadata": {},
   "outputs": [
    {
     "name": "stdout",
     "output_type": "stream",
     "text": [
      "6\n"
     ]
    }
   ],
   "source": [
    "x = float(input())\n",
    "y = float(input())\n",
    "print(int(x + y))"
   ]
  },
  {
   "cell_type": "code",
   "execution_count": 20,
   "metadata": {},
   "outputs": [
    {
     "name": "stdout",
     "output_type": "stream",
     "text": [
      "Ice\n"
     ]
    }
   ],
   "source": [
    "# Yakhdarchi\n",
    "n = int(input())\n",
    "if n > 100:\n",
    "    print('Steam')\n",
    "elif n < 0:\n",
    "    print('Ice')\n",
    "else:\n",
    "    print('Water')"
   ]
  },
  {
   "cell_type": "code",
   "execution_count": null,
   "metadata": {},
   "outputs": [],
   "source": [
    "#fibonatchi\n",
    "a = 0\n",
    "b = 1\n",
    "while a < 10:\n",
    "    print(a)\n",
    "    a, b = b, a + b"
   ]
  },
  {
   "cell_type": "code",
   "execution_count": null,
   "metadata": {},
   "outputs": [],
   "source": [
    "#odd num < 10\n",
    "x = 0\n",
    "while x < 10:\n",
    "    x += 1\n",
    "    if x % 2 == 0:\n",
    "        continue\n",
    "    else:\n",
    "        print(x)\n",
    "    "
   ]
  },
  {
   "cell_type": "code",
   "execution_count": 26,
   "metadata": {},
   "outputs": [
    {
     "name": "stdout",
     "output_type": "stream",
     "text": [
      "9\n"
     ]
    }
   ],
   "source": [
    "s = 0\n",
    "num = int(input())\n",
    "while num != 0:\n",
    "    s += num\n",
    "    num = int(input())\n",
    "    if num == 0:\n",
    "        break\n",
    "print(s)"
   ]
  },
  {
   "cell_type": "code",
   "execution_count": null,
   "metadata": {},
   "outputs": [],
   "source": [
    "x = 0\n",
    "while True:\n",
    "    x += 1\n",
    "    if x == 20:\n",
    "        break\n",
    "    if x % 2 == 0:\n",
    "        continue\n",
    "    print(x)"
   ]
  },
  {
   "cell_type": "code",
   "execution_count": null,
   "metadata": {},
   "outputs": [],
   "source": [
    "words = [['s', 'a'], ['b','c']]\n",
    "for w in words:\n",
    "    for c in w:\n",
    "        print(c)"
   ]
  },
  {
   "cell_type": "code",
   "execution_count": 30,
   "metadata": {},
   "outputs": [
    {
     "name": "stdout",
     "output_type": "stream",
     "text": [
      "0 1 2 3 4 5 6 7 8 9 "
     ]
    }
   ],
   "source": [
    "for i in range(10):\n",
    "    print (i, end = ' ')\n"
   ]
  },
  {
   "cell_type": "code",
   "execution_count": null,
   "metadata": {},
   "outputs": [],
   "source": [
    "n = int(input())\n",
    "for i in range(1, n+1):\n",
    "    for j in range(1, n+1):\n",
    "        print(i * j, end = ' ')\n",
    "    print()"
   ]
  },
  {
   "cell_type": "code",
   "execution_count": 2,
   "metadata": {},
   "outputs": [
    {
     "name": "stdout",
     "output_type": "stream",
     "text": [
      "28\n"
     ]
    }
   ],
   "source": [
    "i = 1\n",
    "p, d = input().split() #p, d = map(int,input().split())\n",
    "p = int(p)\n",
    "d = int(d)\n",
    "while (d * i) % p > p/2:\n",
    "    i += 1\n",
    "print(d * i)\n",
    "    \n"
   ]
  },
  {
   "cell_type": "code",
   "execution_count": 52,
   "metadata": {},
   "outputs": [
    {
     "data": {
      "text/plain": [
       "'22'"
      ]
     },
     "execution_count": 52,
     "metadata": {},
     "output_type": "execute_result"
    }
   ],
   "source": [
    "def f(n):\n",
    "    return n+n\n",
    "f('2')"
   ]
  },
  {
   "cell_type": "code",
   "execution_count": null,
   "metadata": {},
   "outputs": [],
   "source": [
    "def comb():\n",
    "    # n, k = map(int,input().split())\n",
    "    \n"
   ]
  },
  {
   "cell_type": "code",
   "execution_count": 11,
   "metadata": {},
   "outputs": [
    {
     "name": "stdout",
     "output_type": "stream",
     "text": [
      "0\n"
     ]
    }
   ],
   "source": [
    "import math\n",
    "def f(n,k):\n",
    "\n",
    "    f_n = math.factorial(n)\n",
    "    f_k = math.factorial(k)\n",
    "    d_f = math.factorial(abs(n-k))\n",
    "    result = int(f_n /(d_f * f_k))\n",
    "    print(result)\n",
    "f(5,7)"
   ]
  },
  {
   "cell_type": "markdown",
   "metadata": {},
   "source": [
    "try and exception syntax:\n",
    "The try block lets you test a block of code for errors.\n",
    "\n",
    "The except block lets you handle the error.\n",
    "\n",
    "The else block lets you execute code when there is no error.\n",
    "\n",
    "The finally block lets you execute code, regardless of the result of the try- and except blocks."
   ]
  },
  {
   "cell_type": "code",
   "execution_count": 13,
   "metadata": {},
   "outputs": [
    {
     "name": "stdout",
     "output_type": "stream",
     "text": [
      "error, exception occurred\n",
      "finished\n"
     ]
    }
   ],
   "source": [
    "# try and exception function\n",
    "try:\n",
    "    print(x)\n",
    "except:\n",
    "    print('error, exception occurred')\n",
    "finally:  # or we can use \"else\": \n",
    "    print('nothing went wrong!')"
   ]
  },
  {
   "cell_type": "markdown",
   "metadata": {},
   "source": [
    "math library:"
   ]
  },
  {
   "cell_type": "code",
   "execution_count": null,
   "metadata": {},
   "outputs": [],
   "source": [
    "print(round(8.7))\n",
    "\n",
    "import math\n",
    "print(math.ceil(2.77))\n",
    "print(math.floor(2.77))\n",
    "print(math.floor(-5.2))  # -6\n",
    "print(math.fabs(-5.2))  \n",
    "print(math.ceil(-5.2))   # -5\n",
    "print(math.ceil(-5.2))   # -5\n",
    "print(math.factorial(4))  \n",
    "print(math.gcd(8,12))  \n",
    "print(\".................................\")\n",
    "\n",
    "print(math.pow(2,3))\n",
    "print(math.log(3))\n",
    "print(math.log(10,2))\n",
    "print(math.sqrt(8))\n",
    "print(math.sin(5))\n",
    "print(math.sin(5))\n",
    "print(math.pi)"
   ]
  },
  {
   "cell_type": "code",
   "execution_count": null,
   "metadata": {},
   "outputs": [],
   "source": [
    "# an example\n",
    "\n",
    "import math\n",
    "x = int(input())\n",
    "y = math.floor(math.pow(math.e, math.asin(math.pow(math.cos(math.radians(x)), 2))))\n",
    "print(math.gcd(x, y))"
   ]
  },
  {
   "cell_type": "code",
   "execution_count": 5,
   "metadata": {},
   "outputs": [
    {
     "name": "stdout",
     "output_type": "stream",
     "text": [
      "2\n"
     ]
    }
   ],
   "source": [
    "x = int(input())\n",
    "import math\n",
    "x1 = math.radians(x)\n",
    "a = math.ceil((math.pow(x,(5/3))+math.tan(x1)))\n",
    "b = math.floor(math.pow(math.pi,(2+math.atan(math.pow(math.sin(x1),2)))))\n",
    "result = math.gcd(a,b)\n",
    "print(result)\n"
   ]
  },
  {
   "cell_type": "code",
   "execution_count": 3,
   "metadata": {},
   "outputs": [
    {
     "data": {
      "text/plain": [
       "15"
      ]
     },
     "execution_count": 3,
     "metadata": {},
     "output_type": "execute_result"
    }
   ],
   "source": [
    "import math\n",
    "x = int(input())\n",
    "x1 = math.radians(x)\n",
    "a = math.ceil(math.pow(x,(5/3))+math.tan(x1))\n",
    "math.tan(x)\n",
    "a\n"
   ]
  },
  {
   "cell_type": "markdown",
   "metadata": {},
   "source": [
    "library datetime"
   ]
  },
  {
   "cell_type": "code",
   "execution_count": 15,
   "metadata": {},
   "outputs": [
    {
     "name": "stdout",
     "output_type": "stream",
     "text": [
      "-------------------------\n",
      "19\n",
      "2023-10-11 19:53:03.961934\n"
     ]
    }
   ],
   "source": [
    "from datetime import time\n",
    "t = time(12, 13, 14)\n",
    "t.hour\n",
    "t.minute\n",
    "t.second\n",
    "type(t)\n",
    "print('-------------------------')\n",
    "\n",
    "\n",
    "from datetime import date\n",
    "d = date(2023, 12, 23)\n",
    "d.year\n",
    "d.month\n",
    "# d.year = 2022 # error readable only\n",
    "\n",
    "from datetime import datetime\n",
    "dt = datetime(2023, 10, 11, 19, 50)\n",
    "print(dt.hour)\n",
    "print(datetime.now())"
   ]
  },
  {
   "cell_type": "markdown",
   "metadata": {},
   "source": [
    "calculate days of old"
   ]
  },
  {
   "cell_type": "markdown",
   "metadata": {},
   "source": [
    "calculate days of one date , by perplexity AI:"
   ]
  },
  {
   "cell_type": "code",
   "execution_count": 6,
   "metadata": {},
   "outputs": [
    {
     "name": "stdout",
     "output_type": "stream",
     "text": [
      "You are -1 years, 11 months, and 1 days old.\n",
      "That's a total of -30 days!\n"
     ]
    }
   ],
   "source": [
    "from datetime import date\n",
    "\n",
    "# Prompt the user for their birthdate\n",
    "birthdate_str = input(\"Enter your birthdate (YYYY-MM-DD): \")\n",
    "\n",
    "# Convert the birthdate string to a date object\n",
    "birthdate = date.fromisoformat(birthdate_str)\n",
    "\n",
    "# Calculate the age in years, months, and days\n",
    "today = date(1999, 1, 14)\n",
    "age_years = today.year - birthdate.year\n",
    "age_months = today.month - birthdate.month\n",
    "age_days = today.day - birthdate.day\n",
    "\n",
    "# Adjust the age if necessary\n",
    "if age_days < 0:\n",
    "    # Borrow a month from the age\n",
    "    age_months -= 1\n",
    "    # Calculate the number of days in the borrowed month\n",
    "    days_in_month = (today.replace(day=1) - date(today.year, today.month - 1, 1)).days\n",
    "    age_days += days_in_month\n",
    "if age_months < 0:\n",
    "    # Borrow a year from the age\n",
    "    age_years -= 1\n",
    "    age_months += 12\n",
    "\n",
    "# Calculate the total number of days old\n",
    "days_old = (today - birthdate).days\n",
    "\n",
    "# Print the age and days old\n",
    "print(f\"You are {age_years} years, {age_months} months, and {age_days} days old.\")\n",
    "print(f\"That's a total of {days_old} days!\")"
   ]
  },
  {
   "cell_type": "markdown",
   "metadata": {},
   "source": [
    "input: a date, output:days pass:"
   ]
  },
  {
   "cell_type": "code",
   "execution_count": 14,
   "metadata": {},
   "outputs": [
    {
     "data": {
      "text/plain": [
       "31"
      ]
     },
     "execution_count": 14,
     "metadata": {},
     "output_type": "execute_result"
    }
   ],
   "source": [
    "def day_calculator(d):         # d = input('enter date yyyy-mm-dd')\n",
    "    # This library needed:\n",
    "    from datetime import date\n",
    "    from datetime import datetime\n",
    "\n",
    "    # Convert the birthdate string to a date object\n",
    "    d = datetime.strptime(d, '%Y-%m-%d') #d = date.fromisoformat(d)\n",
    "\n",
    "    days_m = 0\n",
    "\n",
    "    # Calculate the days in month\n",
    "    for i in range (1, d.month):\n",
    "        if d.month == 1 :\n",
    "            break\n",
    "        if i in [1, 3, 5, 7, 8, 10, 12]:\n",
    "            days_m += 31\n",
    "        elif i in [4, 6, 9, 11]:\n",
    "            days_m += 30\n",
    "        else:\n",
    "            days_m += 28\n",
    "\n",
    "    total_days = d.year * 365 + d.year//4 + days_m + d.day \n",
    "\n",
    "    date_born = date(1999, 1, 14)\n",
    "    total_days_born = date_born.year * 365 + date_born.year // 4 + 14   \n",
    "\n",
    "    # Calculate number of days old\n",
    "    dif_days = total_days - total_days_born\n",
    "    if dif_days > 0:\n",
    "        return dif_days\n",
    "    else:\n",
    "        return 'Not yet born'\n",
    "day_calculator('1999-02-14')"
   ]
  }
 ],
 "metadata": {
  "kernelspec": {
   "display_name": "Python 3",
   "language": "python",
   "name": "python3"
  },
  "language_info": {
   "codemirror_mode": {
    "name": "ipython",
    "version": 3
   },
   "file_extension": ".py",
   "mimetype": "text/x-python",
   "name": "python",
   "nbconvert_exporter": "python",
   "pygments_lexer": "ipython3",
   "version": "3.11.1"
  }
 },
 "nbformat": 4,
 "nbformat_minor": 2
}
