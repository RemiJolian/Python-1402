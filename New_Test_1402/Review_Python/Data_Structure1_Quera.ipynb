{
 "cells": [
  {
   "cell_type": "markdown",
   "metadata": {},
   "source": [
    "**bool**"
   ]
  },
  {
   "cell_type": "code",
   "execution_count": 1,
   "metadata": {},
   "outputs": [
    {
     "data": {
      "text/plain": [
       "True"
      ]
     },
     "execution_count": 1,
     "metadata": {},
     "output_type": "execute_result"
    }
   ],
   "source": [
    "bool('s')"
   ]
  },
  {
   "cell_type": "code",
   "execution_count": 5,
   "metadata": {},
   "outputs": [
    {
     "data": {
      "text/plain": [
       "True"
      ]
     },
     "execution_count": 5,
     "metadata": {},
     "output_type": "execute_result"
    }
   ],
   "source": [
    "bool(2)"
   ]
  },
  {
   "cell_type": "code",
   "execution_count": 4,
   "metadata": {},
   "outputs": [
    {
     "data": {
      "text/plain": [
       "False"
      ]
     },
     "execution_count": 4,
     "metadata": {},
     "output_type": "execute_result"
    }
   ],
   "source": [
    "bool('')"
   ]
  },
  {
   "cell_type": "code",
   "execution_count": 5,
   "metadata": {},
   "outputs": [
    {
     "data": {
      "text/plain": [
       "True"
      ]
     },
     "execution_count": 5,
     "metadata": {},
     "output_type": "execute_result"
    }
   ],
   "source": [
    "bool(' ')"
   ]
  },
  {
   "cell_type": "code",
   "execution_count": 6,
   "metadata": {},
   "outputs": [
    {
     "data": {
      "text/plain": [
       "True"
      ]
     },
     "execution_count": 6,
     "metadata": {},
     "output_type": "execute_result"
    }
   ],
   "source": [
    "bool([1, 2, 3])"
   ]
  },
  {
   "cell_type": "code",
   "execution_count": 7,
   "metadata": {},
   "outputs": [
    {
     "data": {
      "text/plain": [
       "False"
      ]
     },
     "execution_count": 7,
     "metadata": {},
     "output_type": "execute_result"
    }
   ],
   "source": [
    "bool([])"
   ]
  },
  {
   "cell_type": "code",
   "execution_count": 11,
   "metadata": {},
   "outputs": [
    {
     "data": {
      "text/plain": [
       "False"
      ]
     },
     "execution_count": 11,
     "metadata": {},
     "output_type": "execute_result"
    }
   ],
   "source": [
    "bool(())"
   ]
  },
  {
   "cell_type": "code",
   "execution_count": 12,
   "metadata": {},
   "outputs": [
    {
     "data": {
      "text/plain": [
       "False"
      ]
     },
     "execution_count": 12,
     "metadata": {},
     "output_type": "execute_result"
    }
   ],
   "source": [
    "bool(0)"
   ]
  },
  {
   "cell_type": "markdown",
   "metadata": {},
   "source": [
    "**%**"
   ]
  },
  {
   "cell_type": "code",
   "execution_count": 18,
   "metadata": {},
   "outputs": [
    {
     "name": "stdout",
     "output_type": "stream",
     "text": [
      "12\n",
      "12.600000\n",
      "12.60\n",
      "1.260000e+01\n"
     ]
    }
   ],
   "source": [
    "n = 12.6\n",
    "print('%i' %n)\n",
    "print('%f' %n)\n",
    "print('%.2f' %n)\n",
    "print('%e' %n)"
   ]
  },
  {
   "cell_type": "code",
   "execution_count": 22,
   "metadata": {},
   "outputs": [
    {
     "name": "stdout",
     "output_type": "stream",
     "text": [
      "1.0\n"
     ]
    }
   ],
   "source": [
    "a = float(input())\n",
    "print(a)"
   ]
  },
  {
   "cell_type": "code",
   "execution_count": 19,
   "metadata": {},
   "outputs": [
    {
     "name": "stdout",
     "output_type": "stream",
     "text": [
      " a + b = 5\n"
     ]
    }
   ],
   "source": [
    "a = 2\n",
    "b = 3\n",
    "print(f' a + b = {a + b}')"
   ]
  },
  {
   "cell_type": "code",
   "execution_count": 6,
   "metadata": {},
   "outputs": [
    {
     "name": "stdout",
     "output_type": "stream",
     "text": [
      "salam Py /Hello World\n"
     ]
    }
   ],
   "source": [
    "print('salam Py', end = \" /\")\n",
    "print('Hello World')"
   ]
  },
  {
   "cell_type": "code",
   "execution_count": 9,
   "metadata": {},
   "outputs": [
    {
     "name": "stdout",
     "output_type": "stream",
     "text": [
      "sum =  kk\n"
     ]
    }
   ],
   "source": [
    "a = 2\n",
    "b = 3\n",
    "print('sum = ', a + b)"
   ]
  },
  {
   "cell_type": "code",
   "execution_count": 6,
   "metadata": {},
   "outputs": [
    {
     "name": "stdout",
     "output_type": "stream",
     "text": [
      "Hello  Baran\n"
     ]
    }
   ],
   "source": [
    "name = input('inter ur name')\n",
    "print (\"Hello \", name)"
   ]
  },
  {
   "cell_type": "code",
   "execution_count": 15,
   "metadata": {},
   "outputs": [
    {
     "name": "stdout",
     "output_type": "stream",
     "text": [
      "<class 'int'>\n",
      "3\n",
      "4.5\n",
      "-1\n",
      "0\n"
     ]
    }
   ],
   "source": [
    "a = 3\n",
    "print(type(a))\n",
    "print(int(3.9))\n",
    "print(float('4.5'))\n",
    "print(int(-1.7))\n",
    "print(int(-0.5))\n"
   ]
  },
  {
   "cell_type": "code",
   "execution_count": 17,
   "metadata": {},
   "outputs": [
    {
     "name": "stdout",
     "output_type": "stream",
     "text": [
      "6\n"
     ]
    }
   ],
   "source": [
    "x = float(input())\n",
    "y = float(input())\n",
    "print(int(x + y))"
   ]
  },
  {
   "cell_type": "code",
   "execution_count": 20,
   "metadata": {},
   "outputs": [
    {
     "name": "stdout",
     "output_type": "stream",
     "text": [
      "Ice\n"
     ]
    }
   ],
   "source": [
    "# Yakhdarchi\n",
    "n = int(input())\n",
    "if n > 100:\n",
    "    print('Steam')\n",
    "elif n < 0:\n",
    "    print('Ice')\n",
    "else:\n",
    "    print('Water')"
   ]
  },
  {
   "cell_type": "code",
   "execution_count": null,
   "metadata": {},
   "outputs": [],
   "source": [
    "#fibonatchi\n",
    "a = 0\n",
    "b = 1\n",
    "while a < 10:\n",
    "    print(a)\n",
    "    a, b = b, a + b"
   ]
  },
  {
   "cell_type": "code",
   "execution_count": null,
   "metadata": {},
   "outputs": [],
   "source": [
    "#odd num < 10\n",
    "x = 0\n",
    "while x < 10:\n",
    "    x += 1\n",
    "    if x % 2 == 0:\n",
    "        continue\n",
    "    else:\n",
    "        print(x)\n",
    "    "
   ]
  },
  {
   "cell_type": "code",
   "execution_count": 26,
   "metadata": {},
   "outputs": [
    {
     "name": "stdout",
     "output_type": "stream",
     "text": [
      "9\n"
     ]
    }
   ],
   "source": [
    "s = 0\n",
    "num = int(input())\n",
    "while num != 0:\n",
    "    s += num\n",
    "    num = int(input())\n",
    "    if num == 0:\n",
    "        break\n",
    "print(s)"
   ]
  },
  {
   "cell_type": "code",
   "execution_count": 17,
   "metadata": {},
   "outputs": [
    {
     "name": "stdout",
     "output_type": "stream",
     "text": [
      "1 3 5 7 9 11 13 15 17 19 "
     ]
    }
   ],
   "source": [
    "x = 0\n",
    "while True:\n",
    "    x += 1\n",
    "    if x == 20:\n",
    "        break\n",
    "    if x % 2 == 0:\n",
    "        continue\n",
    "    print(x, end = ' ')"
   ]
  },
  {
   "cell_type": "code",
   "execution_count": null,
   "metadata": {},
   "outputs": [],
   "source": [
    "words = [['s', 'a'], ['b','c']]\n",
    "for w in words:\n",
    "    for c in w:\n",
    "        print(c)"
   ]
  },
  {
   "cell_type": "code",
   "execution_count": 30,
   "metadata": {},
   "outputs": [
    {
     "name": "stdout",
     "output_type": "stream",
     "text": [
      "0 1 2 3 4 5 6 7 8 9 "
     ]
    }
   ],
   "source": [
    "for i in range(10):\n",
    "    print (i, end = ' ')\n"
   ]
  },
  {
   "cell_type": "code",
   "execution_count": 18,
   "metadata": {},
   "outputs": [
    {
     "name": "stdout",
     "output_type": "stream",
     "text": [
      "1 2 3 4 5 \n",
      "2 4 6 8 10 \n",
      "3 6 9 12 15 \n",
      "4 8 12 16 20 \n",
      "5 10 15 20 25 \n"
     ]
    }
   ],
   "source": [
    "n = int(input())\n",
    "for i in range(1, n+1):\n",
    "    for j in range(1, n+1):\n",
    "        print(i * j, end = ' ')\n",
    "    print()"
   ]
  },
  {
   "cell_type": "code",
   "execution_count": 2,
   "metadata": {},
   "outputs": [
    {
     "name": "stdout",
     "output_type": "stream",
     "text": [
      "28\n"
     ]
    }
   ],
   "source": [
    "i = 1\n",
    "p, d = input().split() #p, d = map(int,input().split())\n",
    "p = int(p)\n",
    "d = int(d)\n",
    "while (d * i) % p > p/2:\n",
    "    i += 1\n",
    "print(d * i)\n",
    "    \n"
   ]
  },
  {
   "cell_type": "code",
   "execution_count": 19,
   "metadata": {},
   "outputs": [
    {
     "data": {
      "text/plain": [
       "'22'"
      ]
     },
     "execution_count": 19,
     "metadata": {},
     "output_type": "execute_result"
    }
   ],
   "source": [
    "def f(n):\n",
    "    return n+n\n",
    "f('2')"
   ]
  },
  {
   "cell_type": "code",
   "execution_count": 11,
   "metadata": {},
   "outputs": [
    {
     "name": "stdout",
     "output_type": "stream",
     "text": [
      "0\n"
     ]
    }
   ],
   "source": [
    "import math\n",
    "def f(n,k):\n",
    "\n",
    "    f_n = math.factorial(n)\n",
    "    f_k = math.factorial(k)\n",
    "    d_f = math.factorial(abs(n-k))\n",
    "    result = int(f_n /(d_f * f_k))\n",
    "    print(result)\n",
    "f(5,7)"
   ]
  },
  {
   "cell_type": "markdown",
   "metadata": {},
   "source": [
    "# try and exception:\n",
    "\n",
    "The try block lets you test a block of code for errors.\n",
    "The except block lets you handle the error.\n",
    "The else block lets you execute code when there is no error.\n",
    "The finally block lets you execute code, regardless of the result of the try and except blocks."
   ]
  },
  {
   "cell_type": "code",
   "execution_count": 21,
   "metadata": {},
   "outputs": [
    {
     "name": "stdout",
     "output_type": "stream",
     "text": [
      "error, exception occurred\n",
      "nothing went wrong!\n"
     ]
    }
   ],
   "source": [
    "# try and exception function\n",
    "try:\n",
    "    print(opx)\n",
    "except:\n",
    "    print('error, exception occurred')\n",
    "finally:  # or we can use \"else\": \n",
    "    print('nothing went wrong!')"
   ]
  },
  {
   "cell_type": "markdown",
   "metadata": {},
   "source": [
    "math library:"
   ]
  },
  {
   "cell_type": "code",
   "execution_count": null,
   "metadata": {},
   "outputs": [],
   "source": [
    "print(round(8.7))\n",
    "\n",
    "print('#------------------------------#')\n",
    "import math\n",
    "print(math.ceil(2.77))\n",
    "print(math.floor(2.77))\n",
    "print(math.floor(-5.2))  # -6\n",
    "print(math.fabs(-6.3))  \n",
    "print(math.ceil(-5.2))   # -5\n",
    "print(math.ceil(-9.2))   # -5\n",
    "print(math.factorial(4))  \n",
    "print(math.gcd(8,12))  \n",
    "print(\".................................\")\n",
    "\n",
    "print(math.pow(2,3))\n",
    "print(math.log(3))\n",
    "print(math.log(10,2))\n",
    "print(math.sqrt(8))\n",
    "print(math.sin(5))\n",
    "print(math.cos(5))\n",
    "print(math.pi)"
   ]
  },
  {
   "cell_type": "code",
   "execution_count": null,
   "metadata": {},
   "outputs": [],
   "source": [
    "# an example\n",
    "\n",
    "import math\n",
    "x = int(input())\n",
    "y = math.floor(math.pow(math.e, math.asin(math.pow(math.cos(math.radians(x)), 2))))\n",
    "print(math.gcd(x, y))"
   ]
  },
  {
   "cell_type": "code",
   "execution_count": 5,
   "metadata": {},
   "outputs": [
    {
     "name": "stdout",
     "output_type": "stream",
     "text": [
      "2\n"
     ]
    }
   ],
   "source": [
    "x = int(input())\n",
    "import math\n",
    "x1 = math.radians(x)\n",
    "a = math.ceil((math.pow(x,(5/3))+math.tan(x1)))\n",
    "b = math.floor(math.pow(math.pi,(2+math.atan(math.pow(math.sin(x1),2)))))\n",
    "result = math.gcd(a,b)\n",
    "print(result)\n"
   ]
  },
  {
   "cell_type": "code",
   "execution_count": 3,
   "metadata": {},
   "outputs": [
    {
     "data": {
      "text/plain": [
       "15"
      ]
     },
     "execution_count": 3,
     "metadata": {},
     "output_type": "execute_result"
    }
   ],
   "source": [
    "import math\n",
    "x = int(input())\n",
    "x1 = math.radians(x)\n",
    "a = math.ceil(math.pow(x,(5/3))+math.tan(x1))\n",
    "math.tan(x)\n",
    "a\n"
   ]
  },
  {
   "cell_type": "code",
   "execution_count": 28,
   "metadata": {},
   "outputs": [
    {
     "data": {
      "text/plain": [
       "' Baran Bagheri'"
      ]
     },
     "execution_count": 28,
     "metadata": {},
     "output_type": "execute_result"
    }
   ],
   "source": [
    "s = ' baran bAgheri'\n",
    "s.title()"
   ]
  },
  {
   "cell_type": "markdown",
   "metadata": {},
   "source": [
    "library datetime"
   ]
  },
  {
   "cell_type": "code",
   "execution_count": null,
   "metadata": {},
   "outputs": [],
   "source": [
    "from datetime import time\n",
    "t = time(12, 13, 14)\n",
    "t.hour\n",
    "t.minute\n",
    "print(t.second)\n",
    "print(type(t))\n",
    "print('-------------------------')\n",
    "\n",
    "\n",
    "from datetime import date\n",
    "d = date(2023, 12, 23)\n",
    "d.year\n",
    "d.month\n",
    "# d.year = 2022 # error readable only\n",
    "\n",
    "from datetime import datetime\n",
    "dt = datetime(2023, 10, 11, 19, 50)\n",
    "print(dt.hour)\n",
    "print(dt)\n",
    "print(datetime.now())"
   ]
  },
  {
   "cell_type": "markdown",
   "metadata": {},
   "source": [
    "# calculate days of old"
   ]
  },
  {
   "cell_type": "markdown",
   "metadata": {},
   "source": [
    "calculate days of one date , by perplexity AI:"
   ]
  },
  {
   "cell_type": "code",
   "execution_count": 6,
   "metadata": {},
   "outputs": [
    {
     "name": "stdout",
     "output_type": "stream",
     "text": [
      "You are -1 years, 11 months, and 1 days old.\n",
      "That's a total of -30 days!\n"
     ]
    }
   ],
   "source": [
    "from datetime import date\n",
    "\n",
    "# Prompt the user for their birthdate\n",
    "birthdate_str = input(\"Enter your birthdate (YYYY-MM-DD): \")\n",
    "\n",
    "# Convert the birthdate string to a date object\n",
    "birthdate = date.fromisoformat(birthdate_str)\n",
    "\n",
    "# Calculate the age in years, months, and days\n",
    "today = date(1999, 1, 14)\n",
    "age_years = today.year - birthdate.year\n",
    "age_months = today.month - birthdate.month\n",
    "age_days = today.day - birthdate.day\n",
    "\n",
    "# Adjust the age if necessary\n",
    "if age_days < 0:\n",
    "    # Borrow a month from the age\n",
    "    age_months -= 1\n",
    "    # Calculate the number of days in the borrowed month\n",
    "    days_in_month = (today.replace(day=1) - date(today.year, today.month - 1, 1)).days\n",
    "    age_days += days_in_month\n",
    "if age_months < 0:\n",
    "    # Borrow a year from the age\n",
    "    age_years -= 1\n",
    "    age_months += 12\n",
    "\n",
    "# Calculate the total number of days old\n",
    "days_old = (today - birthdate).days\n",
    "\n",
    "# Print the age and days old\n",
    "print(f\"You are {age_years} years, {age_months} months, and {age_days} days old.\")\n",
    "print(f\"That's a total of {days_old} days!\")"
   ]
  },
  {
   "cell_type": "markdown",
   "metadata": {},
   "source": [
    "# input: a date, output:days pass:"
   ]
  },
  {
   "cell_type": "code",
   "execution_count": 14,
   "metadata": {},
   "outputs": [
    {
     "data": {
      "text/plain": [
       "31"
      ]
     },
     "execution_count": 14,
     "metadata": {},
     "output_type": "execute_result"
    }
   ],
   "source": [
    "def day_calculator(d):         # d = input('enter date yyyy-mm-dd')\n",
    "    # This library needed:\n",
    "    from datetime import date\n",
    "    from datetime import datetime\n",
    "\n",
    "    # Convert the birthdate string to a date object\n",
    "    d = datetime.strptime(d, '%Y-%m-%d') #d = date.fromisoformat(d)\n",
    "\n",
    "    days_m = 0\n",
    "\n",
    "    # Calculate the days in month\n",
    "    for i in range (1, d.month):\n",
    "        if d.month == 1 :\n",
    "            break\n",
    "        if i in [1, 3, 5, 7, 8, 10, 12]:\n",
    "            days_m += 31\n",
    "        elif i in [4, 6, 9, 11]:\n",
    "            days_m += 30\n",
    "        else:\n",
    "            days_m += 28\n",
    "\n",
    "    total_days = d.year * 365 + d.year//4 + days_m + d.day \n",
    "\n",
    "    date_born = date(1999, 1, 14)\n",
    "    total_days_born = date_born.year * 365 + date_born.year // 4 + 14   \n",
    "\n",
    "    # Calculate number of days old\n",
    "    dif_days = total_days - total_days_born\n",
    "    if dif_days > 0:\n",
    "        return dif_days\n",
    "    else:\n",
    "        return 'Not yet born'\n",
    "day_calculator('1999-02-14')"
   ]
  },
  {
   "cell_type": "code",
   "execution_count": 40,
   "metadata": {},
   "outputs": [
    {
     "name": "stdout",
     "output_type": "stream",
     "text": [
      "2\n",
      "True\n"
     ]
    }
   ],
   "source": [
    "print(a := 2)\n",
    "print(b := True)\n"
   ]
  },
  {
   "cell_type": "code",
   "execution_count": 43,
   "metadata": {},
   "outputs": [
    {
     "name": "stdout",
     "output_type": "stream",
     "text": [
      "l\n"
     ]
    }
   ],
   "source": [
    "name = input('enter ur name:')\n",
    "print(name)"
   ]
  },
  {
   "cell_type": "code",
   "execution_count": 50,
   "metadata": {},
   "outputs": [
    {
     "name": "stdout",
     "output_type": "stream",
     "text": [
      "00065\n"
     ]
    }
   ],
   "source": [
    "n = 65\n",
    "print(f'{n:05d}')  # 5 digit "
   ]
  },
  {
   "cell_type": "code",
   "execution_count": 51,
   "metadata": {},
   "outputs": [
    {
     "name": "stdout",
     "output_type": "stream",
     "text": [
      "b\n",
      "a\n"
     ]
    }
   ],
   "source": [
    "def f():\n",
    "    print('b')\n",
    "f()\n",
    "print('a')\n"
   ]
  },
  {
   "cell_type": "code",
   "execution_count": 1,
   "metadata": {},
   "outputs": [
    {
     "name": "stdout",
     "output_type": "stream",
     "text": [
      "1 2 3\n",
      "1 2 3\n",
      "a b c\n"
     ]
    }
   ],
   "source": [
    "print(*[1, 2, 3])\n",
    "\n",
    "print(*(1, 2, 3))\n",
    "\n",
    "print(*{'a': 1, 'b': 2, 'c': 3})\n"
   ]
  },
  {
   "cell_type": "code",
   "execution_count": null,
   "metadata": {},
   "outputs": [],
   "source": [
    "a = int(input())\n",
    "if a not in [2, 3]:\n",
    "    print(a)\n",
    "else:\n",
    "    print('none')"
   ]
  },
  {
   "cell_type": "markdown",
   "metadata": {},
   "source": [
    "# .endswith()"
   ]
  },
  {
   "cell_type": "code",
   "execution_count": 52,
   "metadata": {},
   "outputs": [
    {
     "data": {
      "text/plain": [
       "True"
      ]
     },
     "execution_count": 52,
     "metadata": {},
     "output_type": "execute_result"
    }
   ],
   "source": [
    "file = 'abc.jpg'\n",
    "file.endswith('.jpg')"
   ]
  },
  {
   "cell_type": "code",
   "execution_count": 56,
   "metadata": {},
   "outputs": [
    {
     "data": {
      "text/plain": [
       "[6]"
      ]
     },
     "execution_count": 56,
     "metadata": {},
     "output_type": "execute_result"
    }
   ],
   "source": [
    "ls = [1, 2, 3, 4, 5]\n",
    "ls2 = []\n",
    "ls2 = ls[0:3]\n",
    "ls2\n",
    "ls3 = []\n",
    "ls3.append(sum(ls2))\n",
    "ls3"
   ]
  },
  {
   "cell_type": "markdown",
   "metadata": {},
   "source": [
    "# Quiz mohasebeGar"
   ]
  },
  {
   "cell_type": "code",
   "execution_count": 58,
   "metadata": {},
   "outputs": [
    {
     "name": "stdout",
     "output_type": "stream",
     "text": [
      "6\n",
      "-4\n"
     ]
    }
   ],
   "source": [
    "def calculator(n, m, ls):\n",
    "    ls_n = []\n",
    "    for i in range(0, n):\n",
    "        ls_n.append(sum(ls[i*m: m+i*m]))\n",
    "        \n",
    "    s = 0\n",
    "    sign = 1\n",
    "    for ch in ls_n:\n",
    "        s += ch * sign\n",
    "        sign *= -1\n",
    "    return s\n",
    "\n",
    "\n",
    "print(calculator(8, 3, [1, 2, 3, 4, 5, 6, 7, 8]))\n",
    "print(calculator(8, 1, [1, 2, 3, 4, 5, 6, 7, 8]))"
   ]
  },
  {
   "cell_type": "markdown",
   "metadata": {},
   "source": [
    "others solution:"
   ]
  },
  {
   "cell_type": "code",
   "execution_count": null,
   "metadata": {},
   "outputs": [],
   "source": [
    "def calculator(n, m, ls):\n",
    "    arr, i = [], 0\n",
    "    while i < n:\n",
    "        tmp = 0\n",
    "        for j in range(i, i + m):\n",
    "            if i >= n:\n",
    "                break\n",
    "            tmp += ls[j]\n",
    "            i += 1\n",
    "        arr.append(tmp)\n",
    "    answer = 0\n",
    "    for i in range(len(arr)):\n",
    "        if i % 2 == 0:\n",
    "            answer += arr[i]\n",
    "        else:\n",
    "            answer -= arr[i]\n",
    "    return answer\n",
    "\n",
    "\n",
    "# Local Tests\n",
    "#print(calculator(8, 3, [1, 2, 3, 4, 5, 6, 7, 8]))\n",
    "#print(calculator(8, 1, [1, 2, 3, 4, 5, 6, 7, 8]))"
   ]
  },
  {
   "cell_type": "code",
   "execution_count": 59,
   "metadata": {},
   "outputs": [
    {
     "name": "stdout",
     "output_type": "stream",
     "text": [
      "6\n",
      "-4\n"
     ]
    }
   ],
   "source": [
    "def calculator(n, m, ls):\n",
    "    new_lists = [ls[i:i + m] for i in range(0, n, m)]\n",
    "    for i in range(len(new_lists)):\n",
    "        new_lists[i] = sum(new_lists[i])\n",
    "    result = 0\n",
    "    for i in range(len(new_lists)):\n",
    "        if i % 2 == 0:\n",
    "            result += new_lists[i]\n",
    "        else:\n",
    "            result -= new_lists[i]\n",
    "    return result\n",
    "\n",
    "\n",
    "# Local Tests\n",
    "print(calculator(8, 3, [1, 2, 3, 4, 5, 6, 7, 8]))\n",
    "print(calculator(8, 1, [1, 2, 3, 4, 5, 6, 7, 8]))\n"
   ]
  },
  {
   "cell_type": "markdown",
   "metadata": {},
   "source": [
    "# dir()\n",
    "In Python, the dir() function is a built-in function that returns a list of all the valid attributes and methods of an object. \n",
    "The dir() function can be used with any object, including modules, classes, functions, strings, lists, dictionaries, and user-defined objects.\n",
    "\n",
    "Here are some examples of using the dir() function in Python:"
   ]
  },
  {
   "cell_type": "code",
   "execution_count": 5,
   "metadata": {},
   "outputs": [
    {
     "name": "stdout",
     "output_type": "stream",
     "text": [
      "['In', 'Out', 'Person', '_', '_1', '_2', '_3', '_4', '__', '___', '__builtin__', '__builtins__', '__doc__', '__loader__', '__name__', '__package__', '__spec__', '__vsc_ipynb_file__', '_dh', '_i', '_i1', '_i2', '_i3', '_i4', '_i5', '_ih', '_ii', '_iii', '_oh', 'a', 'exit', 'get_ipython', 'open', 'person1', 'quit']\n"
     ]
    }
   ],
   "source": [
    "# Returns the list of names in the current local scope\n",
    "print(dir())\n"
   ]
  },
  {
   "cell_type": "code",
   "execution_count": null,
   "metadata": {},
   "outputs": [],
   "source": [
    "# Example 1: Using dir() with a module\n",
    "import math\n",
    "print(dir(math))\n",
    "\n",
    "# Output:\n",
    "# ['__doc__', '__loader__', '__name__', '__package__', '__spec__', 'acos', 'acosh', 'asin', 'asinh', 'atan', 'atan2', 'atanh', 'ceil', 'comb', 'copysign', 'cos', 'cosh', 'degrees', 'dist', 'e', 'erf', 'erfc', 'exp', 'expm1', 'fabs', 'factorial', 'floor', 'fmod', 'frexp', 'fsum', 'gamma', 'gcd', 'hypot', 'inf', 'isclose', 'isfinite', 'isinf', 'isnan', 'isqrt', 'lcm', 'ldexp', 'lgamma', 'log', 'log10', 'log1p', 'log2', 'modf', 'nan', 'nextafter', 'perm', 'pi', 'pow', 'prod', 'radians', 'remainder', 'sin', 'sinh', 'sqrt', 'tan', 'tanh', 'tau', 'trunc']\n",
    "\n",
    "# Example 2: Using dir() with a class\n",
    "class MyClass:\n",
    "    def __init__(self):\n",
    "        self.my_attribute = 42\n",
    "    \n",
    "    def my_method(self):\n",
    "        pass\n",
    "\n",
    "my_object = MyClass()\n",
    "print(dir(my_object))\n",
    "\n",
    "# Output:\n",
    "# ['__class__', '__delattr__', '__dict__', '__dir__', '__doc__', '__eq__', '__format__', '__ge__', '__getattribute__', '__gt__', '__hash__', '__init__', '__init_subclass__', '__le__', '__lt__', '__module__', '__ne__', '__new__', '__reduce__', '__reduce_ex__', '__repr__', '__setattr__', '__sizeof__', '__str__', '__subclasshook__', '__weakref__', 'my_attribute', 'my_method']\n",
    "\n",
    "# Example 3: Using dir() with a string\n",
    "my_string = \"Hello, world!\"\n",
    "print(dir(my_string))\n",
    "\n",
    "# Output:\n",
    "# ['__add__', '__class__', '__contains__', '__delattr__', '__dir__', '__doc__', '__eq__', '__format__', '__ge__', '__getattribute__', '__getitem__', '__getnewargs__', '__gt__', '__hash__', '__init__', '__init_subclass__', '__iter__', '__le__', '__len__', '__lt__', '__mod__', '__mul__', '__ne__', '__new__', '__reduce__', '__reduce_ex__', '__repr__', '__rmod__', '__rmul__', '__setattr__', '__sizeof__', '__str__', '__subclasshook__', 'capitalize', 'casefold', 'center', 'count', 'encode', 'endswith', 'expandtabs', 'find', 'format', 'format_map', 'index', 'isalnum', 'isalpha', 'isascii', 'isdecimal', 'isdigit', 'isidentifier', 'islower', 'isnumeric', 'isprintable', 'isspace', 'istitle', 'isupper', 'join', 'ljust', 'lower', 'lstrip', 'maketrans', 'partition', 'replace', 'rfind', 'rindex', 'rjust', 'rpartition', 'rsplit', 'rstrip', 'split', 'splitlines', 'startswith', 'strip', 'swapcase', 'title', 'translate', 'upper', 'zfill']\n"
   ]
  },
  {
   "cell_type": "markdown",
   "metadata": {},
   "source": [
    "In the examples above, the output shows all the attributes and methods that can be\n",
    " used with the object. The dir() function is useful for debugging and\n",
    "  exploring the properties of an object."
   ]
  },
  {
   "cell_type": "code",
   "execution_count": null,
   "metadata": {},
   "outputs": [],
   "source": [
    "class Person:\n",
    "    def get(self):\n",
    "        pass\n",
    "    name = \"Baran\"\n",
    "person1 = Person()\n",
    "\n",
    "dir(person1)"
   ]
  },
  {
   "cell_type": "markdown",
   "metadata": {},
   "source": [
    "# type()\n",
    "a review:"
   ]
  },
  {
   "cell_type": "code",
   "execution_count": 8,
   "metadata": {},
   "outputs": [
    {
     "name": "stdout",
     "output_type": "stream",
     "text": [
      "<class 'tuple'>\n",
      "<class 'list'>\n",
      "<class 'dict'>\n",
      "<class 'str'>\n",
      "<class 'float'>\n"
     ]
    }
   ],
   "source": [
    "a = (\"Geeks\", \"for\", \"Geeks\")\n",
    "b = [\"Geeks\", \"for\", \"Geeks\"]\n",
    "c = {\"Geeks\": 1, \"for\":2, \"Geeks\":3}\n",
    "d = \"Hello World\"\n",
    "e = 10.27\n",
    "\n",
    "print(type(a))  # <class 'tuple'>\n",
    "print(type(b))  # <class 'list'>\n",
    "print(type(c))  # <class 'dict'>\n",
    "print(type(d))  # <class 'str'>\n",
    "print(type(e))  # <class 'float'>"
   ]
  },
  {
   "cell_type": "markdown",
   "metadata": {},
   "source": [
    "# Creating a new type object:\n",
    " The type() function can also be used to create a new type object.\n",
    "When three arguments are passed to the type() function, it returns a new type object.\n",
    "The three arguments are name, bases, and dict.\n",
    "# The name argument is the name of the new type, the bases argument is a tuple of other types that this is derived from, and the dict argument is a dictionary of the type attributes or methods and the values to which they should correspond\n",
    "For example:"
   ]
  },
  {
   "cell_type": "code",
   "execution_count": 7,
   "metadata": {},
   "outputs": [
    {
     "name": "stdout",
     "output_type": "stream",
     "text": [
      "<class 'type'>\n"
     ]
    }
   ],
   "source": [
    "BaseClass = type('BaseClass', (), {'a': 100})\n",
    "print(type(BaseClass))  # <class 'type'>"
   ]
  },
  {
   "cell_type": "markdown",
   "metadata": {},
   "source": [
    "In this example, we are creating a new class called BaseClass with no base classes and a dictionary that contains the attribute a with a value of 100. The type() function returns a new type object, which is the type of the BaseClass class."
   ]
  },
  {
   "cell_type": "code",
   "execution_count": null,
   "metadata": {},
   "outputs": [],
   "source": [
    "# Define the class attributes and methods\n",
    "class MyType:\n",
    "    def __init__(self, x):\n",
    "        self.x = x\n",
    "\n",
    "    def my_method(self):\n",
    "        print(\"Hello, world!\")\n",
    "\n",
    "# Create a new type object using the type() function\n",
    "MyNewType = type('MyNewType', (MyType,), {'y': 42})\n",
    "\n",
    "# Create an instance of the new type\n",
    "my_object = MyNewType(10)\n",
    "\n",
    "# Access the attributes and methods of the new type\n",
    "print(my_object.x)  # 10\n",
    "print(my_object.y)  # 42\n",
    "my_object.my_method()  # Hello, world!\n"
   ]
  },
  {
   "cell_type": "markdown",
   "metadata": {},
   "source": [
    "In this example, we define a class called MyType with an __init__ method and a my_method method. We then create a new type object called MyNewType using the type() function, which is derived from the MyType class and has a new attribute y with a value of 42. We create an instance of the new type and access its attributes and methods. The output shows that we can access the attributes and methods of the new type object just like any other Python object"
   ]
  },
  {
   "cell_type": "code",
   "execution_count": null,
   "metadata": {},
   "outputs": [],
   "source": [
    "\n",
    "class Animal:\n",
    "    def __init__(self, name, type):\n",
    "        self.name = name\n",
    "        self.type = type\n",
    "\n",
    "# every object is an instance of 'object' class.\n",
    "issubclass(Animal, object) "
   ]
  },
  {
   "cell_type": "code",
   "execution_count": 2,
   "metadata": {},
   "outputs": [
    {
     "name": "stdout",
     "output_type": "stream",
     "text": [
      "{'apple': 2, 'orange': 1}\n"
     ]
    }
   ],
   "source": [
    "# Quera, Quiz of doreh 1; move khori\n",
    "def good_fruits(fruits_data):\n",
    "    good_fruits_dict = {}\n",
    "    for fruit in fruits_data:\n",
    "        if fruit['shape'] == 'sphere' and 300 <= fruit['mass'] <= 600 and 100 <= fruit['volume'] <= 500:\n",
    "            if fruit['name'] in good_fruits_dict:\n",
    "                good_fruits_dict[fruit['name']] += 1\n",
    "            else:\n",
    "                good_fruits_dict[fruit['name']] = 1\n",
    "    return good_fruits_dict\n",
    "\n",
    "# Example input data (list of dictionaries representing fruits)\n",
    "fruits_data = [\n",
    "    {'name': 'apple', 'shape': 'sphere', 'mass': 400, 'volume': 200},\n",
    "    {'name': 'orange', 'shape': 'sphere', 'mass': 500, 'volume': 300},\n",
    "    {'name': 'banana', 'shape': 'cylinder', 'mass': 200, 'volume': 150},\n",
    "    {'name': 'kiwi', 'shape': 'sphere', 'mass': 700, 'volume': 400},\n",
    "    {'name': 'apple', 'shape': 'sphere', 'mass': 350, 'volume': 250}\n",
    "]\n",
    "\n",
    "# Call the function with the example input data\n",
    "result = good_fruits(fruits_data)\n",
    "print(result)\n"
   ]
  },
  {
   "cell_type": "code",
   "execution_count": 16,
   "metadata": {},
   "outputs": [
    {
     "name": "stdout",
     "output_type": "stream",
     "text": [
      "{'hell': 1, 'friends': 1, 'th': 1, 'is': 2, 'test': 1, 'for': 1, 'your': 1}\n"
     ]
    }
   ],
   "source": [
    "def words_check(text):\n",
    "    good_words = {}\n",
    "    word = \"\"\n",
    "    for char in text:\n",
    "        if char.isalpha():\n",
    "            word += char.lower()\n",
    "        else:\n",
    "            if len(word) >= 2 and word.count(word[0]) <= len(word) / 2:\n",
    "                if word in good_words:\n",
    "                    good_words[word] += 1\n",
    "                else:\n",
    "                    good_words[word] = 1\n",
    "            word = \"\"\n",
    "    if len(word) >= 2 and word.count(word[0]) <= len(word) / 2:\n",
    "        if word in good_words:\n",
    "            good_words[word] += 1\n",
    "        else:\n",
    "            good_words[word] = 1\n",
    "    return good_words\n",
    "\n",
    "# Example input\n",
    "input_text = \"hEll@@@@O M@y FriEnDs!!! th@IS is A tEsT For your #p#r#o#b#l#e#m a\"\n",
    "\n",
    "# Call the function with the example input\n",
    "result = words_check(input_text)\n",
    "print(result)\n"
   ]
  },
  {
   "cell_type": "markdown",
   "metadata": {},
   "source": [
    "# quiz pishnahade mosighi"
   ]
  },
  {
   "cell_type": "code",
   "execution_count": 70,
   "metadata": {},
   "outputs": [
    {
     "data": {
      "text/plain": [
       "37"
      ]
     },
     "execution_count": 70,
     "metadata": {},
     "output_type": "execute_result"
    }
   ],
   "source": [
    "# My answer\n",
    "all_users = {}\n",
    "all_albums = {}\n",
    "\n",
    "# add username to dict of all_users\n",
    "def add_user(username: str, age: int, city: str, albums: list, all_users: dict, all_albums: dict):\n",
    "    all_users[username] = {'age': age, 'city': city, 'albums': albums }\n",
    "\n",
    "# add album_name to dict of all_albums\n",
    "def add_album(name: str, artist_name: str, genre: str, tracks: int, all_users: dict, all_albums: dict):\n",
    "    all_albums[name] = {'artist_name': artist_name, 'genre': genre, 'tracks': tracks}\n",
    "\n",
    "# return nums of tracks buy from an artist \n",
    "def query_user_artist(username: str, artist_name: str, all_users: dict, all_albums: dict) -> int:\n",
    "    ans = 0\n",
    "    for item in all_users[username]['albums']:\n",
    "        if all_albums[item]['artist_name'] == artist_name:\n",
    "            ans += all_albums[item]['tracks'] \n",
    "    return ans\n",
    "\n",
    "# return nums of tracks buy from one genre\n",
    "def query_user_genre(username: str, genre: str, all_users: dict, all_albums: dict) -> int:\n",
    "    ans = 0\n",
    "    for item in all_users[username]['albums']:\n",
    "        if all_albums[item]['genre'] == genre:\n",
    "            ans += all_albums[item]['tracks'] \n",
    "    return ans  \n",
    "# return nums of tracks buy by esp age user\n",
    "def query_age_artist(age: int, artist_name: str, all_users: dict, all_albums: dict) -> int:\n",
    "    ans = 0\n",
    "    for item in all_users:\n",
    "        if all_users[item]['age'] == age:\n",
    "            for item2 in all_users[item]['albums']:\n",
    "                if all_albums[item2]['artist_name'] == artist_name:\n",
    "                    ans += all_albums[item2]['tracks']\n",
    "    return ans\n",
    "           \n",
    "# return nums of tracks buy esp age from esp genre\n",
    "def query_age_genre(age: int, genre: str, all_users: dict, all_albums: dict) -> int:\n",
    "    ans = 0\n",
    "    for item in all_users:\n",
    "        if all_users[item]['age'] == age:\n",
    "            for item2 in all_users[item]['albums']:\n",
    "                if all_albums[item2]['genre'] == genre:\n",
    "                    ans += all_albums[item2]['tracks']\n",
    "    return ans\n",
    "\n",
    "# return nums of tracks buy esp city\n",
    "def query_city_artist(city: str, artist_name: str, all_users: dict, all_albums: dict) -> int:\n",
    "    ans = 0\n",
    "    for item in all_users:\n",
    "        if all_users[item]['city'] == city:\n",
    "            for item2 in all_users[item]['albums']:\n",
    "                if all_albums[item2]['artist_name'] == artist_name:\n",
    "                    ans += all_albums[item2]['tracks']\n",
    "    return ans\n",
    "           \n",
    "# return nums of tracks buy esp city from esp genre\n",
    "def query_city_genre(city: str, genre: str, all_users: dict, all_albums: dict) -> int:\n",
    "    ans = 0\n",
    "    for item in all_users:\n",
    "        if all_users[item]['city'] == city:\n",
    "            for item2 in all_users[item]['albums']:\n",
    "                if all_albums[item2]['genre'] == genre:\n",
    "                    ans += all_albums[item2]['tracks']\n",
    "    return ans\n",
    "\n",
    "# ------------------------------------------------------------------------------------------------ #\n",
    "add_user(\"SAliB\", 19, \"Tehran\", [\"tekunbede\", \"barf\", \"gavazn\"], all_users, all_albums)\n",
    "add_user(\"Saeid\", 22, \"Esfehan\", [\"eclipse\", \"barf\", \"gavazn\"], all_users, all_albums)\n",
    "add_user(\"Ali\", 12, \"Bushehr\", [\"blaze\",\"bidad\", \"blaze\", \"asemoni\"], all_users, all_albums)\n",
    "add_user(\"Baran\", 12, \"Bushehr\", [\"bidad\", \"blaze\"], all_users, all_albums)\n",
    "\n",
    "add_album(\"asemoni\", \"najafzadeh\", \"pop\", 10, all_users, all_albums)\n",
    "add_album(\"eclipse\", \"malmsteen\", \"classic\", 10, all_users, all_albums)\n",
    "add_album(\"barf\", \"beeptunes\", \"pop\", 22, all_users, all_albums)\n",
    "add_album(\"tekunbede\", \"beeptunes\", \"pop\", 14, all_users, all_albums)\n",
    "add_album(\"gavazn\", \"sorena\", \"persian\", 18, all_users, all_albums)\n",
    "add_album(\"bidad\", \"shajarian\", \"classic\", 10, all_users, all_albums)\n",
    "add_album(\"blaze\", \"ghorbani\", \"pop\", 9, all_users, all_albums)\n",
    "\n",
    "query_city_genre(\"Bushehr\", \"pop\", all_users, all_albums)       # \n",
    "query_city_artist(\"Bushehr\", \"ghorbani\", all_users, all_albums) # \n",
    "query_age_artist(12, \"shajarian\", all_users, all_albums)    # \n",
    "query_user_genre(\"Ali\", \"pop\", all_users, all_albums)   # \n",
    "query_user_artist(\"Ali\", \"ghorbani\", all_users, all_albums) # \n",
    "query_age_genre(12, \"pop\", all_users, all_albums)           # \n",
    "#print(all_users)\n",
    "#print(all_albums)\n"
   ]
  },
  {
   "cell_type": "markdown",
   "metadata": {},
   "source": [
    "solution 2"
   ]
  },
  {
   "cell_type": "code",
   "execution_count": null,
   "metadata": {},
   "outputs": [],
   "source": [
    "all_users = {}\n",
    "all_albums = {}\n",
    "\n",
    "def add_user(username, age, city, albums, all_users, all_albums):\n",
    "    all_users[username] = age, city, albums\n",
    "def add_album(album_name, artist_name, genre, tracks, all_users, all_albums):\n",
    "    all_albums[album_name] = artist_name, genre, tracks\n",
    "\n",
    "def query_user_artist(username, artist_name, all_users, all_albums):\n",
    "    b = 0\n",
    "    a = all_users[username][2]\n",
    "    for i in a:\n",
    "        if all_albums[i][0] == artist_name:\n",
    "            b += all_albums[i][2]\n",
    "    return b\n",
    "def query_user_genre(username, genre, all_users, all_albums):\n",
    "    b = 0\n",
    "    a = all_users[username][2]\n",
    "    for i in a:\n",
    "        if all_albums[i][1] == genre:\n",
    "            b += all_albums[i][2]\n",
    "    return b\n",
    "def query_age_artist(age, artist_name, all_users, all_albums):\n",
    "    b = 0\n",
    "    for i in list(all_users):\n",
    "        if all_users[i][0] == age:\n",
    "            a = all_users[i][2]\n",
    "            for j in a:\n",
    "                if all_albums[j][0] == artist_name:\n",
    "                    b += all_albums[j][2]\n",
    "    return b\n",
    "def query_age_genre(age, genre, all_users, all_albums):\n",
    "    b = 0\n",
    "    for i in list(all_users):\n",
    "        if all_users[i][0] == age:\n",
    "            a = all_users[i][2]\n",
    "            for j in a:\n",
    "                if all_albums[j][1] == genre:\n",
    "                    b += all_albums[j][2]\n",
    "    return b\n",
    "def query_city_artist(city, artist_name, all_users, all_albums):\n",
    "    b = 0\n",
    "    for i in list(all_users):\n",
    "        if all_users[i][1] == city:\n",
    "            a = all_users[i][2]\n",
    "            for j in a:\n",
    "                if all_albums[j][0] == artist_name:\n",
    "                    b += all_albums[j][2]\n",
    "    return b\n",
    "def query_city_genre(city, genre, all_users, all_albums):\n",
    "    b = 0\n",
    "    for i in list(all_users):\n",
    "        if all_users[i][1] == city:\n",
    "            a = all_users[i][2]\n",
    "            for j in a:\n",
    "                if all_albums[j][1] == genre:\n",
    "                    b += all_albums[j][2]\n",
    "    return b"
   ]
  },
  {
   "cell_type": "markdown",
   "metadata": {},
   "source": [
    "solution 3"
   ]
  },
  {
   "cell_type": "code",
   "execution_count": null,
   "metadata": {},
   "outputs": [],
   "source": [
    "all_users = {}\n",
    "all_albums = {}\n",
    "\n",
    "\n",
    "def add_user(username: str, age: int, city: str, albums: list, all_users: dict, all_albums: dict):\n",
    "    all_users[username] = [age, city, albums]\n",
    "    pass\n",
    "\n",
    "\n",
    "def add_album(name: str, artist_name: str, genre: str, tracks: int, all_users: dict, all_albums: dict):\n",
    "    all_albums[name] = [artist_name, genre, tracks]\n",
    "    pass\n",
    "\n",
    "\n",
    "def query_user_artist(username: str, artist_name: str, all_users: dict, all_albums: dict) -> int:\n",
    "    res = sum(all_albums[album][2] for album in all_users[username][2] if all_albums[album][0] == artist_name)\n",
    "    return res\n",
    "\n",
    "\n",
    "def query_user_genre(username: str, genre: str, all_users: dict, all_albums: dict) -> int:\n",
    "    res = sum(all_albums[album][2] for album in all_users[username][2] if all_albums[album][1] == genre)\n",
    "    return res\n",
    "\n",
    "\n",
    "def query_age_artist(age: int, artist_name: str, all_users: dict, all_albums: dict) -> int:\n",
    "    res = [\n",
    "        sum([all_albums[album][2] for album in all_users[username][2] if all_albums[album][0] == artist_name])\n",
    "        for username in all_users.keys() if all_users[username][0] == age\n",
    "    ]\n",
    "    return sum(res)\n",
    "\n",
    "\n",
    "def query_age_genre(age: int, genre: str, all_users: dict, all_albums: dict) -> int:\n",
    "    res = [\n",
    "        sum([all_albums[album][2] for album in all_users[username][2] if all_albums[album][1] == genre])\n",
    "        for username in all_users.keys() if all_users[username][0] == age\n",
    "    ]\n",
    "    return sum(res)\n",
    "\n",
    "\n",
    "def query_city_artist(city: str, artist_name: str, all_users: dict, all_albums: dict) -> int:\n",
    "    res = [\n",
    "        sum([all_albums[album][2] for album in all_users[username][2] if all_albums[album][0] == artist_name])\n",
    "        for username in all_users.keys() if all_users[username][1] == city\n",
    "    ]\n",
    "    return sum(res)\n",
    "\n",
    "\n",
    "def query_city_genre(city: str, genre: str, all_users: dict, all_albums: dict) -> int:\n",
    "    res = [\n",
    "        sum([all_albums[album][2] for album in all_users[username][2] if all_albums[album][1] == genre])\n",
    "        for username in all_users.keys() if all_users[username][1] == city\n",
    "    ]\n",
    "    return sum(res)\n",
    "# DO NOT USE YOUR OWN TESTS HERE, USE SAMPLE TEST INSTEAD"
   ]
  },
  {
   "cell_type": "markdown",
   "metadata": {},
   "source": [
    "solution 4"
   ]
  },
  {
   "cell_type": "code",
   "execution_count": null,
   "metadata": {},
   "outputs": [],
   "source": [
    "def add_user(username, age, city, albums, all_users, all_albums):\n",
    "    all_users[username] = {\"age\": age, \"city\": city, \"albums\": albums}\n",
    "\n",
    "def add_album(album_name, artist_name, genre, tracks, all_users, all_albums):\n",
    "    if album_name in all_albums:\n",
    "        all_albums[album_name][\"tracks\"] += tracks\n",
    "    else:\n",
    "        all_albums[album_name] = {\"artist_name\": artist_name, \"genre\": genre, \"tracks\": tracks}\n",
    "\n",
    "def query_user_artist(username, artist_name, all_users, all_albums):\n",
    "    user_albums = all_users[username][\"albums\"]\n",
    "    artist_albums = sum([all_albums[album][\"tracks\"] for album in user_albums if all_albums[album][\"artist_name\"] == artist_name])\n",
    "    return artist_albums\n",
    "\n",
    "def query_user_genre(username, genre, all_users, all_albums):\n",
    "    user_albums = all_users[username][\"albums\"]\n",
    "    genre_albums = sum([all_albums[album][\"tracks\"] for album in user_albums if all_albums[album][\"genre\"] == genre])\n",
    "    return genre_albums\n",
    "\n",
    "def query_age_artist(age, artist_name, all_users, all_albums):\n",
    "    age_users = [user for user in all_users if all_users[user][\"age\"] == age]\n",
    "    artist_albums = sum([all_albums[album][\"tracks\"] for user in age_users for album in all_users[user][\"albums\"] if all_albums[album][\"artist_name\"] == artist_name])\n",
    "    return artist_albums\n",
    "\n",
    "def query_age_genre(age, genre, all_users, all_albums):\n",
    "    age_users = [user for user in all_users if all_users[user][\"age\"] == age]\n",
    "    genre_albums = sum([all_albums[album][\"tracks\"] for user in age_users for album in all_users[user][\"albums\"] if all_albums[album][\"genre\"] == genre])\n",
    "    return genre_albums\n",
    "\n",
    "def query_city_artist(city, artist_name, all_users, all_albums):\n",
    "    city_users = [user for user in all_users if all_users[user][\"city\"] == city]\n",
    "    artist_albums = sum([all_albums[album][\"tracks\"] for user in city_users for album in all_users[user][\"albums\"] if all_albums[album][\"artist_name\"] == artist_name])\n",
    "    return artist_albums\n",
    "\n",
    "def query_city_genre(city, genre, all_users, all_albums):\n",
    "    city_users = [user for user in all_users if all_users[user][\"city\"] == city]\n",
    "    genre_albums = sum([all_albums[album][\"tracks\"] for user in city_users for album in all_users[user][\"albums\"] if all_albums[album][\"genre\"] == genre])\n",
    "    return genre_albums\n"
   ]
  }
 ],
 "metadata": {
  "kernelspec": {
   "display_name": "Python 3",
   "language": "python",
   "name": "python3"
  },
  "language_info": {
   "codemirror_mode": {
    "name": "ipython",
    "version": 3
   },
   "file_extension": ".py",
   "mimetype": "text/x-python",
   "name": "python",
   "nbconvert_exporter": "python",
   "pygments_lexer": "ipython3",
   "version": "3.12.0"
  }
 },
 "nbformat": 4,
 "nbformat_minor": 2
}
