{
 "cells": [
  {
   "cell_type": "markdown",
   "metadata": {},
   "source": [
    "**bool**"
   ]
  },
  {
   "cell_type": "code",
   "execution_count": 1,
   "metadata": {},
   "outputs": [
    {
     "data": {
      "text/plain": [
       "True"
      ]
     },
     "execution_count": 1,
     "metadata": {},
     "output_type": "execute_result"
    }
   ],
   "source": [
    "bool('s')"
   ]
  },
  {
   "cell_type": "code",
   "execution_count": 2,
   "metadata": {},
   "outputs": [
    {
     "data": {
      "text/plain": [
       "True"
      ]
     },
     "execution_count": 2,
     "metadata": {},
     "output_type": "execute_result"
    }
   ],
   "source": [
    "bool(2)"
   ]
  },
  {
   "cell_type": "code",
   "execution_count": 4,
   "metadata": {},
   "outputs": [
    {
     "data": {
      "text/plain": [
       "False"
      ]
     },
     "execution_count": 4,
     "metadata": {},
     "output_type": "execute_result"
    }
   ],
   "source": [
    "bool('')"
   ]
  },
  {
   "cell_type": "code",
   "execution_count": 5,
   "metadata": {},
   "outputs": [
    {
     "data": {
      "text/plain": [
       "True"
      ]
     },
     "execution_count": 5,
     "metadata": {},
     "output_type": "execute_result"
    }
   ],
   "source": [
    "bool(' ')"
   ]
  },
  {
   "cell_type": "code",
   "execution_count": 6,
   "metadata": {},
   "outputs": [
    {
     "data": {
      "text/plain": [
       "True"
      ]
     },
     "execution_count": 6,
     "metadata": {},
     "output_type": "execute_result"
    }
   ],
   "source": [
    "bool([1, 2, 3])"
   ]
  },
  {
   "cell_type": "code",
   "execution_count": 7,
   "metadata": {},
   "outputs": [
    {
     "data": {
      "text/plain": [
       "False"
      ]
     },
     "execution_count": 7,
     "metadata": {},
     "output_type": "execute_result"
    }
   ],
   "source": [
    "bool([])"
   ]
  },
  {
   "cell_type": "code",
   "execution_count": 11,
   "metadata": {},
   "outputs": [
    {
     "data": {
      "text/plain": [
       "False"
      ]
     },
     "execution_count": 11,
     "metadata": {},
     "output_type": "execute_result"
    }
   ],
   "source": [
    "bool(())"
   ]
  },
  {
   "cell_type": "code",
   "execution_count": 12,
   "metadata": {},
   "outputs": [
    {
     "data": {
      "text/plain": [
       "False"
      ]
     },
     "execution_count": 12,
     "metadata": {},
     "output_type": "execute_result"
    }
   ],
   "source": [
    "bool(0)"
   ]
  },
  {
   "cell_type": "markdown",
   "metadata": {},
   "source": [
    "**%**"
   ]
  },
  {
   "cell_type": "code",
   "execution_count": 18,
   "metadata": {},
   "outputs": [
    {
     "name": "stdout",
     "output_type": "stream",
     "text": [
      "12\n",
      "12.600000\n",
      "12.60\n",
      "1.260000e+01\n"
     ]
    }
   ],
   "source": [
    "n = 12.6\n",
    "print('%i' %n)\n",
    "print('%f' %n)\n",
    "print('%.2f' %n)\n",
    "print('%e' %n)"
   ]
  },
  {
   "cell_type": "code",
   "execution_count": 22,
   "metadata": {},
   "outputs": [
    {
     "name": "stdout",
     "output_type": "stream",
     "text": [
      "1.0\n"
     ]
    }
   ],
   "source": [
    "a = float(input())\n",
    "print(a)"
   ]
  },
  {
   "cell_type": "code",
   "execution_count": 19,
   "metadata": {},
   "outputs": [
    {
     "name": "stdout",
     "output_type": "stream",
     "text": [
      " a + b = 5\n"
     ]
    }
   ],
   "source": [
    "a = 2\n",
    "b = 3\n",
    "print(f' a + b = {a + b}')"
   ]
  },
  {
   "cell_type": "code",
   "execution_count": 2,
   "metadata": {},
   "outputs": [
    {
     "name": "stdout",
     "output_type": "stream",
     "text": [
      "salam Py Hello World\n"
     ]
    }
   ],
   "source": [
    "print('salam Py', end = \" \")\n",
    "print('Hello World')"
   ]
  },
  {
   "cell_type": "code",
   "execution_count": 3,
   "metadata": {},
   "outputs": [
    {
     "name": "stdout",
     "output_type": "stream",
     "text": [
      "sum=  5\n"
     ]
    }
   ],
   "source": [
    "a = 2\n",
    "b = 3\n",
    "print('sum = ', a + b)"
   ]
  },
  {
   "cell_type": "code",
   "execution_count": 6,
   "metadata": {},
   "outputs": [
    {
     "name": "stdout",
     "output_type": "stream",
     "text": [
      "Hello  Baran\n"
     ]
    }
   ],
   "source": [
    "name = input('inter ur name')\n",
    "print (\"Hello \", name)"
   ]
  },
  {
   "cell_type": "code",
   "execution_count": 16,
   "metadata": {},
   "outputs": [
    {
     "data": {
      "text/plain": [
       "0"
      ]
     },
     "execution_count": 16,
     "metadata": {},
     "output_type": "execute_result"
    }
   ],
   "source": [
    "a = 3\n",
    "type(a)\n",
    "b = 2.2\n",
    "int(3.3)\n",
    "float('4.5')\n",
    "int(-1.7)\n",
    "int(-0.5)\n"
   ]
  },
  {
   "cell_type": "code",
   "execution_count": 17,
   "metadata": {},
   "outputs": [
    {
     "name": "stdout",
     "output_type": "stream",
     "text": [
      "6\n"
     ]
    }
   ],
   "source": [
    "x = float(input())\n",
    "y = float(input())\n",
    "print(int(x + y))"
   ]
  },
  {
   "cell_type": "code",
   "execution_count": 20,
   "metadata": {},
   "outputs": [
    {
     "name": "stdout",
     "output_type": "stream",
     "text": [
      "Ice\n"
     ]
    }
   ],
   "source": [
    "# Yakhdarchi\n",
    "n = int(input())\n",
    "if n > 100:\n",
    "    print('Steam')\n",
    "elif n < 0:\n",
    "    print('Ice')\n",
    "else:\n",
    "    print('Water')"
   ]
  },
  {
   "cell_type": "code",
   "execution_count": null,
   "metadata": {},
   "outputs": [],
   "source": [
    "#fibonatchi\n",
    "a = 0\n",
    "b = 1\n",
    "while a < 10:\n",
    "    print(a)\n",
    "    a, b = b, a + b"
   ]
  },
  {
   "cell_type": "code",
   "execution_count": null,
   "metadata": {},
   "outputs": [],
   "source": [
    "#odd num < 10\n",
    "x = 0\n",
    "while x < 10:\n",
    "    x += 1\n",
    "    if x % 2 == 0:\n",
    "        continue\n",
    "    else:\n",
    "        print(x)\n",
    "    "
   ]
  },
  {
   "cell_type": "code",
   "execution_count": 26,
   "metadata": {},
   "outputs": [
    {
     "name": "stdout",
     "output_type": "stream",
     "text": [
      "9\n"
     ]
    }
   ],
   "source": [
    "s = 0\n",
    "num = int(input())\n",
    "while num != 0:\n",
    "    s += num\n",
    "    num = int(input())\n",
    "    if num == 0:\n",
    "        break\n",
    "print(s)"
   ]
  },
  {
   "cell_type": "code",
   "execution_count": null,
   "metadata": {},
   "outputs": [],
   "source": [
    "x = 0\n",
    "while True:\n",
    "    x += 1\n",
    "    if x == 20:\n",
    "        break\n",
    "    if x % 2 == 0:\n",
    "        continue\n",
    "    print(x)"
   ]
  },
  {
   "cell_type": "code",
   "execution_count": null,
   "metadata": {},
   "outputs": [],
   "source": [
    "words = [['s', 'a'], ['b','c']]\n",
    "for w in words:\n",
    "    for c in w:\n",
    "        print(c)"
   ]
  },
  {
   "cell_type": "code",
   "execution_count": 30,
   "metadata": {},
   "outputs": [
    {
     "name": "stdout",
     "output_type": "stream",
     "text": [
      "0 1 2 3 4 5 6 7 8 9 "
     ]
    }
   ],
   "source": [
    "for i in range(10):\n",
    "    print (i, end = ' ')\n"
   ]
  },
  {
   "cell_type": "code",
   "execution_count": null,
   "metadata": {},
   "outputs": [],
   "source": []
  },
  {
   "cell_type": "code",
   "execution_count": null,
   "metadata": {},
   "outputs": [],
   "source": [
    "n = int(input())\n",
    "for i in range(1, n+1):\n",
    "    for j in range(1, n+1):\n",
    "        print(i * j, end = ' ')\n",
    "    print()"
   ]
  },
  {
   "cell_type": "code",
   "execution_count": 2,
   "metadata": {},
   "outputs": [
    {
     "name": "stdout",
     "output_type": "stream",
     "text": [
      "28\n"
     ]
    }
   ],
   "source": [
    "i = 1\n",
    "p, d = input().split() #p, d = map(int,input().split())\n",
    "p = int(p)\n",
    "d = int(d)\n",
    "while (d * i) % p > p/2:\n",
    "    i += 1\n",
    "print(d * i)\n",
    "    \n"
   ]
  },
  {
   "cell_type": "code",
   "execution_count": 52,
   "metadata": {},
   "outputs": [
    {
     "data": {
      "text/plain": [
       "'22'"
      ]
     },
     "execution_count": 52,
     "metadata": {},
     "output_type": "execute_result"
    }
   ],
   "source": [
    "def f(n):\n",
    "    return n+n\n",
    "f('2')"
   ]
  },
  {
   "cell_type": "code",
   "execution_count": null,
   "metadata": {},
   "outputs": [],
   "source": [
    "def comb():\n",
    "    # n, k = map(int,input().split())\n",
    "    \n"
   ]
  },
  {
   "cell_type": "code",
   "execution_count": 11,
   "metadata": {},
   "outputs": [
    {
     "name": "stdout",
     "output_type": "stream",
     "text": [
      "0\n"
     ]
    }
   ],
   "source": [
    "import math\n",
    "def f(n,k):\n",
    "\n",
    "    f_n = math.factorial(n)\n",
    "    f_k = math.factorial(k)\n",
    "    d_f = math.factorial(abs(n-k))\n",
    "    result = int(f_n /(d_f * f_k))\n",
    "    print(result)\n",
    "f(5,7)"
   ]
  },
  {
   "cell_type": "markdown",
   "metadata": {},
   "source": [
    "try and exception syntax:\n",
    "The try block lets you test a block of code for errors.\n",
    "\n",
    "The except block lets you handle the error.\n",
    "\n",
    "The else block lets you execute code when there is no error.\n",
    "\n",
    "The finally block lets you execute code, regardless of the result of the try- and except blocks."
   ]
  },
  {
   "cell_type": "code",
   "execution_count": 13,
   "metadata": {},
   "outputs": [
    {
     "name": "stdout",
     "output_type": "stream",
     "text": [
      "error, exception occurred\n",
      "finished\n"
     ]
    }
   ],
   "source": [
    "# try and exception function\n",
    "try:\n",
    "    print(x)\n",
    "except:\n",
    "    print('error, exception occurred')\n",
    "finally:  # or we can use \"else\": \n",
    "    print('nothing went wrong!')"
   ]
  },
  {
   "cell_type": "markdown",
   "metadata": {},
   "source": [
    "math library:"
   ]
  },
  {
   "cell_type": "code",
   "execution_count": null,
   "metadata": {},
   "outputs": [],
   "source": [
    "print(round(8.7))\n",
    "\n",
    "import math\n",
    "print(math.ceil(2.77))\n",
    "print(math.floor(2.77))\n",
    "print(math.floor(-5.2))  # -6\n",
    "print(math.fabs(-5.2))  \n",
    "print(math.ceil(-5.2))   # -5\n",
    "print(math.ceil(-5.2))   # -5\n",
    "print(math.factorial(4))  \n",
    "print(math.gcd(8,12))  \n",
    "print(\".................................\")\n",
    "\n",
    "print(math.pow(2,3))\n",
    "print(math.log(3))\n",
    "print(math.log(10,2))\n",
    "print(math.sqrt(8))\n",
    "print(math.sin(5))\n",
    "print(math.sin(5))\n",
    "print(math.pi)"
   ]
  },
  {
   "cell_type": "code",
   "execution_count": null,
   "metadata": {},
   "outputs": [],
   "source": [
    "# an example\n",
    "\n",
    "import math\n",
    "x = int(input())\n",
    "y = math.floor(math.pow(math.e, math.asin(math.pow(math.cos(math.radians(x)), 2))))\n",
    "print(math.gcd(x, y))"
   ]
  },
  {
   "cell_type": "code",
   "execution_count": 5,
   "metadata": {},
   "outputs": [
    {
     "name": "stdout",
     "output_type": "stream",
     "text": [
      "2\n"
     ]
    }
   ],
   "source": [
    "x = int(input())\n",
    "import math\n",
    "x1 = math.radians(x)\n",
    "a = math.ceil((math.pow(x,(5/3))+math.tan(x1)))\n",
    "b = math.floor(math.pow(math.pi,(2+math.atan(math.pow(math.sin(x1),2)))))\n",
    "result = math.gcd(a,b)\n",
    "print(result)\n"
   ]
  },
  {
   "cell_type": "code",
   "execution_count": 3,
   "metadata": {},
   "outputs": [
    {
     "data": {
      "text/plain": [
       "15"
      ]
     },
     "execution_count": 3,
     "metadata": {},
     "output_type": "execute_result"
    }
   ],
   "source": [
    "import math\n",
    "x = int(input())\n",
    "x1 = math.radians(x)\n",
    "a = math.ceil(math.pow(x,(5/3))+math.tan(x1))\n",
    "math.tan(x)\n",
    "a\n"
   ]
  },
  {
   "cell_type": "markdown",
   "metadata": {},
   "source": [
    "library datetime"
   ]
  },
  {
   "cell_type": "code",
   "execution_count": 15,
   "metadata": {},
   "outputs": [
    {
     "name": "stdout",
     "output_type": "stream",
     "text": [
      "-------------------------\n",
      "19\n",
      "2023-10-11 19:53:03.961934\n"
     ]
    }
   ],
   "source": [
    "from datetime import time\n",
    "t = time(12, 13, 14)\n",
    "t.hour\n",
    "t.minute\n",
    "t.second\n",
    "type(t)\n",
    "print('-------------------------')\n",
    "\n",
    "\n",
    "from datetime import date\n",
    "d = date(2023, 12, 23)\n",
    "d.year\n",
    "d.month\n",
    "# d.year = 2022 # error readable only\n",
    "\n",
    "from datetime import datetime\n",
    "dt = datetime(2023, 10, 11, 19, 50)\n",
    "print(dt.hour)\n",
    "print(datetime.now())"
   ]
  },
  {
   "cell_type": "markdown",
   "metadata": {},
   "source": [
    "calculate days of old"
   ]
  },
  {
   "cell_type": "markdown",
   "metadata": {},
   "source": [
    "calculate days of one date , by perplexity AI:"
   ]
  },
  {
   "cell_type": "code",
   "execution_count": 6,
   "metadata": {},
   "outputs": [
    {
     "name": "stdout",
     "output_type": "stream",
     "text": [
      "You are -1 years, 11 months, and 1 days old.\n",
      "That's a total of -30 days!\n"
     ]
    }
   ],
   "source": [
    "from datetime import date\n",
    "\n",
    "# Prompt the user for their birthdate\n",
    "birthdate_str = input(\"Enter your birthdate (YYYY-MM-DD): \")\n",
    "\n",
    "# Convert the birthdate string to a date object\n",
    "birthdate = date.fromisoformat(birthdate_str)\n",
    "\n",
    "# Calculate the age in years, months, and days\n",
    "today = date(1999, 1, 14)\n",
    "age_years = today.year - birthdate.year\n",
    "age_months = today.month - birthdate.month\n",
    "age_days = today.day - birthdate.day\n",
    "\n",
    "# Adjust the age if necessary\n",
    "if age_days < 0:\n",
    "    # Borrow a month from the age\n",
    "    age_months -= 1\n",
    "    # Calculate the number of days in the borrowed month\n",
    "    days_in_month = (today.replace(day=1) - date(today.year, today.month - 1, 1)).days\n",
    "    age_days += days_in_month\n",
    "if age_months < 0:\n",
    "    # Borrow a year from the age\n",
    "    age_years -= 1\n",
    "    age_months += 12\n",
    "\n",
    "# Calculate the total number of days old\n",
    "days_old = (today - birthdate).days\n",
    "\n",
    "# Print the age and days old\n",
    "print(f\"You are {age_years} years, {age_months} months, and {age_days} days old.\")\n",
    "print(f\"That's a total of {days_old} days!\")"
   ]
  },
  {
   "cell_type": "markdown",
   "metadata": {},
   "source": [
    "input: a date, output:days pass:"
   ]
  },
  {
   "cell_type": "code",
   "execution_count": 14,
   "metadata": {},
   "outputs": [
    {
     "data": {
      "text/plain": [
       "31"
      ]
     },
     "execution_count": 14,
     "metadata": {},
     "output_type": "execute_result"
    }
   ],
   "source": [
    "def day_calculator(d):         # d = input('enter date yyyy-mm-dd')\n",
    "    # This library needed:\n",
    "    from datetime import date\n",
    "    from datetime import datetime\n",
    "\n",
    "    # Convert the birthdate string to a date object\n",
    "    d = datetime.strptime(d, '%Y-%m-%d') #d = date.fromisoformat(d)\n",
    "\n",
    "    days_m = 0\n",
    "\n",
    "    # Calculate the days in month\n",
    "    for i in range (1, d.month):\n",
    "        if d.month == 1 :\n",
    "            break\n",
    "        if i in [1, 3, 5, 7, 8, 10, 12]:\n",
    "            days_m += 31\n",
    "        elif i in [4, 6, 9, 11]:\n",
    "            days_m += 30\n",
    "        else:\n",
    "            days_m += 28\n",
    "\n",
    "    total_days = d.year * 365 + d.year//4 + days_m + d.day \n",
    "\n",
    "    date_born = date(1999, 1, 14)\n",
    "    total_days_born = date_born.year * 365 + date_born.year // 4 + 14   \n",
    "\n",
    "    # Calculate number of days old\n",
    "    dif_days = total_days - total_days_born\n",
    "    if dif_days > 0:\n",
    "        return dif_days\n",
    "    else:\n",
    "        return 'Not yet born'\n",
    "day_calculator('1999-02-14')"
   ]
  },
  {
   "cell_type": "code",
   "execution_count": 45,
   "metadata": {},
   "outputs": [
    {
     "name": "stdout",
     "output_type": "stream",
     "text": [
      "2\n",
      "True\n"
     ]
    }
   ],
   "source": [
    "print(a := 2)\n",
    "print(a := True)\n"
   ]
  },
  {
   "cell_type": "markdown",
   "metadata": {},
   "source": []
  },
  {
   "cell_type": "code",
   "execution_count": 48,
   "metadata": {},
   "outputs": [
    {
     "name": "stdout",
     "output_type": "stream",
     "text": [
      "d\n"
     ]
    }
   ],
   "source": [
    "name = input('enter ur name:\\n\n",
    "             ' )\n",
    "print(name)"
   ]
  },
  {
   "cell_type": "code",
   "execution_count": 36,
   "metadata": {},
   "outputs": [
    {
     "name": "stdout",
     "output_type": "stream",
     "text": [
      "00004\n",
      "1\n"
     ]
    }
   ],
   "source": [
    "n = 4\n",
    "print(f'{n:05d}')  # 5 digit \n",
    "print(n %3)"
   ]
  },
  {
   "cell_type": "code",
   "execution_count": 43,
   "metadata": {},
   "outputs": [
    {
     "name": "stdout",
     "output_type": "stream",
     "text": [
      "b\n",
      "a\n"
     ]
    }
   ],
   "source": [
    "def f():\n",
    "    pass\n",
    "    print('b')\n",
    "f()\n",
    "print('a')\n"
   ]
  },
  {
   "cell_type": "code",
   "execution_count": 1,
   "metadata": {},
   "outputs": [
    {
     "name": "stdout",
     "output_type": "stream",
     "text": [
      "1 2 3\n",
      "1 2 3\n",
      "a b c\n"
     ]
    }
   ],
   "source": [
    "print(*[1, 2, 3])\n",
    "\n",
    "print(*(1, 2, 3))\n",
    "\n",
    "print(*{'a': 1, 'b': 2, 'c': 3})\n"
   ]
  },
  {
   "cell_type": "code",
   "execution_count": null,
   "metadata": {},
   "outputs": [],
   "source": [
    "a = int(input())\n",
    "if a not in [2, 3]:\n",
    "    print(a)\n",
    "else:\n",
    "    print('none')"
   ]
  },
  {
   "cell_type": "markdown",
   "metadata": {},
   "source": [
    "# .endswith()"
   ]
  },
  {
   "cell_type": "code",
   "execution_count": null,
   "metadata": {},
   "outputs": [],
   "source": [
    "file = 'abc.jpg'\n",
    "file.endswith('.jpg')"
   ]
  },
  {
   "cell_type": "markdown",
   "metadata": {},
   "source": [
    "# dir()\n",
    "In Python, the dir() function is a built-in function that returns a list of all the valid attributes and methods of an object. \n",
    "The dir() function can be used with any object, including modules, classes, functions, strings, lists, dictionaries, and user-defined objects.\n",
    "\n",
    "Here are some examples of using the dir() function in Python:"
   ]
  },
  {
   "cell_type": "code",
   "execution_count": 5,
   "metadata": {},
   "outputs": [
    {
     "name": "stdout",
     "output_type": "stream",
     "text": [
      "['In', 'Out', 'Person', '_', '_1', '_2', '_3', '_4', '__', '___', '__builtin__', '__builtins__', '__doc__', '__loader__', '__name__', '__package__', '__spec__', '__vsc_ipynb_file__', '_dh', '_i', '_i1', '_i2', '_i3', '_i4', '_i5', '_ih', '_ii', '_iii', '_oh', 'a', 'exit', 'get_ipython', 'open', 'person1', 'quit']\n"
     ]
    }
   ],
   "source": [
    "# Returns the list of names in the current local scope\n",
    "print(dir())\n"
   ]
  },
  {
   "cell_type": "code",
   "execution_count": null,
   "metadata": {},
   "outputs": [],
   "source": [
    "# Example 1: Using dir() with a module\n",
    "import math\n",
    "print(dir(math))\n",
    "\n",
    "# Output:\n",
    "# ['__doc__', '__loader__', '__name__', '__package__', '__spec__', 'acos', 'acosh', 'asin', 'asinh', 'atan', 'atan2', 'atanh', 'ceil', 'comb', 'copysign', 'cos', 'cosh', 'degrees', 'dist', 'e', 'erf', 'erfc', 'exp', 'expm1', 'fabs', 'factorial', 'floor', 'fmod', 'frexp', 'fsum', 'gamma', 'gcd', 'hypot', 'inf', 'isclose', 'isfinite', 'isinf', 'isnan', 'isqrt', 'lcm', 'ldexp', 'lgamma', 'log', 'log10', 'log1p', 'log2', 'modf', 'nan', 'nextafter', 'perm', 'pi', 'pow', 'prod', 'radians', 'remainder', 'sin', 'sinh', 'sqrt', 'tan', 'tanh', 'tau', 'trunc']\n",
    "\n",
    "# Example 2: Using dir() with a class\n",
    "class MyClass:\n",
    "    def __init__(self):\n",
    "        self.my_attribute = 42\n",
    "    \n",
    "    def my_method(self):\n",
    "        pass\n",
    "\n",
    "my_object = MyClass()\n",
    "print(dir(my_object))\n",
    "\n",
    "# Output:\n",
    "# ['__class__', '__delattr__', '__dict__', '__dir__', '__doc__', '__eq__', '__format__', '__ge__', '__getattribute__', '__gt__', '__hash__', '__init__', '__init_subclass__', '__le__', '__lt__', '__module__', '__ne__', '__new__', '__reduce__', '__reduce_ex__', '__repr__', '__setattr__', '__sizeof__', '__str__', '__subclasshook__', '__weakref__', 'my_attribute', 'my_method']\n",
    "\n",
    "# Example 3: Using dir() with a string\n",
    "my_string = \"Hello, world!\"\n",
    "print(dir(my_string))\n",
    "\n",
    "# Output:\n",
    "# ['__add__', '__class__', '__contains__', '__delattr__', '__dir__', '__doc__', '__eq__', '__format__', '__ge__', '__getattribute__', '__getitem__', '__getnewargs__', '__gt__', '__hash__', '__init__', '__init_subclass__', '__iter__', '__le__', '__len__', '__lt__', '__mod__', '__mul__', '__ne__', '__new__', '__reduce__', '__reduce_ex__', '__repr__', '__rmod__', '__rmul__', '__setattr__', '__sizeof__', '__str__', '__subclasshook__', 'capitalize', 'casefold', 'center', 'count', 'encode', 'endswith', 'expandtabs', 'find', 'format', 'format_map', 'index', 'isalnum', 'isalpha', 'isascii', 'isdecimal', 'isdigit', 'isidentifier', 'islower', 'isnumeric', 'isprintable', 'isspace', 'istitle', 'isupper', 'join', 'ljust', 'lower', 'lstrip', 'maketrans', 'partition', 'replace', 'rfind', 'rindex', 'rjust', 'rpartition', 'rsplit', 'rstrip', 'split', 'splitlines', 'startswith', 'strip', 'swapcase', 'title', 'translate', 'upper', 'zfill']\n"
   ]
  },
  {
   "cell_type": "markdown",
   "metadata": {},
   "source": [
    "In the examples above, the output shows all the attributes and methods that can be\n",
    " used with the object. The dir() function is useful for debugging and\n",
    "  exploring the properties of an object."
   ]
  },
  {
   "cell_type": "code",
   "execution_count": null,
   "metadata": {},
   "outputs": [],
   "source": [
    "class Person:\n",
    "    def get(self):\n",
    "        pass\n",
    "    name = \"Baran\"\n",
    "person1 = Person()\n",
    "\n",
    "dir(person1)"
   ]
  },
  {
   "cell_type": "markdown",
   "metadata": {},
   "source": [
    "# type()\n",
    "a review:"
   ]
  },
  {
   "cell_type": "code",
   "execution_count": null,
   "metadata": {},
   "outputs": [],
   "source": [
    "a = (\"Geeks\", \"for\", \"Geeks\")\n",
    "b = [\"Geeks\", \"for\", \"Geeks\"]\n",
    "c = {\"Geeks\": 1, \"for\":2, \"Geeks\":3}\n",
    "d = \"Hello World\"\n",
    "e = 10.27\n",
    "\n",
    "print(type(a))  # <class 'tuple'>\n",
    "print(type(b))  # <class 'list'>\n",
    "print(type(c))  # <class 'dict'>\n",
    "print(type(d))  # <class 'str'>\n",
    "print(type(e))  # <class 'float'>"
   ]
  },
  {
   "cell_type": "markdown",
   "metadata": {},
   "source": [
    "# Creating a new type object:\n",
    " The type() function can also be used to create a new type object.\n",
    "When three arguments are passed to the type() function, it returns a new type object.\n",
    "The three arguments are name, bases, and dict.\n",
    "# The name argument is the name of the new type, the bases argument is a tuple of other types that this is derived from, and the dict argument is a dictionary of the type attributes or methods and the values to which they should correspond\n",
    "For example:"
   ]
  },
  {
   "cell_type": "code",
   "execution_count": 8,
   "metadata": {},
   "outputs": [
    {
     "name": "stdout",
     "output_type": "stream",
     "text": [
      "<class 'type'>\n"
     ]
    }
   ],
   "source": [
    "BaseClass = type('BaseClass', (), {'a': 100})\n",
    "print(type(BaseClass))  # <class 'type'>"
   ]
  },
  {
   "cell_type": "markdown",
   "metadata": {},
   "source": [
    "In this example, we are creating a new class called BaseClass with no base classes and a dictionary that contains the attribute a with a value of 100. The type() function returns a new type object, which is the type of the BaseClass class."
   ]
  },
  {
   "cell_type": "code",
   "execution_count": null,
   "metadata": {},
   "outputs": [],
   "source": [
    "# Define the class attributes and methods\n",
    "class MyType:\n",
    "    def __init__(self, x):\n",
    "        self.x = x\n",
    "\n",
    "    def my_method(self):\n",
    "        print(\"Hello, world!\")\n",
    "\n",
    "# Create a new type object using the type() function\n",
    "MyNewType = type('MyNewType', (MyType,), {'y': 42})\n",
    "\n",
    "# Create an instance of the new type\n",
    "my_object = MyNewType(10)\n",
    "\n",
    "# Access the attributes and methods of the new type\n",
    "print(my_object.x)  # 10\n",
    "print(my_object.y)  # 42\n",
    "my_object.my_method()  # Hello, world!\n"
   ]
  },
  {
   "cell_type": "markdown",
   "metadata": {},
   "source": [
    "In this example, we define a class called MyType with an __init__ method and a my_method method. We then create a new type object called MyNewType using the type() function, which is derived from the MyType class and has a new attribute y with a value of 42. We create an instance of the new type and access its attributes and methods. The output shows that we can access the attributes and methods of the new type object just like any other Python object"
   ]
  },
  {
   "cell_type": "code",
   "execution_count": 11,
   "metadata": {},
   "outputs": [
    {
     "data": {
      "text/plain": [
       "True"
      ]
     },
     "execution_count": 11,
     "metadata": {},
     "output_type": "execute_result"
    }
   ],
   "source": [
    "\n",
    "class Animal:\n",
    "    def __init__(self, name, type):\n",
    "        self.name = name\n",
    "        self.type = type\n",
    "\n",
    "# every object is an instance of 'object' class.\n",
    "issubclass(Animal, object) "
   ]
  }
 ],
 "metadata": {
  "kernelspec": {
   "display_name": "Python 3",
   "language": "python",
   "name": "python3"
  },
  "language_info": {
   "codemirror_mode": {
    "name": "ipython",
    "version": 3
   },
   "file_extension": ".py",
   "mimetype": "text/x-python",
   "name": "python",
   "nbconvert_exporter": "python",
   "pygments_lexer": "ipython3",
   "version": "3.12.0"
  }
 },
 "nbformat": 4,
 "nbformat_minor": 2
}
