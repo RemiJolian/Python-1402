{
 "cells": [
  {
   "cell_type": "markdown",
   "metadata": {},
   "source": [
    "# Called double Under Square or Dunder or Magic Methods.\n",
    "__methods__"
   ]
  },
  {
   "cell_type": "code",
   "execution_count": null,
   "metadata": {},
   "outputs": [],
   "source": [
    "\n",
    "class Movie:\n",
    "    def __init__(self, name, release_year):\n",
    "        self.name = name\n",
    "        self.release_year = release_year\n",
    "\n",
    "My_movie = Movie('Fight Club', 1999)\n",
    "\n",
    "#A list of all property of object that is magic method\n",
    "dir(My_movie)"
   ]
  },
  {
   "cell_type": "markdown",
   "metadata": {},
   "source": [
    "# what is dir() above?\n",
    "The dir() function in Python is a built-in function that returns a list of all the valid attributes and methods of an object. The dir() function can be used with any object, including modules, classes, functions, strings, lists, dictionaries, and user-defined objects."
   ]
  },
  {
   "cell_type": "code",
   "execution_count": 13,
   "metadata": {},
   "outputs": [
    {
     "name": "stdout",
     "output_type": "stream",
     "text": [
      "<__main__.Movie object at 0x000001E6C5058FE0>\n"
     ]
    }
   ],
   "source": [
    "print(My_movie)"
   ]
  },
  {
   "cell_type": "code",
   "execution_count": 11,
   "metadata": {},
   "outputs": [
    {
     "name": "stdout",
     "output_type": "stream",
     "text": [
      "['__abs__', '__add__', '__and__', '__bool__', '__ceil__', '__class__', '__delattr__', '__dir__', '__divmod__', '__doc__', '__eq__', '__float__', '__floor__', '__floordiv__', '__format__', '__ge__', '__getattribute__', '__getnewargs__', '__getstate__', '__gt__', '__hash__', '__index__', '__init__', '__init_subclass__', '__int__', '__invert__', '__le__', '__lshift__', '__lt__', '__mod__', '__mul__', '__ne__', '__neg__', '__new__', '__or__', '__pos__', '__pow__', '__radd__', '__rand__', '__rdivmod__', '__reduce__', '__reduce_ex__', '__repr__', '__rfloordiv__', '__rlshift__', '__rmod__', '__rmul__', '__ror__', '__round__', '__rpow__', '__rrshift__', '__rshift__', '__rsub__', '__rtruediv__', '__rxor__', '__setattr__', '__sizeof__', '__str__', '__sub__', '__subclasshook__', '__truediv__', '__trunc__', '__xor__', 'as_integer_ratio', 'bit_count', 'bit_length', 'conjugate', 'denominator', 'from_bytes', 'imag', 'is_integer', 'numerator', 'real', 'to_bytes']\n"
     ]
    }
   ],
   "source": [
    "a = 2\n",
    "print(dir(a))"
   ]
  },
  {
   "cell_type": "markdown",
   "metadata": {},
   "source": [
    "# above:\n",
    " the dir() function is used to return a list of all the valid attributes and methods of the integer object a. The output of the dir() function shows all the attributes and methods that can be used with the integer object"
   ]
  },
  {
   "cell_type": "markdown",
   "metadata": {},
   "source": [
    "# __st__()"
   ]
  },
  {
   "cell_type": "markdown",
   "metadata": {},
   "source": [
    "In Python, __str__() is a special method that is used to define the string representation of an object.\n",
    "It is called by the str() function and by the print() function when you try to convert an object to a string. The __str__() method should return a string that represents the object in a human-readable format"
   ]
  },
  {
   "cell_type": "code",
   "execution_count": null,
   "metadata": {},
   "outputs": [],
   "source": [
    "#first see:\n",
    "class A:\n",
    "    def __init__(self)        :\n",
    "        self.lst = [25, 89, 98]\n",
    "    # def __str__(self):\n",
    "    #     return str(self.lst)\n",
    "        \n",
    "ob = A()\n",
    "print(ob.lst)   \n",
    "print(ob)  "
   ]
  },
  {
   "cell_type": "code",
   "execution_count": 20,
   "metadata": {},
   "outputs": [
    {
     "name": "stdout",
     "output_type": "stream",
     "text": [
      "[25, 89, 98]\n",
      "[25, 89, 98]\n"
     ]
    }
   ],
   "source": [
    "class A:\n",
    "    def __init__(self)        :\n",
    "        self.lst = [25, 89, 98]\n",
    "    def __str__(self):\n",
    "         return str(self.lst)\n",
    "        \n",
    "ob = A()\n",
    "print(ob.lst)   # or:\n",
    "print(ob) \n",
    "#print(type(ob))      \n",
    "#print(type(ob.lst))   "
   ]
  },
  {
   "cell_type": "code",
   "execution_count": 21,
   "metadata": {},
   "outputs": [
    {
     "name": "stdout",
     "output_type": "stream",
     "text": [
      "a red car\n"
     ]
    }
   ],
   "source": [
    "class Car:\n",
    "    def __init__(self, color, mileage):\n",
    "        self.color = color\n",
    "        self.mileage = mileage\n",
    "\n",
    "    def __str__(self):\n",
    "        return 'a {self.color} car'.format(self=self)\n",
    "\n",
    "my_car = Car('red', 10000)\n",
    "print(str(my_car))  "
   ]
  },
  {
   "cell_type": "code",
   "execution_count": 33,
   "metadata": {},
   "outputs": [
    {
     "name": "stdout",
     "output_type": "stream",
     "text": [
      "Fight Club\n"
     ]
    }
   ],
   "source": [
    "class Movie:\n",
    "    def __init__(self, name, release_year):\n",
    "        self.name = name\n",
    "        self.release_year = release_year\n",
    "\n",
    "    def __str__(self):\n",
    "        return self.name\n",
    "\n",
    "My_movie = Movie('Fight Club', 1999)\n",
    "\n",
    "My_movie.__str__()   # 'Fight Club'\n",
    "str(My_movie)        # 'Fight Club'\n",
    "print(My_movie)      # Fight Club\n"
   ]
  },
  {
   "cell_type": "markdown",
   "metadata": {},
   "source": [
    "# __lt__()\n",
    "\n",
    "In Python, __lt__() is a special method that is used to define the behavior of the less-than operator (<).\n",
    "It is called by the < operator and by functions that compare objects using the < operator, such as sorted(). The __lt__() method should return True if the object is less than the other object, and False otherwise"
   ]
  },
  {
   "cell_type": "code",
   "execution_count": 34,
   "metadata": {},
   "outputs": [
    {
     "name": "stdout",
     "output_type": "stream",
     "text": [
      "car1 has lower mileage than car2\n"
     ]
    }
   ],
   "source": [
    "class Car:\n",
    "    def __init__(self, color, mileage):\n",
    "        self.color = color\n",
    "        self.mileage = mileage\n",
    "\n",
    "    def __lt__(self, other):\n",
    "        return self.mileage < other.mileage\n",
    "\n",
    "car1 = Car('red', 10000)\n",
    "car2 = Car('blue', 20000)\n",
    "\n",
    "if car1 < car2:\n",
    "    print(\"car1 has lower mileage than car2\")\n",
    "else:\n",
    "    print(\"car1 has higher mileage than car2\")\n"
   ]
  },
  {
   "cell_type": "code",
   "execution_count": 35,
   "metadata": {},
   "outputs": [
    {
     "data": {
      "text/plain": [
       "False"
      ]
     },
     "execution_count": 35,
     "metadata": {},
     "output_type": "execute_result"
    }
   ],
   "source": [
    "class Movie:\n",
    "    def __init__(self, name, release_year):\n",
    "        self.name = name\n",
    "        self.release_year = release_year\n",
    "\n",
    "    def __str__(self):\n",
    "        return self.name\n",
    "\n",
    "    def __lt__(self, other_object):\n",
    "        return self.release_year < other_object.release_year \n",
    "    \n",
    "hangover = Movie('Hangover', 2009)\n",
    "se7en = Movie('ُSe7en', 1995)\n",
    "\n",
    "se7en.__lt__(hangover)      # True\n",
    "\n",
    "se7en < hangover            # True\n",
    "\n",
    "hangover.__lt__(se7en)      # False\n",
    "\n",
    "hangover < se7en\n"
   ]
  },
  {
   "cell_type": "markdown",
   "metadata": {},
   "source": [
    "# __cal__:\n",
    "In Python, __call__() is a special method that enables instances of a class to behave like functions and be called like functions"
   ]
  },
  {
   "cell_type": "code",
   "execution_count": null,
   "metadata": {},
   "outputs": [],
   "source": [
    "class C:\n",
    "    def __init__(self, size , x, y):\n",
    "        self.size = size\n",
    "        self.x = x\n",
    "        self.y = y\n",
    "        \n",
    "        \n",
    "    def __call__(self, x, y):\n",
    "        self.x = x\n",
    "        self.y = y\n",
    "    \n",
    "ob = C(300, 10 , 20) \n",
    "print(ob.size) # 300\n",
    "print(ob.x)    # 10\n",
    "print(ob.y)    # 20\n",
    " \n",
    "ob(30,50) \n",
    "\n",
    "print(ob.size) # 300 \n",
    "print(ob.x)    # 30\n",
    "print(ob.y)    # 50"
   ]
  },
  {
   "cell_type": "code",
   "execution_count": 36,
   "metadata": {},
   "outputs": [
    {
     "name": "stdout",
     "output_type": "stream",
     "text": [
      "30\n"
     ]
    }
   ],
   "source": [
    "class MyCallable:\n",
    "    def __init__(self, x):\n",
    "        self.x = x\n",
    "\n",
    "    def __call__(self, y):\n",
    "        return self.x + y\n",
    "\n",
    "my_callable = MyCallable(10)\n",
    "result = my_callable(20)\n",
    "print(result)  # 30"
   ]
  },
  {
   "cell_type": "code",
   "execution_count": 40,
   "metadata": {},
   "outputs": [
    {
     "name": "stdout",
     "output_type": "stream",
     "text": [
      "Say Hello to My Little Friend!😈\n",
      "1983\n"
     ]
    }
   ],
   "source": [
    "class Movie:\n",
    "    def __init__(self, name, release_year):\n",
    "        self.name = name\n",
    "        self.release_year = release_year\n",
    "\n",
    "    def __str__(self):\n",
    "        return self.name\n",
    "\n",
    "    def __lt__(self, other_object):\n",
    "        return self.release_year < other_object.release_year \n",
    "\n",
    "    def __call__(self):\n",
    "        return 'Say Hello to My Little Friend!😈'\n",
    "    \n",
    "scarface = Movie('Scarface', 1983)\n",
    "\n",
    "print(scarface.release_year)\n",
    "scarface()   # or  scarface.__call__()"
   ]
  },
  {
   "cell_type": "code",
   "execution_count": 41,
   "metadata": {},
   "outputs": [
    {
     "name": "stdout",
     "output_type": "stream",
     "text": [
      "(3, 7)\n"
     ]
    }
   ],
   "source": [
    "class Complex:  \n",
    "    \n",
    "    def __init__(self, a, b):\n",
    "        self.a = a         # a + bi\n",
    "        self.b = b\n",
    "     \n",
    "    def __add__(self, o):\n",
    "        x = self.a + o.a\n",
    "        y = self.b + o.b\n",
    "        return x, y\n",
    "        \n",
    "ob1 = Complex(1, 3)    \t    # 1 + 3i\n",
    "ob2 = Complex(2, 4)         # 2 + 4i\n",
    "ob3 = ob1 + ob2\n",
    "print(ob3)                  # (3, 7)"
   ]
  },
  {
   "cell_type": "code",
   "execution_count": null,
   "metadata": {},
   "outputs": [],
   "source": [
    "class FootballTeam:\n",
    "    def __init__(self, name, cups_number):\n",
    "        self.name = name\n",
    "        self.cups_number = cups_number\n",
    "\n",
    "    def __add__(self, other_object):\n",
    "        return self.cups_number + other_object.cups_number\n",
    "    \n",
    "\n",
    "bayern_munich = FootballTeam('FC Bayern Munich', 6)\n",
    "barcelona = FootballTeam('FC Barcelona', 5)\n",
    "\n",
    "bayern_munich + barcelona"
   ]
  },
  {
   "cell_type": "markdown",
   "metadata": {},
   "source": [
    "# __len__()\n",
    "In Python, __len__() is a special method that is used to define the behavior of the built-in len() function.\n",
    "It is called by the len() function and by other built-in functions that need to know how many items are in a container. The __len__() method should return an integer that represents the number of items in the container."
   ]
  },
  {
   "cell_type": "code",
   "execution_count": null,
   "metadata": {},
   "outputs": [],
   "source": [
    "class MyList:\n",
    "    def __init__(self, items):\n",
    "        self.items = items\n",
    "\n",
    "    def __len__(self):\n",
    "        return len(self.items)\n",
    "\n",
    "my_list = MyList([1, 2, 3, 4, 5])\n",
    "print(len(my_list))  # 5\n"
   ]
  },
  {
   "cell_type": "markdown",
   "metadata": {},
   "source": [
    "only non-iterative character: "
   ]
  },
  {
   "cell_type": "code",
   "execution_count": 43,
   "metadata": {},
   "outputs": [
    {
     "data": {
      "text/plain": [
       "2"
      ]
     },
     "execution_count": 43,
     "metadata": {},
     "output_type": "execute_result"
    }
   ],
   "source": [
    "class CustomList(list):\n",
    "    def __len__(self):\n",
    "        return len(set(self))\n",
    "    \n",
    "my_list = CustomList([1, 1, 1, 1, 1, 684])\n",
    "\n",
    "len(my_list)   # my_list.__len__()"
   ]
  },
  {
   "cell_type": "markdown",
   "metadata": {},
   "source": [
    "# __iter__\n",
    "# iter()\n",
    "\n",
    "In Python, iter() is a built-in function that returns an iterator object for a given iterable object.\n",
    "An iterator is an object that can be iterated (looped) upon, meaning that you can traverse through all the values."
   ]
  },
  {
   "cell_type": "code",
   "execution_count": null,
   "metadata": {},
   "outputs": [],
   "source": [
    "# Example 1: Using iter() with a list\n",
    "my_list = [1, 2, 3, 4, 5]\n",
    "my_iterator = iter(my_list)\n",
    "\n",
    "print(next(my_iterator))  # 1\n",
    "print(next(my_iterator))  # 2\n",
    "print(next(my_iterator))  # 3\n",
    "print(next(my_iterator))  # 4\n",
    "print(next(my_iterator))  # 5"
   ]
  },
  {
   "cell_type": "code",
   "execution_count": null,
   "metadata": {},
   "outputs": [],
   "source": [
    "# Example 2: Using iter() with a string\n",
    "my_string = \"Hello, world!\"\n",
    "my_iterator = iter(my_string)\n",
    "\n",
    "print(next(my_iterator))  # H\n",
    "print(next(my_iterator))  # e\n",
    "print(next(my_iterator))  # l\n",
    "print(next(my_iterator))  # l\n",
    "print(next(my_iterator))  # o\n",
    "print(next(my_iterator))  # ,\n",
    "print(next(my_iterator))  #  \n",
    "print(next(my_iterator))  # w\n",
    "print(next(my_iterator))  # o\n",
    "print(next(my_iterator))  # r\n",
    "print(next(my_iterator))  # l\n",
    "print(next(my_iterator))  # d\n",
    "print(next(my_iterator))  # !"
   ]
  },
  {
   "cell_type": "code",
   "execution_count": 62,
   "metadata": {},
   "outputs": [
    {
     "name": "stdout",
     "output_type": "stream",
     "text": [
      "5\n",
      "4\n",
      "3\n",
      "2\n",
      "1\n",
      "[5, 4, 3, 2, 1]\n"
     ]
    }
   ],
   "source": [
    "\n",
    "\n",
    "# Example 3: Using iter() with a custom object\n",
    "class MyList:\n",
    "    def __init__(self, items):\n",
    "        self.items = items\n",
    "\n",
    "    def __iter__(self):\n",
    "        self.index = 0\n",
    "        return self\n",
    "\n",
    "    def __next__(self):\n",
    "        if self.index >= len(self.items):\n",
    "            raise StopIteration\n",
    "        value = self.items[self.index]\n",
    "        self.index += 1\n",
    "        return value\n",
    "\n",
    "my_list = MyList([1, 2, 3, 4, 5])\n",
    "my_iterator = iter(my_list)\n",
    "\n",
    "print(next(my_iterator))  # 1\n",
    "print(next(my_iterator))  # 2\n",
    "print(next(my_iterator))  # 3\n",
    "print(next(my_iterator))  # 4\n",
    "print(next(my_iterator))  # 5"
   ]
  },
  {
   "cell_type": "code",
   "execution_count": null,
   "metadata": {},
   "outputs": [],
   "source": [
    "import random\n",
    "\n",
    "class RandomShuffle:\n",
    "    def __init__(self, data):\n",
    "        self.data = data\n",
    "\n",
    "    def __iter__(self):\n",
    "        return self\n",
    "\n",
    "    def __next__(self):\n",
    "        if len(self.data) == 0:\n",
    "            raise StopIteration\n",
    "\n",
    "        index = random.randint(0, len(self.data)-1)\n",
    "        index = int(index)\n",
    "        return self.data.pop(index)\n",
    "\n",
    "number = [1, 2, 3, 4, 5, 6]\n",
    "number_random = RandomShuffle(number)\n",
    "\n",
    "print(*number)\n",
    "print(*number_random)"
   ]
  },
  {
   "cell_type": "markdown",
   "metadata": {},
   "source": [
    "# Quiz Paymayeshgarha"
   ]
  },
  {
   "cell_type": "code",
   "execution_count": null,
   "metadata": {},
   "outputs": [],
   "source": [
    "class Reverse:\n",
    "    def __init__(self, lst):\n",
    "        self.lst = lst\n",
    "    \n",
    "    def __iter__(self):\n",
    "        self.index = 0\n",
    "        return self\n",
    "    \n",
    "    def __next__(self):\n",
    "        if len(self.lst) <= self.index:\n",
    "            raise StopIteration\n",
    "        else:\n",
    "            value = self.lst[len(self.lst) - self.index -1]\n",
    "            self.index += 1\n",
    "            return value\n",
    "\n",
    "lst = [1, 2, 3, 4, 5, 6]\n",
    "my_obj = Reverse(lst)\n",
    "my_iter = iter(my_obj)\n",
    "\n",
    "print(next(my_iter))\n",
    "print(next(my_iter))\n",
    "print(next(my_iter))\n",
    "print(next(my_iter))\n",
    "print(next(my_iter))\n",
    "print(next(my_iter))\n",
    "print(lst)\n"
   ]
  },
  {
   "cell_type": "markdown",
   "metadata": {},
   "source": [
    "and read other solutions for this quiz:"
   ]
  },
  {
   "cell_type": "code",
   "execution_count": null,
   "metadata": {},
   "outputs": [],
   "source": [
    "class Reverse:\n",
    "    \n",
    "    def __init__(self, ls):\n",
    "        self.ls = ls\n",
    "        self.index = len(ls)\n",
    "    \n",
    "    def __iter__(self):\n",
    "        return self\n",
    "    \n",
    "    def __next__(self):\n",
    "        if self.index == 0:\n",
    "            raise StopIteration\n",
    "        self.index -= 1\n",
    "        return self.ls[self.index]\n",
    "\n",
    "lst = [1, 2, 3, 4, 5, 6]\n",
    "my_obj = Reverse(lst)\n",
    "my_iter = iter(my_obj)\n",
    "\n",
    "print(next(my_iter))\n",
    "print(next(my_iter))\n",
    "print(next(my_iter))\n",
    "print(next(my_iter))\n",
    "print(next(my_iter))\n",
    "print(next(my_iter))\n",
    "print(lst)"
   ]
  },
  {
   "cell_type": "code",
   "execution_count": null,
   "metadata": {},
   "outputs": [],
   "source": [
    "class Reverse:\n",
    "    \n",
    "    def __init__(self,list1):\n",
    "        self.list1 = list1\n",
    "\n",
    "    def __iter__(self):\n",
    "      return  self\n",
    "    \n",
    "    \n",
    "    def __next__(self):\n",
    "        copy_list = self.list1\n",
    "        if copy_list:\n",
    "             return copy_list.pop()\n",
    "        else:\n",
    "            raise StopIteration\n",
    "\n",
    "\n",
    "ls = [10, 20, 30]\n",
    "\n",
    "\n",
    "for it in Reverse(ls):\n",
    "    print(it)\n",
    "\n",
    "print(ls)    # ???"
   ]
  },
  {
   "cell_type": "code",
   "execution_count": null,
   "metadata": {},
   "outputs": [],
   "source": [
    "class Reverse:\n",
    "    def __init__(self, data):\n",
    "        self.data = data\n",
    "        self.index = len(data)\n",
    "    \n",
    "    def __iter__(self):\n",
    "        return self\n",
    "\n",
    "    def __next__(self):\n",
    "        if self.index == 0:\n",
    "            raise StopIteration\n",
    "        self.index -= 1\n",
    "        return self.data[self.index]"
   ]
  }
 ],
 "metadata": {
  "kernelspec": {
   "display_name": "Python 3",
   "language": "python",
   "name": "python3"
  },
  "language_info": {
   "codemirror_mode": {
    "name": "ipython",
    "version": 3
   },
   "file_extension": ".py",
   "mimetype": "text/x-python",
   "name": "python",
   "nbconvert_exporter": "python",
   "pygments_lexer": "ipython3",
   "version": "3.12.0"
  }
 },
 "nbformat": 4,
 "nbformat_minor": 2
}
