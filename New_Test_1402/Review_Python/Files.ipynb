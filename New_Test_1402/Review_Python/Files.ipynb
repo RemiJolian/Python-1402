{
 "cells": [
  {
   "cell_type": "markdown",
   "metadata": {},
   "source": [
    "**use files in python**"
   ]
  },
  {
   "cell_type": "markdown",
   "metadata": {},
   "source": [
    "to open a file, you use open() and the output is a file object\n",
    "f = open(\"file address\", \"opening mode\")"
   ]
  },
  {
   "cell_type": "markdown",
   "metadata": {},
   "source": [
    "**read**\n",
    "f.read(x): it reads x character that not read yet. if x > len(f), no error"
   ]
  },
  {
   "cell_type": "code",
   "execution_count": null,
   "metadata": {},
   "outputs": [],
   "source": [
    "f = open('info.txt','r')\n",
    "print(f.read(7))\n",
    "print(f.read(6))"
   ]
  },
  {
   "cell_type": "code",
   "execution_count": 20,
   "metadata": {},
   "outputs": [
    {
     "data": {
      "text/plain": [
       "'Hello!\\nI am Ramin.\\nHow are you?'"
      ]
     },
     "execution_count": 20,
     "metadata": {},
     "output_type": "execute_result"
    }
   ],
   "source": [
    "f = open('info.txt','r') # read all file\n",
    "f.read()"
   ]
  },
  {
   "cell_type": "markdown",
   "metadata": {},
   "source": [
    "**readline()**"
   ]
  },
  {
   "cell_type": "markdown",
   "metadata": {},
   "source": [
    "**close(), u must close file, at the end**"
   ]
  },
  {
   "cell_type": "code",
   "execution_count": 49,
   "metadata": {},
   "outputs": [
    {
     "name": "stdout",
     "output_type": "stream",
     "text": [
      "Hello!\n",
      "\n",
      "I am Ramin.\n",
      "\n",
      "How are you?\n"
     ]
    }
   ],
   "source": [
    "f = open('info.txt','r') # read all file\n",
    "print(f.readline())\n",
    "print(f.readline())\n",
    "print(f.readline())\n",
    "f.close()"
   ]
  },
  {
   "cell_type": "markdown",
   "metadata": {},
   "source": [
    "**readlines()** # s"
   ]
  },
  {
   "cell_type": "code",
   "execution_count": 48,
   "metadata": {},
   "outputs": [
    {
     "name": "stdout",
     "output_type": "stream",
     "text": [
      "['Hello!\\n', 'I am Ramin.\\n', 'How are you?']\n"
     ]
    }
   ],
   "source": [
    "f = open('info.txt','r') # read all file\n",
    "print(f.readlines())\n",
    "f.close()"
   ]
  },
  {
   "cell_type": "code",
   "execution_count": 31,
   "metadata": {},
   "outputs": [
    {
     "name": "stdout",
     "output_type": "stream",
     "text": [
      "['How are you?', 'I am Ramin.\\n', 'Hello!\\n']\n"
     ]
    }
   ],
   "source": [
    "# reading all line of a file and print it reversely\n",
    "\n",
    "f = open('info.txt', 'r')\n",
    "list1 = []\n",
    "while True:\n",
    "    line = f.readline()\n",
    "    if line == '':\n",
    "        break\n",
    "    else:\n",
    "        list1.append(line)\n",
    "ans = list(reversed(list1))\n",
    "f.close()\n",
    "print(ans)"
   ]
  },
  {
   "cell_type": "code",
   "execution_count": 34,
   "metadata": {},
   "outputs": [
    {
     "name": "stdout",
     "output_type": "stream",
     "text": [
      "How are you?\n",
      "I am Ramin.\n",
      "\n",
      "Hello!\n",
      "\n"
     ]
    }
   ],
   "source": [
    "f = open(\"Info.txt\", \"r\")\n",
    "lines = []\n",
    "while True:\n",
    "    line = f.readline()\n",
    "    if line == '':\n",
    "        break # end of file\n",
    "    lines.append(line)\n",
    "lines.reverse()\n",
    "for line in lines:\n",
    "    print(line)\n",
    "f.close()"
   ]
  },
  {
   "cell_type": "markdown",
   "metadata": {},
   "source": [
    "**write, notice you must add '\\n\\' to end, write not similar to print"
   ]
  },
  {
   "cell_type": "code",
   "execution_count": 40,
   "metadata": {},
   "outputs": [],
   "source": [
    "# an example: append n lines of input, to a file\n",
    "\n",
    "n = int(input())\n",
    "f = open('dsv.txt', 'w')\n",
    "for i in range(n):\n",
    "    line = input()\n",
    "    f.write(line + '\\n')\n",
    "f.close()\n",
    "\n"
   ]
  },
  {
   "cell_type": "code",
   "execution_count": 43,
   "metadata": {},
   "outputs": [],
   "source": [
    "n = int(input())\n",
    "f = open('dsv.txt', 'a')            # a, append\n",
    "for i in range(n):\n",
    "    line = input()\n",
    "    f.write(line + '\\n')\n",
    "f.close()\n"
   ]
  },
  {
   "cell_type": "markdown",
   "metadata": {},
   "source": [
    "**flush() function**\n",
    "those change u write or append to a file, not execute that time, you must use flush()\n",
    "the flush() method is called on the file object to clear the internal buffer and ensure that the data is saved to the file"
   ]
  },
  {
   "cell_type": "code",
   "execution_count": 50,
   "metadata": {},
   "outputs": [],
   "source": [
    "file = open(\"example.txt\", \"w\")\n",
    "file.write(\"Hello, world!\")\n",
    "file.flush()\n",
    "file.close()\n"
   ]
  },
  {
   "cell_type": "markdown",
   "metadata": {},
   "source": [
    "**use as to not forget close the file**"
   ]
  },
  {
   "cell_type": "code",
   "execution_count": null,
   "metadata": {},
   "outputs": [],
   "source": [
    "with open(\"file address\", \"opening mode\") as f:\n",
    "    #tasks to do with file\n",
    "    pass"
   ]
  },
  {
   "cell_type": "markdown",
   "metadata": {},
   "source": [
    "**how to use generator at reading a huge file**\n",
    "at first see :"
   ]
  },
  {
   "cell_type": "code",
   "execution_count": 52,
   "metadata": {},
   "outputs": [],
   "source": [
    "def csv_reader(path):\n",
    "    file = open(path)\n",
    "    result = file.read().split(\"\\n\")\n",
    "    return result"
   ]
  },
  {
   "cell_type": "markdown",
   "metadata": {},
   "source": [
    "if the file above  has 1 million line, then u see storage error, so:"
   ]
  },
  {
   "cell_type": "code",
   "execution_count": 53,
   "metadata": {},
   "outputs": [],
   "source": [
    "def csv_reader(path):\n",
    "    with open(path, 'r') as file:\n",
    "        for row in file:\n",
    "            yield row"
   ]
  },
  {
   "cell_type": "markdown",
   "metadata": {},
   "source": [
    "**tell()**\n",
    "\n",
    "The tell() method is used to retrieve the current position of the file read/write pointer within the file.\n",
    "It returns an integer value that represents the current position in bits or bytes, depending on the file mode."
   ]
  },
  {
   "cell_type": "code",
   "execution_count": null,
   "metadata": {},
   "outputs": [],
   "source": [
    "# Opening a file in read mode\n",
    "file_object = open(\"text_file.txt\", \"r\")\n",
    "\n",
    "# Determining the position of the pointer\n",
    "print(file_object.tell())  # Output: 0\n",
    "\n",
    "# Reading the first five characters in the file and printing them\n",
    "print(file_object.read(5))  # Output: \"Hello\"\n",
    "print(file_object.tell())  # Output: 5\n",
    "\n",
    "# Reading the remaining characters in the file and printing them\n",
    "print(file_object.read(21))  # Output: \" and Welcome to Python\"\n",
    "print(file_object.tell())  # Output: 26\n",
    "\n",
    "# Closing the file\n",
    "file_object.close()\n"
   ]
  },
  {
   "cell_type": "code",
   "execution_count": null,
   "metadata": {},
   "outputs": [],
   "source": [
    "# not exist, create b\n",
    "f = open('b.txt', 'w') \n",
    "\n",
    "# file is empty, pointer is at beginning of file:\n",
    "print(f.tell()) \n",
    " \n",
    " # write a string\n",
    "f.write('Hello')\n",
    "\n",
    "# Now pointer is in end of string\n",
    "print(f.tell())\n",
    "\n",
    "# again add a string\n",
    "f.write('ava')\n",
    "\n",
    "print(f.tell())\n"
   ]
  },
  {
   "cell_type": "markdown",
   "metadata": {},
   "source": [
    "**seek()**\n",
    "the seek() method is used to change the position of the file handle to a specific position within a file. also read:"
   ]
  },
  {
   "cell_type": "markdown",
   "metadata": {},
   "source": [
    "The file handle is like a cursor that defines from where the data has to be read or written in the file. The seek() method takes two parameters: offset and from_what.\n",
    "offset: Number of positions to move forward.\n",
    "from_what: It defines the point of reference. It accepts three values:\n",
    "0: sets the reference point at the beginning of the file.\n",
    "1: sets the reference point at the current file position.\n",
    "2: sets the reference point at the end of the file.\n",
    "By default, the from_what argument is set to 0."
   ]
  },
  {
   "cell_type": "code",
   "execution_count": 63,
   "metadata": {},
   "outputs": [
    {
     "name": "stdout",
     "output_type": "stream",
     "text": [
      "am Ra\n"
     ]
    }
   ],
   "source": [
    "# Open a file in read mode\n",
    "file = open(\"info.txt\", \"r\")\n",
    "\n",
    "# Move the file handle to the 10th byte from the beginning of the file\n",
    "file.seek(10)\n",
    "\n",
    "# Read the next 5 bytes from the file\n",
    "data = file.read(5)\n",
    "print(data)\n",
    "\n",
    "# Close the file\n",
    "file.close()\n"
   ]
  },
  {
   "cell_type": "markdown",
   "metadata": {},
   "source": [
    "get l and r from input, and type r-l characters:"
   ]
  },
  {
   "cell_type": "code",
   "execution_count": null,
   "metadata": {},
   "outputs": [],
   "source": [
    "f = open(\"info.txt\", \"r\")\n",
    "l, r = (int(x) for x in input().split())\n",
    "f.seek(l)\n",
    "s = f.read(r - l + 1)\n",
    "print(s)"
   ]
  },
  {
   "cell_type": "markdown",
   "metadata": {},
   "source": [
    "**Queiz: sole code python, lines:**"
   ]
  },
  {
   "cell_type": "code",
   "execution_count": 93,
   "metadata": {},
   "outputs": [
    {
     "name": "stdout",
     "output_type": "stream",
     "text": [
      "5\n"
     ]
    }
   ],
   "source": [
    "with open('info.txt', 'r') as f:\n",
    "   c = 0\n",
    "   for line in f.readlines():\n",
    "      line = line.strip()\n",
    "      if line == '' or line[0] == '#':\n",
    "         continue\n",
    "      else:\n",
    "         c += 1\n",
    "print(c)"
   ]
  },
  {
   "cell_type": "markdown",
   "metadata": {},
   "source": [
    "and these solution:"
   ]
  },
  {
   "cell_type": "code",
   "execution_count": null,
   "metadata": {},
   "outputs": [],
   "source": [
    "def solve(path):\n",
    "    import re\n",
    "    count = 0\n",
    "    with open(path, 'r') as csv_file:\n",
    "        line = csv_file.readlines()\n",
    "        for lines in line:\n",
    "            if lines.strip() != '' and not re.match(r'#.', lines.strip()):\n",
    "                count += 1\n",
    "\n",
    "        return count\n"
   ]
  },
  {
   "cell_type": "code",
   "execution_count": null,
   "metadata": {},
   "outputs": [],
   "source": [
    "import re\n",
    "\n",
    "def solve(file_path):\n",
    "    try:\n",
    "        with open(file_path, 'r', encoding='utf-8') as file:\n",
    "            code = file.read()\n",
    "        \n",
    "        code = re.sub(r'#.*', '', code)\n",
    "        \n",
    "        lines_with_commands = [line for line in code.split('\\n') if line.strip()]\n",
    "        \n",
    "        return len(lines_with_commands)\n",
    "    except FileNotFoundError:\n",
    "        return -1"
   ]
  }
 ],
 "metadata": {
  "kernelspec": {
   "display_name": "Python 3",
   "language": "python",
   "name": "python3"
  },
  "language_info": {
   "codemirror_mode": {
    "name": "ipython",
    "version": 3
   },
   "file_extension": ".py",
   "mimetype": "text/x-python",
   "name": "python",
   "nbconvert_exporter": "python",
   "pygments_lexer": "ipython3",
   "version": "3.11.1"
  }
 },
 "nbformat": 4,
 "nbformat_minor": 2
}
