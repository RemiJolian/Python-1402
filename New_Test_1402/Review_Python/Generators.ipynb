{
 "cells": [
  {
   "cell_type": "markdown",
   "metadata": {},
   "source": [
    "**Generator like a func**"
   ]
  },
  {
   "cell_type": "code",
   "execution_count": null,
   "metadata": {},
   "outputs": [],
   "source": [
    "def generate_numbers():\n",
    "    n = 0\n",
    "    while n < 3:\n",
    "        yield n\n",
    "        n += 1\n",
    "print(list(generate_numbers()))\n",
    "\n",
    "next_number = generate_numbers()\n",
    "\n",
    "print(next(next_number))\n",
    "\n",
    "print(next(next_number))\n",
    "\n",
    "print(next(next_number))"
   ]
  },
  {
   "cell_type": "markdown",
   "metadata": {},
   "source": [
    "**difference between function and generators:**"
   ]
  },
  {
   "cell_type": "code",
   "execution_count": 5,
   "metadata": {},
   "outputs": [
    {
     "name": "stdout",
     "output_type": "stream",
     "text": [
      "It took 7.789843699999892 Secs and 1914.5859375 Mb to execute this method\n"
     ]
    }
   ],
   "source": [
    "# use functions and see time and storage\n",
    "import memory_profiler\n",
    "import time\n",
    "def check_even(numbers):\n",
    "    even = []\n",
    "    for num in numbers:\n",
    "        if num % 2 == 0: \n",
    "            even.append(num*num)\n",
    "            \n",
    "    return even\n",
    "if __name__ == '__main__':\n",
    "    m1 = memory_profiler.memory_usage()\n",
    "    t1 = time.perf_counter()\n",
    "    cubes = check_even(range(100000000))\n",
    "    t2 = time.perf_counter()\n",
    "    m2 = memory_profiler.memory_usage()\n",
    "    time_diff = t2 - t1\n",
    "    mem_diff = m2[0] - m1[0]\n",
    "    print(f\"It took {time_diff} Secs and {mem_diff} Mb to execute this method\")\n"
   ]
  },
  {
   "cell_type": "code",
   "execution_count": 7,
   "metadata": {},
   "outputs": [
    {
     "name": "stdout",
     "output_type": "stream",
     "text": [
      "It took 0.5479370999996718 Secs and -1910.5078125 Mb to execute this method\n"
     ]
    }
   ],
   "source": [
    "# use generator\n",
    "import memory_profiler\n",
    "import time\n",
    "def check_even(numbers):\n",
    "    for num in numbers:\n",
    "        if num % 2 == 0:\n",
    "            yield num * num \n",
    "    \n",
    "if __name__ == '__main__':\n",
    "    m1 = memory_profiler.memory_usage()\n",
    "    t1 = time.perf_counter()\n",
    "    cubes = check_even(range(100000000))\n",
    "    t2 = time.perf_counter()\n",
    "    m2 = memory_profiler.memory_usage()\n",
    "    time_diff = t2 - t1\n",
    "    mem_diff = m2[0] - m1[0]\n",
    "    print(f\"It took {time_diff} Secs and {mem_diff} Mb to execute this method\")"
   ]
  },
  {
   "cell_type": "markdown",
   "metadata": {},
   "source": [
    "**Queiz tawlid maqsom alyha**"
   ]
  },
  {
   "cell_type": "code",
   "execution_count": 41,
   "metadata": {},
   "outputs": [
    {
     "data": {
      "text/plain": [
       "[1, 2, 3, 6]"
      ]
     },
     "execution_count": 41,
     "metadata": {},
     "output_type": "execute_result"
    }
   ],
   "source": [
    "# use generators \n",
    "def divs(a):\n",
    "    for i in range(1,a+1):\n",
    "        if a % i == 0:\n",
    "            yield i\n",
    "list(divs(6))"
   ]
  }
 ],
 "metadata": {
  "kernelspec": {
   "display_name": "Python 3",
   "language": "python",
   "name": "python3"
  },
  "language_info": {
   "codemirror_mode": {
    "name": "ipython",
    "version": 3
   },
   "file_extension": ".py",
   "mimetype": "text/x-python",
   "name": "python",
   "nbconvert_exporter": "python",
   "pygments_lexer": "ipython3",
   "version": "3.11.1"
  }
 },
 "nbformat": 4,
 "nbformat_minor": 2
}
