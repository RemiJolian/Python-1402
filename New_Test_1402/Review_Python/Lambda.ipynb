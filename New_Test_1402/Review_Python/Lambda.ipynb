{
 "cells": [
  {
   "cell_type": "markdown",
   "metadata": {},
   "source": [
    "**Lambda as a unknown function**"
   ]
  },
  {
   "cell_type": "markdown",
   "metadata": {},
   "source": [
    "A lambda function in Python is an anonymous function or a function with no name. It is a small and restricted function that can have no more than one line of code. Lambda functions are defined using the lambda keyword, followed by the function's parameters and a colon, and then the expression to be evaluated. The syntax for a lambda function is as follows:\n"
   ]
  },
  {
   "cell_type": "markdown",
   "metadata": {},
   "source": [
    "lambda argumets:expression"
   ]
  },
  {
   "cell_type": "code",
   "execution_count": null,
   "metadata": {},
   "outputs": [],
   "source": [
    "sum = lambda a, b: a + b\n",
    "print(sum(2, 3)) # Output: 5"
   ]
  },
  {
   "cell_type": "code",
   "execution_count": 4,
   "metadata": {},
   "outputs": [
    {
     "data": {
      "text/plain": [
       "4"
      ]
     },
     "execution_count": 4,
     "metadata": {},
     "output_type": "execute_result"
    }
   ],
   "source": [
    "(lambda x: x * 2)(2)"
   ]
  },
  {
   "cell_type": "code",
   "execution_count": 6,
   "metadata": {},
   "outputs": [
    {
     "data": {
      "text/plain": [
       "9"
      ]
     },
     "execution_count": 6,
     "metadata": {},
     "output_type": "execute_result"
    }
   ],
   "source": [
    "power2 = lambda x: x ** 2\n",
    "power2(3)"
   ]
  },
  {
   "cell_type": "code",
   "execution_count": 7,
   "metadata": {},
   "outputs": [
    {
     "data": {
      "text/plain": [
       "2.5"
      ]
     },
     "execution_count": 7,
     "metadata": {},
     "output_type": "execute_result"
    }
   ],
   "source": [
    "average = lambda a, b:(a+b)/2\n",
    "average(2,3)"
   ]
  },
  {
   "cell_type": "code",
   "execution_count": 8,
   "metadata": {},
   "outputs": [
    {
     "data": {
      "text/plain": [
       "[3.5, 4]"
      ]
     },
     "execution_count": 8,
     "metadata": {},
     "output_type": "execute_result"
    }
   ],
   "source": [
    "sta = lambda a, b: [(a+b)/2, max(a,b)]\n",
    "sta(3, 4)"
   ]
  },
  {
   "cell_type": "markdown",
   "metadata": {},
   "source": [
    ">>> def myfunc(n):\n",
    "          return lambda a : a * n\n",
    "\n",
    ">>> mydoubler = myfunc(2)\n",
    ">>> mytripler = myfunc(3)\n",
    ">>> \n",
    ">>> mydoubler(11)\n",
    "22\n",
    ">>> mytripler(11)\n",
    "33"
   ]
  },
  {
   "cell_type": "markdown",
   "metadata": {},
   "source": [
    ">>> mylist = [(1,3),(4,5),(2,10),(9,6)]\n",
    "\n",
    ">>> mylist.sort()\n",
    ">>> mylist\n",
    "[(1, 3), (2, 10), (4, 5), (9, 6)]\n",
    "\n",
    ">>> mylist.sort(key = lambda x: x[-1])\n",
    ">>> mylist\n",
    "[(1, 3), (4, 5), (9, 6), (2, 10)]"
   ]
  },
  {
   "cell_type": "markdown",
   "metadata": {},
   "source": [
    "**sabtenam Queiz**"
   ]
  },
  {
   "cell_type": "code",
   "execution_count": 23,
   "metadata": {},
   "outputs": [
    {
     "name": "stdout",
     "output_type": "stream",
     "text": [
      "['asra']\n"
     ]
    }
   ],
   "source": [
    "def check_registration_rules (**users):\n",
    "    listname = []\n",
    "    for username, password in users.items():\n",
    "        if len(username) >= 4 and len(password) >= 6:\n",
    "            if username not in ['quera', 'codecup']:\n",
    "                if password.isdigit() == False:\n",
    "                    listname.append(username)\n",
    "    print(listname)\n",
    "check_registration_rules(asra='231763a', ava='1234564', quera='sd8765')\n",
    "    "
   ]
  },
  {
   "cell_type": "markdown",
   "metadata": {},
   "source": [
    "and these solution:"
   ]
  },
  {
   "cell_type": "code",
   "execution_count": 22,
   "metadata": {},
   "outputs": [
    {
     "name": "stdout",
     "output_type": "stream",
     "text": [
      "3\n"
     ]
    }
   ],
   "source": [
    "def check_registration_rules(**kwargs):\n",
    "    yes = []\n",
    "    invalids = ['quera', 'codecup']\n",
    "    for item in kwargs:\n",
    "        if not item in invalids and len(item) > 3 and len(kwargs[item]) > 5 and not kwargs[item].isdigit():\n",
    "            yes.append(item)\n",
    "    return yes\n",
    "        \n",
    "# print(check_registration_rules(Aaaaa='wqwasasq', aaa='kjhx14567', username='password', sadegh='He3@lsa', quera='kLS45@l$'))\n"
   ]
  },
  {
   "cell_type": "code",
   "execution_count": 24,
   "metadata": {},
   "outputs": [
    {
     "data": {
      "text/plain": [
       "['asra']"
      ]
     },
     "execution_count": 24,
     "metadata": {},
     "output_type": "execute_result"
    }
   ],
   "source": [
    "def check_registration_rules(**kwargs):\n",
    "    allowed_username = []\n",
    "    for key, value in kwargs.items():\n",
    "        valid_username = len(key) >= 4 and key not in ['quera', 'codecup']\n",
    "        valid_password = len(value) >= 6 and not value.isdigit()\n",
    "        if valid_password and valid_username:\n",
    "            allowed_username.append(key)\n",
    "            \n",
    "    return allowed_username\n",
    "check_registration_rules(asra='q2354567')\n"
   ]
  }
 ],
 "metadata": {
  "kernelspec": {
   "display_name": "Python 3",
   "language": "python",
   "name": "python3"
  },
  "language_info": {
   "codemirror_mode": {
    "name": "ipython",
    "version": 3
   },
   "file_extension": ".py",
   "mimetype": "text/x-python",
   "name": "python",
   "nbconvert_exporter": "python",
   "pygments_lexer": "ipython3",
   "version": "3.11.1"
  }
 },
 "nbformat": 4,
 "nbformat_minor": 2
}
