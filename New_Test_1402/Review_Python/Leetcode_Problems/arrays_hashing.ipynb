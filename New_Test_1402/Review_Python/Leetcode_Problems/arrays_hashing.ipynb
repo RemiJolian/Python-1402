{
 "cells": [
  {
   "cell_type": "markdown",
   "metadata": {},
   "source": [
    "# These problems are from needcode.io. It has some sections including many problems\n",
    "At first, see Array & Hashing section"
   ]
  },
  {
   "cell_type": "markdown",
   "metadata": {},
   "source": [
    "# needcode.io/roadmap\n",
    "- Arrays & Hashing section\n",
    "  - 9 Problems:\n",
    "    - Contains Duplicate\n",
    "    - Valid Anagram\n",
    "    - Tow Sum\n",
    "    - Group Anagram\n",
    "    - Top K Frequent Anagram\n",
    "    - Product of Array Except Self\n",
    "    - Valid Sudocu\n",
    "    - Encode and Decode String\n",
    "    - Longest Consecutive Sequence"
   ]
  },
  {
   "cell_type": "markdown",
   "metadata": {},
   "source": [
    "217. Contains Duplicate\n",
    "\n",
    "Given an integer array nums, return true if any value appears at least twice in the array, and return false if every element is distinct.\n",
    "Example 1:\n",
    "\n",
    "Input: nums = [1,2,3,1]\n",
    "Output: true\n",
    "Example 2:\n",
    "\n",
    "Input: nums = [1,2,3,4]\n",
    "Output: false\n"
   ]
  },
  {
   "cell_type": "markdown",
   "metadata": {},
   "source": [
    "solution 1 and 2:"
   ]
  },
  {
   "cell_type": "code",
   "execution_count": 2,
   "metadata": {},
   "outputs": [
    {
     "data": {
      "text/plain": [
       "False"
      ]
     },
     "execution_count": 2,
     "metadata": {},
     "output_type": "execute_result"
    }
   ],
   "source": [
    "class Solution:\n",
    "    def containsDuplicate(self, nums: list[int]) -> bool:\n",
    "        set_nums = set(nums)\n",
    "        if len(set_nums) == len(nums):\n",
    "            return False\n",
    "        else:\n",
    "            return True\n",
    "        \n",
    "    \n",
    "solution = Solution()\n",
    "nums = [1,2,3,4]\n",
    "solution.containsDuplicate(nums)"
   ]
  },
  {
   "cell_type": "code",
   "execution_count": 5,
   "metadata": {},
   "outputs": [
    {
     "data": {
      "text/plain": [
       "True"
      ]
     },
     "execution_count": 5,
     "metadata": {},
     "output_type": "execute_result"
    }
   ],
   "source": [
    "class Solution:\n",
    "    def containsDuplicate(self, nums: list[int]) -> bool:\n",
    "        set_nums = set()\n",
    "        for n in nums:\n",
    "            if n in set_nums:\n",
    "                return True\n",
    "            else:\n",
    "                set_nums.add(n)\n",
    "        return False\n",
    "\n",
    "solution = Solution()\n",
    "nums = [1, 2, 3, 4]\n",
    "solution.containsDuplicate(nums)"
   ]
  },
  {
   "cell_type": "markdown",
   "metadata": {},
   "source": [
    "# 242.Problem: Valid Anagram\n",
    "Given two strings s and t, return true if t is an anagram of s, and false otherwise.\n",
    "\n",
    "An Anagram is a word or phrase formed by rearranging the letters of a different word or phrase, typically using all the original letters exactly once.\n",
    "\n",
    "Example 1:\n",
    "Input: s = \"anagram\", t = \"nagaram\"\n",
    "Output: true\n",
    "\n",
    "Example 2:\n",
    "Input: s = \"rat\", t = \"car\"\n",
    "Output: false"
   ]
  },
  {
   "cell_type": "code",
   "execution_count": 4,
   "metadata": {},
   "outputs": [
    {
     "data": {
      "text/plain": [
       "True"
      ]
     },
     "execution_count": 4,
     "metadata": {},
     "output_type": "execute_result"
    }
   ],
   "source": [
    "class Solution:\n",
    "    def isAnagram(self, s: str, t: str) -> bool:\n",
    "        if len(s) == len(t):\n",
    "            for ch in t:\n",
    "                if t.count(ch) == s.count(ch):\n",
    "                    continue\n",
    "                else:\n",
    "                    return False\n",
    "            return True\n",
    "        else:\n",
    "            return False     \n",
    "        \n",
    "solution = Solution()\n",
    "t = 'anagram'       # aacc\n",
    "s = 'nagaram'       # cacc\n",
    "solution.isAnagram(s, t)"
   ]
  },
  {
   "cell_type": "markdown",
   "metadata": {},
   "source": [
    "solution 2, 3:"
   ]
  },
  {
   "cell_type": "code",
   "execution_count": 3,
   "metadata": {},
   "outputs": [
    {
     "data": {
      "text/plain": [
       "True"
      ]
     },
     "execution_count": 3,
     "metadata": {},
     "output_type": "execute_result"
    }
   ],
   "source": [
    "class Solution:\n",
    "    def isAnagram(self, s: str, t: str) -> bool:\n",
    "        return sorted(s) == sorted(t)    \n",
    "    \n",
    "    \n",
    "solution = Solution()\n",
    "t = 'anagram'       # aacc\n",
    "s = 'nagaram'       # cacc\n",
    "\n",
    "solution.isAnagram(s, t)"
   ]
  },
  {
   "cell_type": "code",
   "execution_count": 5,
   "metadata": {},
   "outputs": [
    {
     "name": "stdout",
     "output_type": "stream",
     "text": [
      "{'n': 1, 'a': 3, 'g': 1, 'r': 1, 'm': 1} {'a': 3, 'n': 1, 'g': 1, 'r': 1, 'm': 1}\n"
     ]
    },
    {
     "data": {
      "text/plain": [
       "True"
      ]
     },
     "execution_count": 5,
     "metadata": {},
     "output_type": "execute_result"
    }
   ],
   "source": [
    "class Solution:\n",
    "    def isAnagram(self, s: str, t: str) -> bool:\n",
    "        if len(s) != len(t):\n",
    "            return False\n",
    "\n",
    "        countS, countT = {}, {}\n",
    "\n",
    "        for i in range(len(s)):\n",
    "            countS[s[i]] = 1 + countS.get(s[i], 0)\n",
    "            countT[t[i]] = 1 + countT.get(t[i], 0)\n",
    "        print(countS, countT)\n",
    "        return countS == countT\n",
    "    \n",
    "solution = Solution()\n",
    "t = 'anagram'       # aacc\n",
    "s = 'nagaram'       # cacc\n",
    "\n",
    "solution.isAnagram(s, t)"
   ]
  },
  {
   "cell_type": "markdown",
   "metadata": {},
   "source": [
    "# problem 1. Two Sum\n",
    "Given an array of integers nums and an integer target, return indices of the two numbers such that they add up to target.\n",
    "\n",
    "You may assume that each input would have exactly one solution, and you may not use the same element twice.\n",
    "\n",
    "You can return the answer in any order.\n",
    "\n",
    " \n",
    "\n",
    "Example 1:\n",
    "\n",
    "Input: nums = [2,7,11,15], target = 9\n",
    "Output: [0,1]\n",
    "Explanation: Because nums[0] + nums[1] == 9, we return [0, 1]\n",
    "Follow-up: Can you come up with an algorithm that is less than O(n2) time complexity?"
   ]
  },
  {
   "cell_type": "code",
   "execution_count": 10,
   "metadata": {},
   "outputs": [],
   "source": [
    "class Solution:\n",
    "    def twoSum(self, nums: list[int], target: int) -> list[int]:\n",
    "        for i in range(len(nums)):\n",
    "            for j in range(i+1, len(nums)):\n",
    "                if nums[i] + nums[j] == target:\n",
    "                    return i, j\n",
    "\n",
    "solution = Solution()\n",
    "\n",
    "nums = [2, 7, 0, 1]\n",
    "target = 3\n",
    "\n",
    "solution.twoSum(nums, target)\n"
   ]
  },
  {
   "cell_type": "code",
   "execution_count": null,
   "metadata": {},
   "outputs": [],
   "source": [
    "class Solution:\n",
    "    def twoSum(self, nums: list[int], target: int) -> list[int]:\n",
    "        dic1 = {}  # val -> index\n",
    "\n",
    "        for i, n in enumerate(nums):\n",
    "            m = target - n      # m + n = target\n",
    "            if m in dic1:\n",
    "                return [dic1[m], i]\n",
    "            dic1[n] = i\n",
    "\n",
    "solution = Solution()\n",
    "\n",
    "nums = [2, 7, 0, 1]\n",
    "target = 3\n",
    "\n",
    "solution.twoSum(nums, target)"
   ]
  },
  {
   "cell_type": "markdown",
   "metadata": {},
   "source": [
    "49. Group Anagrams Problem\n",
    "Given an array of strings strs, group the anagrams together. You can return the answer in any order.\n",
    "\n",
    "An Anagram is a word or phrase formed by rearranging the letters of a different word or phrase, typically using all the original letters exactly once.\n",
    "\n",
    "Example 1:\n",
    "Input: strs = [\"eat\",\"tea\",\"tan\",\"ate\",\"nat\",\"bat\"]\n",
    "Output: [[\"bat\"],[\"nat\",\"tan\"],[\"ate\",\"eat\",\"tea\"]]\n",
    "\n",
    "Example 2:\n",
    "Input: strs = [\"\"]\n",
    "Output: [[\"\"]]\n",
    "\n",
    "Example 3:\n",
    "Input: strs = [\"a\"]\n",
    "Output: [[\"a\"]]\n",
    " \n",
    "Constraints:\n",
    "1 <= strs.length <= 104\n",
    "0 <= strs[i].length <= 100\n",
    "strs[i] consists of lowercase English letters."
   ]
  },
  {
   "cell_type": "code",
   "execution_count": 1,
   "metadata": {},
   "outputs": [
    {
     "data": {
      "text/plain": [
       "dict_values([['eat', 'tea', 'ate'], ['tan', 'nat'], ['bat']])"
      ]
     },
     "execution_count": 1,
     "metadata": {},
     "output_type": "execute_result"
    }
   ],
   "source": [
    "import collections\n",
    "class Solution:\n",
    "    def groupAnagrams(self, strs: list[str]) -> list[list[str]]:\n",
    "        ans = collections.defaultdict(list)\n",
    "        # print(ans)\n",
    "        for s in strs:\n",
    "            count = [0] * 26\n",
    "            for c in s:\n",
    "                count[ord(c) - ord(\"a\")] += 1\n",
    "            ans[tuple(count)].append(s)\n",
    "        # print('keys: ',ans.keys())\n",
    "        return ans.values()\n",
    "    \n",
    "solution = Solution()\n",
    "strs = [\"eat\",\"tea\",\"tan\",\"ate\",\"nat\",\"bat\"]\n",
    "solution.groupAnagrams(strs)"
   ]
  },
  {
   "cell_type": "markdown",
   "metadata": {},
   "source": [
    "at above code if you do not use tuple of count:\n",
    "The error \"TypeError: unhashable type: 'list'\" occurs in the given code because the count list is being used as a key in the ans dictionary, but lists are not hashable in Python and cannot be used as dictionary keys. To fix this error, we can convert the count list to a tuple, which is hashable, before using it as a key in the dictionary.\n",
    "\n",
    "In Python, a hashable object is an object that has a fixed and unique value that remains unchanged throughout its lifetime.\n",
    "Hashable objects are used as keys in dictionaries and elements in sets because they can be efficiently looked up and compared. On the other hand, an unhashable object is an object that cannot be hashed, such as a list or a dictionary, because its value can change during its lifetime"
   ]
  },
  {
   "cell_type": "markdown",
   "metadata": {},
   "source": [
    "347. Top K Frequent Elements\n",
    "\n",
    "Given an integer array nums and an integer k, return the k most frequent elements. You may return the answer in any order.\n",
    "\n",
    "Example 1:\n",
    "Input: nums = [1,1,1,2,2,3], k = 2\n",
    "Output: [1,2]\n",
    "\n",
    "Example 2:\n",
    "Input: nums = [1], k = 1\n",
    "Output: [1]\n",
    " \n",
    "Constraints:\n",
    "1 <= nums.length <= 105\n",
    "-104 <= nums[i] <= 104\n",
    "k is in the range [1, the number of unique elements in the array].\n",
    "It is guaranteed that the answer is unique.\n",
    " \n",
    "Follow up: Your algorithm's time complexity must be better than O(n log n), where n is the array's size."
   ]
  },
  {
   "cell_type": "code",
   "execution_count": null,
   "metadata": {},
   "outputs": [],
   "source": [
    "nums = [1, 1, 1, 1, 2, 2, 2, 0]\n",
    "nums = sorted(nums)\n",
    "k = 2\n",
    "ans = dict()\n",
    "for ch in nums:\n",
    "    ans[ch] = nums.count(ch)\n",
    "print(ans)\n",
    "\n",
    "max(ans)"
   ]
  },
  {
   "cell_type": "code",
   "execution_count": null,
   "metadata": {},
   "outputs": [],
   "source": [
    "class Solution:\n",
    "    def topKFrequent(self, nums: list[int], k: int) -> list[int]:\n",
    "        count = {}\n",
    "        freq = [[] for i in range(len(nums) + 1)]\n",
    "\n",
    "        for n in nums:\n",
    "            count[n] = 1 + count.get(n, 0)\n",
    "        for n, c in count.items():\n",
    "            freq[c].append(n)\n",
    "\n",
    "        res = []\n",
    "        print(freq)\n",
    "        for i in range(len(freq) - 1, 0, -1):\n",
    "            for n in freq[i]:\n",
    "                res.append(n)\n",
    "                if len(res) == k:\n",
    "                    return res\n",
    "\n",
    "        # O(n)\n",
    "                \n",
    "solution = Solution()\n",
    "nums = [1,1,1,2,2,3,3]\n",
    "k = 2\n",
    "solution.topKFrequent(nums, k)\n"
   ]
  },
  {
   "cell_type": "markdown",
   "metadata": {},
   "source": [
    "238. Product of Array Except Self\n",
    "\n",
    "Given an integer array nums, return an array answer such that answer[i] is equal to the product of all the elements of nums except nums[i].\n",
    "\n",
    "The product of any prefix or suffix of nums is guaranteed to fit in a 32-bit integer.\n",
    "You must write an algorithm that runs in O(n) time and without using the division operation.\n",
    "\n",
    " Example 1:\n",
    "Input: nums = [1,2,3,4]\n",
    "Output: [24,12,8,6]\n",
    "\n",
    "Example 2:\n",
    "Input: nums = [-1,1,0,-3,3]\n",
    "Output: [0,0,9,0,0]\n",
    "\n",
    " Constraints:\n",
    "2 <= nums.length <= 105\n",
    "-30 <= nums[i] <= 30\n",
    "The product of any prefix or suffix of nums is guaranteed to fit in a 32-bit integer."
   ]
  },
  {
   "cell_type": "code",
   "execution_count": 10,
   "metadata": {},
   "outputs": [
    {
     "data": {
      "text/plain": [
       "[120, 60, 40, 30, 24]"
      ]
     },
     "execution_count": 10,
     "metadata": {},
     "output_type": "execute_result"
    }
   ],
   "source": [
    "class Solution:\n",
    "    def productExceptSelf(self, nums: list[int]) -> list[int]:\n",
    "        ans = []\n",
    "        for i in range(len(nums)):\n",
    "            mult = 1\n",
    "            new_nums = nums[0:i] + nums[i+1:]\n",
    "            for ch in new_nums:\n",
    "                mult *= ch\n",
    "            ans.append(mult)\n",
    "        return ans\n",
    "    \n",
    "solution = Solution()\n",
    "nums = [1, 2, 3, 4, 5]\n",
    "solution.productExceptSelf(nums)"
   ]
  },
  {
   "cell_type": "code",
   "execution_count": null,
   "metadata": {},
   "outputs": [],
   "source": [
    "class Solution:\n",
    "    def productExceptSelf(self, nums: list[int]) -> list[int]:\n",
    "        res = [1] * (len(nums))\n",
    "\n",
    "        for i in range(1, len(nums)):\n",
    "            res[i] = res[i-1] * nums[i-1]\n",
    "        print(res)\n",
    "        postfix = 1\n",
    "        for i in range(len(nums) - 1, -1, -1):\n",
    "            res[i] *= postfix\n",
    "            postfix *= nums[i]\n",
    "        return res\n",
    "\n",
    "solution = Solution()\n",
    "nums = [1, 2, 3, 4]\n",
    "solution.productExceptSelf(nums)"
   ]
  }
 ],
 "metadata": {
  "kernelspec": {
   "display_name": "Python 3",
   "language": "python",
   "name": "python3"
  },
  "language_info": {
   "codemirror_mode": {
    "name": "ipython",
    "version": 3
   },
   "file_extension": ".py",
   "mimetype": "text/x-python",
   "name": "python",
   "nbconvert_exporter": "python",
   "pygments_lexer": "ipython3",
   "version": "3.12.0"
  }
 },
 "nbformat": 4,
 "nbformat_minor": 2
}
