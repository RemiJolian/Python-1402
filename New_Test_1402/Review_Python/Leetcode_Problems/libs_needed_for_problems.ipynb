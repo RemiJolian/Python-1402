{
 "cells": [
  {
   "cell_type": "markdown",
   "metadata": {},
   "source": [
    "# Here are libraries that needed for solving the problems "
   ]
  },
  {
   "cell_type": "markdown",
   "metadata": {},
   "source": [
    "- groupby from itertools (Here, used in anagram problem)"
   ]
  },
  {
   "cell_type": "code",
   "execution_count": null,
   "metadata": {},
   "outputs": [],
   "source": [
    "The itertools.groupby() function in Python is a powerful tool for grouping elements of an iterable based on\n",
    "   a specified key. It’s part of the itertools module, which provides efficient tools for working with \n",
    "iterators.\n",
    "\n",
    "Here’s how you can use it:\n",
    "\n",
    "Grouping by Key:\n",
    "\n",
    "The groupby() function takes two arguments:\n",
    "The iterable (such as a list, tuple, or dictionary) that you want to group.\n",
    "An optional key function (or callable) that specifies how to check the items as they come out of\n",
    "the iterable.\n",
    "It returns an iterator that gives a two-tuple: the result of the key callable and an iterable\n",
    "containing the grouped items.\n",
    "The items with the same key value end up in the same group.\n",
    "Example:\n",
    "\n",
    "Python\n",
    "\n",
    "from itertools import groupby\n",
    "\n",
    "things = [\n",
    "    (\"animal\", \"bear\"),\n",
    "    (\"animal\", \"duck\"),\n",
    "    (\"plant\", \"cactus\"),\n",
    "    (\"vehicle\", \"speed boat\"),\n",
    "    (\"vehicle\", \"school bus\")\n",
    "]\n",
    "\n",
    "for key, group in groupby(things, lambda x: x[0]):\n",
    "    for thing in group:\n",
    "        print(f\"A {thing[1]} is a {key}.\")\n",
    "AI-generated code. Review and use carefully. More info on FAQ.\n",
    "Output:\n",
    "\n",
    "A bear is an animal.\n",
    "A duck is an animal.\n",
    "A cactus is a plant.\n",
    "A speed boat is a vehicle.\n",
    "A school bus is a vehicle.\n",
    "\n",
    "In this example:\n",
    "\n",
    "things is a list of tuples where the first item in each tuple represents the group, and the\n",
    "second item belongs to that group.\n",
    "The groupby() function uses the first item in each tuple as the grouping key (specified by\n",
    "                                                                               lambda x: x[0]).\n",
    "It returns three (key, group iterator) pairs—one for each unique key.\n",
    "You can iterate over each individual item in the group using the returned iterator.\n",
    "Remember that you may need to sort your data first before using groupby(). Enjoy exploring\n",
    "this handy function! 😊"
   ]
  }
 ],
 "metadata": {
  "language_info": {
   "name": "python"
  }
 },
 "nbformat": 4,
 "nbformat_minor": 2
}
