{
 "cells": [
  {
   "cell_type": "markdown",
   "metadata": {},
   "source": [
    "# in Python3 to install lib & package that not in-built, use pip3 in terminal or cmd\n",
    "-  pip3 install package-name. ex: pip3 install pygame"
   ]
  },
  {
   "cell_type": "markdown",
   "metadata": {},
   "source": [
    "# also u can uninstall:\n",
    "pip3 uninstall pygame"
   ]
  },
  {
   "cell_type": "markdown",
   "metadata": {},
   "source": [
    "see more about 'pip':\n",
    "pip3 --help"
   ]
  },
  {
   "cell_type": "markdown",
   "metadata": {},
   "source": [
    "what is \"pip\"?\n",
    "# pip is a package manager for Python that\n",
    "is used to install and manage third-party packages and libraries that are not part of the standard Python library.\n",
    "It is a command-line tool that can be used to install, upgrade, and remove packages from the Python Package Index (PyPI) and other package indexes"
   ]
  },
  {
   "cell_type": "markdown",
   "metadata": {},
   "source": [
    "To see all list of lib and version that exist(?! where), type 'pip3 list' in terminal or cmd"
   ]
  },
  {
   "cell_type": "markdown",
   "metadata": {},
   "source": [
    "Package           Version\n",
    "----------------- -------\n",
    "asttokens         2.4.1\n",
    "colorama          0.4.6\n",
    "comm              0.1.4\n",
    "debugpy           1.8.0\n",
    "decorator         5.1.1\n",
    "executing         2.0.1\n",
    "ipykernel         6.26.0\n",
    "ipython           8.17.2\n",
    "jedi              0.19.1\n",
    "jupyter_client    8.5.0\n",
    "jupyter_core      5.5.0\n",
    "matplotlib-inline 0.1.6\n",
    "nest-asyncio      1.5.8\n",
    "packaging         23.2\n",
    "parso             0.8.3\n",
    "pip               23.2.1\n",
    "platformdirs      3.11.0\n",
    "prompt-toolkit    3.0.39\n",
    "psutil            5.9.6\n",
    "pure-eval         0.2.2\n",
    "pygame            2.5.2\n",
    "Pygments          2.16.1\n",
    "python-dateutil   2.8.2\n",
    "pywin32           306\n",
    "pyzmq             25.1.1\n",
    "six               1.16.0\n",
    "stack-data        0.6.3\n",
    "tornado           6.3.3\n",
    "traitlets         5.13.0\n",
    "wcwidth           0.2.9"
   ]
  }
 ],
 "metadata": {
  "kernelspec": {
   "display_name": "Python 3",
   "language": "python",
   "name": "python3"
  },
  "language_info": {
   "codemirror_mode": {
    "name": "ipython",
    "version": 3
   },
   "file_extension": ".py",
   "mimetype": "text/x-python",
   "name": "python",
   "nbconvert_exporter": "python",
   "pygments_lexer": "ipython3",
   "version": "3.12.0"
  }
 },
 "nbformat": 4,
 "nbformat_minor": 2
}
