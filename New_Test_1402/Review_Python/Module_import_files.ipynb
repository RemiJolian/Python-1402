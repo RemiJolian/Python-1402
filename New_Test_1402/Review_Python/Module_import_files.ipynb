{
 "cells": [
  {
   "cell_type": "markdown",
   "metadata": {},
   "source": [
    "# to import a file.py to another file, and use its functions and classes"
   ]
  },
  {
   "cell_type": "markdown",
   "metadata": {},
   "source": [
    "# Here are some examples of using modules and files in Python:\n",
    "1- Creating and Importing a Module\n",
    "2- Importing Specific Names(func,or ...) from a Module\n",
    "3- Importing a Module with a Different Name\n",
    "4- Importing a Module and Using the __name__ Variable"
   ]
  },
  {
   "cell_type": "markdown",
   "metadata": {},
   "source": [
    "# 1- Creating and Importing a Module"
   ]
  },
  {
   "cell_type": "code",
   "execution_count": 12,
   "metadata": {},
   "outputs": [
    {
     "data": {
      "text/plain": [
       "5"
      ]
     },
     "execution_count": 12,
     "metadata": {},
     "output_type": "execute_result"
    }
   ],
   "source": [
    "# use a file, exist here in current folder, named example.py\n",
    "import example\n",
    "\n",
    "example.add(2, 3)"
   ]
  },
  {
   "cell_type": "markdown",
   "metadata": {},
   "source": [
    "# 2: Importing Specific Names(func or ...) from a Module"
   ]
  },
  {
   "cell_type": "code",
   "execution_count": null,
   "metadata": {},
   "outputs": [],
   "source": [
    "from math_operations import add, multiply\n",
    "print(add(2, 3))\n",
    "print(multiply(2, 5))"
   ]
  },
  {
   "cell_type": "code",
   "execution_count": 17,
   "metadata": {},
   "outputs": [
    {
     "data": {
      "text/plain": [
       "3"
      ]
     },
     "execution_count": 17,
     "metadata": {},
     "output_type": "execute_result"
    }
   ],
   "source": [
    "# import a parameter\n",
    "from example3 import c\n",
    "c"
   ]
  },
  {
   "cell_type": "markdown",
   "metadata": {},
   "source": [
    "# 3- Importing a Module with a Different Name"
   ]
  },
  {
   "cell_type": "code",
   "execution_count": 7,
   "metadata": {},
   "outputs": [
    {
     "data": {
      "text/plain": [
       "11"
      ]
     },
     "execution_count": 7,
     "metadata": {},
     "output_type": "execute_result"
    }
   ],
   "source": [
    "import example as ex\n",
    "ex.add(2, 9)"
   ]
  },
  {
   "cell_type": "markdown",
   "metadata": {},
   "source": [
    "# 4: Importing a Module and Using the __name__ Variable"
   ]
  },
  {
   "cell_type": "markdown",
   "metadata": {},
   "source": [
    "The if __name__ == \"__main__\": block is only executed when the module is run as the main program, not when it is imported into another module."
   ]
  },
  {
   "cell_type": "code",
   "execution_count": null,
   "metadata": {},
   "outputs": [],
   "source": [
    "# example2.py file here in this folder, see left side Review_Python folder\n",
    "\n",
    "# def add(a, b):\n",
    "#     result = a + b\n",
    "#     return result\n",
    "\n",
    "# if __name__ == \"__main__\":\n",
    "#     print(\"This is the main program.\")\n",
    "#     result = add(2, 3)\n",
    "#     print(result)\n"
   ]
  },
  {
   "cell_type": "code",
   "execution_count": 9,
   "metadata": {},
   "outputs": [
    {
     "name": "stdout",
     "output_type": "stream",
     "text": [
      "This is not the main program.\n",
      "9\n"
     ]
    }
   ],
   "source": [
    "# this new file example2 exist here in current folder\n",
    "import example2\n",
    "\n",
    "print(\"This is not the main program.\")\n",
    "result = example2.add(4, 5)\n",
    "print(result)\n"
   ]
  }
 ],
 "metadata": {
  "kernelspec": {
   "display_name": "Python 3",
   "language": "python",
   "name": "python3"
  },
  "language_info": {
   "codemirror_mode": {
    "name": "ipython",
    "version": 3
   },
   "file_extension": ".py",
   "mimetype": "text/x-python",
   "name": "python",
   "nbconvert_exporter": "python",
   "pygments_lexer": "ipython3",
   "version": "3.11.1"
  }
 },
 "nbformat": 4,
 "nbformat_minor": 2
}
