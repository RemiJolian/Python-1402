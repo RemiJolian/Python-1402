{
 "cells": [
  {
   "cell_type": "markdown",
   "metadata": {},
   "source": [
    "# os library"
   ]
  },
  {
   "cell_type": "code",
   "execution_count": 76,
   "metadata": {},
   "outputs": [],
   "source": [
    "import os"
   ]
  },
  {
   "cell_type": "code",
   "execution_count": 77,
   "metadata": {},
   "outputs": [
    {
     "data": {
      "text/plain": [
       "\"d:\\\\1-Programming\\\\1-Training_Files & Codes\\\\Python\\\\Ramin's Codes_Python\\\\New_Test_1402\\\\Review_Python\""
      ]
     },
     "execution_count": 77,
     "metadata": {},
     "output_type": "execute_result"
    }
   ],
   "source": [
    "# get current working address\n",
    "os.getcwd()"
   ]
  },
  {
   "cell_type": "code",
   "execution_count": null,
   "metadata": {},
   "outputs": [],
   "source": [
    "os.listdir()"
   ]
  },
  {
   "cell_type": "code",
   "execution_count": 7,
   "metadata": {},
   "outputs": [],
   "source": [
    "os.mkdir('ABC')"
   ]
  },
  {
   "cell_type": "code",
   "execution_count": null,
   "metadata": {},
   "outputs": [],
   "source": [
    "# remove address if is empty\n",
    "os.rmdir('ABC')"
   ]
  },
  {
   "cell_type": "code",
   "execution_count": 3,
   "metadata": {},
   "outputs": [
    {
     "data": {
      "text/plain": [
       "\"d:\\\\1-Programming\\\\1-Training_Files & Codes\\\\Python\\\\Ramin's Codes_Python\\\\New_Test_1402\\\\Review_Python\""
      ]
     },
     "execution_count": 3,
     "metadata": {},
     "output_type": "execute_result"
    }
   ],
   "source": [
    "import os\n",
    "w = os.getcwd()\n",
    "w"
   ]
  },
  {
   "cell_type": "code",
   "execution_count": 98,
   "metadata": {},
   "outputs": [],
   "source": [
    "os.chdir('/1-Programming/1-Training_Files & Codes/Python')"
   ]
  },
  {
   "cell_type": "markdown",
   "metadata": {},
   "source": [
    "# # Navigate back one level"
   ]
  },
  {
   "cell_type": "code",
   "execution_count": null,
   "metadata": {},
   "outputs": [],
   "source": [
    "import os\n",
    "\n",
    "# Get the current working address\n",
    "current_dir = os.getcwd()\n",
    "print(\"Current Directory:\", current_dir)\n",
    "\n",
    "# Navigate back one level\n",
    "parent_dir = os.path.dirname(current_dir)\n",
    "os.chdir(parent_dir)\n",
    "\n",
    "# Check the current working address after navigating back\n",
    "new_current_dir = os.getcwd()\n",
    "print(\"New Current Directory:\", new_current_dir)\n"
   ]
  },
  {
   "cell_type": "code",
   "execution_count": 18,
   "metadata": {},
   "outputs": [
    {
     "data": {
      "text/plain": [
       "\"d:\\\\1-Programming\\\\1-Training_Files & Codes\\\\Python\\\\Ramin's Codes_Python\\\\New_Test_1402\""
      ]
     },
     "execution_count": 18,
     "metadata": {},
     "output_type": "execute_result"
    }
   ],
   "source": [
    "os.chdir('New_Test_1402')\n",
    "os.getcwd()"
   ]
  },
  {
   "cell_type": "code",
   "execution_count": 19,
   "metadata": {},
   "outputs": [
    {
     "data": {
      "text/plain": [
       "\"d:\\\\1-Programming\\\\1-Training_Files & Codes\\\\Python\\\\Ramin's Codes_Python\\\\New_Test_1402\\\\Review_Python\""
      ]
     },
     "execution_count": 19,
     "metadata": {},
     "output_type": "execute_result"
    }
   ],
   "source": [
    "os.chdir('Review_Python')\n",
    "os.getcwd()"
   ]
  },
  {
   "cell_type": "code",
   "execution_count": null,
   "metadata": {},
   "outputs": [],
   "source": [
    "os.listdir()"
   ]
  },
  {
   "cell_type": "code",
   "execution_count": 23,
   "metadata": {},
   "outputs": [],
   "source": [
    "os.mkdir('test')"
   ]
  },
  {
   "cell_type": "markdown",
   "metadata": {},
   "source": [
    "# delete a file"
   ]
  },
  {
   "cell_type": "code",
   "execution_count": 24,
   "metadata": {},
   "outputs": [],
   "source": [
    "# os.remove('file name')\n",
    "os.remove('dsv.txt')"
   ]
  },
  {
   "cell_type": "code",
   "execution_count": 30,
   "metadata": {},
   "outputs": [],
   "source": [
    "# rename old name to new name\n",
    "os.rename('example.txt', 'qwe.txt')"
   ]
  },
  {
   "cell_type": "markdown",
   "metadata": {},
   "source": [
    "# system, run file here"
   ]
  },
  {
   "cell_type": "code",
   "execution_count": null,
   "metadata": {},
   "outputs": [],
   "source": [
    "os.system('python codes/main.py')"
   ]
  },
  {
   "cell_type": "code",
   "execution_count": 34,
   "metadata": {},
   "outputs": [
    {
     "data": {
      "text/plain": [
       "0"
      ]
     },
     "execution_count": 34,
     "metadata": {},
     "output_type": "execute_result"
    }
   ],
   "source": [
    "import os\n",
    "\n",
    "# To open a file in the default text editor:\n",
    "os.system(\"notepad.exe file.txt\")\n",
    "\n",
    "# to create new dir\n",
    "os.system(\"mkdir new_address\")\n",
    "\n",
    "# To list the contents of a address:\n",
    "os.system(\"dir\")\n",
    "\n"
   ]
  },
  {
   "cell_type": "code",
   "execution_count": 42,
   "metadata": {},
   "outputs": [
    {
     "data": {
      "text/plain": [
       "0"
      ]
     },
     "execution_count": 42,
     "metadata": {},
     "output_type": "execute_result"
    }
   ],
   "source": [
    "# to run a python script\n",
    "os.system('python b.py')"
   ]
  },
  {
   "cell_type": "markdown",
   "metadata": {},
   "source": [
    "# move and rename at another address\n"
   ]
  },
  {
   "cell_type": "code",
   "execution_count": 43,
   "metadata": {},
   "outputs": [],
   "source": [
    "os.rename('name.txt', 'new_address/abcd.txt')"
   ]
  },
  {
   "cell_type": "markdown",
   "metadata": {},
   "source": [
    "# copy a file"
   ]
  },
  {
   "cell_type": "code",
   "execution_count": 47,
   "metadata": {},
   "outputs": [
    {
     "name": "stdout",
     "output_type": "stream",
     "text": [
      "File copied successfully.\n"
     ]
    }
   ],
   "source": [
    "import os\n",
    "\n",
    "# source = '/path/to/source/file.txt'\n",
    "source = 'test_address1/file.txt'\n",
    "destination = 'test_address2/file.txt'\n",
    "\n",
    "if os.path.exists(source):\n",
    "    if os.path.isfile(source):\n",
    "        os.makedirs(os.path.dirname(destination), exist_ok=True)\n",
    "        os.replace(source, destination)\n",
    "        print('File copied successfully.')\n",
    "    else:\n",
    "        print('Source is not a file.')\n",
    "else:\n",
    "    print('Source file does not exist.')\n"
   ]
  },
  {
   "cell_type": "markdown",
   "metadata": {},
   "source": [
    "# walk\n",
    "The os.walk() function in Python is used to traverse a address tree and generate the file names in the tree. It can be used to search for files in a address hierarchy or to perform operations on all files in a address tree.\n",
    "# Here are some examples of using os.walk() in Python:"
   ]
  },
  {
   "cell_type": "code",
   "execution_count": 6,
   "metadata": {},
   "outputs": [
    {
     "name": "stdout",
     "output_type": "stream",
     "text": [
      "Number of files: 28\n"
     ]
    }
   ],
   "source": [
    "# To count the number of files in a address tree:\n",
    "import os\n",
    "\n",
    "count = 0\n",
    "# files and folders not empty are counted by ('.'). but general format is: os.walk('/path/to/address')\n",
    "for root, dirs, files in os.walk('.'):\n",
    "    count += len(files)\n",
    "\n",
    "print(f\"Number of files: {count}\")\n"
   ]
  },
  {
   "cell_type": "code",
   "execution_count": null,
   "metadata": {},
   "outputs": [],
   "source": [
    "# To copy all files in a address tree to a new location:\n",
    "import os\n",
    "import shutil\n",
    "\n",
    "source = '/path/to/source/address'\n",
    "destination = '/path/to/destination/address'\n",
    "\n",
    "for root, dirs, files in os.walk(source):\n",
    "    for file in files:\n",
    "        source_path = os.path.join(root, file)\n",
    "        destination_path = os.path.join(destination, os.path.relpath(source_path, source))\n",
    "        os.makedirs(os.path.dirname(destination_path), exist_ok=True)\n",
    "        shutil.copy2(source_path, destination_path)\n",
    "## In this example, we use os.walk() to traverse\n",
    "#  the source address tree and copy each file to the destination address tree.\n",
    "# We use os.path.relpath() to get the relative path of each file from the source address,\n",
    "#  and then use os.makedirs() to create the destination address if it doesn't exist.\n",
    "#  Finally, we use shutil.copy2() to copy the file to the destination address."
   ]
  },
  {
   "cell_type": "markdown",
   "metadata": {},
   "source": [
    "# Note that os.walk() can be memory-intensive if the address tree is very large. If you want to minimize memory usage, you can use a with statement to open each file in the address tree and process it one at a time, rather than loading all the file names into memory at once."
   ]
  },
  {
   "cell_type": "code",
   "execution_count": 7,
   "metadata": {},
   "outputs": [
    {
     "name": "stdout",
     "output_type": "stream",
     "text": [
      "[('.', ['test_directory1', 'test_directory2'], ['ans.csv', 'b.py', 'b.txt', 'class.ipynb', 'data.json', 'Data_Structure1_Quera.ipynb', 'datetime_lib.py', 'dict.ipynb', 'dst.png', 'Files.ipynb', 'function.ipynb', 'Generators.ipynb', 'info.txt', 'json.ipynb', 'Lambda.ipynb', 'list.ipynb', 'name.txt', 'numbers.csv', 'OS_library.ipynb', 'output.csv', 'Polgars_image.PNG', 'qwe.txt', 'RegEx_re_lib.ipynb', 'set.ipynb', 'Stack_Queue.ipynb', 'strings.ipynb', 'tupple.ipynb']), ('.\\\\test_directory1', [], []), ('.\\\\test_directory2', [], ['file.txt'])]\n"
     ]
    }
   ],
   "source": [
    "w = os.walk('.')\n",
    "print(list(w))"
   ]
  },
  {
   "cell_type": "markdown",
   "metadata": {},
   "source": [
    "# path object in os lib\n",
    "with many submudules"
   ]
  },
  {
   "cell_type": "code",
   "execution_count": 52,
   "metadata": {},
   "outputs": [
    {
     "data": {
      "text/plain": [
       "True"
      ]
     },
     "execution_count": 52,
     "metadata": {},
     "output_type": "execute_result"
    }
   ],
   "source": [
    "os.path.exists('Lambda.ipynb')"
   ]
  },
  {
   "cell_type": "code",
   "execution_count": 53,
   "metadata": {},
   "outputs": [
    {
     "data": {
      "text/plain": [
       "True"
      ]
     },
     "execution_count": 53,
     "metadata": {},
     "output_type": "execute_result"
    }
   ],
   "source": [
    "os.path.exists('test_address2/file.txt')\n"
   ]
  },
  {
   "cell_type": "markdown",
   "metadata": {},
   "source": [
    "# isdir() and isfile()"
   ]
  },
  {
   "cell_type": "code",
   "execution_count": 54,
   "metadata": {},
   "outputs": [
    {
     "data": {
      "text/plain": [
       "True"
      ]
     },
     "execution_count": 54,
     "metadata": {},
     "output_type": "execute_result"
    }
   ],
   "source": [
    "os.path.isdir('test_address1')"
   ]
  },
  {
   "cell_type": "code",
   "execution_count": 55,
   "metadata": {},
   "outputs": [
    {
     "data": {
      "text/plain": [
       "False"
      ]
     },
     "execution_count": 55,
     "metadata": {},
     "output_type": "execute_result"
    }
   ],
   "source": [
    "os.path.isfile('test_address1')"
   ]
  },
  {
   "cell_type": "code",
   "execution_count": 57,
   "metadata": {},
   "outputs": [
    {
     "data": {
      "text/plain": [
       "True"
      ]
     },
     "execution_count": 57,
     "metadata": {},
     "output_type": "execute_result"
    }
   ],
   "source": [
    "os.path.isfile('test_address2/file.txt')\n"
   ]
  },
  {
   "cell_type": "markdown",
   "metadata": {},
   "source": [
    "# in your system operation, which symbol separate folders:"
   ]
  },
  {
   "cell_type": "code",
   "execution_count": 8,
   "metadata": {},
   "outputs": [
    {
     "data": {
      "text/plain": [
       "'\\\\'"
      ]
     },
     "execution_count": 8,
     "metadata": {},
     "output_type": "execute_result"
    }
   ],
   "source": [
    "os.sep"
   ]
  },
  {
   "cell_type": "markdown",
   "metadata": {},
   "source": [
    "# basename()\n",
    "last address"
   ]
  },
  {
   "cell_type": "code",
   "execution_count": 9,
   "metadata": {},
   "outputs": [
    {
     "data": {
      "text/plain": [
       "'file.txt'"
      ]
     },
     "execution_count": 9,
     "metadata": {},
     "output_type": "execute_result"
    }
   ],
   "source": [
    "os.path.basename('test_address2/file.txt')\n"
   ]
  },
  {
   "cell_type": "markdown",
   "metadata": {},
   "source": [
    "# Queiz: jostejoGar"
   ]
  },
  {
   "cell_type": "code",
   "execution_count": 62,
   "metadata": {},
   "outputs": [
    {
     "data": {
      "text/plain": [
       "{'.': 4, '.\\\\test_directory2': 1}"
      ]
     },
     "execution_count": 62,
     "metadata": {},
     "output_type": "execute_result"
    }
   ],
   "source": [
    "import os\n",
    "\n",
    "def count_files(ttype, address):\n",
    "    file_counts = {}\n",
    "    ttype = ttype.lower()\n",
    "    address = address.lower()\n",
    "    for root, dirs, files in os.walk(address):\n",
    "        count = 0\n",
    "        for file in files:\n",
    "            if file.endswith(ttype):\n",
    "                count += 1\n",
    "        if count != 0:\n",
    "            file_counts[root] = count\n",
    "        for dir in dirs:\n",
    "            dir_path = os.path.join(root, dir)\n",
    "            subdir_counts = count_files(ttype, dir_path)\n",
    "            for subdir, subdir_count in subdir_counts.items():\n",
    "                file_counts[subdir] = subdir_count\n",
    "    return file_counts\n",
    "\n",
    "ttype = \".txt\"  # Example file format\n",
    "address = '.'  # Example address address\n",
    "\n",
    "count_files(ttype, address)\n",
    "\n"
   ]
  },
  {
   "cell_type": "markdown",
   "metadata": {},
   "source": [
    "# \\\\ and / in output "
   ]
  },
  {
   "cell_type": "code",
   "execution_count": 58,
   "metadata": {},
   "outputs": [
    {
     "data": {
      "text/plain": [
       "{'.': 4, './test_directory2': 1}"
      ]
     },
     "execution_count": 58,
     "metadata": {},
     "output_type": "execute_result"
    }
   ],
   "source": [
    "import os\n",
    "\n",
    "def count_files(file_format, address):\n",
    "    file_counts = {}\n",
    "    for root, dirs, files in os.walk(address):\n",
    "        count = 0\n",
    "        for file in files:\n",
    "            if file.endswith(file_format):\n",
    "                count += 1\n",
    "        if count != 0:\n",
    "            file_counts[root.replace('\\\\', '/')] = count\n",
    "        for dir in dirs:\n",
    "            dir_path = os.path.join(root, dir)\n",
    "            subdir_counts = count_files(file_format, dir_path)\n",
    "            for subdir, subdir_count in subdir_counts.items():\n",
    "                file_counts[subdir.replace('\\\\', '/')] = subdir_count\n",
    "    return file_counts\n",
    "\n",
    "file_format = \".txt\"  # Example file format\n",
    "address = '.'  # Example address address\n",
    "\n",
    "count_files(file_format, address)\n",
    "\n"
   ]
  },
  {
   "cell_type": "markdown",
   "metadata": {},
   "source": [
    "# see other solutions for the above Queiz"
   ]
  },
  {
   "cell_type": "code",
   "execution_count": null,
   "metadata": {},
   "outputs": [],
   "source": [
    "import os\n",
    " \n",
    "def explore(extension, addr):\n",
    "    result = dict()\n",
    "    for obj in os.walk(addr):\n",
    "        for name in obj[2]:\n",
    "            if \".\" in name and name.split('.')[-1].lower() == extension.lower():\n",
    "                try:\n",
    "                    result[obj[0]] += 1\n",
    "                except KeyError:\n",
    "                    result[obj[0]] = 1\n",
    "    return result"
   ]
  },
  {
   "cell_type": "code",
   "execution_count": null,
   "metadata": {},
   "outputs": [],
   "source": [
    "import os\n",
    "\n",
    "def explore(extension, path):\n",
    "    result = {}\n",
    "    for root, dirs, files in os.walk(path):\n",
    "        for file in files:\n",
    "            if file.lower().endswith(\".\" + extension.lower()):\n",
    "                folder_path = os.path.relpath(root, path)\n",
    "                if folder_path == \".\":\n",
    "                    folder_path = path\n",
    "                else:\n",
    "                    folder_path = os.path.join(path, folder_path)\n",
    "                result[folder_path] = result.get(folder_path, 0) + 1\n",
    "    return result\n"
   ]
  },
  {
   "cell_type": "code",
   "execution_count": null,
   "metadata": {},
   "outputs": [],
   "source": [
    "import os\n",
    "\n",
    "def explore(ttype, address):\n",
    "    ttype = ttype.lower() \n",
    "    result = {}\n",
    "\n",
    "    for dirpath, dirnames, filenames in os.walk(address):\n",
    "        count = 0\n",
    "        for filename in filenames:\n",
    "            if os.path.splitext(filename)[1].lower() == \".\" + ttype:\n",
    "                count += 1\n",
    "        \n",
    "        if count:\n",
    "            result[dirpath] = count\n",
    "            \n",
    "    return result\n"
   ]
  },
  {
   "cell_type": "code",
   "execution_count": null,
   "metadata": {},
   "outputs": [],
   "source": [
    "import os\n",
    "\n",
    "\n",
    "def explore(extension, directory):\n",
    "    result = {}\n",
    "    extension = extension.lower()\n",
    "\n",
    "    for root, dirs, files in os.walk(directory):\n",
    "        count = 0\n",
    "        for file in files:\n",
    "            if file.lower().endswith(f\".{extension}\"):\n",
    "                count += 1\n",
    "        if count > 0:\n",
    "            result[os.path.normpath(root).replace('\\\\', '/')] = count\n",
    "\n",
    "    return result"
   ]
  },
  {
   "cell_type": "code",
   "execution_count": null,
   "metadata": {},
   "outputs": [],
   "source": [
    "import os\n",
    "\n",
    "\n",
    "def explore(ttype, address):\n",
    "    Folders_data = {}\n",
    "    Final_Output = {}\n",
    "    File_Type = '.' + ttype.lower()\n",
    "    for Folder in list(os.walk(address)):\n",
    "        if Folder[0] not in Folders_data:\n",
    "            Folders_data.update({str(Folder[0]) : 0})\n",
    "        for File_Name in Folder[-1]:\n",
    "            if File_Type in File_Name:\n",
    "                Folders_data[str(Folder[0])] += 1\n",
    "    for Key ,Value in Folders_data.items():\n",
    "        if Value != 0:\n",
    "            Final_Output.update({Key : Value})\n",
    "    return(Final_Output)"
   ]
  },
  {
   "cell_type": "markdown",
   "metadata": {},
   "source": [
    "# back 1 level in address"
   ]
  },
  {
   "cell_type": "code",
   "execution_count": null,
   "metadata": {},
   "outputs": [],
   "source": [
    "os.chdir('..')"
   ]
  }
 ],
 "metadata": {
  "kernelspec": {
   "display_name": "Python 3",
   "language": "python",
   "name": "python3"
  },
  "language_info": {
   "codemirror_mode": {
    "name": "ipython",
    "version": 3
   },
   "file_extension": ".py",
   "mimetype": "text/x-python",
   "name": "python",
   "nbconvert_exporter": "python",
   "pygments_lexer": "ipython3",
   "version": "3.11.1"
  }
 },
 "nbformat": 4,
 "nbformat_minor": 2
}
