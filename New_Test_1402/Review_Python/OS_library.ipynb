{
 "cells": [
  {
   "cell_type": "markdown",
   "metadata": {},
   "source": [
    "# os library"
   ]
  },
  {
   "cell_type": "code",
   "execution_count": 2,
   "metadata": {},
   "outputs": [],
   "source": [
    "import os"
   ]
  },
  {
   "cell_type": "code",
   "execution_count": 20,
   "metadata": {},
   "outputs": [
    {
     "data": {
      "text/plain": [
       "\"d:\\\\1-Programming\\\\1-Training_Files & Codes\\\\Python\\\\Ramin's Codes_Python\\\\New_Test_1402\\\\Review_Python\""
      ]
     },
     "execution_count": 20,
     "metadata": {},
     "output_type": "execute_result"
    }
   ],
   "source": [
    "# get current working directory\n",
    "os.getcwd()"
   ]
  },
  {
   "cell_type": "code",
   "execution_count": null,
   "metadata": {},
   "outputs": [],
   "source": [
    "os.listdir()"
   ]
  },
  {
   "cell_type": "code",
   "execution_count": 7,
   "metadata": {},
   "outputs": [],
   "source": [
    "os.mkdir('ABC')"
   ]
  },
  {
   "cell_type": "code",
   "execution_count": null,
   "metadata": {},
   "outputs": [],
   "source": [
    "# remove directory if is empty\n",
    "os.rmdir('ABC')"
   ]
  },
  {
   "cell_type": "code",
   "execution_count": 9,
   "metadata": {},
   "outputs": [
    {
     "data": {
      "text/plain": [
       "\"d:\\\\1-Programming\\\\1-Training_Files & Codes\\\\Python\\\\Ramin's Codes_Python\\\\New_Test_1402\\\\Review_Python\\\\abc\""
      ]
     },
     "execution_count": 9,
     "metadata": {},
     "output_type": "execute_result"
    }
   ],
   "source": [
    "os.getcwd()"
   ]
  },
  {
   "cell_type": "code",
   "execution_count": 12,
   "metadata": {},
   "outputs": [
    {
     "name": "stdout",
     "output_type": "stream",
     "text": [
      "Current Directory: d:\\1-Programming\\1-Training_Files & Codes\\Python\\Ramin's Codes_Python\\New_Test_1402\\Review_Python\\abc\n",
      "New Current Directory: d:\\1-Programming\\1-Training_Files & Codes\\Python\\Ramin's Codes_Python\\New_Test_1402\\Review_Python\n"
     ]
    }
   ],
   "source": [
    "import os\n",
    "\n",
    "# Get the current working directory\n",
    "current_dir = os.getcwd()\n",
    "print(\"Current Directory:\", current_dir)\n",
    "\n",
    "# Navigate back one level\n",
    "parent_dir = os.path.dirname(current_dir)\n",
    "os.chdir(parent_dir)\n",
    "\n",
    "# Check the current working directory after navigating back\n",
    "new_current_dir = os.getcwd()\n",
    "print(\"New Current Directory:\", new_current_dir)\n"
   ]
  },
  {
   "cell_type": "code",
   "execution_count": 14,
   "metadata": {},
   "outputs": [
    {
     "data": {
      "text/plain": [
       "\"d:\\\\1-Programming\\\\1-Training_Files & Codes\\\\Python\\\\Ramin's Codes_Python\""
      ]
     },
     "execution_count": 14,
     "metadata": {},
     "output_type": "execute_result"
    }
   ],
   "source": [
    "parent_dir = os.path.dirname(os.getcwd())\n",
    "os.chdir(parent_dir)\n",
    "os.getcwd()"
   ]
  },
  {
   "cell_type": "code",
   "execution_count": 18,
   "metadata": {},
   "outputs": [
    {
     "data": {
      "text/plain": [
       "\"d:\\\\1-Programming\\\\1-Training_Files & Codes\\\\Python\\\\Ramin's Codes_Python\\\\New_Test_1402\""
      ]
     },
     "execution_count": 18,
     "metadata": {},
     "output_type": "execute_result"
    }
   ],
   "source": [
    "os.chdir('New_Test_1402')\n",
    "os.getcwd()"
   ]
  },
  {
   "cell_type": "code",
   "execution_count": 19,
   "metadata": {},
   "outputs": [
    {
     "data": {
      "text/plain": [
       "\"d:\\\\1-Programming\\\\1-Training_Files & Codes\\\\Python\\\\Ramin's Codes_Python\\\\New_Test_1402\\\\Review_Python\""
      ]
     },
     "execution_count": 19,
     "metadata": {},
     "output_type": "execute_result"
    }
   ],
   "source": [
    "os.chdir('Review_Python')\n",
    "os.getcwd()"
   ]
  },
  {
   "cell_type": "code",
   "execution_count": null,
   "metadata": {},
   "outputs": [],
   "source": [
    "os.listdir()"
   ]
  },
  {
   "cell_type": "code",
   "execution_count": 23,
   "metadata": {},
   "outputs": [],
   "source": [
    "os.mkdir('test')"
   ]
  },
  {
   "cell_type": "markdown",
   "metadata": {},
   "source": [
    "# delete a file"
   ]
  },
  {
   "cell_type": "code",
   "execution_count": 24,
   "metadata": {},
   "outputs": [],
   "source": [
    "# os.remove('file name')\n",
    "os.remove('dsv.txt')"
   ]
  },
  {
   "cell_type": "code",
   "execution_count": 30,
   "metadata": {},
   "outputs": [],
   "source": [
    "# rename old name to new name\n",
    "os.rename('example.txt', 'qwe.txt')"
   ]
  },
  {
   "cell_type": "markdown",
   "metadata": {},
   "source": [
    "# system, run file here"
   ]
  },
  {
   "cell_type": "code",
   "execution_count": null,
   "metadata": {},
   "outputs": [],
   "source": [
    "os.system('python codes/main.py')"
   ]
  },
  {
   "cell_type": "code",
   "execution_count": 34,
   "metadata": {},
   "outputs": [
    {
     "data": {
      "text/plain": [
       "0"
      ]
     },
     "execution_count": 34,
     "metadata": {},
     "output_type": "execute_result"
    }
   ],
   "source": [
    "import os\n",
    "\n",
    "# To open a file in the default text editor:\n",
    "os.system(\"notepad.exe file.txt\")\n",
    "\n",
    "# to create new dir\n",
    "os.system(\"mkdir new_directory\")\n",
    "\n",
    "# To list the contents of a directory:\n",
    "os.system(\"dir\")\n",
    "\n"
   ]
  },
  {
   "cell_type": "code",
   "execution_count": 42,
   "metadata": {},
   "outputs": [
    {
     "data": {
      "text/plain": [
       "0"
      ]
     },
     "execution_count": 42,
     "metadata": {},
     "output_type": "execute_result"
    }
   ],
   "source": [
    "# to run a python script\n",
    "os.system('python b.py')"
   ]
  },
  {
   "cell_type": "markdown",
   "metadata": {},
   "source": [
    "# move and rename at another address\n"
   ]
  },
  {
   "cell_type": "code",
   "execution_count": 43,
   "metadata": {},
   "outputs": [],
   "source": [
    "os.rename('name.txt', 'new_directory/abcd.txt')"
   ]
  },
  {
   "cell_type": "markdown",
   "metadata": {},
   "source": [
    "# copy a file"
   ]
  },
  {
   "cell_type": "code",
   "execution_count": 47,
   "metadata": {},
   "outputs": [
    {
     "name": "stdout",
     "output_type": "stream",
     "text": [
      "File copied successfully.\n"
     ]
    }
   ],
   "source": [
    "import os\n",
    "\n",
    "# source = '/path/to/source/file.txt'\n",
    "source = 'test_directory1/file.txt'\n",
    "destination = 'test_directory2/file.txt'\n",
    "\n",
    "if os.path.exists(source):\n",
    "    if os.path.isfile(source):\n",
    "        os.makedirs(os.path.dirname(destination), exist_ok=True)\n",
    "        os.replace(source, destination)\n",
    "        print('File copied successfully.')\n",
    "    else:\n",
    "        print('Source is not a file.')\n",
    "else:\n",
    "    print('Source file does not exist.')\n"
   ]
  },
  {
   "cell_type": "markdown",
   "metadata": {},
   "source": [
    "# walk\n",
    "The os.walk() function in Python is used to traverse a directory tree and generate the file names in the tree. It can be used to search for files in a directory hierarchy or to perform operations on all files in a directory tree.\n",
    "# Here are some examples of using os.walk() in Python:"
   ]
  },
  {
   "cell_type": "code",
   "execution_count": 73,
   "metadata": {},
   "outputs": [
    {
     "name": "stdout",
     "output_type": "stream",
     "text": [
      "Number of files: 27\n"
     ]
    }
   ],
   "source": [
    "# To count the number of files in a directory tree:\n",
    "import os\n",
    "\n",
    "count = 0\n",
    "# files and folders not empty counted by ('.'). but general format: os.walk('/path/to/directory')\n",
    "for root, dirs, files in os.walk('.'):\n",
    "    count += len(files)\n",
    "\n",
    "print(f\"Number of files: {count}\")\n"
   ]
  },
  {
   "cell_type": "code",
   "execution_count": null,
   "metadata": {},
   "outputs": [],
   "source": [
    "# To copy all files in a directory tree to a new location:\n",
    "import os\n",
    "import shutil\n",
    "\n",
    "source = '/path/to/source/directory'\n",
    "destination = '/path/to/destination/directory'\n",
    "\n",
    "for root, dirs, files in os.walk(source):\n",
    "    for file in files:\n",
    "        source_path = os.path.join(root, file)\n",
    "        destination_path = os.path.join(destination, os.path.relpath(source_path, source))\n",
    "        os.makedirs(os.path.dirname(destination_path), exist_ok=True)\n",
    "        shutil.copy2(source_path, destination_path)\n",
    "## In this example, we use os.walk() to traverse\n",
    "#  the source directory tree and copy each file to the destination directory tree.\n",
    "# We use os.path.relpath() to get the relative path of each file from the source directory,\n",
    "#  and then use os.makedirs() to create the destination directory if it doesn't exist.\n",
    "#  Finally, we use shutil.copy2() to copy the file to the destination directory."
   ]
  },
  {
   "cell_type": "markdown",
   "metadata": {},
   "source": [
    "# Note that os.walk() can be memory-intensive if the directory tree is very large. If you want to minimize memory usage, you can use a with statement to open each file in the directory tree and process it one at a time, rather than loading all the file names into memory at once."
   ]
  },
  {
   "cell_type": "code",
   "execution_count": 50,
   "metadata": {},
   "outputs": [
    {
     "name": "stdout",
     "output_type": "stream",
     "text": [
      "[('.', ['test_directory1', 'test_directory2'], ['ans.csv', 'b.py', 'b.txt', 'class.ipynb', 'data.json', 'Data_Structure1_Quera.ipynb', 'datetime_lib.py', 'dict.ipynb', 'dst.png', 'Files.ipynb', 'function.ipynb', 'Generators.ipynb', 'info.txt', 'json.ipynb', 'Lambda.ipynb', 'list.ipynb', 'name.txt', 'numbers.csv', 'OS_library.ipynb', 'output.csv', 'Polgars_image.PNG', 'qwe.txt', 'RegEx_re_lib.ipynb', 'set.ipynb', 'Stack_Queue.ipynb', 'strings.ipynb', 'tupple.ipynb']), ('.\\\\test_directory1', [], []), ('.\\\\test_directory2', [], ['file.txt'])]\n"
     ]
    }
   ],
   "source": [
    "w = os.walk('.')\n",
    "print(list(w))"
   ]
  },
  {
   "cell_type": "markdown",
   "metadata": {},
   "source": [
    "# path object in os lib\n",
    "with many submudules"
   ]
  },
  {
   "cell_type": "code",
   "execution_count": 52,
   "metadata": {},
   "outputs": [
    {
     "data": {
      "text/plain": [
       "True"
      ]
     },
     "execution_count": 52,
     "metadata": {},
     "output_type": "execute_result"
    }
   ],
   "source": [
    "os.path.exists('Lambda.ipynb')"
   ]
  },
  {
   "cell_type": "code",
   "execution_count": 53,
   "metadata": {},
   "outputs": [
    {
     "data": {
      "text/plain": [
       "True"
      ]
     },
     "execution_count": 53,
     "metadata": {},
     "output_type": "execute_result"
    }
   ],
   "source": [
    "os.path.exists('test_directory2/file.txt')\n"
   ]
  },
  {
   "cell_type": "markdown",
   "metadata": {},
   "source": [
    "# isdir() and isfile()"
   ]
  },
  {
   "cell_type": "code",
   "execution_count": 54,
   "metadata": {},
   "outputs": [
    {
     "data": {
      "text/plain": [
       "True"
      ]
     },
     "execution_count": 54,
     "metadata": {},
     "output_type": "execute_result"
    }
   ],
   "source": [
    "os.path.isdir('test_directory1')"
   ]
  },
  {
   "cell_type": "code",
   "execution_count": 55,
   "metadata": {},
   "outputs": [
    {
     "data": {
      "text/plain": [
       "False"
      ]
     },
     "execution_count": 55,
     "metadata": {},
     "output_type": "execute_result"
    }
   ],
   "source": [
    "os.path.isfile('test_directory1')"
   ]
  },
  {
   "cell_type": "code",
   "execution_count": 57,
   "metadata": {},
   "outputs": [
    {
     "data": {
      "text/plain": [
       "True"
      ]
     },
     "execution_count": 57,
     "metadata": {},
     "output_type": "execute_result"
    }
   ],
   "source": [
    "os.path.isfile('test_directory2/file.txt')\n"
   ]
  },
  {
   "cell_type": "code",
   "execution_count": 58,
   "metadata": {},
   "outputs": [
    {
     "data": {
      "text/plain": [
       "'\\\\'"
      ]
     },
     "execution_count": 58,
     "metadata": {},
     "output_type": "execute_result"
    }
   ],
   "source": [
    "os.sep"
   ]
  },
  {
   "cell_type": "markdown",
   "metadata": {},
   "source": [
    "# basename()\n",
    "last address"
   ]
  },
  {
   "cell_type": "code",
   "execution_count": 59,
   "metadata": {},
   "outputs": [
    {
     "data": {
      "text/plain": [
       "'file.txt'"
      ]
     },
     "execution_count": 59,
     "metadata": {},
     "output_type": "execute_result"
    }
   ],
   "source": [
    "os.path.basename('test_directory2/file.txt')\n"
   ]
  },
  {
   "cell_type": "markdown",
   "metadata": {},
   "source": [
    "# Queiz: jostejoGar"
   ]
  },
  {
   "cell_type": "code",
   "execution_count": 62,
   "metadata": {},
   "outputs": [
    {
     "data": {
      "text/plain": [
       "[('.',\n",
       "  ['test_directory1', 'test_directory2'],\n",
       "  ['ans.csv',\n",
       "   'b.py',\n",
       "   'b.txt',\n",
       "   'class.ipynb',\n",
       "   'data.json',\n",
       "   'Data_Structure1_Quera.ipynb',\n",
       "   'datetime_lib.py',\n",
       "   'dict.ipynb',\n",
       "   'dst.png',\n",
       "   'Files.ipynb',\n",
       "   'function.ipynb',\n",
       "   'Generators.ipynb',\n",
       "   'info.txt',\n",
       "   'json.ipynb',\n",
       "   'Lambda.ipynb',\n",
       "   'list.ipynb',\n",
       "   'name.txt',\n",
       "   'numbers.csv',\n",
       "   'OS_library.ipynb',\n",
       "   'output.csv',\n",
       "   'Polgars_image.PNG',\n",
       "   'qwe.txt',\n",
       "   'RegEx_re_lib.ipynb',\n",
       "   'set.ipynb',\n",
       "   'Stack_Queue.ipynb',\n",
       "   'strings.ipynb',\n",
       "   'tupple.ipynb']),\n",
       " ('.\\\\test_directory1', [], []),\n",
       " ('.\\\\test_directory2', [], ['file.txt'])]"
      ]
     },
     "execution_count": 62,
     "metadata": {},
     "output_type": "execute_result"
    }
   ],
   "source": [
    "w = os.walk('.')\n",
    "list(w)"
   ]
  }
 ],
 "metadata": {
  "kernelspec": {
   "display_name": "Python 3",
   "language": "python",
   "name": "python3"
  },
  "language_info": {
   "codemirror_mode": {
    "name": "ipython",
    "version": 3
   },
   "file_extension": ".py",
   "mimetype": "text/x-python",
   "name": "python",
   "nbconvert_exporter": "python",
   "pygments_lexer": "ipython3",
   "version": "3.11.1"
  }
 },
 "nbformat": 4,
 "nbformat_minor": 2
}
