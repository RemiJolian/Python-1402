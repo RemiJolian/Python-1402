{
 "cells": [
  {
   "cell_type": "markdown",
   "metadata": {},
   "source": [
    "# os library"
   ]
  },
  {
   "cell_type": "code",
   "execution_count": 1,
   "metadata": {},
   "outputs": [],
   "source": [
    "import os"
   ]
  },
  {
   "cell_type": "code",
   "execution_count": 3,
   "metadata": {},
   "outputs": [
    {
     "data": {
      "text/plain": [
       "\"d:\\\\1-Programming\\\\1-Training_Files & Codes\\\\Python\\\\Ramin's Codes_Python\\\\New_Test_1402\\\\Review_Python\""
      ]
     },
     "execution_count": 3,
     "metadata": {},
     "output_type": "execute_result"
    }
   ],
   "source": [
    "# get current working address\n",
    "os.getcwd()"
   ]
  },
  {
   "cell_type": "code",
   "execution_count": null,
   "metadata": {},
   "outputs": [],
   "source": [
    "os.listdir()"
   ]
  },
  {
   "cell_type": "code",
   "execution_count": 6,
   "metadata": {},
   "outputs": [],
   "source": [
    "os.mkdir('ABC')"
   ]
  },
  {
   "cell_type": "code",
   "execution_count": 7,
   "metadata": {},
   "outputs": [],
   "source": [
    "# remove address if is empty\n",
    "os.rmdir('ABC')"
   ]
  },
  {
   "cell_type": "code",
   "execution_count": 10,
   "metadata": {},
   "outputs": [
    {
     "data": {
      "text/plain": [
       "\"d:\\\\1-Programming\\\\1-Training_Files & Codes\\\\Python\\\\Ramin's Codes_Python\\\\New_Test_1402\\\\Review_Python\""
      ]
     },
     "execution_count": 10,
     "metadata": {},
     "output_type": "execute_result"
    }
   ],
   "source": [
    "import os\n",
    "w = os.getcwd()\n",
    "w"
   ]
  },
  {
   "cell_type": "code",
   "execution_count": 98,
   "metadata": {},
   "outputs": [],
   "source": [
    "os.chdir('/1-Programming/1-Training_Files & Codes/Python')"
   ]
  },
  {
   "cell_type": "markdown",
   "metadata": {},
   "source": [
    "# # Navigate back one level"
   ]
  },
  {
   "cell_type": "code",
   "execution_count": 14,
   "metadata": {},
   "outputs": [
    {
     "name": "stdout",
     "output_type": "stream",
     "text": [
      "Current Directory: d:\\1-Programming\\1-Training_Files & Codes\\Python\\Ramin's Codes_Python\\New_Test_1402\n",
      "New Current Directory: d:\\1-Programming\\1-Training_Files & Codes\\Python\\Ramin's Codes_Python\n"
     ]
    }
   ],
   "source": [
    "import os\n",
    "\n",
    "# Get the current working address\n",
    "current_dir = os.getcwd()\n",
    "print(\"Current Directory:\", current_dir)\n",
    "\n",
    "# Navigate back one level\n",
    "parent_dir = os.path.dirname(current_dir)\n",
    "os.chdir(parent_dir)\n",
    "\n",
    "# Check the current working address after navigating back\n",
    "new_current_dir = os.getcwd()\n",
    "print(\"New Current Directory:\", new_current_dir)\n"
   ]
  },
  {
   "cell_type": "code",
   "execution_count": 15,
   "metadata": {},
   "outputs": [
    {
     "data": {
      "text/plain": [
       "\"d:\\\\1-Programming\\\\1-Training_Files & Codes\\\\Python\\\\Ramin's Codes_Python\\\\New_Test_1402\""
      ]
     },
     "execution_count": 15,
     "metadata": {},
     "output_type": "execute_result"
    }
   ],
   "source": [
    "os.chdir('New_Test_1402')\n",
    "os.getcwd()"
   ]
  },
  {
   "cell_type": "code",
   "execution_count": 16,
   "metadata": {},
   "outputs": [
    {
     "data": {
      "text/plain": [
       "\"d:\\\\1-Programming\\\\1-Training_Files & Codes\\\\Python\\\\Ramin's Codes_Python\\\\New_Test_1402\\\\Review_Python\""
      ]
     },
     "execution_count": 16,
     "metadata": {},
     "output_type": "execute_result"
    }
   ],
   "source": [
    "os.chdir('Review_Python')\n",
    "os.getcwd()"
   ]
  },
  {
   "cell_type": "code",
   "execution_count": null,
   "metadata": {},
   "outputs": [],
   "source": [
    "os.listdir()"
   ]
  },
  {
   "cell_type": "code",
   "execution_count": 18,
   "metadata": {},
   "outputs": [],
   "source": [
    "os.mkdir('test')"
   ]
  },
  {
   "cell_type": "code",
   "execution_count": 20,
   "metadata": {},
   "outputs": [],
   "source": [
    "os.rmdir('test')"
   ]
  },
  {
   "cell_type": "markdown",
   "metadata": {},
   "source": [
    "# delete a file"
   ]
  },
  {
   "cell_type": "code",
   "execution_count": 22,
   "metadata": {},
   "outputs": [],
   "source": [
    "# os.remove('file name')\n",
    "os.remove('b.txt')"
   ]
  },
  {
   "cell_type": "code",
   "execution_count": 30,
   "metadata": {},
   "outputs": [],
   "source": [
    "# rename old name to new name\n",
    "os.rename('example.txt', 'qwe.txt')"
   ]
  },
  {
   "cell_type": "markdown",
   "metadata": {},
   "source": [
    "# system, run file here"
   ]
  },
  {
   "cell_type": "code",
   "execution_count": null,
   "metadata": {},
   "outputs": [],
   "source": [
    "os.system('python codes/main.py')"
   ]
  },
  {
   "cell_type": "code",
   "execution_count": 28,
   "metadata": {},
   "outputs": [
    {
     "data": {
      "text/plain": [
       "0"
      ]
     },
     "execution_count": 28,
     "metadata": {},
     "output_type": "execute_result"
    }
   ],
   "source": [
    "os.system('math_operations.py')"
   ]
  },
  {
   "cell_type": "code",
   "execution_count": 2,
   "metadata": {},
   "outputs": [
    {
     "data": {
      "text/plain": [
       "0"
      ]
     },
     "execution_count": 2,
     "metadata": {},
     "output_type": "execute_result"
    }
   ],
   "source": [
    "import os\n",
    "\n",
    "# To open a file in the default text editor:\n",
    "os.system(\"notepad.exe info.txt\")\n"
   ]
  },
  {
   "cell_type": "code",
   "execution_count": 4,
   "metadata": {},
   "outputs": [
    {
     "data": {
      "text/plain": [
       "0"
      ]
     },
     "execution_count": 4,
     "metadata": {},
     "output_type": "execute_result"
    }
   ],
   "source": [
    "# to create new dir\n",
    "os.system(\"mkdir new_address\")"
   ]
  },
  {
   "cell_type": "code",
   "execution_count": 8,
   "metadata": {},
   "outputs": [
    {
     "data": {
      "text/plain": [
       "1"
      ]
     },
     "execution_count": 8,
     "metadata": {},
     "output_type": "execute_result"
    }
   ],
   "source": [
    "# To list the contents of a address:\n",
    "os.system(\"Snake Game\")"
   ]
  },
  {
   "cell_type": "code",
   "execution_count": 11,
   "metadata": {},
   "outputs": [
    {
     "data": {
      "text/plain": [
       "0"
      ]
     },
     "execution_count": 11,
     "metadata": {},
     "output_type": "execute_result"
    }
   ],
   "source": [
    "# to run a python script\n",
    "os.system('python b.py')"
   ]
  },
  {
   "cell_type": "markdown",
   "metadata": {},
   "source": [
    "# move and rename at another address\n"
   ]
  },
  {
   "cell_type": "code",
   "execution_count": 13,
   "metadata": {},
   "outputs": [],
   "source": [
    "os.rename('name.txt', 'new_address/abcd.txt')"
   ]
  },
  {
   "cell_type": "markdown",
   "metadata": {},
   "source": [
    "# cut and paste a file"
   ]
  },
  {
   "cell_type": "markdown",
   "metadata": {},
   "source": [
    "# walk\n",
    "The os.walk() function in Python is used to traverse a address tree and generate the file names in the tree. It can be used to search for files in a address hierarchy or to perform operations on all files in a address tree.\n",
    "# Here are some examples of using os.walk() in Python:"
   ]
  },
  {
   "cell_type": "code",
   "execution_count": 34,
   "metadata": {},
   "outputs": [
    {
     "name": "stdout",
     "output_type": "stream",
     "text": [
      "Number of files: 146\n"
     ]
    }
   ],
   "source": [
    "# To count the number of files in a address tree:\n",
    "import os\n",
    "\n",
    "count = 0\n",
    "# files and folders not empty are counted by ('.'). but general format is: os.walk('/path/to/address')\n",
    "for root, dirs, files in os.walk('.'):\n",
    "    count += len(files)\n",
    "\n",
    "print(f\"Number of files: {count}\")\n"
   ]
  },
  {
   "cell_type": "code",
   "execution_count": null,
   "metadata": {},
   "outputs": [],
   "source": [
    "# To copy all files in a address tree to a new location:\n",
    "import os\n",
    "import shutil\n",
    "\n",
    "source = '/path/to/source/address'\n",
    "destination = '/path/to/destination/address'\n",
    "\n",
    "for root, dirs, files in os.walk(source):\n",
    "    for file in files:\n",
    "        source_path = os.path.join(root, file)\n",
    "        destination_path = os.path.join(destination, os.path.relpath(source_path, source))\n",
    "        os.makedirs(os.path.dirname(destination_path), exist_ok=True)\n",
    "        shutil.copy2(source_path, destination_path)\n",
    "## In this example, we use os.walk() to traverse\n",
    "#  the source address tree and copy each file to the destination address tree.\n",
    "# We use os.path.relpath() to get the relative path of each file from the source address,\n",
    "#  and then use os.makedirs() to create the destination address if it doesn't exist.\n",
    "#  Finally, we use shutil.copy2() to copy the file to the destination address."
   ]
  },
  {
   "cell_type": "markdown",
   "metadata": {},
   "source": [
    "# Note that os.walk()\n",
    " can be memory-intensive if the address tree is very large. If you want to minimize memory usage, you can use a with statement to open each file in the address tree and process it one at a time, rather than loading all the file names into memory at once."
   ]
  },
  {
   "cell_type": "code",
   "execution_count": 35,
   "metadata": {},
   "outputs": [
    {
     "name": "stdout",
     "output_type": "stream",
     "text": [
      "[('.', ['Floppy Bird Game', 'Naghel Quiz_Quera', 'new_address', 'Quera_Project_oop', 'Snake Game', 'snake game using socket', 'test_directory1', 'test_directory2', '__pycache__'], ['ans.csv', 'b.py', 'class.ipynb', 'data.json', 'data_2.json', 'Data_Structure1_Quera.ipynb', 'datetime_lib.py', 'debug_methods.ipynb', 'Decorators.ipynb', 'dict.ipynb', 'draw.png', 'dst.png', 'Dunder_Methods.ipynb', 'errors_managment.ipynb', 'example2.py', 'example3.py', 'Files.ipynb', 'function.ipynb', 'Generators.ipynb', 'info.txt', 'json.ipynb', 'Lambda.ipynb', 'Lib_Package_manag.ipynb', 'list.ipynb', 'math_operations.py', 'Module_import_files.ipynb', 'Naghel Quez_Quera.zip', 'Namespace.ipynb', 'nature.png', 'nature_m.png', 'numbers.csv', 'OS_library.ipynb', 'output.csv', 'parallel_process.ipynb', 'Polgars_image.PNG', 'PYGAME_EVENT_FUNCTIONS.PY', 'pygame_lib_1.py', 'pygame_lib_2.py', 'pygame_lib_3.py', 'pygame_lib_events.py', 'pygame_lib_train.ipynb', 'pygame_quiz_bazie_sade.py', 'pygame_train.py', 'Quiz_pygame_Terminale_Grafic.py', 'qwe.txt', 'RegEx_re_lib.ipynb', 'requests_lib.ipynb', 'set.ipynb', 'socket_lib.ipynb', 'sq.png', 'Stack_Queue.ipynb', 'strings.ipynb', 'tupple.ipynb', 'Vircual_environment.ipynb']), ('.\\\\Floppy Bird Game', ['assets', 'build', 'dist'], ['flappy_bird.py', 'flappy_bird.spec']), ('.\\\\Floppy Bird Game\\\\assets', ['font', 'img', 'sound'], []), ('.\\\\Floppy Bird Game\\\\assets\\\\font', [], ['Flappy.TTF']), ('.\\\\Floppy Bird Game\\\\assets\\\\img', [], ['bg1.png', 'bg2.png', 'floor.png', 'message.png', 'pipe_green.png', 'pipe_red.png', 'red_bird_down_flap.png', 'red_bird_mid_flap.png', 'red_bird_up_flap.png']), ('.\\\\Floppy Bird Game\\\\assets\\\\sound', [], ['smb_mariodie.wav', 'smb_stomp.wav']), ('.\\\\Floppy Bird Game\\\\build', ['flappy_bird', 'your_script_name'], []), ('.\\\\Floppy Bird Game\\\\build\\\\flappy_bird', ['localpycs'], ['Analysis-00.toc', 'base_library.zip', 'EXE-00.toc', 'flappy_bird.pkg', 'PKG-00.toc', 'PYZ-00.pyz', 'PYZ-00.toc', 'warn-flappy_bird.txt', 'xref-flappy_bird.html']), ('.\\\\Floppy Bird Game\\\\build\\\\flappy_bird\\\\localpycs', [], ['pyimod01_archive.pyc', 'pyimod02_importers.pyc', 'pyimod03_ctypes.pyc', 'pyimod04_pywin32.pyc', 'struct.pyc']), ('.\\\\Floppy Bird Game\\\\build\\\\your_script_name', [], []), ('.\\\\Floppy Bird Game\\\\dist', [], ['flappy_bird.exe']), ('.\\\\Naghel Quiz_Quera', ['__pycache__'], ['airplane.py', 'flying_vehicle.py', 'ground_vehicle.py', 'vehicle.py']), ('.\\\\Naghel Quiz_Quera\\\\__pycache__', [], ['flying_vehicle.cpython-312.pyc', 'ground_vehicle.cpython-312.pyc', 'vehicle.cpython-312.pyc']), ('.\\\\new_address', [], ['abcd.txt']), ('.\\\\Quera_Project_oop', ['Manage_Of_Employees', 'Modiriate _Mahale_Kar', '__pycache__'], ['mine.py', 'Project_Quera_oop.ipynb']), ('.\\\\Quera_Project_oop\\\\Manage_Of_Employees', ['test', '__pycache__'], ['engineer.py', 'person.py', 'Project_Quera_oop.ipynb', 'teacher.py', 'worker.py']), ('.\\\\Quera_Project_oop\\\\Manage_Of_Employees\\\\test', [], ['test_sample.py', '__init__.py']), ('.\\\\Quera_Project_oop\\\\Manage_Of_Employees\\\\__pycache__', [], ['person.cpython-312.pyc']), ('.\\\\Quera_Project_oop\\\\Modiriate _Mahale_Kar', ['__pycache__'], ['company.py', 'mine.py', 'school.py', 'test_sample.py', 'work_place.py']), ('.\\\\Quera_Project_oop\\\\Modiriate _Mahale_Kar\\\\__pycache__', [], ['work_place.cpython-312.pyc']), ('.\\\\Quera_Project_oop\\\\__pycache__', [], ['work_place.cpython-312.pyc']), ('.\\\\Snake Game', ['snake_game_completed_OK'], ['cell.py', 'config.json', 'consts.py', 'game_manager.py', 'main.py', 'snake.py']), ('.\\\\Snake Game\\\\snake_game_completed_OK', [], ['cell.py', 'config.json', 'consts.py', 'game_manager.py', 'main.py', 'snake.py']), ('.\\\\snake game using socket', ['test'], ['cell.py', 'client_main.py', 'config.json', 'consts.py', 'game_manager.py', 'main.py', 'network - Copy.py', 'network org.py', 'network.py', 'network.zip', 'server_tester.py', 'snake.py', 'test_event.py']), ('.\\\\snake game using socket\\\\test', [], ['test_sample.py', '__init__.py']), ('.\\\\test_directory1', [], []), ('.\\\\test_directory2', [], ['file.txt']), ('.\\\\__pycache__', [], ['example.cpython-311.pyc', 'example.cpython-312.pyc', 'example2.cpython-311.pyc', 'example2.cpython-312.pyc', 'example3.cpython-311.pyc', 'example3.cpython-312.pyc', 'math_operathons.cpython-311.pyc', 'math_operations.cpython-311.pyc', 'math_operations.cpython-312.pyc', 'socket.cpython-312.pyc'])]\n"
     ]
    }
   ],
   "source": [
    "w = os.walk('.')\n",
    "print(list(w))"
   ]
  },
  {
   "cell_type": "markdown",
   "metadata": {},
   "source": [
    "# path object in os lib\n",
    "with many submudules"
   ]
  },
  {
   "cell_type": "code",
   "execution_count": 17,
   "metadata": {},
   "outputs": [
    {
     "data": {
      "text/plain": [
       "False"
      ]
     },
     "execution_count": 17,
     "metadata": {},
     "output_type": "execute_result"
    }
   ],
   "source": [
    "os.path.exists('Lambda.ipynb')"
   ]
  },
  {
   "cell_type": "code",
   "execution_count": 18,
   "metadata": {},
   "outputs": [
    {
     "data": {
      "text/plain": [
       "False"
      ]
     },
     "execution_count": 18,
     "metadata": {},
     "output_type": "execute_result"
    }
   ],
   "source": [
    "os.path.exists('test_address2/file.txt')\n"
   ]
  },
  {
   "cell_type": "markdown",
   "metadata": {},
   "source": [
    "# isdir() and isfile()"
   ]
  },
  {
   "cell_type": "code",
   "execution_count": 24,
   "metadata": {},
   "outputs": [
    {
     "data": {
      "text/plain": [
       "True"
      ]
     },
     "execution_count": 24,
     "metadata": {},
     "output_type": "execute_result"
    }
   ],
   "source": [
    "os.path.isdir('test_directory1')"
   ]
  },
  {
   "cell_type": "code",
   "execution_count": 23,
   "metadata": {},
   "outputs": [
    {
     "data": {
      "text/plain": [
       "False"
      ]
     },
     "execution_count": 23,
     "metadata": {},
     "output_type": "execute_result"
    }
   ],
   "source": [
    "os.path.isfile('test_directory2')"
   ]
  },
  {
   "cell_type": "code",
   "execution_count": 22,
   "metadata": {},
   "outputs": [
    {
     "data": {
      "text/plain": [
       "True"
      ]
     },
     "execution_count": 22,
     "metadata": {},
     "output_type": "execute_result"
    }
   ],
   "source": [
    "os.path.isfile('test_directory2/file.txt')\n"
   ]
  },
  {
   "cell_type": "code",
   "execution_count": null,
   "metadata": {},
   "outputs": [],
   "source": [
    "import os\n",
    "\n",
    "# source = '/path/to/source/file.txt'\n",
    "source = 'test_directory1/file.txt'\n",
    "destination = 'test_directory2/file.txt'\n",
    "\n",
    "if os.path.exists(source):\n",
    "    if os.path.isfile(source):\n",
    "        os.makedirs(os.path.dirname(destination), exist_ok=True)\n",
    "        os.replace(source, destination)\n",
    "        print('File moved successfully.')\n",
    "    else:\n",
    "        print('Source is not a file.')\n",
    "else:\n",
    "    print('Source file does not exist.')\n"
   ]
  },
  {
   "cell_type": "markdown",
   "metadata": {},
   "source": [
    "# in your system operation, which symbol separate folders:"
   ]
  },
  {
   "cell_type": "code",
   "execution_count": 26,
   "metadata": {},
   "outputs": [
    {
     "data": {
      "text/plain": [
       "\"d:\\\\1-Programming\\\\1-Training_Files & Codes\\\\Python\\\\Ramin's Codes_Python\\\\New_Test_1402\\\\Review_Python\""
      ]
     },
     "execution_count": 26,
     "metadata": {},
     "output_type": "execute_result"
    }
   ],
   "source": [
    "os.getcwd()"
   ]
  },
  {
   "cell_type": "code",
   "execution_count": 25,
   "metadata": {},
   "outputs": [
    {
     "data": {
      "text/plain": [
       "'\\\\'"
      ]
     },
     "execution_count": 25,
     "metadata": {},
     "output_type": "execute_result"
    }
   ],
   "source": [
    "os.sep"
   ]
  },
  {
   "cell_type": "markdown",
   "metadata": {},
   "source": [
    "# basename()\n",
    "last address"
   ]
  },
  {
   "cell_type": "code",
   "execution_count": 27,
   "metadata": {},
   "outputs": [
    {
     "data": {
      "text/plain": [
       "'file.txt'"
      ]
     },
     "execution_count": 27,
     "metadata": {},
     "output_type": "execute_result"
    }
   ],
   "source": [
    "os.path.basename('test_directory2/file.txt')\n"
   ]
  },
  {
   "cell_type": "markdown",
   "metadata": {},
   "source": [
    "# Queiz: jostejoGar"
   ]
  },
  {
   "cell_type": "code",
   "execution_count": 62,
   "metadata": {},
   "outputs": [
    {
     "data": {
      "text/plain": [
       "{'.': 4, '.\\\\test_directory2': 1}"
      ]
     },
     "execution_count": 62,
     "metadata": {},
     "output_type": "execute_result"
    }
   ],
   "source": [
    "import os\n",
    "\n",
    "def count_files(ttype, address):\n",
    "    file_counts = {}\n",
    "    ttype = ttype.lower()\n",
    "    address = address.lower()\n",
    "    for root, dirs, files in os.walk(address):\n",
    "        count = 0\n",
    "        for file in files:\n",
    "            if file.endswith(ttype):\n",
    "                count += 1\n",
    "        if count != 0:\n",
    "            file_counts[root] = count\n",
    "        for dir in dirs:\n",
    "            dir_path = os.path.join(root, dir)\n",
    "            subdir_counts = count_files(ttype, dir_path)\n",
    "            for subdir, subdir_count in subdir_counts.items():\n",
    "                file_counts[subdir] = subdir_count\n",
    "    return file_counts\n",
    "\n",
    "ttype = \".txt\"  # Example file format\n",
    "address = '.'  # Example address address\n",
    "\n",
    "count_files(ttype, address)\n",
    "\n"
   ]
  },
  {
   "cell_type": "markdown",
   "metadata": {},
   "source": [
    "# \\\\ and / in output "
   ]
  },
  {
   "cell_type": "code",
   "execution_count": 58,
   "metadata": {},
   "outputs": [
    {
     "data": {
      "text/plain": [
       "{'.': 4, './test_directory2': 1}"
      ]
     },
     "execution_count": 58,
     "metadata": {},
     "output_type": "execute_result"
    }
   ],
   "source": [
    "import os\n",
    "\n",
    "def count_files(file_format, address):\n",
    "    file_counts = {}\n",
    "    for root, dirs, files in os.walk(address):\n",
    "        count = 0\n",
    "        for file in files:\n",
    "            if file.endswith(file_format):\n",
    "                count += 1\n",
    "        if count != 0:\n",
    "            file_counts[root.replace('\\\\', '/')] = count\n",
    "        for dir in dirs:\n",
    "            dir_path = os.path.join(root, dir)\n",
    "            subdir_counts = count_files(file_format, dir_path)\n",
    "            for subdir, subdir_count in subdir_counts.items():\n",
    "                file_counts[subdir.replace('\\\\', '/')] = subdir_count\n",
    "    return file_counts\n",
    "\n",
    "file_format = \".txt\"  # Example file format\n",
    "address = '.'  # Example address address\n",
    "\n",
    "count_files(file_format, address)\n",
    "\n"
   ]
  },
  {
   "cell_type": "markdown",
   "metadata": {},
   "source": [
    "# see other solutions for the above Queiz"
   ]
  },
  {
   "cell_type": "code",
   "execution_count": null,
   "metadata": {},
   "outputs": [],
   "source": [
    "import os\n",
    " \n",
    "def explore(extension, addr):\n",
    "    result = dict()\n",
    "    for obj in os.walk(addr):\n",
    "        for name in obj[2]:\n",
    "            if \".\" in name and name.split('.')[-1].lower() == extension.lower():\n",
    "                try:\n",
    "                    result[obj[0]] += 1\n",
    "                except KeyError:\n",
    "                    result[obj[0]] = 1\n",
    "    return result"
   ]
  },
  {
   "cell_type": "code",
   "execution_count": null,
   "metadata": {},
   "outputs": [],
   "source": [
    "import os\n",
    "\n",
    "def explore(extension, path):\n",
    "    result = {}\n",
    "    for root, dirs, files in os.walk(path):\n",
    "        for file in files:\n",
    "            if file.lower().endswith(\".\" + extension.lower()):\n",
    "                folder_path = os.path.relpath(root, path)\n",
    "                if folder_path == \".\":\n",
    "                    folder_path = path\n",
    "                else:\n",
    "                    folder_path = os.path.join(path, folder_path)\n",
    "                result[folder_path] = result.get(folder_path, 0) + 1\n",
    "    return result\n"
   ]
  },
  {
   "cell_type": "code",
   "execution_count": null,
   "metadata": {},
   "outputs": [],
   "source": [
    "import os\n",
    "\n",
    "def explore(ttype, address):\n",
    "    ttype = ttype.lower() \n",
    "    result = {}\n",
    "\n",
    "    for dirpath, dirnames, filenames in os.walk(address):\n",
    "        count = 0\n",
    "        for filename in filenames:\n",
    "            if os.path.splitext(filename)[1].lower() == \".\" + ttype:\n",
    "                count += 1\n",
    "        \n",
    "        if count:\n",
    "            result[dirpath] = count\n",
    "            \n",
    "    return result\n"
   ]
  },
  {
   "cell_type": "code",
   "execution_count": null,
   "metadata": {},
   "outputs": [],
   "source": [
    "import os\n",
    "\n",
    "\n",
    "def explore(extension, directory):\n",
    "    result = {}\n",
    "    extension = extension.lower()\n",
    "\n",
    "    for root, dirs, files in os.walk(directory):\n",
    "        count = 0\n",
    "        for file in files:\n",
    "            if file.lower().endswith(f\".{extension}\"):\n",
    "                count += 1\n",
    "        if count > 0:\n",
    "            result[os.path.normpath(root).replace('\\\\', '/')] = count\n",
    "\n",
    "    return result"
   ]
  },
  {
   "cell_type": "code",
   "execution_count": null,
   "metadata": {},
   "outputs": [],
   "source": [
    "import os\n",
    "\n",
    "\n",
    "def explore(ttype, address):\n",
    "    Folders_data = {}\n",
    "    Final_Output = {}\n",
    "    File_Type = '.' + ttype.lower()\n",
    "    for Folder in list(os.walk(address)):\n",
    "        if Folder[0] not in Folders_data:\n",
    "            Folders_data.update({str(Folder[0]) : 0})\n",
    "        for File_Name in Folder[-1]:\n",
    "            if File_Type in File_Name:\n",
    "                Folders_data[str(Folder[0])] += 1\n",
    "    for Key ,Value in Folders_data.items():\n",
    "        if Value != 0:\n",
    "            Final_Output.update({Key : Value})\n",
    "    return(Final_Output)"
   ]
  },
  {
   "cell_type": "markdown",
   "metadata": {},
   "source": [
    "# back 1 level in address"
   ]
  },
  {
   "cell_type": "code",
   "execution_count": null,
   "metadata": {},
   "outputs": [],
   "source": [
    "os.chdir('..')"
   ]
  },
  {
   "cell_type": "markdown",
   "metadata": {},
   "source": [
    "# Queiz: sazmandehi resane: moratab kardane anwae filehaye yek poshe"
   ]
  },
  {
   "cell_type": "code",
   "execution_count": null,
   "metadata": {},
   "outputs": [],
   "source": [
    "python3 organize.py src_folder_path dst_folder_path"
   ]
  }
 ],
 "metadata": {
  "kernelspec": {
   "display_name": "Python 3",
   "language": "python",
   "name": "python3"
  },
  "language_info": {
   "codemirror_mode": {
    "name": "ipython",
    "version": 3
   },
   "file_extension": ".py",
   "mimetype": "text/x-python",
   "name": "python",
   "nbconvert_exporter": "python",
   "pygments_lexer": "ipython3",
   "version": "3.12.0"
  }
 },
 "nbformat": 4,
 "nbformat_minor": 2
}
