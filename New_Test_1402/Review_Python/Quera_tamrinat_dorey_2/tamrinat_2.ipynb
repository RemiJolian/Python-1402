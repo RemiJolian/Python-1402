{
 "cells": [
  {
   "cell_type": "markdown",
   "metadata": {},
   "source": [
    "Quiz:Area, masahat"
   ]
  },
  {
   "cell_type": "code",
   "execution_count": 6,
   "metadata": {},
   "outputs": [
    {
     "data": {
      "text/plain": [
       "13.5"
      ]
     },
     "execution_count": 6,
     "metadata": {},
     "output_type": "execute_result"
    }
   ],
   "source": [
    "import math\n",
    "def get_func(ls):\n",
    "    new_ls = []\n",
    "    for ch in ls:\n",
    "        if ch == 'square':\n",
    "            square = lambda x: x**2\n",
    "            new_ls.append(square)\n",
    "        if ch == 'circle':\n",
    "            circle = lambda r: math.pi * r ** 2\n",
    "            new_ls.append(circle)\n",
    "        if ch == 'rectangle':\n",
    "            rectangle = lambda a, b: a * b\n",
    "            new_ls.append(rectangle)\n",
    "        if ch == 'triangle':\n",
    "            triangle = lambda a, b: a * b /2\n",
    "            new_ls.append(triangle)\n",
    "        \n",
    "    return new_ls\n",
    "ls = ['square', 'circle', 'rectangle', 'triangle']\n",
    "k = get_func(ls)\n",
    "k[3](3, 9)"
   ]
  },
  {
   "cell_type": "markdown",
   "metadata": {},
   "source": [
    "solution 2: cool!!!"
   ]
  },
  {
   "cell_type": "code",
   "execution_count": null,
   "metadata": {},
   "outputs": [],
   "source": [
    "import math\n",
    "\n",
    "\n",
    "def get_func(arr):\n",
    "    dict_switcher = {\n",
    "        \"square\": lambda x: x*x,\n",
    "        \"circle\": lambda x: x**2*math.pi,\n",
    "        \"rectangle\": lambda x, y: x*y,\n",
    "        \"triangle\": lambda x, y: x*y*0.5,\n",
    "    }\n",
    "    return [dict_switcher.get(shape) for shape in arr]\n"
   ]
  },
  {
   "cell_type": "markdown",
   "metadata": {},
   "source": [
    "solu 3:"
   ]
  },
  {
   "cell_type": "code",
   "execution_count": null,
   "metadata": {},
   "outputs": [],
   "source": [
    "import math\n",
    "\n",
    "def square_area(side):\n",
    "    return side ** 2\n",
    "\n",
    "def circle_area(radius):\n",
    "    return math.pi * radius ** 2\n",
    "\n",
    "def rectangle_area(length, width):\n",
    "    return length * width\n",
    "\n",
    "def triangle_area(height, base):\n",
    "    return 0.5 * height * base\n",
    "\n",
    "def get_func(ls):\n",
    "    functions = {\n",
    "        'square': square_area,\n",
    "        'circle': circle_area,\n",
    "        'rectangle': rectangle_area,\n",
    "        'triangle': triangle_area\n",
    "    }\n",
    "\n",
    "    result = []\n",
    "    for shape in ls:\n",
    "        if shape in functions:\n",
    "            result.append(functions[shape])\n",
    "    \n",
    "    return result"
   ]
  }
 ],
 "metadata": {
  "kernelspec": {
   "display_name": "Python 3",
   "language": "python",
   "name": "python3"
  },
  "language_info": {
   "codemirror_mode": {
    "name": "ipython",
    "version": 3
   },
   "file_extension": ".py",
   "mimetype": "text/x-python",
   "name": "python",
   "nbconvert_exporter": "python",
   "pygments_lexer": "ipython3",
   "version": "3.12.0"
  }
 },
 "nbformat": 4,
 "nbformat_minor": 2
}
