{
 "cells": [
  {
   "cell_type": "markdown",
   "metadata": {},
   "source": [
    "**Quera_Review: RegEx and 're' library:**"
   ]
  },
  {
   "cell_type": "markdown",
   "metadata": {},
   "source": [
    "# re lib  "
   ]
  },
  {
   "cell_type": "code",
   "execution_count": 1,
   "metadata": {},
   "outputs": [],
   "source": [
    "import re"
   ]
  },
  {
   "cell_type": "markdown",
   "metadata": {},
   "source": [
    "# match func:"
   ]
  },
  {
   "cell_type": "code",
   "execution_count": 12,
   "metadata": {},
   "outputs": [
    {
     "name": "stderr",
     "output_type": "stream",
     "text": [
      "<>:1: SyntaxWarning: invalid escape sequence '\\d'\n",
      "<>:1: SyntaxWarning: invalid escape sequence '\\d'\n",
      "C:\\Users\\Laptop Market - LTM\\AppData\\Local\\Temp\\ipykernel_1608\\247131924.py:1: SyntaxWarning: invalid escape sequence '\\d'\n",
      "  pattern = '\\d\\d\\d$'\n"
     ]
    },
    {
     "name": "stdout",
     "output_type": "stream",
     "text": [
      "not match\n"
     ]
    }
   ],
   "source": [
    "pattern = '\\d\\d\\d$'\n",
    "s = input(\"plz inter:\\n\")\n",
    "if re.match(pattern, s):\n",
    "    print('match')\n",
    "else:\n",
    "    print('not match')\n"
   ]
  },
  {
   "cell_type": "markdown",
   "metadata": {},
   "source": [
    "# findall() func:"
   ]
  },
  {
   "cell_type": "code",
   "execution_count": 17,
   "metadata": {},
   "outputs": [
    {
     "name": "stdout",
     "output_type": "stream",
     "text": [
      "['el', 'ek']\n",
      "[]\n"
     ]
    }
   ],
   "source": [
    "import re\n",
    "s = 'Hello world codekiata'  \n",
    "b = 'e[a-m]'\n",
    "print(re.findall(b, s))            # find b in s\n",
    "print(re.findall('PYTHON', 'Goodby guys, see u later'))    # PYTHON not in ' Goo..... '"
   ]
  },
  {
   "cell_type": "markdown",
   "metadata": {},
   "source": [
    "# search , group and span func:"
   ]
  },
  {
   "cell_type": "code",
   "execution_count": 12,
   "metadata": {},
   "outputs": [
    {
     "name": "stdout",
     "output_type": "stream",
     "text": [
      "Match found: fox\n"
     ]
    }
   ],
   "source": [
    "import re\n",
    "\n",
    "text = \"The quick brown fox jumps over the lazy dog.\"\n",
    "pattern = r\"fox\"\n",
    "match = re.search(pattern, text)\n",
    "if match:\n",
    "    print(\"Match found:\", match.group())\n",
    "else:\n",
    "    print(\"Match not found\")\n"
   ]
  },
  {
   "cell_type": "code",
   "execution_count": null,
   "metadata": {},
   "outputs": [],
   "source": [
    "import re\n",
    "\n",
    "text = \"The quick brown fox jumps over the lazy dog\"\n",
    "pattern = r\"(brown|red) fox\"\n",
    "match = re.search(pattern, text)\n",
    "if match:\n",
    "    print(\"Match found:\", match.group())\n",
    "    print(\"Group 1:\", match.group(1))\n",
    "else:\n",
    "    print(\"Match not found\")\n"
   ]
  },
  {
   "cell_type": "code",
   "execution_count": 20,
   "metadata": {},
   "outputs": [
    {
     "name": "stdout",
     "output_type": "stream",
     "text": [
      "Match found at positions: (16, 19)\n"
     ]
    }
   ],
   "source": [
    "import re\n",
    "\n",
    "text = \"The quick brown fox jumps over the lazy dog\"\n",
    "pattern = r\"fox\"\n",
    "match = re.search(pattern, text)\n",
    "if match:\n",
    "    print(\"Match found at positions:\", match.span())\n",
    "else:\n",
    "    print(\"Match not found\")\n"
   ]
  },
  {
   "cell_type": "markdown",
   "metadata": {},
   "source": [
    "see this comment about above (r'fox\") in codes:\n",
    "The r before the string (r'fox\") indicates that it is a raw string, which means that backslashes are treated as literal characters rather than escape characters. This is useful when working with regular expressions, which often use backslashes to escape special characters."
   ]
  },
  {
   "cell_type": "markdown",
   "metadata": {},
   "source": [
    "In summary, the search(), group(), and span() functions in the re library are used to search for regular expression patterns in strings, retrieve the matched string and its position, and extract specific groups from the matched string.\n"
   ]
  },
  {
   "cell_type": "markdown",
   "metadata": {},
   "source": [
    "**split func:**\n",
    "befor that, review split in python, after that in RegEx:"
   ]
  },
  {
   "cell_type": "code",
   "execution_count": 5,
   "metadata": {},
   "outputs": [
    {
     "name": "stdout",
     "output_type": "stream",
     "text": [
      "['Python', 'created', 'by', 'Rossum']\n"
     ]
    }
   ],
   "source": [
    "s = 'Python created by Rossum'\n",
    "a = s.split(' ')\n",
    "print(a)  "
   ]
  },
  {
   "cell_type": "markdown",
   "metadata": {},
   "source": [
    "now in RegEx:"
   ]
  },
  {
   "cell_type": "code",
   "execution_count": 14,
   "metadata": {},
   "outputs": [
    {
     "data": {
      "text/plain": [
       "['Python', 'created', 'by', 'Rossum']"
      ]
     },
     "execution_count": 14,
     "metadata": {},
     "output_type": "execute_result"
    }
   ],
   "source": [
    "import re\n",
    "s = 'Python created by Rossum'\n",
    "re.split(' ', s)"
   ]
  },
  {
   "cell_type": "code",
   "execution_count": 16,
   "metadata": {},
   "outputs": [
    {
     "data": {
      "text/plain": [
       "['s', 'l', 'm h', 'let?']"
      ]
     },
     "execution_count": 16,
     "metadata": {},
     "output_type": "execute_result"
    }
   ],
   "source": [
    "import re\n",
    "s = 'salam halet?'\n",
    "re.split('a', s)"
   ]
  },
  {
   "cell_type": "code",
   "execution_count": 18,
   "metadata": {},
   "outputs": [
    {
     "data": {
      "text/plain": [
       "['you', 'can', 'split', 'with', 'numbers']"
      ]
     },
     "execution_count": 18,
     "metadata": {},
     "output_type": "execute_result"
    }
   ],
   "source": [
    "re.split('[0-9]+', 'you92398can820split729with26numbers')\n"
   ]
  },
  {
   "cell_type": "code",
   "execution_count": 19,
   "metadata": {},
   "outputs": [
    {
     "data": {
      "text/plain": [
       "['2093', '20', '120', '']"
      ]
     },
     "execution_count": 19,
     "metadata": {},
     "output_type": "execute_result"
    }
   ],
   "source": [
    "re.split('[a-z]+', '2093ab20a120dk')"
   ]
  },
  {
   "cell_type": "code",
   "execution_count": null,
   "metadata": {},
   "outputs": [],
   "source": [
    "re.split('[0-9]+', 'abcdj33kklk678')\n",
    "s = '  '\n",
    "re.split('[a-z[A-Z]+,'s']')"
   ]
  },
  {
   "cell_type": "code",
   "execution_count": 21,
   "metadata": {},
   "outputs": [
    {
     "data": {
      "text/plain": [
       "['2', '8765', '3']"
      ]
     },
     "execution_count": 21,
     "metadata": {},
     "output_type": "execute_result"
    }
   ],
   "source": [
    "re.split('[A-Z]+','2AB8765NH3')"
   ]
  },
  {
   "cell_type": "markdown",
   "metadata": {},
   "source": [
    "**sub func in RegEx**\n",
    "before that review of 'replace' func in python, after that in regex:"
   ]
  },
  {
   "cell_type": "code",
   "execution_count": 22,
   "metadata": {},
   "outputs": [
    {
     "name": "stdout",
     "output_type": "stream",
     "text": [
      "shirdel\n"
     ]
    }
   ],
   "source": [
    "s = 'shirafkan'\n",
    "print(s.replace('afkan','del'))   "
   ]
  },
  {
   "cell_type": "markdown",
   "metadata": {},
   "source": [
    "now in RegEx:"
   ]
  },
  {
   "cell_type": "code",
   "execution_count": 23,
   "metadata": {},
   "outputs": [
    {
     "name": "stdout",
     "output_type": "stream",
     "text": [
      "hesalamsalamo\n",
      "_digit__digit_ab_digit_\n",
      "_num_ab_num_h\n"
     ]
    }
   ],
   "source": [
    "\n",
    "print(re.sub('l', 'salam', 'hello'))\n",
    "\n",
    "print(re.sub('[0-9]', '_digit_', '12ab1'))\n",
    "\n",
    "print(re.sub('[0-9]+', '_num_', '12ab1129h'))\n",
    "\n"
   ]
  },
  {
   "cell_type": "markdown",
   "metadata": {},
   "source": [
    "Queiz Besanj_email**email validation**"
   ]
  },
  {
   "cell_type": "code",
   "execution_count": 17,
   "metadata": {},
   "outputs": [
    {
     "data": {
      "text/plain": [
       "True"
      ]
     },
     "execution_count": 17,
     "metadata": {},
     "output_type": "execute_result"
    }
   ],
   "source": [
    "# only this format for an email is valid: abcdABCD123_.@GMAIL123.ABCabc is valid\n",
    "def validate_email(email):\n",
    "    pattern = r'^[a-zA-Z0-9\\.\\_]+\\@[a-zA-Z0-9]+\\.[a-zA-Z]{3}$'\n",
    "    import re\n",
    "    #email = input('enter ur email:')\n",
    "    if re.match(pattern,email):\n",
    "        return True\n",
    "    else:\n",
    "        return False\n",
    "validate_email('rbagheri85@gmail.com')\n"
   ]
  },
  {
   "cell_type": "markdown",
   "metadata": {},
   "source": [
    "**phone validation**"
   ]
  },
  {
   "cell_type": "code",
   "execution_count": 26,
   "metadata": {},
   "outputs": [
    {
     "data": {
      "text/plain": [
       "True"
      ]
     },
     "execution_count": 26,
     "metadata": {},
     "output_type": "execute_result"
    }
   ],
   "source": [
    "def validate_phone(phone):\n",
    "    import re\n",
    "    pattern = r'^(0|0098|\\+98)9[0-9]{9}$'\n",
    "    if re.match(pattern,phone):\n",
    "        return True\n",
    "    else:\n",
    "        return False\n",
    "validate_phone('09126982466')\n",
    "\n",
    "\n"
   ]
  },
  {
   "cell_type": "markdown",
   "metadata": {},
   "source": [
    "**Queiz Daneshjoyan bikar, A + B = C**"
   ]
  },
  {
   "cell_type": "code",
   "execution_count": null,
   "metadata": {},
   "outputs": [],
   "source": [
    "import re\n",
    "s = '23 + 5# = 77'\n",
    "a, b = re.split(r' \\+ ', s)\n",
    "b, c = re.split(' \\= ', b)\n",
    "print('a,b,c: ', a,b,c)\n",
    "if '#' in a:\n",
    "    x = a\n",
    "    y = str(int(c) - int(b))\n",
    "elif '#' in b :\n",
    "    x = b\n",
    "    y = str(int(c) - int(a))\n",
    "else:\n",
    "    x = c\n",
    "    y = str(int(a) + int(b))\n",
    "t1, t2 = re.split(r'\\#', x)\n",
    "print('x,y: ', x, y)\n",
    "print('t1:', t1)\n",
    "print('t2: ', t2)\n",
    "if re.match('^t1.*t2$', x):\n",
    "    print('yes match')\n",
    "else:\n",
    "    print('no match')"
   ]
  },
  {
   "cell_type": "markdown",
   "metadata": {},
   "source": [
    "by bard AI, solve it:"
   ]
  },
  {
   "cell_type": "code",
   "execution_count": null,
   "metadata": {},
   "outputs": [],
   "source": [
    "import re\n",
    "\n",
    "s = '23 + 5# = 77'\n",
    "a, b = re.split(r' \\+ ', s)\n",
    "b, c = re.split(' \\= ', b)\n",
    "print('a,b,c: ', a,b,c)\n",
    "if '#' in a:\n",
    "    x = a\n",
    "    y = str(int(c) - int(b))\n",
    "elif '#' in b :\n",
    "    x = b\n",
    "    y = str(int(c) - int(a))\n",
    "else:\n",
    "    x = c\n",
    "    y = str(int(a) + int(b))\n",
    "t1, t2 = re.split('#', x)\n",
    "print('x,y: ', x, y)\n",
    "print('t1, t2:', t1,t2)\n",
    "if re.match('^t1.*t2$', y): # re.match('^' + t1 + '\\d+' + t2 + '$', y):\n",
    "    print('yes match')\n",
    "else:\n",
    "    print('no match')\n"
   ]
  },
  {
   "cell_type": "code",
   "execution_count": null,
   "metadata": {},
   "outputs": [],
   "source": [
    "import re\n",
    "import itertools\n",
    "\n",
    "def solve(equation):\n",
    "    # Identify the placeholders using regular expressions\n",
    "    placeholder_regex = r\"\\d+\"\n",
    "    placeholders = re.findall(placeholder_regex, equation)\n",
    "\n",
    "    # Generate all possible combinations of digits for the placeholders\n",
    "    digit_combinations = []\n",
    "    for placeholder in placeholders:\n",
    "        digit_combinations.append(range(10))  # 0 to 9 for each placeholder\n",
    "\n",
    "    # Iterate through all combinations of digits and check for valid solutions\n",
    "    for digits in itertools.product(*digit_combinations):\n",
    "        # Replace placeholders with digits and create a copy of the equation\n",
    "        modified_equation = equation\n",
    "        for i, placeholder in enumerate(placeholders):\n",
    "            modified_equation = modified_equation.replace(placeholder, str(digits[i]))\n",
    "\n",
    "        # Evaluate the modified equation with placeholders\n",
    "        try:\n",
    "            result = eval(modified_equation.replace(\"#\", \"-\"))\n",
    "        except ZeroDivisionError:\n",
    "            continue\n",
    "\n",
    "        if result == 0:\n",
    "            # Valid solution found, replace placeholders with digits and return the modified equation\n",
    "            for i, placeholder in enumerate(placeholders):\n",
    "                modified_equation = modified_equation.replace(placeholder, str(digits[i]))\n",
    "            return modified_equation\n",
    "\n",
    "    # If no valid solution is found, return -1\n",
    "    return '-1'\n",
    "\n",
    "\n",
    "solution = solve(\"10# + 50 = 10052\")\n",
    "print(solution)  # Output: 10002 + 50 = 10052\n"
   ]
  },
  {
   "cell_type": "code",
   "execution_count": 117,
   "metadata": {},
   "outputs": [
    {
     "name": "stdout",
     "output_type": "stream",
     "text": [
      "True\n"
     ]
    }
   ],
   "source": [
    "x = '5#'\n",
    "y = '54'\n",
    "#pattern = r'.*\\#'\n",
    "if re.match(r'.*\\#', x):\n",
    "    print(True)\n",
    "elif re.match(r'.*\\#.*', x):\n",
    "    print(True)\n",
    "elif re.match(r'.*\\#.*', x):\n",
    "    print(False)"
   ]
  },
  {
   "cell_type": "code",
   "execution_count": 129,
   "metadata": {},
   "outputs": [
    {
     "data": {
      "text/plain": [
       "'82\\\\#'"
      ]
     },
     "execution_count": 129,
     "metadata": {},
     "output_type": "execute_result"
    }
   ],
   "source": [
    "s = '82#'\n",
    "re.escape(s)"
   ]
  },
  {
   "cell_type": "code",
   "execution_count": 120,
   "metadata": {},
   "outputs": [],
   "source": [
    "x = '52#2'\n",
    "if re.match(r'.*\\#.*', x):\n",
    "    print(True)"
   ]
  },
  {
   "cell_type": "markdown",
   "metadata": {},
   "source": [
    "# A short review of RegEx, again:"
   ]
  },
  {
   "cell_type": "code",
   "execution_count": 1,
   "metadata": {},
   "outputs": [],
   "source": [
    "import re"
   ]
  },
  {
   "cell_type": "code",
   "execution_count": 136,
   "metadata": {},
   "outputs": [
    {
     "name": "stdout",
     "output_type": "stream",
     "text": [
      "False\n",
      "True\n"
     ]
    }
   ],
   "source": [
    "pattern = '...' # len of string must be >= 3\n",
    "s = 'a3'\n",
    "print(bool(re.match(pattern, s)))\n",
    "s = 'abc7hg'\n",
    "print(bool(re.match(pattern, s)))\n"
   ]
  },
  {
   "cell_type": "code",
   "execution_count": 134,
   "metadata": {},
   "outputs": [
    {
     "name": "stdout",
     "output_type": "stream",
     "text": [
      "True\n"
     ]
    }
   ],
   "source": [
    "# 'r' is used to avoid the backslash character \\ being treated as\n",
    "# an escape character\n",
    "patt = r'...\\d' # patt = '...[0-9]'\n",
    "s = 'abc6'\n",
    "print(bool(re.match(patt, s)))"
   ]
  },
  {
   "cell_type": "code",
   "execution_count": 138,
   "metadata": {},
   "outputs": [
    {
     "name": "stdout",
     "output_type": "stream",
     "text": [
      "True\n"
     ]
    }
   ],
   "source": [
    "patt = r'.sd\\d'\n",
    "s = 'asd7'\n",
    "print(bool(re.match(patt, s)))"
   ]
  },
  {
   "cell_type": "code",
   "execution_count": 139,
   "metadata": {},
   "outputs": [
    {
     "name": "stdout",
     "output_type": "stream",
     "text": [
      "False\n"
     ]
    }
   ],
   "source": [
    "s = 'g3'\n",
    "patt = r'.\\D'\n",
    "print(bool(re.match(patt, s)))"
   ]
  },
  {
   "cell_type": "code",
   "execution_count": 141,
   "metadata": {},
   "outputs": [
    {
     "name": "stdout",
     "output_type": "stream",
     "text": [
      "False\n"
     ]
    }
   ],
   "source": [
    "patt = r'\\w\\w'\n",
    "s = 's#'\n",
    "print(bool(re.match(patt, s)))"
   ]
  },
  {
   "cell_type": "code",
   "execution_count": 143,
   "metadata": {},
   "outputs": [
    {
     "name": "stdout",
     "output_type": "stream",
     "text": [
      "True\n"
     ]
    }
   ],
   "source": [
    "patt = r'..\\W'\n",
    "s = 's#*'\n",
    "print(bool(re.match(patt, s)))"
   ]
  },
  {
   "cell_type": "code",
   "execution_count": 83,
   "metadata": {},
   "outputs": [
    {
     "name": "stdout",
     "output_type": "stream",
     "text": [
      "False\n"
     ]
    }
   ],
   "source": [
    "# that means the string must be start with s and after that come at least one x\n",
    "patt = 'sx+' \n",
    "s = 'sxps'\n",
    "print(bool(re.match(patt, s)))"
   ]
  },
  {
   "cell_type": "code",
   "execution_count": 85,
   "metadata": {},
   "outputs": [
    {
     "name": "stdout",
     "output_type": "stream",
     "text": [
      "True\n"
     ]
    }
   ],
   "source": [
    "patt = 'p*' \n",
    "s = 'sxs'\n",
    "print(bool(re.match(patt, s)))"
   ]
  },
  {
   "cell_type": "code",
   "execution_count": 103,
   "metadata": {},
   "outputs": [
    {
     "name": "stdout",
     "output_type": "stream",
     "text": [
      "False\n"
     ]
    }
   ],
   "source": [
    "patt = 'd?e?f' \n",
    "s = 'eef'\n",
    "print(bool(re.match(patt, s)))"
   ]
  },
  {
   "cell_type": "code",
   "execution_count": 110,
   "metadata": {},
   "outputs": [
    {
     "name": "stdout",
     "output_type": "stream",
     "text": [
      "True\n"
     ]
    }
   ],
   "source": [
    "patt = 'a{3}' # at least 3 a\n",
    "s = 'aaaaaa'\n",
    "print(bool(re.match(patt, s)))"
   ]
  },
  {
   "cell_type": "code",
   "execution_count": 130,
   "metadata": {},
   "outputs": [
    {
     "name": "stdout",
     "output_type": "stream",
     "text": [
      "True\n"
     ]
    }
   ],
   "source": [
    "patt = '.{3,8}'  # at least 3 to 8 length\n",
    "s = 'h77hhs'\n",
    "print(bool(re.match(patt, s)))"
   ]
  },
  {
   "cell_type": "code",
   "execution_count": 127,
   "metadata": {},
   "outputs": [
    {
     "name": "stdout",
     "output_type": "stream",
     "text": [
      "True\n"
     ]
    }
   ],
   "source": [
    "patt = '....'       # at least length 4\n",
    "s = 'aaay'\n",
    "print(bool(re.match(patt, s)))"
   ]
  },
  {
   "cell_type": "code",
   "execution_count": 133,
   "metadata": {},
   "outputs": [
    {
     "name": "stdout",
     "output_type": "stream",
     "text": [
      "True\n"
     ]
    }
   ],
   "source": [
    "patt = '^.{3}$' # a string that length must be 3 exactly\n",
    "s = 'aay'\n",
    "print(bool(re.match(patt, s)))"
   ]
  },
  {
   "cell_type": "code",
   "execution_count": 147,
   "metadata": {},
   "outputs": [
    {
     "name": "stdout",
     "output_type": "stream",
     "text": [
      "False\n"
     ]
    }
   ],
   "source": [
    "patt = '[abc][kmns][yx]'\n",
    "s = 'amy'\n",
    "print(bool(re.match(patt, s)))"
   ]
  },
  {
   "cell_type": "code",
   "execution_count": 149,
   "metadata": {},
   "outputs": [
    {
     "name": "stdout",
     "output_type": "stream",
     "text": [
      "False\n"
     ]
    }
   ],
   "source": [
    "patt = '[a-e][k-s][x-z]'\n",
    "s = 'afy'\n",
    "print(bool(re.match(patt, s)))"
   ]
  },
  {
   "cell_type": "code",
   "execution_count": 151,
   "metadata": {},
   "outputs": [
    {
     "name": "stdout",
     "output_type": "stream",
     "text": [
      "True\n"
     ]
    }
   ],
   "source": [
    "patt = 'abc[^xy]' # not x or y\n",
    "s = 'abc9'\n",
    "print(bool(re.match(patt, s)))"
   ]
  },
  {
   "cell_type": "code",
   "execution_count": 158,
   "metadata": {},
   "outputs": [
    {
     "name": "stdout",
     "output_type": "stream",
     "text": [
      "True\n"
     ]
    }
   ],
   "source": [
    "patt = '(abc)+'\n",
    "s = 'abckijhyg34'\n",
    "print(bool(re.match(patt, s)))"
   ]
  },
  {
   "cell_type": "code",
   "execution_count": 162,
   "metadata": {},
   "outputs": [
    {
     "name": "stdout",
     "output_type": "stream",
     "text": [
      "True\n"
     ]
    }
   ],
   "source": [
    "patt = r'.*abc.*'  \n",
    "s = '2FTabcTY6U'\n",
    "print(bool(re.match(patt, s)))\n"
   ]
  },
  {
   "cell_type": "code",
   "execution_count": 177,
   "metadata": {},
   "outputs": [
    {
     "name": "stdout",
     "output_type": "stream",
     "text": [
      "True\n"
     ]
    }
   ],
   "source": [
    "patt = r'^(0098|\\+98|0)'  # one of the pattern \n",
    "s = '0912'\n",
    "print(bool(re.match(patt, s)))\n"
   ]
  },
  {
   "cell_type": "code",
   "execution_count": 194,
   "metadata": {},
   "outputs": [
    {
     "name": "stdout",
     "output_type": "stream",
     "text": [
      "True\n"
     ]
    }
   ],
   "source": [
    "patt = '^Mah.+'  # one of the pattern \n",
    "s = 'Mah44'\n",
    "print(bool(re.match(patt, s)))\n"
   ]
  },
  {
   "cell_type": "code",
   "execution_count": 198,
   "metadata": {},
   "outputs": [
    {
     "name": "stdout",
     "output_type": "stream",
     "text": [
      "True\n"
     ]
    }
   ],
   "source": [
    "patt = r'^(0098|\\+98|0).+k$'  # one of the pattern \n",
    "s = '0912k'\n",
    "print(bool(re.match(patt, s)))\n",
    "\n",
    "# see below"
   ]
  },
  {
   "cell_type": "code",
   "execution_count": 200,
   "metadata": {},
   "outputs": [
    {
     "name": "stdout",
     "output_type": "stream",
     "text": [
      "True\n"
     ]
    }
   ],
   "source": [
    "# Clear code\n",
    "patt = r'^(0098|\\+98|0)(.+)(ksd)$'  # one of the pattern \n",
    "s = '0912Tksd'\n",
    "print(bool(re.match(patt, s)))"
   ]
  },
  {
   "cell_type": "code",
   "execution_count": 189,
   "metadata": {},
   "outputs": [
    {
     "name": "stdout",
     "output_type": "stream",
     "text": [
      "True\n"
     ]
    }
   ],
   "source": [
    "patt = '.+(pour)$' \n",
    "s = '2qTpour'\n",
    "print(bool(re.match(patt, s)))\n"
   ]
  }
 ],
 "metadata": {
  "kernelspec": {
   "display_name": "Python 3",
   "language": "python",
   "name": "python3"
  },
  "language_info": {
   "codemirror_mode": {
    "name": "ipython",
    "version": 3
   },
   "file_extension": ".py",
   "mimetype": "text/x-python",
   "name": "python",
   "nbconvert_exporter": "python",
   "pygments_lexer": "ipython3",
   "version": "3.12.0"
  }
 },
 "nbformat": 4,
 "nbformat_minor": 2
}
