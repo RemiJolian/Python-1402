{
 "cells": [
  {
   "cell_type": "markdown",
   "metadata": {},
   "source": [
    "**Quera_Review: RegEx and 're' library:**"
   ]
  },
  {
   "cell_type": "markdown",
   "metadata": {},
   "source": [
    "# re lib  "
   ]
  },
  {
   "cell_type": "code",
   "execution_count": 1,
   "metadata": {},
   "outputs": [],
   "source": [
    "import re"
   ]
  },
  {
   "cell_type": "markdown",
   "metadata": {},
   "source": [
    "# match func:"
   ]
  },
  {
   "cell_type": "code",
   "execution_count": 12,
   "metadata": {},
   "outputs": [
    {
     "name": "stderr",
     "output_type": "stream",
     "text": [
      "<>:1: SyntaxWarning: invalid escape sequence '\\d'\n",
      "<>:1: SyntaxWarning: invalid escape sequence '\\d'\n",
      "C:\\Users\\Laptop Market - LTM\\AppData\\Local\\Temp\\ipykernel_1608\\247131924.py:1: SyntaxWarning: invalid escape sequence '\\d'\n",
      "  pattern = '\\d\\d\\d$'\n"
     ]
    },
    {
     "name": "stdout",
     "output_type": "stream",
     "text": [
      "not match\n"
     ]
    }
   ],
   "source": [
    "pattern = '\\d\\d\\d$'\n",
    "s = input(\"plz inter:\\n\")\n",
    "if re.match(pattern, s):\n",
    "    print('match')\n",
    "else:\n",
    "    print('not match')\n"
   ]
  },
  {
   "cell_type": "markdown",
   "metadata": {},
   "source": [
    "# findall() func:"
   ]
  },
  {
   "cell_type": "code",
   "execution_count": 17,
   "metadata": {},
   "outputs": [
    {
     "name": "stdout",
     "output_type": "stream",
     "text": [
      "['el', 'ek']\n",
      "[]\n"
     ]
    }
   ],
   "source": [
    "import re\n",
    "s = 'Hello world codekiata'  \n",
    "b = 'e[a-m]'\n",
    "print(re.findall(b, s))            # find b in s\n",
    "print(re.findall('PYTHON', 'Goodby guys, see u later'))    # PYTHON not in ' Goo..... '"
   ]
  },
  {
   "cell_type": "markdown",
   "metadata": {},
   "source": [
    "# search , group and span func:"
   ]
  },
  {
   "cell_type": "code",
   "execution_count": 219,
   "metadata": {},
   "outputs": [
    {
     "name": "stdout",
     "output_type": "stream",
     "text": [
      "Match found: fox\n"
     ]
    }
   ],
   "source": [
    "import re\n",
    "\n",
    "text = \"The quick brown fox jumps over the lazy dog.\"\n",
    "pattern = r\"fox\"\n",
    "match = re.search(pattern, text)\n",
    "if match:\n",
    "    print(\"Match found:\", match.group())\n",
    "else:\n",
    "    print(\"Match not found\")\n"
   ]
  },
  {
   "cell_type": "code",
   "execution_count": 223,
   "metadata": {},
   "outputs": [
    {
     "name": "stdout",
     "output_type": "stream",
     "text": [
      "Match found: brown fox\n",
      "Group 1: brown\n"
     ]
    }
   ],
   "source": [
    "import re\n",
    "\n",
    "text = \"The quick brown fox jumps over the lazy dog\"\n",
    "pattern = r\"(brown|red) fox\"\n",
    "match = re.search(pattern, text)\n",
    "if match:\n",
    "    print(\"Match found:\", match.group())\n",
    "    print(\"Group 1:\", match.group(1))\n",
    "else:\n",
    "    print(\"Match not found\")\n"
   ]
  },
  {
   "cell_type": "code",
   "execution_count": 20,
   "metadata": {},
   "outputs": [
    {
     "name": "stdout",
     "output_type": "stream",
     "text": [
      "Match found at positions: (16, 19)\n"
     ]
    }
   ],
   "source": [
    "import re\n",
    "\n",
    "text = \"The quick brown fox jumps over the lazy dog\"\n",
    "pattern = r\"fox\"\n",
    "match = re.search(pattern, text)\n",
    "if match:\n",
    "    print(\"Match found at positions:\", match.span())\n",
    "else:\n",
    "    print(\"Match not found\")\n"
   ]
  },
  {
   "cell_type": "markdown",
   "metadata": {},
   "source": [
    "see this comment about above (r'fox\") in codes:\n",
    "The r before the string (r'fox\") indicates that it is a raw string, which means that backslashes are treated as literal characters rather than escape characters. This is useful when working with regular expressions, which often use backslashes to escape special characters."
   ]
  },
  {
   "cell_type": "markdown",
   "metadata": {},
   "source": [
    "In summary, the search(), group(), and span() functions in the re library are used to search for regular expression patterns in strings, retrieve the matched string and its position, and extract specific groups from the matched string.\n"
   ]
  },
  {
   "cell_type": "markdown",
   "metadata": {},
   "source": [
    "**split func:**\n",
    "befor that, review sparr_arr_arr_arr_arr_arr_arr_arr_arr_arr_arr_arr_liststststststststststststt in python, after that in RegEx:"
   ]
  },
  {
   "cell_type": "code",
   "execution_count": 5,
   "metadata": {},
   "outputs": [
    {
     "name": "stdout",
     "output_type": "stream",
     "text": [
      "['Python', 'created', 'by', 'Rossum']\n"
     ]
    }
   ],
   "source": [
    "s = 'Python created by Rossum'\n",
    "a = s.split(' ')\n",
    "print(a)  "
   ]
  },
  {
   "cell_type": "markdown",
   "metadata": {},
   "source": [
    "now in RegEx:"
   ]
  },
  {
   "cell_type": "code",
   "execution_count": 260,
   "metadata": {},
   "outputs": [
    {
     "data": {
      "text/plain": [
       "['Python', 'created', 'by', 'Rossum']"
      ]
     },
     "execution_count": 260,
     "metadata": {},
     "output_type": "execute_result"
    }
   ],
   "source": [
    "import re\n",
    "s = 'Python created by Rossum'\n",
    "re.split(' ', s)"
   ]
  },
  {
   "cell_type": "code",
   "execution_count": 16,
   "metadata": {},
   "outputs": [
    {
     "data": {
      "text/plain": [
       "['s', 'l', 'm h', 'let?']"
      ]
     },
     "execution_count": 16,
     "metadata": {},
     "output_type": "execute_result"
    }
   ],
   "source": [
    "import re\n",
    "s = 'salam halet?'\n",
    "re.split('a', s)"
   ]
  },
  {
   "cell_type": "code",
   "execution_count": 18,
   "metadata": {},
   "outputs": [
    {
     "data": {
      "text/plain": [
       "['you', 'can', 'split', 'with', 'numbers']"
      ]
     },
     "execution_count": 18,
     "metadata": {},
     "output_type": "execute_result"
    }
   ],
   "source": [
    "re.split('[0-9]+', 'you92398can820split729with26numbers')\n"
   ]
  },
  {
   "cell_type": "code",
   "execution_count": 19,
   "metadata": {},
   "outputs": [
    {
     "data": {
      "text/plain": [
       "['2093', '20', '120', '']"
      ]
     },
     "execution_count": 19,
     "metadata": {},
     "output_type": "execute_result"
    }
   ],
   "source": [
    "re.split('[a-z]+', '2093ab20a120dk')"
   ]
  },
  {
   "cell_type": "code",
   "execution_count": null,
   "metadata": {},
   "outputs": [],
   "source": [
    "re.split('[0-9]+', 'abcdj33kklk678')\n",
    "s = '  '\n",
    "re.split('[a-z[A-Z]+,'s']')"
   ]
  },
  {
   "cell_type": "code",
   "execution_count": 21,
   "metadata": {},
   "outputs": [
    {
     "data": {
      "text/plain": [
       "['2', '8765', '3']"
      ]
     },
     "execution_count": 21,
     "metadata": {},
     "output_type": "execute_result"
    }
   ],
   "source": [
    "re.split('[A-Z]+','2AB8765NH3')"
   ]
  },
  {
   "cell_type": "markdown",
   "metadata": {},
   "source": [
    "**sub func in RegEx**\n",
    "before that review of 'replace' func in python, after that in regex:"
   ]
  },
  {
   "cell_type": "code",
   "execution_count": 22,
   "metadata": {},
   "outputs": [
    {
     "name": "stdout",
     "output_type": "stream",
     "text": [
      "shirdel\n"
     ]
    }
   ],
   "source": [
    "s = 'shirafkan'\n",
    "print(s.replace('afkan','del'))   "
   ]
  },
  {
   "cell_type": "markdown",
   "metadata": {},
   "source": [
    "now in RegEx:"
   ]
  },
  {
   "cell_type": "code",
   "execution_count": 23,
   "metadata": {},
   "outputs": [
    {
     "name": "stdout",
     "output_type": "stream",
     "text": [
      "hesalamsalamo\n",
      "_digit__digit_ab_digit_\n",
      "_num_ab_num_h\n"
     ]
    }
   ],
   "source": [
    "\n",
    "print(re.sub('l', 'salam', 'hello'))\n",
    "\n",
    "print(re.sub('[0-9]', '_digit_', '12ab1'))\n",
    "\n",
    "print(re.sub('[0-9]+', '_num_', '12ab1129h'))\n",
    "\n"
   ]
  },
  {
   "cell_type": "markdown",
   "metadata": {},
   "source": [
    "Queiz Besanj_email**email validation**"
   ]
  },
  {
   "cell_type": "code",
   "execution_count": 256,
   "metadata": {},
   "outputs": [
    {
     "data": {
      "text/plain": [
       "True"
      ]
     },
     "execution_count": 256,
     "metadata": {},
     "output_type": "execute_result"
    }
   ],
   "source": [
    "# only this format for an email is valid: abcdABCD123_.@GMAIL123.ABCabc is valid\n",
    "def validate_email(email):\n",
    "    pattern = r'^[a-zA-Z0-9\\.\\_]+\\@[a-zA-Z0-9]+\\.[a-zA-Z]{3}$'\n",
    "    import re\n",
    "    #email = input('enter ur email:')\n",
    "    if re.match(pattern,email):\n",
    "        return True\n",
    "    else:\n",
    "        return False\n",
    "validate_email('rbagheri85@gmail.com')\n"
   ]
  },
  {
   "cell_type": "markdown",
   "metadata": {},
   "source": [
    "**phone validation**"
   ]
  },
  {
   "cell_type": "code",
   "execution_count": 26,
   "metadata": {},
   "outputs": [
    {
     "data": {
      "text/plain": [
       "True"
      ]
     },
     "execution_count": 26,
     "metadata": {},
     "output_type": "execute_result"
    }
   ],
   "source": [
    "def validate_phone(phone):\n",
    "    import re\n",
    "    pattern = r'^(0|0098|\\+98)9[0-9]{9}$'\n",
    "    if re.match(pattern,phone):\n",
    "        return True\n",
    "    else:\n",
    "        return False"
   ]
  },
  {
   "cell_type": "markdown",
   "metadata": {},
   "source": [
    "**Queiz Daneshjoyan bikar, A + B = C**\n"
   ]
  },
  {
   "cell_type": "markdown",
   "metadata": {},
   "source": [
    "My Answer, ..."
   ]
  },
  {
   "cell_type": "code",
   "execution_count": 283,
   "metadata": {},
   "outputs": [
    {
     "data": {
      "text/plain": [
       "'-1'"
      ]
     },
     "execution_count": 283,
     "metadata": {},
     "output_type": "execute_result"
    }
   ],
   "source": [
    "import re\n",
    "def solve(arr):\n",
    "    a, b = re.sparr_listt(r' \\+ ', arr)\n",
    "    b, c = re.split(r' \\= ', b)\n",
    "    #print('a,b,c: ', a,b,c)\n",
    "    if '#' in a:\n",
    "        x = a\n",
    "        y = str(int(c) - int(b))\n",
    "    elif '#' in b :\n",
    "        x = b\n",
    "        y = str(int(c) - int(a))\n",
    "    else:\n",
    "        x = c\n",
    "        y = str(int(a) + int(b))\n",
    "    t1, t2 = re.split(r'\\#', x)\n",
    "    #print('x, y: ', x, y)\n",
    "    #print('t1, t2:', t1, t2)\n",
    "    if re.match('^t1.*t2$', y): # re.match('^' + t1 + '\\d+' + t2 + '$', y):\n",
    "        #print('yes match')\n",
    "        x = y\n",
    "        if '#' in a:\n",
    "            return (x, '+', b, '=', c)\n",
    "        elif '#' in b: \n",
    "            return (a, '+', x, '=', c)\n",
    "        else:\n",
    "            return (a, '+', b, '=', x)\n",
    "    else:\n",
    "        return ('-1')\n",
    "    \n",
    "arr = \"10# + 50 = 10052\"\n",
    "solve(arr)"
   ]
  },
  {
   "cell_type": "markdown",
   "metadata": {},
   "source": [
    "# solution 1"
   ]
  },
  {
   "cell_type": "code",
   "execution_count": 307,
   "metadata": {},
   "outputs": [
    {
     "data": {
      "text/plain": [
       "'-1'"
      ]
     },
     "execution_count": 307,
     "metadata": {},
     "output_type": "execute_result"
    }
   ],
   "source": [
    "import re\n",
    "\n",
    "\n",
    "def check(inp, number):\n",
    "    inp = inp.split(\"#\")\n",
    "    start = inp[0]\n",
    "    end = inp[1]\n",
    "    pattern = \"\"\n",
    "    if len(start) != 0:\n",
    "        pattern = pattern + \"^\" + start\n",
    "    pattern = pattern + \".*\"\n",
    "    if len(end) != 0:\n",
    "        pattern = pattern + end + \"$\"\n",
    "    find = re.search(pattern, number)\n",
    "    if find is not None:\n",
    "        return True\n",
    "    return False\n",
    "\n",
    "\n",
    "def solve(problem):\n",
    "    answer = ''\n",
    "    problem = problem.split(\" + \")\n",
    "    num1 = problem[0]\n",
    "    problem = problem[1].split(\" = \")\n",
    "    num2 = problem[0]\n",
    "    res = problem[1]\n",
    "\n",
    "    if '#' in num1:\n",
    "        if check(num1, str(int(res) - int(num2))):\n",
    "            answer = f'{(int(y) - int(num2))} + {num2} = {y}'\n",
    "        else:\n",
    "            answer = \"-1\"\n",
    "    elif '#' in num2:\n",
    "        if check(num2, str(int(y) - int(num1))):\n",
    "            answer = f'{num1} + {int(y) - int(num1)} = {y}'\n",
    "        else:\n",
    "            answer = \"-1\"\n",
    "    else:\n",
    "        if check(y, str(int(num1) + int(num2))):\n",
    "            answer = f'{num1} + {num2} = {int(num1) + int(num2)}'\n",
    "        else:\n",
    "            answer = \"-1\"\n",
    "    return answer\n",
    "\n",
    "arr = \"10# + 50 = 10052\"\n",
    "solve(arr)"
   ]
  },
  {
   "cell_type": "markdown",
   "metadata": {},
   "source": [
    "solution 1+"
   ]
  },
  {
   "cell_type": "code",
   "execution_count": null,
   "metadata": {},
   "outputs": [],
   "source": [
    "import re\n",
    "\n",
    "\n",
    "def solve(arr):\n",
    "    arr_list = re.findall(r'[0-9\\#]+', arr)\n",
    "    print('arr_list = ', arr_list)\n",
    "    x, pattern = '', ''\n",
    "    index_ = 0\n",
    "    for item in arr_list:\n",
    "        if '#' in item:\n",
    "            x = item\n",
    "            print('x = ', x)\n",
    "            index_ = arr_list.index(item)\n",
    "            pattern = item.replace('#', '[0-9]*')\n",
    "            print('pattern = ', pattern)\n",
    "            arr_list.remove(item)\n",
    "    if index_ < 2:\n",
    "        y = abs(int(arr_list[0]) - int(arr_list[1]))\n",
    "        print('y = ', y)\n",
    "    else:\n",
    "        y = int(arr_list[0]) + int(arr_list[1])\n",
    "        print('y = ', y)\n",
    "    if re.match(pattern, str(y)):\n",
    "        return re.sub(x, str(y), arr)\n",
    "    return '-1'\n",
    "\n",
    "arr = \"10# + 50 = 10052\"\n",
    "solve(arr)"
   ]
  },
  {
   "cell_type": "markdown",
   "metadata": {},
   "source": [
    "solution 2"
   ]
  },
  {
   "cell_type": "code",
   "execution_count": null,
   "metadata": {},
   "outputs": [],
   "source": [
    "import re\n",
    "\n",
    "def ptr(s):\n",
    "    pattern = ''\n",
    "    for i in s:\n",
    "        if re.match(\"\\d\", i):\n",
    "            pattern = pattern+i\n",
    "        elif re.match(\"\\#\", i):\n",
    "            pattern = pattern + \"[\\d]*\"\n",
    "    pattern = \"^\" + pattern + \"$\"\n",
    "    return pattern\n",
    "\n",
    "\n",
    "def solve(arr):\n",
    "    arr=arr.split()\n",
    "    l = list()\n",
    "    pattern = \"[\\+ \\=]+\"\n",
    "    for i in arr:\n",
    "        if re.match(pattern, i):\n",
    "            pass\n",
    "        else:\n",
    "            l.append(i)\n",
    "    \n",
    "    if '#' in l[0]:\n",
    "        x=str(int(l[2])-int(l[1]))\n",
    "        y=l[0]\n",
    "        if re.match(ptr(y), x) and int(x)>=0:\n",
    "            return (x + \" + \"+ l[1] + \" = \" + l[2])\n",
    "    elif '#' in l[1]:\n",
    "        x=str(int(l[2])-int(l[0]))\n",
    "        y=l[1]\n",
    "        if re.match(ptr(y), x) and int(x)>=0:\n",
    "            return (l[0] + \" + \"+ x + \" = \" + l[2])\n",
    "    else:\n",
    "        x=str(int(l[1])+int(l[0]))\n",
    "        y=l[2]\n",
    "        if re.match(ptr(y), x) and int(x)>=0:\n",
    "            return (l[0] + \" + \"+ l[1] + \" = \" + x)\n",
    "    return '-1'\n",
    "    "
   ]
  },
  {
   "cell_type": "markdown",
   "metadata": {},
   "source": [
    "solution 3:"
   ]
  },
  {
   "cell_type": "code",
   "execution_count": null,
   "metadata": {},
   "outputs": [],
   "source": [
    "import re\n",
    "\n",
    "\n",
    "def check(inp, number):\n",
    "    inp = inp.split(\"#\")\n",
    "    start = inp[0]\n",
    "    end = inp[1]\n",
    "    pattern = \"\"\n",
    "    if len(start) != 0:\n",
    "        pattern = pattern + \"^\" + start\n",
    "    pattern = pattern + \".*\"\n",
    "    if len(end) != 0:\n",
    "        pattern = pattern + end + \"$\"\n",
    "    find = re.search(pattern, number)\n",
    "    if find is not None:\n",
    "        return True\n",
    "    return False\n",
    "\n",
    "\n",
    "def solve(problem):\n",
    "    answer = ''\n",
    "    problem = problem.split(\" + \")\n",
    "    num1 = problem[0]\n",
    "    problem = problem[1].split(\" = \")\n",
    "    num2 = problem[0]\n",
    "    res = problem[1]\n",
    "\n",
    "    if '#' in num1:\n",
    "        if check(num1, str(int(res) - int(num2))):\n",
    "            answer = f'{(int(res) - int(num2))} + {num2} = {res}'\n",
    "        else:\n",
    "            answer = \"-1\"\n",
    "    elif '#' in num2:\n",
    "        if check(num2, str(int(res) - int(num1))):\n",
    "            answer = f'{num1} + {int(res) - int(num1)} = {res}'\n",
    "        else:\n",
    "            answer = \"-1\"\n",
    "    else:\n",
    "        if check(res, str(int(num1) + int(num2))):\n",
    "            answer = f'{num1} + {num2} = {int(num1) + int(num2)}'\n",
    "        else:\n",
    "            answer = \"-1\"\n",
    "    return answer\n"
   ]
  },
  {
   "cell_type": "markdown",
   "metadata": {},
   "source": [
    "solution 4"
   ]
  },
  {
   "cell_type": "code",
   "execution_count": null,
   "metadata": {},
   "outputs": [],
   "source": [
    "import re\n",
    "\n",
    "\n",
    "def ss(a, b):\n",
    "    a = str(a)\n",
    "    b = str(b)\n",
    "    a = a.replace('#', \".*\")\n",
    "    a = \"^\"+ a +'$'\n",
    "    if(re.match(a, b)) :\n",
    "        return 0\n",
    "    return 1\n",
    "\n",
    "def solve(arr : str):\n",
    "    arr = arr.split(\" \")\n",
    "    a,b,c = \"\",\"\",\"\"\n",
    "    if('#' in arr[4]):\n",
    "        a = int(arr[0])\n",
    "        b = int(arr[2])\n",
    "        c = a+b\n",
    "\n",
    "        if(c < 0 or ss(arr[4], c)) :\n",
    "            return '-1' \n",
    "    if('#' in arr[2]):\n",
    "        a = int(arr[0])\n",
    "        c = int(arr[4])\n",
    "        b = c-a\n",
    "\n",
    "        if(b < 0 or ss(arr[2], b)) :\n",
    "            return '-1' \n",
    "    if('#' in arr[0]):\n",
    "        b = int(arr[2])\n",
    "        c = int(arr[4])\n",
    "        a = c-b\n",
    "\n",
    "        if(a < 0 or ss(arr[0], a)) :\n",
    "            return '-1' \n",
    "        \n",
    "    return str(a)+\" + \"+str(b)+\" = \"+str(c)  \n",
    "    \n"
   ]
  },
  {
   "cell_type": "code",
   "execution_count": null,
   "metadata": {},
   "outputs": [],
   "source": [
    "import re\n",
    "import itertools\n",
    "\n",
    "def solve(equation):\n",
    "    # Identify the placeholders using regular expressions\n",
    "    placeholder_regex = r\"\\d+\"\n",
    "    placeholders = re.findall(placeholder_regex, equation)\n",
    "\n",
    "    # Generate all possible combinations of digits for the placeholders\n",
    "    digit_combinations = []\n",
    "    for placeholder in placeholders:\n",
    "        digit_combinations.append(range(10))  # 0 to 9 for each placeholder\n",
    "\n",
    "    # Iterate through all combinations of digits and check for valid solutions\n",
    "    for digits in itertools.product(*digit_combinations):\n",
    "        # Replace placeholders with digits and create a copy of the equation\n",
    "        modified_equation = equation\n",
    "        for i, placeholder in enumerate(placeholders):\n",
    "            modified_equation = modified_equation.replace(placeholder, str(digits[i]))\n",
    "\n",
    "        # Evaluate the modified equation with placeholders\n",
    "        try:\n",
    "            result = eval(modified_equation.replace(\"#\", \"-\"))\n",
    "        except ZeroDivisionError:\n",
    "            continue\n",
    "\n",
    "        if result == 0:\n",
    "            # Valid solution found, replace placeholders with digits and return the modified equation\n",
    "            for i, placeholder in enumerate(placeholders):\n",
    "                modified_equation = modified_equation.replace(placeholder, str(digits[i]))\n",
    "            return modified_equation\n",
    "\n",
    "    # If no valid solution is found, return -1\n",
    "    return '-1'\n",
    "\n",
    "\n",
    "solution = solve(\"10# + 50 = 10052\")\n",
    "print(solution)  # Output: 10002 + 50 = 10052\n"
   ]
  },
  {
   "cell_type": "code",
   "execution_count": 117,
   "metadata": {},
   "outputs": [
    {
     "name": "stdout",
     "output_type": "stream",
     "text": [
      "True\n"
     ]
    }
   ],
   "source": [
    "x = '5#'\n",
    "y = '54'\n",
    "#pattern = r'.*\\#'\n",
    "if re.match(r'.*\\#', x):\n",
    "    print(True)\n",
    "elif re.match(r'.*\\#.*', x):\n",
    "    print(True)\n",
    "elif re.match(r'.*\\#.*', x):\n",
    "    print(False)"
   ]
  },
  {
   "cell_type": "code",
   "execution_count": 129,
   "metadata": {},
   "outputs": [
    {
     "data": {
      "text/plain": [
       "'82\\\\#'"
      ]
     },
     "execution_count": 129,
     "metadata": {},
     "output_type": "execute_result"
    }
   ],
   "source": [
    "s = '82#'\n",
    "re.escape(s)"
   ]
  },
  {
   "cell_type": "code",
   "execution_count": 120,
   "metadata": {},
   "outputs": [],
   "source": [
    "x = '52#2'\n",
    "if re.match(r'.*\\#.*', x):\n",
    "    print(True)"
   ]
  },
  {
   "cell_type": "markdown",
   "metadata": {},
   "source": [
    "# A short review of RegEx, again:"
   ]
  },
  {
   "cell_type": "code",
   "execution_count": 1,
   "metadata": {},
   "outputs": [],
   "source": [
    "import re"
   ]
  },
  {
   "cell_type": "code",
   "execution_count": 136,
   "metadata": {},
   "outputs": [
    {
     "name": "stdout",
     "output_type": "stream",
     "text": [
      "False\n",
      "True\n"
     ]
    }
   ],
   "source": [
    "pattern = '...' # len of string must be >= 3\n",
    "s = 'a3'\n",
    "print(bool(re.match(pattern, s)))\n",
    "s = 'abc7hg'\n",
    "print(bool(re.match(pattern, s)))\n"
   ]
  },
  {
   "cell_type": "code",
   "execution_count": 134,
   "metadata": {},
   "outputs": [
    {
     "name": "stdout",
     "output_type": "stream",
     "text": [
      "True\n"
     ]
    }
   ],
   "source": [
    "# 'r' is used to avoid the backslash character \\ being treated as\n",
    "# an escape character\n",
    "patt = r'...\\d' # patt = '...[0-9]'\n",
    "s = 'abc6'\n",
    "print(bool(re.match(patt, s)))"
   ]
  },
  {
   "cell_type": "code",
   "execution_count": 138,
   "metadata": {},
   "outputs": [
    {
     "name": "stdout",
     "output_type": "stream",
     "text": [
      "True\n"
     ]
    }
   ],
   "source": [
    "patt = r'.sd\\d'\n",
    "s = 'asd7'\n",
    "print(bool(re.match(patt, s)))"
   ]
  },
  {
   "cell_type": "code",
   "execution_count": 139,
   "metadata": {},
   "outputs": [
    {
     "name": "stdout",
     "output_type": "stream",
     "text": [
      "False\n"
     ]
    }
   ],
   "source": [
    "s = 'g3'\n",
    "patt = r'.\\D'\n",
    "print(bool(re.match(patt, s)))"
   ]
  },
  {
   "cell_type": "code",
   "execution_count": 141,
   "metadata": {},
   "outputs": [
    {
     "name": "stdout",
     "output_type": "stream",
     "text": [
      "False\n"
     ]
    }
   ],
   "source": [
    "patt = r'\\w\\w'\n",
    "s = 's#'\n",
    "print(bool(re.match(patt, s)))"
   ]
  },
  {
   "cell_type": "code",
   "execution_count": 143,
   "metadata": {},
   "outputs": [
    {
     "name": "stdout",
     "output_type": "stream",
     "text": [
      "True\n"
     ]
    }
   ],
   "source": [
    "patt = r'..\\W'\n",
    "s = 's#*'\n",
    "print(bool(re.match(patt, s)))"
   ]
  },
  {
   "cell_type": "code",
   "execution_count": 83,
   "metadata": {},
   "outputs": [
    {
     "name": "stdout",
     "output_type": "stream",
     "text": [
      "False\n"
     ]
    }
   ],
   "source": [
    "# that means the string must be start with s and after that come at least one x\n",
    "patt = 'sx+' \n",
    "s = 'sxps'\n",
    "print(bool(re.match(patt, s)))"
   ]
  },
  {
   "cell_type": "code",
   "execution_count": 85,
   "metadata": {},
   "outputs": [
    {
     "name": "stdout",
     "output_type": "stream",
     "text": [
      "True\n"
     ]
    }
   ],
   "source": [
    "patt = 'p*' \n",
    "s = 'sxs'\n",
    "print(bool(re.match(patt, s)))"
   ]
  },
  {
   "cell_type": "code",
   "execution_count": 103,
   "metadata": {},
   "outputs": [
    {
     "name": "stdout",
     "output_type": "stream",
     "text": [
      "False\n"
     ]
    }
   ],
   "source": [
    "patt = 'd?e?f' \n",
    "s = 'eef'\n",
    "print(bool(re.match(patt, s)))"
   ]
  },
  {
   "cell_type": "code",
   "execution_count": 110,
   "metadata": {},
   "outputs": [
    {
     "name": "stdout",
     "output_type": "stream",
     "text": [
      "True\n"
     ]
    }
   ],
   "source": [
    "patt = 'a{3}' # at least 3 a\n",
    "s = 'aaaaaa'\n",
    "print(bool(re.match(patt, s)))"
   ]
  },
  {
   "cell_type": "code",
   "execution_count": 130,
   "metadata": {},
   "outputs": [
    {
     "name": "stdout",
     "output_type": "stream",
     "text": [
      "True\n"
     ]
    }
   ],
   "source": [
    "patt = '.{3,8}'  # at least 3 to 8 length\n",
    "s = 'h77hhs'\n",
    "print(bool(re.match(patt, s)))"
   ]
  },
  {
   "cell_type": "code",
   "execution_count": 127,
   "metadata": {},
   "outputs": [
    {
     "name": "stdout",
     "output_type": "stream",
     "text": [
      "True\n"
     ]
    }
   ],
   "source": [
    "patt = '....'       # at least length 4\n",
    "s = 'aaay'\n",
    "print(bool(re.match(patt, s)))"
   ]
  },
  {
   "cell_type": "code",
   "execution_count": 133,
   "metadata": {},
   "outputs": [
    {
     "name": "stdout",
     "output_type": "stream",
     "text": [
      "True\n"
     ]
    }
   ],
   "source": [
    "patt = '^.{3}$' # a string that length must be 3 exactly\n",
    "s = 'aay'\n",
    "print(bool(re.match(patt, s)))"
   ]
  },
  {
   "cell_type": "code",
   "execution_count": 147,
   "metadata": {},
   "outputs": [
    {
     "name": "stdout",
     "output_type": "stream",
     "text": [
      "False\n"
     ]
    }
   ],
   "source": [
    "patt = '[abc][kmns][yx]'\n",
    "s = 'amy'\n",
    "print(bool(re.match(patt, s)))"
   ]
  },
  {
   "cell_type": "code",
   "execution_count": 149,
   "metadata": {},
   "outputs": [
    {
     "name": "stdout",
     "output_type": "stream",
     "text": [
      "False\n"
     ]
    }
   ],
   "source": [
    "patt = '[a-e][k-s][x-z]'\n",
    "s = 'afy'\n",
    "print(bool(re.match(patt, s)))"
   ]
  },
  {
   "cell_type": "code",
   "execution_count": 151,
   "metadata": {},
   "outputs": [
    {
     "name": "stdout",
     "output_type": "stream",
     "text": [
      "True\n"
     ]
    }
   ],
   "source": [
    "patt = 'abc[^xy]' # not x or y\n",
    "s = 'abc9'\n",
    "print(bool(re.match(patt, s)))"
   ]
  },
  {
   "cell_type": "code",
   "execution_count": 158,
   "metadata": {},
   "outputs": [
    {
     "name": "stdout",
     "output_type": "stream",
     "text": [
      "True\n"
     ]
    }
   ],
   "source": [
    "patt = '(abc)+'\n",
    "s = 'abckijhyg34'\n",
    "print(bool(re.match(patt, s)))"
   ]
  },
  {
   "cell_type": "code",
   "execution_count": 162,
   "metadata": {},
   "outputs": [
    {
     "name": "stdout",
     "output_type": "stream",
     "text": [
      "True\n"
     ]
    }
   ],
   "source": [
    "patt = r'.*abc.*'  \n",
    "s = '2FTabcTY6U'\n",
    "print(bool(re.match(patt, s)))\n"
   ]
  },
  {
   "cell_type": "code",
   "execution_count": 177,
   "metadata": {},
   "outputs": [
    {
     "name": "stdout",
     "output_type": "stream",
     "text": [
      "True\n"
     ]
    }
   ],
   "source": [
    "patt = r'^(0098|\\+98|0)'  # one of the pattern \n",
    "s = '0912'\n",
    "print(bool(re.match(patt, s)))\n"
   ]
  },
  {
   "cell_type": "code",
   "execution_count": 194,
   "metadata": {},
   "outputs": [
    {
     "name": "stdout",
     "output_type": "stream",
     "text": [
      "True\n"
     ]
    }
   ],
   "source": [
    "patt = '^Mah.+'  # one of the pattern \n",
    "s = 'Mah44'\n",
    "print(bool(re.match(patt, s)))\n"
   ]
  },
  {
   "cell_type": "code",
   "execution_count": 198,
   "metadata": {},
   "outputs": [
    {
     "name": "stdout",
     "output_type": "stream",
     "text": [
      "True\n"
     ]
    }
   ],
   "source": [
    "patt = r'^(0098|\\+98|0).+k$'  # one of the pattern \n",
    "s = '0912k'\n",
    "print(bool(re.match(patt, s)))\n",
    "\n",
    "# see below"
   ]
  },
  {
   "cell_type": "code",
   "execution_count": 200,
   "metadata": {},
   "outputs": [
    {
     "name": "stdout",
     "output_type": "stream",
     "text": [
      "True\n"
     ]
    }
   ],
   "source": [
    "# Clear code\n",
    "patt = r'^(0098|\\+98|0)(.+)(ksd)$'  # one of the pattern \n",
    "s = '0912Tksd'\n",
    "print(bool(re.match(patt, s)))"
   ]
  },
  {
   "cell_type": "code",
   "execution_count": 189,
   "metadata": {},
   "outputs": [
    {
     "name": "stdout",
     "output_type": "stream",
     "text": [
      "True\n"
     ]
    }
   ],
   "source": [
    "patt = '.+(pour)$' \n",
    "s = '2qTpour'\n",
    "print(bool(re.match(patt, s)))\n"
   ]
  },
  {
   "cell_type": "code",
   "execution_count": 208,
   "metadata": {},
   "outputs": [
    {
     "data": {
      "text/plain": [
       "['eg', 'ex', 'eg']"
      ]
     },
     "execution_count": 208,
     "metadata": {},
     "output_type": "execute_result"
    }
   ],
   "source": [
    "re.findall(\"e[a-z]\", \"regex college\")"
   ]
  },
  {
   "cell_type": "code",
   "execution_count": 217,
   "metadata": {},
   "outputs": [
    {
     "name": "stdout",
     "output_type": "stream",
     "text": [
      "<re.Match object; span=(1, 3), match='eg'>\n",
      "<class 're.Match'>\n",
      "regex python\n",
      "eg\n"
     ]
    }
   ],
   "source": [
    "x = re.search('e[a-m]', 'regex python')\n",
    "print(x)\n",
    "print(type(x))\n",
    "print(x.string)\n",
    "print(x.group())"
   ]
  },
  {
   "cell_type": "code",
   "execution_count": 226,
   "metadata": {},
   "outputs": [
    {
     "data": {
      "text/plain": [
       "['you', 'can', 'split', 'with', 'numbers']"
      ]
     },
     "execution_count": 226,
     "metadata": {},
     "output_type": "execute_result"
    }
   ],
   "source": [
    "re.split('a', 'salam')\n",
    "patt = '[0-9]+'\n",
    "s = 'you234can993split7389with097numbers'\n",
    "re.split(patt, s)"
   ]
  },
  {
   "cell_type": "code",
   "execution_count": 231,
   "metadata": {},
   "outputs": [
    {
     "data": {
      "text/plain": [
       "['2093', '20', '120', '']"
      ]
     },
     "execution_count": 231,
     "metadata": {},
     "output_type": "execute_result"
    }
   ],
   "source": [
    "patt = '[a-z]+'\n",
    "s = '2093ab20a120df'\n",
    "re.split(patt, s)"
   ]
  },
  {
   "cell_type": "code",
   "execution_count": 232,
   "metadata": {},
   "outputs": [
    {
     "data": {
      "text/plain": [
       "'209320120'"
      ]
     },
     "execution_count": 232,
     "metadata": {},
     "output_type": "execute_result"
    }
   ],
   "source": [
    "''.join(re.split(patt, s))"
   ]
  },
  {
   "cell_type": "code",
   "execution_count": 233,
   "metadata": {},
   "outputs": [
    {
     "data": {
      "text/plain": [
       "'hesalamsalamo'"
      ]
     },
     "execution_count": 233,
     "metadata": {},
     "output_type": "execute_result"
    }
   ],
   "source": [
    "re.sub('l', 'salam', 'hello')"
   ]
  },
  {
   "cell_type": "code",
   "execution_count": 236,
   "metadata": {},
   "outputs": [
    {
     "data": {
      "text/plain": [
       "'_ABC_How_ABC_are_ABC_you?_ABC_'"
      ]
     },
     "execution_count": 236,
     "metadata": {},
     "output_type": "execute_result"
    }
   ],
   "source": [
    "re.sub('[0-9]', '_ABC_', '1How6are9you?0')"
   ]
  },
  {
   "cell_type": "code",
   "execution_count": 5,
   "metadata": {},
   "outputs": [],
   "source": [
    "import re\n",
    "\n",
    "def check_string(input_string):\n",
    "    non_alpha_count = len(re.sub(r'[a-zA-Z]', '', input_string))\n",
    "    digit_dash_count = len(re.findall(r'[\\d-]', input_string))\n",
    "    if non_alpha_count + digit_dash_count > len(input_string) / 2:\n",
    "        print('ok')\n",
    "\n",
    "# Test the function\n",
    "check_string(\"a\")\n"
   ]
  },
  {
   "cell_type": "markdown",
   "metadata": {},
   "source": [
    "# Spam Quiz, tamrinat dorey 1"
   ]
  },
  {
   "cell_type": "code",
   "execution_count": 112,
   "metadata": {},
   "outputs": [
    {
     "name": "stdout",
     "output_type": "stream",
     "text": [
      "Not Spam\n"
     ]
    }
   ],
   "source": [
    "import re\n",
    "\n",
    "def is_valid(id, text):\n",
    "    count_bad_ch = 0\n",
    "    for ch in text:\n",
    "        if not ch.isalnum() and ch != \" \":\n",
    "            count_bad_ch += 1\n",
    "        # if re.match(r'[\\W_]', ch) is not None:\n",
    "        #     count_bad_ch += 1\n",
    "    #print('count_ch_bad:', count_bad_ch)\n",
    "    #print(len(text))\n",
    "    if not id.isdigit() and count_bad_ch <= len(text)/ 2:\n",
    "        print('Not Spam')\n",
    "    elif not id.isdigit() and count_bad_ch > len(text)/ 2 and len(re.findall('spam', text.lower())) != 0:\n",
    "        print('Invalid Content')\n",
    "    elif id.isdigit() and count_bad_ch > len(text)/ 2 and len(re.findall('spam', text.lower())) != 0:\n",
    "        print('Fully Invalid')\n",
    "    elif id.isdigit() and count_bad_ch <= len(text)/ 2 and len(re.findall('spam', text.lower())) != 0:\n",
    "        print('Invalid Sender')\n",
    "\n",
    "id = '99a9'\n",
    "text = '$________Spam)^'\n",
    "is_valid(id,text)"
   ]
  },
  {
   "cell_type": "markdown",
   "metadata": {},
   "source": [
    "# \\s+"
   ]
  },
  {
   "cell_type": "code",
   "execution_count": 161,
   "metadata": {},
   "outputs": [
    {
     "name": "stdout",
     "output_type": "stream",
     "text": [
      "['This', 'is', 'a', 'string', 'with', 'two', 'lines.', \"Let's\", 'split', 'it', 'into', 'words.']\n",
      "['This', 'is', 'a', 'string\\nwith', 'two', \"lines.\\nLet's\", 'split', 'it', 'into', 'words.']\n"
     ]
    }
   ],
   "source": [
    "text = \"\"\"This is a string\n",
    "with two lines.\n",
    "Let's split it into words.\"\"\"\n",
    "\n",
    "# Using \\s+\n",
    "words = re.split(r\"\\s+\", text)\n",
    "print(words)\n",
    "\n",
    "# Using re.MULTILINE flag\n",
    "words = re.split(\" \", text, flags=re.MULTILINE)\n",
    "print(words)\n"
   ]
  },
  {
   "cell_type": "markdown",
   "metadata": {},
   "source": [
    "# Quiz khobsazi"
   ]
  },
  {
   "cell_type": "markdown",
   "metadata": {},
   "source": [
    ">> words_check(\"\"hEllO My FriEnDs!!! thIS is A tEsT For your #p#r#o#b#l#e#m a \" )\n",
    "{'A': 2, 'For': 1, 'Friends': 1, 'Hello': 1, 'Is': 1, 'My': 1, 'Test': 1, 'This': 1, 'Your': 1}"
   ]
  },
  {
   "cell_type": "code",
   "execution_count": 124,
   "metadata": {},
   "outputs": [
    {
     "data": {
      "text/plain": [
       "['ava']"
      ]
     },
     "execution_count": 124,
     "metadata": {},
     "output_type": "execute_result"
    }
   ],
   "source": [
    "s = ['23', 'ava']\n",
    "for ch in s:\n",
    "    if not ch.isalpha():\n",
    "        s.remove(ch)\n",
    "s"
   ]
  },
  {
   "cell_type": "code",
   "execution_count": 165,
   "metadata": {},
   "outputs": [
    {
     "name": "stdout",
     "output_type": "stream",
     "text": [
      "['This', 'is', 'a', '', 'df@#@4!!!!', 'string', '()*&^TG', 'with', 'two', 'lines.', 'OIUJ*', \"Let's\", 'split', 'it', 'into', 'words.']\n",
      "['This', 'Is', 'A', 'Df', 'String', 'With', 'Two', 'Lines', 'Oiuj', 'Lets', 'Split', 'It', 'Into', 'Words']\n"
     ]
    },
    {
     "data": {
      "text/plain": [
       "{'This': 1,\n",
       " 'Is': 1,\n",
       " 'A': 1,\n",
       " 'Df': 1,\n",
       " 'String': 1,\n",
       " 'With': 1,\n",
       " 'Two': 1,\n",
       " 'Lines': 1,\n",
       " 'Oiuj': 1,\n",
       " 'Lets': 1,\n",
       " 'Split': 1,\n",
       " 'It': 1,\n",
       " 'Into': 1,\n",
       " 'Words': 1}"
      ]
     },
     "execution_count": 165,
     "metadata": {},
     "output_type": "execute_result"
    }
   ],
   "source": [
    "import re\n",
    "def words_check(text):\n",
    "    ls =re.split(r\"\\s\",text)\n",
    "    print(ls)\n",
    "    new_ls = []\n",
    "    for ch1 in ls:\n",
    "        count = 0\n",
    "        for ch2 in ch1:\n",
    "            if not ch2.isalpha():\n",
    "                count += 1\n",
    "        if count >= len(ch1)/2:\n",
    "            ls.remove(ch1)\n",
    "    for ch1 in ls:\n",
    "        new_ch = re.sub(r'[\\W\\d\\_]',\"\", ch1)\n",
    "        new_ls.append(new_ch.title())\n",
    "        \n",
    "    print(new_ls)\n",
    "    d = {}\n",
    "    for k in new_ls:\n",
    "        if k in d:\n",
    "            d[k] += 1\n",
    "        else:\n",
    "            d[k] = 1\n",
    "    return d\n",
    "\n",
    "\n",
    "text = \"\"\"This is a  df@#@4!!!! string ()*&^TG\n",
    "with two lines. OIUJ*\n",
    "Let's split it into words.\"\"\"\n",
    "words_check(text) # {'A': 2, 'For': 1, 'Friends': 1, 'Hello': 1, 'Is': 1, 'My': 1, 'Test': 1, 'This': 1, 'Your': 1}"
   ]
  },
  {
   "cell_type": "code",
   "execution_count": null,
   "metadata": {},
   "outputs": [],
   "source": [
    "s = ['sdg^&j', 'a65hgfre']\n",
    "for ch in s:\n",
    "    for ch2 in ch:\n",
    "        if ch2.isalpha():\n",
    "            "
   ]
  }
 ],
 "metadata": {
  "kernelspec": {
   "display_name": "Python 3",
   "language": "python",
   "name": "python3"
  },
  "language_info": {
   "codemirror_mode": {
    "name": "ipython",
    "version": 3
   },
   "file_extension": ".py",
   "mimetype": "text/x-python",
   "name": "python",
   "nbconvert_exporter": "python",
   "pygments_lexer": "ipython3",
   "version": "3.12.0"
  }
 },
 "nbformat": 4,
 "nbformat_minor": 2
}
