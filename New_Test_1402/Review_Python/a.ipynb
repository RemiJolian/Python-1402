count_r = 0
k = int(input())      # 3
nums = []               
pass_k = input()    # pass_k = '325'

