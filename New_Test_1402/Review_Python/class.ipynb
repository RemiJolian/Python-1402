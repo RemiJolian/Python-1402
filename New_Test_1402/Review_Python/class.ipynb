{
 "cells": [
  {
   "cell_type": "markdown",
   "metadata": {},
   "source": [
    "# Review Class in python, www.blog.faradars.org + Quera"
   ]
  },
  {
   "cell_type": "markdown",
   "metadata": {},
   "source": [
    "# you can not use lists, when data is big and different and ... . see this employees's list of a company"
   ]
  },
  {
   "cell_type": "code",
   "execution_count": null,
   "metadata": {},
   "outputs": [],
   "source": [
    "kirk = [\"James Kirk\", 34, \"Captain\", 2265]\n",
    "spock = [\"Spock\", 35, \"Science Officer\", 2254]\n",
    "mccoy = [\"Leonard McCoy\", \"Chief Medical Officer\", 2266]"
   ]
  },
  {
   "cell_type": "markdown",
   "metadata": {},
   "source": [
    "# use class, and create an object"
   ]
  },
  {
   "cell_type": "code",
   "execution_count": 1,
   "metadata": {},
   "outputs": [
    {
     "data": {
      "text/plain": [
       "__main__.Person"
      ]
     },
     "execution_count": 1,
     "metadata": {},
     "output_type": "execute_result"
    }
   ],
   "source": [
    "class Person:\n",
    "    pass\n",
    "jack = Person()\n",
    "\n",
    "type(jack) # __main__.Person, main means it is created here in this file"
   ]
  },
  {
   "cell_type": "markdown",
   "metadata": {},
   "source": [
    "# isinstance(object, class),  is an object instance of a class"
   ]
  },
  {
   "cell_type": "code",
   "execution_count": 4,
   "metadata": {},
   "outputs": [
    {
     "data": {
      "text/plain": [
       "True"
      ]
     },
     "execution_count": 4,
     "metadata": {},
     "output_type": "execute_result"
    }
   ],
   "source": [
    "isinstance(jack, Person)"
   ]
  },
  {
   "cell_type": "code",
   "execution_count": 90,
   "metadata": {},
   "outputs": [
    {
     "data": {
      "text/plain": [
       "True"
      ]
     },
     "execution_count": 90,
     "metadata": {},
     "output_type": "execute_result"
    }
   ],
   "source": [
    "a = 9\n",
    "isinstance(a, int)   # everything in python is a object"
   ]
  },
  {
   "cell_type": "code",
   "execution_count": 104,
   "metadata": {},
   "outputs": [
    {
     "data": {
      "text/plain": [
       "True"
      ]
     },
     "execution_count": 104,
     "metadata": {},
     "output_type": "execute_result"
    }
   ],
   "source": [
    "isinstance(\"Hello\", (float, str, int, list, dict, tuple))"
   ]
  },
  {
   "cell_type": "code",
   "execution_count": 105,
   "metadata": {},
   "outputs": [
    {
     "data": {
      "text/plain": [
       "False"
      ]
     },
     "execution_count": 105,
     "metadata": {},
     "output_type": "execute_result"
    }
   ],
   "source": [
    "isinstance(5 , (float, str, list, dict, tuple))\n"
   ]
  },
  {
   "cell_type": "code",
   "execution_count": 7,
   "metadata": {},
   "outputs": [
    {
     "name": "stdout",
     "output_type": "stream",
     "text": [
      "False\n",
      "True\n"
     ]
    }
   ],
   "source": [
    "class Worker:\n",
    "  pass\n",
    "\n",
    "class Teacher:\n",
    "  pass\n",
    "\n",
    "y = Worker()\n",
    "x = isinstance(y, Teacher)\n",
    "print(x)\n",
    "x = isinstance(y, (Worker, Teacher))\n",
    "print(x)"
   ]
  },
  {
   "cell_type": "markdown",
   "metadata": {},
   "source": [
    "# class variable and instance variable: 2 properties of a class"
   ]
  },
  {
   "cell_type": "markdown",
   "metadata": {},
   "source": [
    "# A- class variables\n",
    "- declare in a class, before than methods(functions).\n",
    "-  it is common for all objects of a class"
   ]
  },
  {
   "cell_type": "code",
   "execution_count": 8,
   "metadata": {},
   "outputs": [],
   "source": [
    "class HtmlDocument:\n",
    "    # 2 variables of the class\n",
    "    extension = 'html'\n",
    "    version = '5'"
   ]
  },
  {
   "cell_type": "code",
   "execution_count": 9,
   "metadata": {},
   "outputs": [
    {
     "data": {
      "text/plain": [
       "str"
      ]
     },
     "execution_count": 9,
     "metadata": {},
     "output_type": "execute_result"
    }
   ],
   "source": [
    "type(HtmlDocument.version)"
   ]
  },
  {
   "cell_type": "markdown",
   "metadata": {},
   "source": [
    "# to access class variable use dot ( . )"
   ]
  },
  {
   "cell_type": "code",
   "execution_count": 10,
   "metadata": {},
   "outputs": [
    {
     "name": "stdout",
     "output_type": "stream",
     "text": [
      "html\n",
      "5\n"
     ]
    }
   ],
   "source": [
    "class HtmlDocument:\n",
    "    # 2 variables of the class\n",
    "    extension = 'html'\n",
    "    version = '5'\n",
    "\n",
    "print(HtmlDocument.extension)\n",
    "print(HtmlDocument.version)"
   ]
  },
  {
   "cell_type": "markdown",
   "metadata": {},
   "source": [
    "#  also to access class variables:\n",
    "- create an object, or\n",
    "- use getatrr() function"
   ]
  },
  {
   "cell_type": "code",
   "execution_count": null,
   "metadata": {},
   "outputs": [],
   "source": [
    "class HtmlDocument:\n",
    "    # 2 variables of the class\n",
    "    extension = 'html'\n",
    "    version = '5'\n",
    "\n",
    "object1 = HtmlDocument()\n",
    "print(object1.version)"
   ]
  },
  {
   "cell_type": "markdown",
   "metadata": {},
   "source": [
    "# getattr()"
   ]
  },
  {
   "cell_type": "code",
   "execution_count": 11,
   "metadata": {},
   "outputs": [
    {
     "name": "stdout",
     "output_type": "stream",
     "text": [
      "23\n"
     ]
    }
   ],
   "source": [
    "class Person:\n",
    "    age = '23'\n",
    "    color = 'white'\n",
    "    hight = '1.80'\n",
    "\n",
    "age = getattr(Person,'age')\n",
    "print(age)"
   ]
  },
  {
   "cell_type": "markdown",
   "metadata": {},
   "source": [
    "# change value of a variable, \n",
    "- use object,or\n",
    "- setattr()"
   ]
  },
  {
   "cell_type": "code",
   "execution_count": 13,
   "metadata": {},
   "outputs": [
    {
     "name": "stdout",
     "output_type": "stream",
     "text": [
      "9.0\n"
     ]
    }
   ],
   "source": [
    "class HtmlDocument:\n",
    "    # 2 variables of the class\n",
    "    extension = 'html'\n",
    "    version = '5'\n",
    "\n",
    "object1 = HtmlDocument()\n",
    "object1.version = '9.0'\n",
    "print(object1.version)\n"
   ]
  },
  {
   "cell_type": "markdown",
   "metadata": {},
   "source": [
    "# setattr()"
   ]
  },
  {
   "cell_type": "code",
   "execution_count": 17,
   "metadata": {},
   "outputs": [
    {
     "data": {
      "text/plain": [
       "'11'"
      ]
     },
     "execution_count": 17,
     "metadata": {},
     "output_type": "execute_result"
    }
   ],
   "source": [
    "class HtmlDocument:\n",
    "    # 2 variables of the class\n",
    "    extension = 'html'\n",
    "    version = '5'\n",
    "\n",
    "setattr(HtmlDocument, 'version', '11')\n",
    "HtmlDocument.version"
   ]
  },
  {
   "cell_type": "markdown",
   "metadata": {},
   "source": [
    "# to add a variable to a class, we have 3 method\n",
    "- inside the class and add variable\n",
    "- outside the class and add\n",
    "- use setattr()"
   ]
  },
  {
   "cell_type": "markdown",
   "metadata": {},
   "source": [
    "# 1- inside the class and add variable\n",
    "...."
   ]
  },
  {
   "cell_type": "markdown",
   "metadata": {},
   "source": [
    "# 2- outside the class and add:"
   ]
  },
  {
   "cell_type": "code",
   "execution_count": 15,
   "metadata": {},
   "outputs": [
    {
     "data": {
      "text/plain": [
       "'text/html'"
      ]
     },
     "execution_count": 15,
     "metadata": {},
     "output_type": "execute_result"
    }
   ],
   "source": [
    "class HtmlDocument:\n",
    "    # 2 variables of the class\n",
    "    extension = 'html'\n",
    "    version = '5'\n",
    "\n",
    "HtmlDocument.media_type = 'text/html'\n",
    "HtmlDocument.media_type "
   ]
  },
  {
   "cell_type": "markdown",
   "metadata": {},
   "source": [
    "# 3- use setattr():"
   ]
  },
  {
   "cell_type": "code",
   "execution_count": 19,
   "metadata": {},
   "outputs": [],
   "source": [
    "class HtmlDocument:\n",
    "    # 2 variables of the class\n",
    "    extension = 'html'\n",
    "    version = '5'\n",
    "setattr(HtmlDocument,'media_type', 'text/html')"
   ]
  },
  {
   "cell_type": "markdown",
   "metadata": {},
   "source": [
    "# when we do not need a variable of a class\n",
    "- del()\n",
    "- delattr()"
   ]
  },
  {
   "cell_type": "code",
   "execution_count": null,
   "metadata": {},
   "outputs": [],
   "source": [
    "delattr(HtmlDocument, 'version')\n",
    "print(HtmlDocument.version)         # has no this attribute"
   ]
  },
  {
   "cell_type": "code",
   "execution_count": null,
   "metadata": {},
   "outputs": [],
   "source": [
    "del HtmlDocument.extension\n",
    "print(HtmlDocument.extension)       # has no this attribute"
   ]
  },
  {
   "cell_type": "markdown",
   "metadata": {},
   "source": [
    "# B- Instance variables\n",
    "- declare inside of methods(functions), constructors, ... . \n",
    "- not equal for all objects of a class"
   ]
  },
  {
   "cell_type": "markdown",
   "metadata": {},
   "source": [
    "# use (__init__) function to set early value of these variables"
   ]
  },
  {
   "cell_type": "markdown",
   "metadata": {},
   "source": [
    "also here notice to **dict** and **doc**"
   ]
  },
  {
   "cell_type": "code",
   "execution_count": 24,
   "metadata": {},
   "outputs": [
    {
     "name": "stdout",
     "output_type": "stream",
     "text": [
      "I am Ava. I am 3 years old.\n",
      "{'age': 3, 'name': 'Ava'}\n",
      " class for name and age of a person \n"
     ]
    }
   ],
   "source": [
    "class Person:\n",
    "    ''' class for name and age of a person '''\n",
    "    def __init__(self, name, age):\n",
    "        self.age = age    # Instance variables\n",
    "        self.name = name  # Instance variables\n",
    "object_person = Person('Ava', 3)\n",
    "print(f\"I am {object_person.name}. I am {object_person.age} years old.\")\n",
    "print(object_person.__dict__)\n",
    "print(object_person.__doc__)"
   ]
  },
  {
   "cell_type": "markdown",
   "metadata": {},
   "source": [
    "# self, what is it? here at: def __init__(self, name, age)\n",
    "in above example, \n",
    "In Python, the self parameter is a reference to the current instance of a class. It is a common convention to use the name self, but you can use any other name as well. The self parameter is required in the definition of class methods, including the __init__ method.\n",
    "The __init__ method is a special method in Python classes that is automatically called when a new instance (object) of a class is created. It is used to initialize the attributes of the object. The self parameter allows the method to access and modify the object's attributes"
   ]
  },
  {
   "cell_type": "markdown",
   "metadata": {},
   "source": [
    "# Methods of a class\n",
    "A- Instance method\n",
    "B- Class method\n",
    "C- Static method\n",
    "\n",
    "In object-oriented programming, methods are functions that are defined inside a class and\n",
    " are used to perform some action on the object of that class. There are three types of \n",
    " methods in Python: instance methods, class methods, and static methods.\n",
    "# Here are some differences between instance methods and class methods:"
   ]
  },
  {
   "cell_type": "markdown",
   "metadata": {},
   "source": [
    "1- Instance methods are bound to the object of the class.\n",
    "2- They can access and modify the object's state.\n",
    "3- They take the self parameter as the first argument, which refers to the instance of the class.\n",
    "4- They are used to perform actions on the object of the class."
   ]
  },
  {
   "cell_type": "markdown",
   "metadata": {},
   "source": [
    "# what is static method? u search and answer"
   ]
  },
  {
   "cell_type": "code",
   "execution_count": 25,
   "metadata": {},
   "outputs": [
    {
     "name": "stdout",
     "output_type": "stream",
     "text": [
      "Toyota\n"
     ]
    }
   ],
   "source": [
    "# A - Instance method\n",
    "class Car:\n",
    "    def __init__(self, make, model, year):\n",
    "        self.make = make\n",
    "        self.model = model\n",
    "        self.year = year\n",
    "\n",
    "    def get_make(self):\n",
    "        return self.make\n",
    "\n",
    "my_car = Car('Toyota', 'Corolla', 2022)\n",
    "print(my_car.get_make()) \n"
   ]
  },
  {
   "cell_type": "markdown",
   "metadata": {},
   "source": [
    "# B- class method\n",
    "- Class methods are bound to the class itself.\n",
    "- They can access and modify the class's state.\n",
    "- They take the cls parameter as the first argument, which refers to the class itself.\n",
    "- They are used to perform actions on the class.\n",
    "\n",
    "Here's an example of a class method in Python:"
   ]
  },
  {
   "cell_type": "markdown",
   "metadata": {},
   "source": [
    "class method is used by 2 way:\n",
    "1- use a decorator named '@classmethod'\n",
    "2 - use function classmethod"
   ]
  },
  {
   "cell_type": "code",
   "execution_count": null,
   "metadata": {},
   "outputs": [],
   "source": [
    "# Example 1: use decorator named '@classmethod'\n",
    "class Car:\n",
    "    num_cars = 0\n",
    "\n",
    "    def __init__(self, make, model, year):\n",
    "        self.make = make\n",
    "        self.model = model\n",
    "        self.year = year\n",
    "        Car.num_cars += 1\n",
    "\n",
    "    @classmethod\n",
    "    def get_num_cars(cls):\n",
    "        return cls.num_cars\n",
    "\n",
    "my_car1 = Car('Toyota', 'Corolla', 2022)\n",
    "my_car2 = Car('Honda', 'Civic', 2022)\n",
    "print(my_car1.get_num_cars())  # Output: 2\n",
    "print(Car.get_num_cars())  # Output: 2\n",
    "print(Car.num_cars)  # Output: 2\n"
   ]
  },
  {
   "cell_type": "markdown",
   "metadata": {},
   "source": [
    "The @classmethod decorator is used to indicate that this is a \n",
    "class method. The cls parameter is used to access the class variable(num_cars).\n",
    "also read:"
   ]
  },
  {
   "cell_type": "markdown",
   "metadata": {},
   "source": [
    "# in Python, the @classmethod decorator is used to declare a method in a class \n",
    " as a class method. A class method is a method that is bound to the class rather than an\n",
    " instance of the class. This means that it can be called on the class itself, as well as\n",
    "  on any objects created from the class"
   ]
  },
  {
   "cell_type": "code",
   "execution_count": 35,
   "metadata": {},
   "outputs": [
    {
     "name": "stdout",
     "output_type": "stream",
     "text": [
      "Joy's age is: 28\n"
     ]
    }
   ],
   "source": [
    "# Example 2: use decorator named '@classmethod'\n",
    "\n",
    "from datetime import date\n",
    "\n",
    "class Student:\n",
    "    def __init__(self, name, age):\n",
    "        self.name = name\n",
    "        self.age = age\n",
    "\n",
    "    @classmethod\n",
    "    # first arg must be cls, refer to name of current class\n",
    "    def calculate_age(cls, name, birth_year): \n",
    "        # calculate age an set it as a age\n",
    "        # return new object\n",
    "        return cls(name, date.today().year - birth_year)\n",
    "\n",
    "    def show(self):\n",
    "        print(self.name + \"'s age is: \" + str(self.age))\n",
    "\n",
    "\n",
    "# create new object using the factory method\n",
    "joy = Student.calculate_age(\"Joy\", 1995)\n",
    "joy.show()\n"
   ]
  },
  {
   "cell_type": "markdown",
   "metadata": {},
   "source": [
    "# 2 - use function classmethod"
   ]
  },
  {
   "cell_type": "code",
   "execution_count": 49,
   "metadata": {},
   "outputs": [
    {
     "name": "stdout",
     "output_type": "stream",
     "text": [
      "School Name is : ABC School\n"
     ]
    }
   ],
   "source": [
    "# use decorator named '@classmethod'\n",
    "\n",
    "class School:\n",
    "    #class variable\n",
    "    name = 'ABC School'\n",
    "\n",
    "    def school_name(cls):\n",
    "        print('School Name is :', cls.name)\n",
    "\n",
    "# create class method\n",
    "School.school_name = classmethod(School.school_name)\n",
    "\n",
    "# call class method\n",
    "School.school_name()"
   ]
  },
  {
   "cell_type": "markdown",
   "metadata": {},
   "source": [
    "# Principles of OOP\n",
    "1- Inheritance, ers-bari\n",
    "2- Abstraction, enteza'e, tajrid\n",
    "3- Encapsulation, kapsole-sazi\n",
    "4- Polymorphism, chan-rikhti\n"
   ]
  },
  {
   "cell_type": "markdown",
   "metadata": {},
   "source": [
    "# 1- Inheritance\n",
    "Parent class, child class"
   ]
  },
  {
   "cell_type": "markdown",
   "metadata": {},
   "source": [
    "see 2 example, before inheritance;"
   ]
  },
  {
   "cell_type": "code",
   "execution_count": 42,
   "metadata": {},
   "outputs": [],
   "source": [
    "class Person:\n",
    "    def __init__(self, name):\n",
    "        self.name = name\n",
    "\n",
    "    def greet(self):\n",
    "        return f' Hi! it is {self.name}'"
   ]
  },
  {
   "cell_type": "code",
   "execution_count": 39,
   "metadata": {},
   "outputs": [],
   "source": [
    "class Employee:\n",
    "    def __init__(self, name, job_title):\n",
    "        self.name = name\n",
    "        self.job_title = job_title\n",
    "\n",
    "    def greet(self):\n",
    "        return f\"Hi! it's {self.name}\""
   ]
  },
  {
   "cell_type": "markdown",
   "metadata": {},
   "source": [
    "Now see:"
   ]
  },
  {
   "cell_type": "code",
   "execution_count": 43,
   "metadata": {},
   "outputs": [
    {
     "data": {
      "text/plain": [
       "' Hi! it is john'"
      ]
     },
     "execution_count": 43,
     "metadata": {},
     "output_type": "execute_result"
    }
   ],
   "source": [
    "class Employee(Person):\n",
    "    def __init__(self, name, job_title):\n",
    "        self.name = name\n",
    "        self.job_title = job_title\n",
    "# also it has greet method attribute  \n",
    "employee = Employee('john', 'Developer')\n",
    "employee.greet()"
   ]
  },
  {
   "cell_type": "markdown",
   "metadata": {},
   "source": [
    "# issubclass()"
   ]
  },
  {
   "cell_type": "code",
   "execution_count": 58,
   "metadata": {},
   "outputs": [
    {
     "data": {
      "text/plain": [
       "True"
      ]
     },
     "execution_count": 58,
     "metadata": {},
     "output_type": "execute_result"
    }
   ],
   "source": [
    "issubclass(Employee, Person)  # is employee child of Person, != issubclass(Person, Employee)"
   ]
  },
  {
   "cell_type": "markdown",
   "metadata": {},
   "source": [
    "# super(), to use parent methods"
   ]
  },
  {
   "cell_type": "code",
   "execution_count": 49,
   "metadata": {},
   "outputs": [
    {
     "name": "stdout",
     "output_type": "stream",
     "text": [
      "8000\n"
     ]
    }
   ],
   "source": [
    "class Employee:\n",
    "    def __init__(self, name, base_pay, bonus):\n",
    "        self.name = name\n",
    "        self.base_pay = base_pay\n",
    "        self.bonus = bonus\n",
    "\n",
    "    def get_pay(self):\n",
    "        return self.base_pay + self.bonus\n",
    "\n",
    "\n",
    "class SalesEmployee(Employee):\n",
    "    def __init__(self, name, base_pay, bonus, sales_incentive):\n",
    "        super().__init__(name, base_pay, bonus)\n",
    "        self.sales_incentive = sales_incentive\n",
    "\n",
    "    def get_pay(self):\n",
    "        return super().get_pay() + self.sales_incentive\n",
    "    \n",
    "if __name__ == '__main__':\n",
    "    sales_employee = SalesEmployee('John', 5000, 1000, 2000)\n",
    "    print(sales_employee.get_pay())  # 8000\n",
    "\n",
    "# The if __name__ == '__main__' condition is a common idiom used to check if a Python module is being run as \n",
    "# the main program or being imported as a module.\n",
    "#  If the condition is true, the code block following it will be executed.\n",
    "# This allows you to have some code that is only run when the module is executed directly,\n",
    "#  and not when it is imported as a module."
   ]
  },
  {
   "cell_type": "markdown",
   "metadata": {},
   "source": [
    "# all kind of inheritance:\n",
    "a- single inheritance\n",
    "b- Multiple inheritance\n",
    "c- Multi-level inheritance\n",
    "d- Hierarchical inheritance\n",
    "e- Hybrid inheritance"
   ]
  },
  {
   "cell_type": "markdown",
   "metadata": {},
   "source": [
    "# a- single inheritance:\n",
    "each child class has only one parent class"
   ]
  },
  {
   "cell_type": "code",
   "execution_count": null,
   "metadata": {},
   "outputs": [],
   "source": [
    "# syntax_of_single_inheritance\n",
    "\n",
    "class class1:               #parent_class\n",
    "    pass\n",
    "\n",
    "class class2(class1):       #child_class\n",
    "    pass\n",
    "\n",
    "obj_name = class2()"
   ]
  },
  {
   "cell_type": "markdown",
   "metadata": {},
   "source": [
    "# b- Multiple inheritance"
   ]
  },
  {
   "cell_type": "code",
   "execution_count": null,
   "metadata": {},
   "outputs": [],
   "source": [
    "#syntax_of_multiple_inheritance\n",
    "\n",
    "class parent_1:\n",
    "    pass\n",
    "\n",
    "class parent_2:\n",
    "    pass\n",
    "\n",
    "class child(parent_1,parent_2):\n",
    "    pass\n",
    "\n",
    "obj = child()"
   ]
  },
  {
   "cell_type": "code",
   "execution_count": 2,
   "metadata": {},
   "outputs": [
    {
     "name": "stdout",
     "output_type": "stream",
     "text": [
      "Amazon is an Online Ecommerce Store\n",
      "Ebay is an Online Store\n",
      "OLX is an Online Buy Sell Store\n"
     ]
    }
   ],
   "source": [
    "#example_of_multiple_inheritance\n",
    "\n",
    "class Brands:               #Parent1 class\n",
    "    brand_name_1 = \"Amazon\"\n",
    "    brand_name_2 = \"Ebay\"\n",
    "    brand_name_3 = \"OLX\"\n",
    "    \n",
    "class Products:            #Parent2 class\n",
    "    prod_1 = \"Online Ecommerce Store\"\n",
    "    prod_2 = \"Online Store\"\n",
    "    prod_3 = \"Online Buy Sell Store\"\n",
    "\n",
    "class Popularity(Brands,Products):\n",
    "    prod_1_popularity = 100\n",
    "    prod_2_popularity = 70\n",
    "    prod_3_popularity = 60\n",
    "    \n",
    "obj_1 = Popularity()          #Object_creation\n",
    "print(obj_1.brand_name_1 + \" is an \" + obj_1.prod_1)\n",
    "print(obj_1.brand_name_2 + \" is an \" + obj_1.prod_2)\n",
    "print(obj_1.brand_name_3 + \" is an \" + obj_1.prod_3)"
   ]
  },
  {
   "cell_type": "markdown",
   "metadata": {},
   "source": [
    "# c- Multi-level inheritance"
   ]
  },
  {
   "cell_type": "code",
   "execution_count": null,
   "metadata": {},
   "outputs": [],
   "source": [
    "#Syntax_of_multilevel_inheritance\n",
    "\n",
    "class A:\n",
    "    pass\n",
    "\n",
    "class B(A):\n",
    "    pass\n",
    "\n",
    "class C(B):\n",
    "    pass\n",
    "\n",
    "obj = C()"
   ]
  },
  {
   "cell_type": "code",
   "execution_count": null,
   "metadata": {},
   "outputs": [],
   "source": [
    "# example of multilevel_inheritance\n",
    "class Brands:                      #parent_class\n",
    "    brand_name_1 = \"Amazon\"\n",
    "    brand_name_2 = \"Ebay\"\n",
    "    brand_name_3 = \"OLX\"\n",
    "    \n",
    "class Products(Brands):            #child_class\n",
    "    prod_1 = \"Online Ecommerce Store\"\n",
    "    prod_2 = \"Online Store\"\n",
    "    prod_3 = \"Online Buy Sell Store\"\n",
    "\n",
    "class Popularity(Products):        #grand_child_class\n",
    "    prod_1_popularity = 100\n",
    "    prod_2_popularity = 70\n",
    "    prod_3_popularity = 60\n",
    "    \n",
    "    \n",
    "obj_1 = Popularity()          #Object_creation\n",
    "print(obj_1.brand_name_1 + \" is an \"+obj_1.prod_1 + \" popularity of \" + str(obj_1.prod_1_popularity))\n",
    "print(obj_1.brand_name_2 + \" is an \"+obj_1.prod_2 + \" popularity of \" + str(obj_1.prod_2_popularity))\n",
    "print(obj_1.brand_name_3 + \" is an \"+obj_1.prod_3 + \" popularity of \" + str(obj_1.prod_3_popularity))\n",
    "\n"
   ]
  },
  {
   "cell_type": "markdown",
   "metadata": {},
   "source": [
    "# here, see useful of super()\n",
    "- first see this code and wrong its output"
   ]
  },
  {
   "cell_type": "code",
   "execution_count": null,
   "metadata": {},
   "outputs": [],
   "source": [
    "class Shape:\n",
    "    def __init__(self):\n",
    "        print('Initialize from class Shape')\n",
    "\n",
    "class Rectangle(Shape):\n",
    "    def __init__(self):\n",
    "        print('Initialize from class Rectangle')\n",
    "        Shape.__init__(self)\n",
    "\n",
    "class Rhombus(Shape):\n",
    "    def __init__(self):\n",
    "        print('Initialize from class Rhombus')\n",
    "        Shape.__init__(self)\n",
    "\n",
    "class Square(Rectangle, Rhombus):\n",
    "    def __init__(self):\n",
    "        Rectangle.__init__(self)\n",
    "        Rhombus.__init__(self)\n",
    "\n",
    "squ = Square()"
   ]
  },
  {
   "cell_type": "markdown",
   "metadata": {},
   "source": [
    "func __init__ from class Shape, run 2 times!! the above output:\n",
    "\n",
    "Initialize from class Rectangle\n",
    "Initialize from class Shape\n",
    "Initialize from class Rhombus\n",
    "Initialize from class Shape\n",
    "\n",
    "so, use super():"
   ]
  },
  {
   "cell_type": "markdown",
   "metadata": {},
   "source": [
    "# by using super() when a class call 2 or more times, only latest time call.\n",
    "first see below example, after that read comment"
   ]
  },
  {
   "cell_type": "code",
   "execution_count": null,
   "metadata": {},
   "outputs": [],
   "source": [
    "class Shape:\n",
    "    def __init__(self):\n",
    "        print('Initialize from class Shape')\n",
    "\n",
    "class Rectangle(Shape):\n",
    "    def __init__(self):\n",
    "        print('Initialize from class Rectangle')\n",
    "        super().__init__()\n",
    "\n",
    "class Rhombus(Shape):\n",
    "    def __init__(self):\n",
    "        print('Initialize from class Rhombus')\n",
    "        super().__init__()\n",
    "\n",
    "class Square(Rectangle, Rhombus):\n",
    "    def __init__(self):\n",
    "        super().__init__()\n",
    "\n",
    "squ = Square()"
   ]
  },
  {
   "cell_type": "markdown",
   "metadata": {},
   "source": [
    "# comment for above example\n",
    "When the Square class is instantiated, its __init__ method is called,\n",
    " which in turn calls the __init__ methods of its parent classes (Rectangle and Rhombus) using the super() \n",
    "function. The __init__ method of each parent class prints a message to the console indicating that it has been initialized from that class.\n",
    "The output shows that the __init__ method of Rectangle is called first, followed by the __init__ method of Rhombus, and finally the __init__ method of Shape. This is because Rectangle is listed first in the inheritance hierarchy of Square, followed by Rhombus, and finally Shape."
   ]
  },
  {
   "cell_type": "markdown",
   "metadata": {},
   "source": [
    "# d- Hierarchical inheritance"
   ]
  },
  {
   "cell_type": "code",
   "execution_count": 4,
   "metadata": {},
   "outputs": [],
   "source": [
    "#syntax_of_hierarchical_inheritance\n",
    "\n",
    "class A:                  #parent_class\n",
    "    pass\n",
    "    \n",
    "class B(A):               #child_class\n",
    "    pass\n",
    "\n",
    "class C(A):               #child_class\n",
    "    pass\n",
    "\n",
    "class D(A):               #child_class\n",
    "    pass\n",
    "\n",
    "obj_1 = B()       #Object_creation\n",
    "obj_2 = C()\n",
    "obj_3 = D()"
   ]
  },
  {
   "cell_type": "code",
   "execution_count": 7,
   "metadata": {},
   "outputs": [
    {
     "name": "stdout",
     "output_type": "stream",
     "text": [
      "Amazon is an Online Ecommerce Store\n",
      "Amazon is an Online Store\n",
      "Amazon is an Online Buy Sell Store\n"
     ]
    }
   ],
   "source": [
    "#example\n",
    "\n",
    "class Brands:                      #parent_class\n",
    "    brand_name_1 = \"Amazon\"\n",
    "    brand_name_2 = \"Ebay\"\n",
    "    brand_name_3 = \"OLX\"\n",
    "    \n",
    "class Products(Brands):            #child_class\n",
    "    prod_1 = \"Online Ecommerce Store\"\n",
    "    prod_2 = \"Online Store\"\n",
    "    prod_3 = \"Online Buy Sell Store\"\n",
    "\n",
    "class Popularity(Brands):        #grand_child_class\n",
    "    prod_1_popularity = 100\n",
    "    prod_2_popularity = 70\n",
    "    prod_3_popularity = 60\n",
    "\n",
    "class Value(Brands):\n",
    "    prod_1_value = \"Excellent Value\"\n",
    "    prod_2_value = \"Better Value\"\n",
    "    prod_3_value = \"Good Value\"\n",
    "    \n",
    "obj_1 = Products()          #Object_creation\n",
    "obj_2 = Popularity()\n",
    "obj_3 = Value()\n",
    "print(obj_1.brand_name_1 + \" is an \" + obj_1.prod_1)\n",
    "print(obj_1.brand_name_1 + \" is an \" + obj_1.prod_2)\n",
    "print(obj_1.brand_name_1 + \" is an \" + obj_1.prod_3)"
   ]
  },
  {
   "cell_type": "markdown",
   "metadata": {},
   "source": [
    "# e- Hybrid inheritance"
   ]
  },
  {
   "cell_type": "code",
   "execution_count": null,
   "metadata": {},
   "outputs": [],
   "source": [
    "#Syntax_Hybrid_inheritance\n",
    "\n",
    "class PC: \n",
    "\tpass\n",
    "\t\n",
    "class Laptop(PC): \n",
    "\tpass\n",
    "\t\n",
    "class Mouse(Laptop): \n",
    "\tpass\n",
    "\t\n",
    "class Student3(Mouse, Laptop): \n",
    "\tpass\n",
    "\t\n",
    "# Driver's code \n",
    "obj = Student3()"
   ]
  },
  {
   "cell_type": "code",
   "execution_count": 15,
   "metadata": {},
   "outputs": [],
   "source": [
    "#Example_Hybrid_inheritance\n",
    "class PC:\n",
    "    def fun1(self):\n",
    "        print('This is PC class')\n",
    "\n",
    "class Laptop(PC):\n",
    "    def fun2(self):\n",
    "        print('This is Laptop class inheriting PC class')\n",
    "\n",
    "class Mouse(Laptop):\n",
    "    def fun3(self):\n",
    "        print('This is Mouse class inheriting Laptop class')\n",
    "\n",
    "class Student(Mouse, Laptop):\n",
    "    def fun4(self):\n",
    "        print('This is Student class inheriting PC and Laptop')\n",
    "\n",
    "# Driver’s code\n",
    "obj = Student()\n",
    "obj1 = Mouse()\n",
    "obj.fun4()\n",
    "obj.fun3()"
   ]
  },
  {
   "cell_type": "code",
   "execution_count": null,
   "metadata": {},
   "outputs": [],
   "source": [
    "class A:\n",
    "    print('a')\n",
    "\n",
    "class B(A):\n",
    "    print('b')\n",
    "\n",
    "obj1 = B()  # see output, no need to call anything"
   ]
  },
  {
   "cell_type": "markdown",
   "metadata": {},
   "source": [
    "# 2- Abstraction Principle, /asle enteza'e"
   ]
  },
  {
   "cell_type": "markdown",
   "metadata": {},
   "source": [
    "...."
   ]
  },
  {
   "cell_type": "code",
   "execution_count": null,
   "metadata": {},
   "outputs": [],
   "source": [
    "class Vehicle:\n",
    "    def __init__(self, name,  max_speed, mileage):\n",
    "        self.name = name\n",
    "        self.max_speed = max_speed\n",
    "        self.mileage = mileage\n",
    "\n",
    "car1 = Vehicle('Scania', 120, 30000)\n",
    "print(car1.max_speed)\n",
    "\n",
    "class Bus(Vehicle):\n",
    "    pass\n",
    "\n",
    "bus1 = Bus('Renoult', 120, 21000)\n",
    "bus1.name"
   ]
  },
  {
   "cell_type": "markdown",
   "metadata": {},
   "source": [
    "Circle area example:"
   ]
  },
  {
   "cell_type": "code",
   "execution_count": 20,
   "metadata": {},
   "outputs": [
    {
     "data": {
      "text/plain": [
       "28.26"
      ]
     },
     "execution_count": 20,
     "metadata": {},
     "output_type": "execute_result"
    }
   ],
   "source": [
    "class Circle:\n",
    "    def __init__(self, rad):\n",
    "        self.rad = rad\n",
    "    def area(self):\n",
    "        return self.rad ** 2 * 3.14\n",
    "\n",
    "c1 = Circle(3)\n",
    "c1.area()"
   ]
  },
  {
   "cell_type": "markdown",
   "metadata": {},
   "source": [
    "# Queiz: modirate darokhone"
   ]
  },
  {
   "cell_type": "code",
   "execution_count": null,
   "metadata": {},
   "outputs": [],
   "source": [
    "class Drug:\n",
    "    def __init__(self, name: str, amount: int, price: int):\n",
    "        # name, amount and price of each drug\n",
    "        self.name = name\n",
    "        self.amount = amount\n",
    "        self.price = price\n",
    "\n",
    "class Pharmacy:\n",
    "    def __init__(self, name: str):\n",
    "        # pharmacy's name\n",
    "        self.name = name\n",
    "        # list of drugs\n",
    "        self.drugs = []\n",
    "        # list of pharmacy's employees\n",
    "        self.employees = []\n",
    "\n",
    "    def add_drug(self, drug: Drug):\n",
    "        # get a drug and add to list\n",
    "        self.drugs.append(drug)\n",
    "\n",
    "    def add_employee(self, first_name: str, last_name: str, age: int):\n",
    "        employee = {\n",
    "            'first_name': first_name, # employee['first_name'] = first_name\n",
    "            'last_name': last_name,\n",
    "            'age': age\n",
    "        }\n",
    "        self.employees.append(employee)\n",
    "\n",
    "    def total_value(self) -> int:\n",
    "        # sum(price * amount) for all drugs\n",
    "        total = 0\n",
    "        for drug in self.drugs:\n",
    "            total += drug.price * drug.amount\n",
    "        return total\n",
    "\n",
    "    def employees_summary(self) -> str:\n",
    "        summary = 'Employees:\\n'\n",
    "        for i, employee in enumerate(self.employees):\n",
    "            summary += f'The employee number {i+1} is {employee[\"first_name\"].title()} {employee[\"last_name\"].title()} who is {employee[\"age\"]} years old.\\n'\n",
    "        return summary\n"
   ]
  },
  {
   "cell_type": "markdown",
   "metadata": {},
   "source": [
    "and see other solutions for this queiz:"
   ]
  },
  {
   "cell_type": "code",
   "execution_count": null,
   "metadata": {},
   "outputs": [],
   "source": [
    "class Drug:\n",
    "    def __init__(self, name, amount, price):\n",
    "        self.name = name\n",
    "        self.amount = amount\n",
    "        self.price = price\n",
    "\n",
    "\n",
    "class Pharmacy:\n",
    "    def __init__(self, name):\n",
    "        self.name = name\n",
    "        self.drugs = list()\n",
    "        self.employees = list()\n",
    "\n",
    "    def add_drug(self, drug):\n",
    "        self.drugs.append(drug)\n",
    "\n",
    "    def add_employee(self, first_name, last_name, age):\n",
    "        self.employees.append({\n",
    "            \"first_name\": first_name,\n",
    "            \"last_name\": last_name,\n",
    "            \"age\": age})\n",
    "\n",
    "    def total_value(self):\n",
    "        total = 0\n",
    "        for drug in self.drugs:\n",
    "            total += (drug.amount * drug.price)\n",
    "        return total\n",
    "\n",
    "    def employees_summary(self):\n",
    "        summary = \"Employees:\\n\"\n",
    "        for i, employee in enumerate(self.employees):\n",
    "            summary += f\"The employee number {i + 1} is {employee['first_name']} {employee['last_name']} who is {employee['age']} years old.\\n\"\n",
    "        return summary\n"
   ]
  },
  {
   "cell_type": "markdown",
   "metadata": {},
   "source": [
    "# an practice, university, professors and student"
   ]
  },
  {
   "cell_type": "code",
   "execution_count": 21,
   "metadata": {},
   "outputs": [
    {
     "name": "stdout",
     "output_type": "stream",
     "text": [
      "a@d54T\n",
      "11\n",
      "Student Ashkan Asemani rank in college is 11.\n",
      "Professor Sara Mehrbani H-Index rank in college is 3.\n"
     ]
    }
   ],
   "source": [
    "class Account:\n",
    "    def __init__(self, full_name, username, password):\n",
    "        self.full_name = full_name\n",
    "        self.username = username\n",
    "        self.password = password\n",
    "        self.course = []\n",
    "\n",
    "    def add_course(self, new_course):\n",
    "        self.course.append(new_course)\n",
    "\n",
    "class Course:\n",
    "    def __init__(self, title, price):\n",
    "        self.title = title\n",
    "        self.price = price\n",
    "\n",
    "    def introduction(self):\n",
    "        return f'This is a {self.title} course.'\n",
    "\n",
    "obj1 = Account('Ava Bahari', 'Ava20', 'a@d54T')\n",
    "obj2 = Course('Math', 11)\n",
    "print(obj1.password)\n",
    "print(obj2.price)\n",
    "obj2.introduction()\n",
    "\n",
    "class Student(Account):\n",
    "    def __init__(self, full_name, username, password, rank_in_college):\n",
    "        super().__init__(full_name, username, password) # also include self.course = []\n",
    "        self.rank_in_college = rank_in_college\n",
    "\n",
    "    def get_rank(self):\n",
    "        return f'Student {self.full_name} rank in college is {self.rank_in_college}.'\n",
    "\n",
    "class Professor(Account):\n",
    "    def __init__(self, full_name, username, password, h_index_rank):\n",
    "        super().__init__(full_name, username, password)\n",
    "        self.h_index_rank = h_index_rank\n",
    "\n",
    "    def get_rank(self):\n",
    "        return f'Professor {self.full_name} H-Index rank in college is {self.h_index_rank}.'\n",
    "\n",
    "ashkan = Student('Ashkan Asemani', 'Ashkan', 'ash234R#@', 11)\n",
    "sara = Professor('Sara Mehrbani', 'sara22', 's65T$#@', 3)\n",
    "\n",
    "print(ashkan.get_rank())\n",
    "print(sara.get_rank())\n"
   ]
  },
  {
   "cell_type": "markdown",
   "metadata": {},
   "source": [
    "# notice to order of which class at first call"
   ]
  },
  {
   "cell_type": "code",
   "execution_count": 22,
   "metadata": {},
   "outputs": [
    {
     "name": "stdout",
     "output_type": "stream",
     "text": [
      "In Rooster class.\n",
      "Hello my baby!\n"
     ]
    }
   ],
   "source": [
    "# see name func in 2 class\n",
    "class Rooster:\n",
    "  def name(self):\n",
    "    print('In Rooster class.')\n",
    "\n",
    "class Hen:\n",
    "  def name(self):\n",
    "    print('In Hen class.')\n",
    "  def hello(self):\n",
    "    print('Hello my baby!')\n",
    "\n",
    "class Chick(Rooster, Hen):    # Rooster then Hen\n",
    "  pass\n",
    "\n",
    "x = Chick()\n",
    "x.name()  # run name func of Rooster class, \n",
    "x.hello()"
   ]
  },
  {
   "cell_type": "markdown",
   "metadata": {},
   "source": [
    "# Queiz: Naghel, salib and all class of vehicle:\n",
    "See Naghel Folder, at this directory, including 4 file"
   ]
  },
  {
   "cell_type": "code",
   "execution_count": null,
   "metadata": {},
   "outputs": [],
   "source": [
    "# vehicle.py file\n",
    "class Vehicle:\n",
    "    def __init__(self, name, price, number_of_seats, max_speed):\n",
    "        self.name = name\n",
    "        self.price = price\n",
    "        self.number_of_seats = number_of_seats\n",
    "        self.max_speed = max_speed\n",
    "# ground_vehicle.py file\n",
    "from vehicle import Vehicle\n",
    "class GroundVehicle(Vehicle):\n",
    "    def __init__(self, number_of_wheels, steering_wheel, **kwargs):\n",
    "        self.number_of_wheels = number_of_wheels\n",
    "        self.steering_wheel = steering_wheel\n",
    "        super().__init__(**kwargs)\n",
    "\n",
    "# flying_vehicle.py file\n",
    "from vehicle import Vehicle\n",
    "class FlyingVehicle(Vehicle):\n",
    "    def __init__(self, fuel, number_of_fins, **kwargs):\n",
    "        self.fuel = fuel\n",
    "        self.number_of_fins = number_of_fins\n",
    "        super().__init__(**kwargs)\n",
    "        \n",
    "# import 2 file\n",
    "from flying_vehicle import FlyingVehicle\n",
    "from ground_vehicle import GroundVehicle\n",
    "class Airplane(FlyingVehicle, GroundVehicle):\n",
    "    def __init__(self, airline, number_of_crew, captain, **kwargs):\n",
    "        #super().__init__(self, name, price, number_of_seats, max_speed, number_of_wheels, steering_wheel)\n",
    "        self.airline = airline\n",
    "        self.number_of_crew = number_of_crew\n",
    "        self.captain = captain\n",
    "        super().__init__(**kwargs)\n",
    "\n",
    "class B707(Airplane):\n",
    "    def __init__(self, **kwargs):\n",
    "        super().__init__(**kwargs)"
   ]
  },
  {
   "cell_type": "markdown",
   "metadata": {},
   "source": [
    "# @staticmethod()\n",
    "In Python, the @staticmethod is a built-in decorator that defines a static method in a class.\n",
    "A static method is a method that is bound to the class rather than an instance of the class. It does not receive any reference argument, whether it is called by an instance of a class or by the class itself\n",
    "\n",
    "To create a static method, you can use either the @staticmethod decorator or the staticmethod() built-in function. Here is an example of creating a static method using the @staticmethod decorator:"
   ]
  },
  {
   "cell_type": "code",
   "execution_count": 1,
   "metadata": {},
   "outputs": [
    {
     "name": "stdout",
     "output_type": "stream",
     "text": [
      "This is a static method\n"
     ]
    }
   ],
   "source": [
    "class MyClass:\n",
    "    @staticmethod\n",
    "    def my_static_method():\n",
    "        print(\"This is a static method\")\n",
    "\n",
    "# Calling the static method\n",
    "MyClass.my_static_method()"
   ]
  },
  {
   "cell_type": "markdown",
   "metadata": {},
   "source": [
    "In the example above, the my_static_method() is a static method that does not take any arguments and simply prints a message. You can call the static method using the class name, MyClass.my_static_method(), or an instance of the class, my_instance.my_static_method(), where my_instance is an instance of the MyClass class."
   ]
  }
 ],
 "metadata": {
  "kernelspec": {
   "display_name": "Python 3",
   "language": "python",
   "name": "python3"
  },
  "language_info": {
   "codemirror_mode": {
    "name": "ipython",
    "version": 3
   },
   "file_extension": ".py",
   "mimetype": "text/x-python",
   "name": "python",
   "nbconvert_exporter": "python",
   "pygments_lexer": "ipython3",
   "version": "3.12.0"
  }
 },
 "nbformat": 4,
 "nbformat_minor": 2
}
