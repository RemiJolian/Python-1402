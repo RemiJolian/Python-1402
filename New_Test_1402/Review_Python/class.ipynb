{
 "cells": [
  {
   "cell_type": "markdown",
   "metadata": {},
   "source": [
    "# Review Class in python, www.blog.faradars.org"
   ]
  },
  {
   "cell_type": "markdown",
   "metadata": {},
   "source": [
    "# you can not use lists, when data is big and different and ... . see this list of a company"
   ]
  },
  {
   "cell_type": "code",
   "execution_count": null,
   "metadata": {},
   "outputs": [],
   "source": [
    "kirk = [\"James Kirk\", 34, \"Captain\", 2265]\n",
    "spock = [\"Spock\", 35, \"Science Officer\", 2254]\n",
    "mccoy = [\"Leonard McCoy\", \"Chief Medical Officer\", 2266]"
   ]
  },
  {
   "cell_type": "markdown",
   "metadata": {},
   "source": [
    "# use class, and create an object"
   ]
  },
  {
   "cell_type": "code",
   "execution_count": 42,
   "metadata": {},
   "outputs": [
    {
     "data": {
      "text/plain": [
       "__main__.Person"
      ]
     },
     "execution_count": 42,
     "metadata": {},
     "output_type": "execute_result"
    }
   ],
   "source": [
    "class Person:\n",
    "    pass\n",
    "jack = Person()\n",
    "\n",
    "type(jack) # __main__.Person, main means it is created here in this file"
   ]
  },
  {
   "cell_type": "markdown",
   "metadata": {},
   "source": [
    "# isinstance(object, class),  is an object instance of a class"
   ]
  },
  {
   "cell_type": "code",
   "execution_count": 4,
   "metadata": {},
   "outputs": [
    {
     "data": {
      "text/plain": [
       "True"
      ]
     },
     "execution_count": 4,
     "metadata": {},
     "output_type": "execute_result"
    }
   ],
   "source": [
    "isinstance(jack, Person)"
   ]
  },
  {
   "cell_type": "markdown",
   "metadata": {},
   "source": [
    "# class variable and instance variable: 2 properties of a class"
   ]
  },
  {
   "cell_type": "markdown",
   "metadata": {},
   "source": [
    "# A- class variables\n",
    "declare in a class, before than methods(functions). it is common for all objects of a class"
   ]
  },
  {
   "cell_type": "code",
   "execution_count": null,
   "metadata": {},
   "outputs": [],
   "source": [
    "class HtmlDocument:\n",
    "    # 2 variables of the class\n",
    "    extension = 'html'\n",
    "    version = '5'"
   ]
  },
  {
   "cell_type": "markdown",
   "metadata": {},
   "source": [
    "# to access class variable use dot ( . )"
   ]
  },
  {
   "cell_type": "code",
   "execution_count": 6,
   "metadata": {},
   "outputs": [
    {
     "name": "stdout",
     "output_type": "stream",
     "text": [
      "html\n",
      "5\n"
     ]
    }
   ],
   "source": [
    "class HtmlDocument:\n",
    "    # 2 variables of the class\n",
    "    extension = 'html'\n",
    "    version = '5'\n",
    "\n",
    "print(HtmlDocument.extension)\n",
    "print(HtmlDocument.version)"
   ]
  },
  {
   "cell_type": "markdown",
   "metadata": {},
   "source": [
    "# create an object to access class variables, or use getatrr() function"
   ]
  },
  {
   "cell_type": "code",
   "execution_count": null,
   "metadata": {},
   "outputs": [],
   "source": [
    "class HtmlDocument:\n",
    "    # 2 variables of the class\n",
    "    extension = 'html'\n",
    "    version = '5'\n",
    "\n",
    "object1 = HtmlDocument()\n",
    "print(object1.version)"
   ]
  },
  {
   "cell_type": "markdown",
   "metadata": {},
   "source": [
    "# getattr()"
   ]
  },
  {
   "cell_type": "code",
   "execution_count": 44,
   "metadata": {},
   "outputs": [
    {
     "name": "stdout",
     "output_type": "stream",
     "text": [
      "23\n"
     ]
    }
   ],
   "source": [
    "class Person:\n",
    "    age = '23'\n",
    "    color = 'white'\n",
    "    hight = '1.80'\n",
    "\n",
    "age = getattr(Person,'age')\n",
    "print(age)"
   ]
  },
  {
   "cell_type": "markdown",
   "metadata": {},
   "source": [
    "# change value of a variable, use object or setattr()"
   ]
  },
  {
   "cell_type": "code",
   "execution_count": 47,
   "metadata": {},
   "outputs": [
    {
     "name": "stdout",
     "output_type": "stream",
     "text": [
      "10\n"
     ]
    }
   ],
   "source": [
    "class HtmlDocument:\n",
    "    # 2 variables of the class\n",
    "    extension = 'html'\n",
    "    version = '5'\n",
    "\n",
    "object1 = HtmlDocument()\n",
    "object1.version = '10'\n",
    "print(object1.version)\n"
   ]
  },
  {
   "cell_type": "markdown",
   "metadata": {},
   "source": [
    "# setattr()"
   ]
  },
  {
   "cell_type": "code",
   "execution_count": 28,
   "metadata": {},
   "outputs": [
    {
     "data": {
      "text/plain": [
       "'11'"
      ]
     },
     "execution_count": 28,
     "metadata": {},
     "output_type": "execute_result"
    }
   ],
   "source": [
    "class HtmlDocument:\n",
    "    # 2 variables of the class\n",
    "    extension = 'html'\n",
    "    version = '5'\n",
    "\n",
    "setattr(HtmlDocument, 'version', '11')\n",
    "HtmlDocument.version"
   ]
  },
  {
   "cell_type": "markdown",
   "metadata": {},
   "source": [
    "# to add a variable to a class, we have 3 method"
   ]
  },
  {
   "cell_type": "markdown",
   "metadata": {},
   "source": [
    "# 1- inside the class and add variable"
   ]
  },
  {
   "cell_type": "markdown",
   "metadata": {},
   "source": [
    "# 2- outside the class and add"
   ]
  },
  {
   "cell_type": "code",
   "execution_count": 29,
   "metadata": {},
   "outputs": [],
   "source": [
    "class HtmlDocument:\n",
    "    # 2 variables of the class\n",
    "    extension = 'html'\n",
    "    version = '5'\n",
    "\n",
    "HtmlDocument.media_type = 'text/html'"
   ]
  },
  {
   "cell_type": "markdown",
   "metadata": {},
   "source": [
    "# 3- use setattr()"
   ]
  },
  {
   "cell_type": "code",
   "execution_count": null,
   "metadata": {},
   "outputs": [],
   "source": [
    "class HtmlDocument:\n",
    "    # 2 variables of the class\n",
    "    extension = 'html'\n",
    "    version = '5'\n",
    "setattr(HtmlDocument, media_type, 'text/html')"
   ]
  },
  {
   "cell_type": "markdown",
   "metadata": {},
   "source": [
    "# del() and delattr()\n",
    "when we do not need a variable of a class"
   ]
  },
  {
   "cell_type": "code",
   "execution_count": null,
   "metadata": {},
   "outputs": [],
   "source": [
    "delattr(HtmlDocument, 'version')\n",
    "print(HtmlDocument.version)         # has no this attribute"
   ]
  },
  {
   "cell_type": "code",
   "execution_count": null,
   "metadata": {},
   "outputs": [],
   "source": [
    "del HtmlDocument.extension\n",
    "print(HtmlDocument.extension)       # has no this attribute"
   ]
  },
  {
   "cell_type": "markdown",
   "metadata": {},
   "source": [
    "# B- Instance variables"
   ]
  },
  {
   "cell_type": "markdown",
   "metadata": {},
   "source": [
    "declare inside of methods(functions) and constructors, not same for all objects of a class"
   ]
  },
  {
   "cell_type": "markdown",
   "metadata": {},
   "source": [
    "# use (__init__) function to set early value of these variables"
   ]
  },
  {
   "cell_type": "code",
   "execution_count": 37,
   "metadata": {},
   "outputs": [
    {
     "name": "stdout",
     "output_type": "stream",
     "text": [
      "I am Ava. I am 3 years old.\n"
     ]
    }
   ],
   "source": [
    "class Person:\n",
    "    def __init__(self, name, age):\n",
    "        self.age = age\n",
    "        self.name = name\n",
    "object_person = Person('Ava', 3)\n",
    "print(f\"I am {object_person.name}. I am {object_person.age} years old.\")"
   ]
  },
  {
   "cell_type": "markdown",
   "metadata": {},
   "source": [
    "# self, what is it\n",
    "in above example, \n",
    "In Python, the self parameter is a reference to the current instance of a class. It is a common convention to use the name self, but you can use any other name as well. The self parameter is required in the definition of class methods, including the __init__ method.\n",
    "The __init__ method is a special method in Python classes that is automatically called when a new instance (object) of a class is created. It is used to initialize the attributes of the object. The self parameter allows the method to access and modify the object's attributes"
   ]
  },
  {
   "cell_type": "markdown",
   "metadata": {},
   "source": [
    "# Methods\n",
    "A- Instance method\n",
    "B- Class method"
   ]
  },
  {
   "cell_type": "code",
   "execution_count": 40,
   "metadata": {},
   "outputs": [
    {
     "name": "stdout",
     "output_type": "stream",
     "text": [
      "send\n"
     ]
    }
   ],
   "source": [
    "# A - Instance method\n",
    "class Request:\n",
    "    def send(self):\n",
    "        print('send')\n",
    "\n",
    "object_request = Request()\n",
    "object_request.send()"
   ]
  },
  {
   "cell_type": "markdown",
   "metadata": {},
   "source": [
    "# B- class method\n",
    "it is used by 2 way\n",
    "1- use a decorator named '@classmethod"
   ]
  },
  {
   "cell_type": "code",
   "execution_count": 41,
   "metadata": {},
   "outputs": [
    {
     "name": "stdout",
     "output_type": "stream",
     "text": [
      "Joy's age is: 28\n"
     ]
    }
   ],
   "source": [
    "from datetime import date\n",
    "\n",
    "class Student:\n",
    "    def __init__(self, name, age):\n",
    "        self.name = name\n",
    "        self.age = age\n",
    "\n",
    "    @classmethod\n",
    "    # first arg must be cls, refer to name of current class\n",
    "    def calculate_age(cls, name, birth_year): \n",
    "        # calculate age an set it as a age\n",
    "        # return new object\n",
    "        return cls(name, date.today().year - birth_year)\n",
    "\n",
    "    def show(self):\n",
    "        print(self.name + \"'s age is: \" + str(self.age))\n",
    "\n",
    "\n",
    "# create new object using the factory method\n",
    "joy = Student.calculate_age(\"Joy\", 1995)\n",
    "joy.show()\n"
   ]
  },
  {
   "cell_type": "markdown",
   "metadata": {},
   "source": [
    "# 2 - use function classmethod"
   ]
  }
 ],
 "metadata": {
  "kernelspec": {
   "display_name": "Python 3",
   "language": "python",
   "name": "python3"
  },
  "language_info": {
   "codemirror_mode": {
    "name": "ipython",
    "version": 3
   },
   "file_extension": ".py",
   "mimetype": "text/x-python",
   "name": "python",
   "nbconvert_exporter": "python",
   "pygments_lexer": "ipython3",
   "version": "3.11.1"
  }
 },
 "nbformat": 4,
 "nbformat_minor": 2
}
