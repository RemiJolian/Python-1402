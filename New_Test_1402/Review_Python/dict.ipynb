{
 "cells": [
  {
   "cell_type": "markdown",
   "metadata": {},
   "source": [
    "**Review from Quera**"
   ]
  },
  {
   "cell_type": "markdown",
   "metadata": {},
   "source": [
    "dict is mutable\n",
    "d = {key1: Value1, key2: value2, ....}\n",
    "but keys are not mutable"
   ]
  },
  {
   "cell_type": "code",
   "execution_count": 1,
   "metadata": {},
   "outputs": [
    {
     "data": {
      "text/plain": [
       "{'ava': 15, 'Asra': 17}"
      ]
     },
     "execution_count": 1,
     "metadata": {},
     "output_type": "execute_result"
    }
   ],
   "source": [
    "my_dict = {'ava': 12, 'Asra': 17}\n",
    "my_dict['ava'] = 15\n",
    "my_dict"
   ]
  },
  {
   "cell_type": "code",
   "execution_count": 3,
   "metadata": {},
   "outputs": [
    {
     "data": {
      "text/plain": [
       "['ava', 'Asra']"
      ]
     },
     "execution_count": 3,
     "metadata": {},
     "output_type": "execute_result"
    }
   ],
   "source": [
    "my_dict = {'ava': 12, 'Asra': 17}\n",
    "list(my_dict)           # only a list of keys"
   ]
  },
  {
   "cell_type": "code",
   "execution_count": 6,
   "metadata": {},
   "outputs": [
    {
     "data": {
      "text/plain": [
       "{'A': 1, 'B': 2}"
      ]
     },
     "execution_count": 6,
     "metadata": {},
     "output_type": "execute_result"
    }
   ],
   "source": [
    "d1 = dict([('A', 1), ('B', 2)])\n",
    "d1"
   ]
  },
  {
   "cell_type": "markdown",
   "metadata": {},
   "source": [
    "**add**"
   ]
  },
  {
   "cell_type": "code",
   "execution_count": 17,
   "metadata": {},
   "outputs": [
    {
     "data": {
      "text/plain": [
       "{'A': 0, 'B': 2, 'c': 3}"
      ]
     },
     "execution_count": 17,
     "metadata": {},
     "output_type": "execute_result"
    }
   ],
   "source": [
    "d1 = {'A': 1, 'B': 2}\n",
    "d1['A'] = 0\n",
    "d1['c'] = 3\n",
    "d1"
   ]
  },
  {
   "cell_type": "code",
   "execution_count": 18,
   "metadata": {},
   "outputs": [
    {
     "data": {
      "text/plain": [
       "True"
      ]
     },
     "execution_count": 18,
     "metadata": {},
     "output_type": "execute_result"
    }
   ],
   "source": [
    "'c' in d1"
   ]
  },
  {
   "cell_type": "code",
   "execution_count": 19,
   "metadata": {},
   "outputs": [
    {
     "data": {
      "text/plain": [
       "{'A': 0, 'B': 2}"
      ]
     },
     "execution_count": 19,
     "metadata": {},
     "output_type": "execute_result"
    }
   ],
   "source": [
    "del d1['c']\n",
    "d1"
   ]
  },
  {
   "cell_type": "code",
   "execution_count": 20,
   "metadata": {},
   "outputs": [
    {
     "name": "stdout",
     "output_type": "stream",
     "text": [
      "{'A': 0, 'B': 2}\n",
      "{'B': 2}\n"
     ]
    }
   ],
   "source": [
    "print(d1)\n",
    "d1.pop('A')\n",
    "print(d1)"
   ]
  },
  {
   "cell_type": "code",
   "execution_count": null,
   "metadata": {},
   "outputs": [],
   "source": [
    "grade = {'maryam': 20, 'ali':19, 'pooyan':19}\n"
   ]
  },
  {
   "cell_type": "code",
   "execution_count": 1,
   "metadata": {},
   "outputs": [
    {
     "name": "stdout",
     "output_type": "stream",
     "text": [
      "<class 'dict_values'>\n",
      "dict_values([21, 18, 22, 25])\n",
      "[21, 18, 22, 25]\n"
     ]
    }
   ],
   "source": [
    "age = {'ali': 21, 'mmdreza': 18, 'mahdi': 22, 'pooyan':25}\n",
    "print(type(age.values()))\n",
    "print(age.values())\n",
    "print(list(age.values()))"
   ]
  },
  {
   "cell_type": "markdown",
   "metadata": {},
   "source": [
    "**The dict.get(key, x) method in Python returns the value for a given key if it exists in the dictionary. If the key is not found, it returns a default value x that you can specify. Here are some examples of how to use this method:**"
   ]
  },
  {
   "cell_type": "code",
   "execution_count": 3,
   "metadata": {},
   "outputs": [
    {
     "name": "stdout",
     "output_type": "stream",
     "text": [
      "a\n",
      "0\n"
     ]
    }
   ],
   "source": [
    "my_dict = {\"apple\": 'a', \"banana\": 2, \"orange\": 3}\n",
    "print(my_dict.get(\"apple\", 0))  # Output: a\n",
    "print(my_dict.get(\"grape\", 0))  # Output: 0 (default value)"
   ]
  },
  {
   "cell_type": "code",
   "execution_count": null,
   "metadata": {},
   "outputs": [],
   "source": [
    "my_dict = {\"apple\": 1, \"banana\": 2, \"orange\": 3}\n",
    "print(my_dict.get(\"grape\", \"Not found\"))  # Output: \"Not found\""
   ]
  },
  {
   "cell_type": "code",
   "execution_count": 31,
   "metadata": {},
   "outputs": [
    {
     "name": "stdout",
     "output_type": "stream",
     "text": [
      "one\n",
      "Not found\n"
     ]
    }
   ],
   "source": [
    "my_dict = {1: \"one\", 2: \"two\", 3: \"three\"}\n",
    "print(my_dict.get(1, \"Not found\"))  # Output: \"one\"\n",
    "print(my_dict.get(4, \"Not found\"))  # Output: \"Not found\""
   ]
  },
  {
   "cell_type": "code",
   "execution_count": null,
   "metadata": {},
   "outputs": [],
   "source": [
    "my_dict = {\"fruits\": [\"apple\", \"banana\", \"orange\"]}\n",
    "print(my_dict.get(\"fruits\", []))  # Output: [\"apple\", \"banana\", \"orange\"]\n",
    "print(my_dict.get(\"vegetables\", []))  # Output: [] (empty list)"
   ]
  },
  {
   "cell_type": "code",
   "execution_count": 33,
   "metadata": {},
   "outputs": [
    {
     "name": "stdout",
     "output_type": "stream",
     "text": [
      "bekhoda nist nadarim\n"
     ]
    }
   ],
   "source": [
    "def get_default():\n",
    "    return \"bekhoda nist nadarim\"\n",
    "\n",
    "my_dict = {\"apple\": 1, \"banana\": 2, \"orange\": 3}\n",
    "print(my_dict.get(\"grape\", get_default()))  # Output: \"Default value\""
   ]
  },
  {
   "cell_type": "code",
   "execution_count": 4,
   "metadata": {},
   "outputs": [
    {
     "data": {
      "text/plain": [
       "20"
      ]
     },
     "execution_count": 4,
     "metadata": {},
     "output_type": "execute_result"
    }
   ],
   "source": [
    "grade = {'mamad': 20, 'ali':19, 'pooyan':19}\n",
    "grade.get('ali')\n",
    "grade['mahdi'] = grade.get('mahdi', 19) + 1  # not exit then get 19, then + 1\n",
    "grade.get('mahdi')"
   ]
  },
  {
   "cell_type": "markdown",
   "metadata": {},
   "source": [
    "dict representative"
   ]
  },
  {
   "cell_type": "code",
   "execution_count": 35,
   "metadata": {},
   "outputs": [
    {
     "data": {
      "text/plain": [
       "{1: 1, 2: 4, 3: 9, 4: 16, 5: 25}"
      ]
     },
     "execution_count": 35,
     "metadata": {},
     "output_type": "execute_result"
    }
   ],
   "source": [
    "{x: x*x for x in range(1, 6)}\n"
   ]
  },
  {
   "cell_type": "code",
   "execution_count": 36,
   "metadata": {},
   "outputs": [
    {
     "data": {
      "text/plain": [
       "{'ali': 12, 'amir': 2.3}"
      ]
     },
     "execution_count": 36,
     "metadata": {},
     "output_type": "execute_result"
    }
   ],
   "source": [
    "dict(ali=12, amir=2.3)"
   ]
  },
  {
   "cell_type": "code",
   "execution_count": 39,
   "metadata": {},
   "outputs": [
    {
     "name": "stdout",
     "output_type": "stream",
     "text": [
      "ali got A\n",
      "amir got B\n"
     ]
    }
   ],
   "source": [
    "d = {'ali': 'A', 'amir': 'B'}\n",
    "for k, v in d.items():\n",
    "    print(k + ' got ' + v)"
   ]
  },
  {
   "cell_type": "markdown",
   "metadata": {},
   "source": [
    "**Queiz Karmandan ziadi**"
   ]
  },
  {
   "cell_type": "code",
   "execution_count": 9,
   "metadata": {},
   "outputs": [
    {
     "name": "stdout",
     "output_type": "stream",
     "text": [
      "{'bagher': 2, 'jack': 1}\n",
      "2\n"
     ]
    }
   ],
   "source": [
    "n = int(input())\n",
    "employees = dict()\n",
    "for i in range(n):\n",
    "    f, l = map(str, input().split())\n",
    "    if f not in employees:\n",
    "        employees[f] = 1\n",
    "    else:\n",
    "        employees[f] += 1\n",
    "print(employees)\n",
    "print(max(employees.values()))\n"
   ]
  },
  {
   "cell_type": "markdown",
   "metadata": {},
   "source": [
    "and these solution:"
   ]
  },
  {
   "cell_type": "code",
   "execution_count": null,
   "metadata": {},
   "outputs": [],
   "source": [
    "n = int(input())\n",
    "d = {}\n",
    "for i in range(n):\n",
    "    first_n, last_n = map(str,input().split())\n",
    "    x = d.get(first_n,-1)\n",
    "    if x == -1:\n",
    "        d[first_n] = 1\n",
    "    else:\n",
    "        d[first_n] += 1\n",
    "#print(d)\n",
    "print(max(d.values()))"
   ]
  },
  {
   "cell_type": "code",
   "execution_count": null,
   "metadata": {},
   "outputs": [],
   "source": [
    "names=[]\n",
    "for i in range(int(input())):\n",
    "    names.append(input().split()[0])\n",
    "unique_names={name:names.count(name) for name in set(names)}\n",
    "print(names)\n",
    "#print(max(unique_names.values()))\n",
    "        "
   ]
  },
  {
   "cell_type": "code",
   "execution_count": 12,
   "metadata": {},
   "outputs": [
    {
     "data": {
      "text/plain": [
       "{'bagher', 'jack'}"
      ]
     },
     "execution_count": 12,
     "metadata": {},
     "output_type": "execute_result"
    }
   ],
   "source": [
    "set(['bagher', 'bagher', 'jack'])"
   ]
  }
 ],
 "metadata": {
  "kernelspec": {
   "display_name": "Python 3",
   "language": "python",
   "name": "python3"
  },
  "language_info": {
   "codemirror_mode": {
    "name": "ipython",
    "version": 3
   },
   "file_extension": ".py",
   "mimetype": "text/x-python",
   "name": "python",
   "nbconvert_exporter": "python",
   "pygments_lexer": "ipython3",
   "version": "3.12.0"
  }
 },
 "nbformat": 4,
 "nbformat_minor": 2
}
