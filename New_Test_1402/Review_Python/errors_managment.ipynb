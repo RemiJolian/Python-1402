{
 "cells": [
  {
   "cell_type": "markdown",
   "metadata": {},
   "source": [
    "# At first, run block of \"try\", then if error occur, block of \"except\" will run."
   ]
  },
  {
   "cell_type": "markdown",
   "metadata": {},
   "source": [
    "# The try-except statement is a way to handle errors and exceptions in Python. \n",
    "It allows you to write code that can handle errors gracefully, without crashing the program. The try block is used to enclose the code that may raise an exception, and the except block is used to handle the exception if it occurs\n"
   ]
  },
  {
   "cell_type": "code",
   "execution_count": null,
   "metadata": {},
   "outputs": [],
   "source": [
    "try:\n",
    "    x = int(input())\n",
    "    print(\"It's a number!\")\n",
    "except:\n",
    "    print(\"It's just a string!\")"
   ]
  },
  {
   "cell_type": "code",
   "execution_count": 4,
   "metadata": {},
   "outputs": [
    {
     "name": "stdout",
     "output_type": "stream",
     "text": [
      "ZeroDivisionError called\n",
      "ValueError called\n",
      "TypeError called\n"
     ]
    }
   ],
   "source": [
    "for i in range(3):\n",
    "    try:\n",
    "        if i == 0:\n",
    "            1/0\n",
    "        if i == 1:\n",
    "            int(\"salam\")\n",
    "        if i == 2:\n",
    "            \"salam\" + 1\n",
    "    except ZeroDivisionError:\n",
    "        print(\"ZeroDivisionError called\") # 1/0\n",
    "    except TypeError:\n",
    "        print(\"TypeError called\") # \"salam\" + 1\n",
    "    except ValueError:\n",
    "        print(\"ValueError called\") # int(\"salam\")"
   ]
  },
  {
   "cell_type": "code",
   "execution_count": 20,
   "metadata": {},
   "outputs": [
    {
     "name": "stdout",
     "output_type": "stream",
     "text": [
      "An error occurred: name 'ab' is not defined\n"
     ]
    }
   ],
   "source": [
    "try:\n",
    "    # Some code that may raise an exception\n",
    "    x = 1 / ab\n",
    "except ZeroDivisionError:\n",
    "    # Handle the ZeroDivisionError exception\n",
    "    print(\"Cannot divide by zero\")\n",
    "except Exception as e:\n",
    "    # Handle all other exceptions\n",
    "    print(f\"An error occurred: {e}\")\n"
   ]
  },
  {
   "cell_type": "code",
   "execution_count": null,
   "metadata": {},
   "outputs": [],
   "source": [
    "for i in range(3):\n",
    "    try:\n",
    "        if i == 0:\n",
    "                1/0\n",
    "        if i == 1:\n",
    "                int(\"salam\")\n",
    "        if i == 2:\n",
    "                \"salam\" + 1\n",
    "    except (ZeroDivisionError, TypeError, ValueError):\n",
    "            print(\"an error occurred\")\n"
   ]
  },
  {
   "cell_type": "markdown",
   "metadata": {},
   "source": [
    " see block 4:"
   ]
  },
  {
   "cell_type": "code",
   "execution_count": null,
   "metadata": {},
   "outputs": [],
   "source": [
    "for i in range(4):\n",
    "    try:\n",
    "        if i == 0:\n",
    "                1/0\n",
    "        if i == 1:\n",
    "                int(\"salam\")\n",
    "        if i == 2:\n",
    "                \"salam\" + 1\n",
    "        if i == 3:\n",
    "            1/ab\n",
    "    except (ZeroDivisionError, TypeError, ValueError):\n",
    "            print(\"an error occurred\")"
   ]
  },
  {
   "cell_type": "markdown",
   "metadata": {},
   "source": [
    "# error managment:\n",
    "- try:\n",
    "        Run this code\n",
    "- except:\n",
    "        Execute this code when there is an exception\n",
    "- else:\n",
    "        No exceptions? Run this code\n",
    "- finally:\n",
    "        Always run this code"
   ]
  },
  {
   "cell_type": "code",
   "execution_count": null,
   "metadata": {},
   "outputs": [],
   "source": [
    "n = int(input())\n",
    "try:\n",
    "    # Some code that may raise an exception\n",
    "    x = 1 / n\n",
    "except ZeroDivisionError:\n",
    "    # Handle the ZeroDivisionError exception\n",
    "    print(\"Cannot divide by zero\")\n",
    "except Exception as e:\n",
    "    # Handle all other exceptions\n",
    "    print(f\"An error occurred: {e}\")\n",
    "else:\n",
    "    # Execute if no exception occurs\n",
    "    print(\"No exception occurred\")\n",
    "finally:\n",
    "    # Clean-up action to be executed whether an exception occurs or not\n",
    "    print(\"Clean-up action\")\n"
   ]
  },
  {
   "cell_type": "markdown",
   "metadata": {},
   "source": [
    "# raise()\n",
    "In Python, the raise keyword is used to raise exceptions or errors. When an exception is raised, the control flow of the program is interrupted, and the program looks for an exception handler to handle the raised exception\n",
    ". The raise keyword can be used in various ways to raise different types of exceptions with custom messages.\n",
    "# The basic syntax of the raise keyword is:\n",
    "# raise {name_of_the_exception_class}"
   ]
  },
  {
   "cell_type": "code",
   "execution_count": null,
   "metadata": {},
   "outputs": [],
   "source": [
    "raise NameError\n"
   ]
  },
  {
   "cell_type": "code",
   "execution_count": null,
   "metadata": {},
   "outputs": [],
   "source": [
    "a = 5\n",
    "if a % 2 != 0:\n",
    "    raise Exception(\"The number shouldn't be an odd integer\")"
   ]
  },
  {
   "cell_type": "code",
   "execution_count": null,
   "metadata": {},
   "outputs": [],
   "source": [
    "raise NameError('salam')"
   ]
  },
  {
   "cell_type": "code",
   "execution_count": null,
   "metadata": {},
   "outputs": [],
   "source": [
    "s = 'apple'\n",
    "try:\n",
    "    num = int(s)\n",
    "except ValueError:\n",
    "    raise ValueError(\"String can't be changed into an integer\")\n"
   ]
  },
  {
   "cell_type": "code",
   "execution_count": null,
   "metadata": {},
   "outputs": [],
   "source": [
    "s = 'apple'\n",
    " \n",
    "try:\n",
    "    num = int(s)\n",
    "except:\n",
    "    raise"
   ]
  },
  {
   "cell_type": "code",
   "execution_count": null,
   "metadata": {},
   "outputs": [],
   "source": [
    "try:\n",
    "    raise NameError('salam')\n",
    "except NameError:\n",
    "    print('an exception raised')\n",
    "    raise"
   ]
  },
  {
   "cell_type": "code",
   "execution_count": null,
   "metadata": {},
   "outputs": [],
   "source": [
    "raise ValueError # 'raise ValueError()'\n"
   ]
  },
  {
   "cell_type": "code",
   "execution_count": null,
   "metadata": {},
   "outputs": [],
   "source": [
    "def divide(x, y):\n",
    "    if y == 0:\n",
    "        raise ZeroDivisionError(\"Cannot divide by zero\")\n",
    "    return x / y\n",
    "\n",
    "try:\n",
    "    print(divide(10, 0))\n",
    "except ZeroDivisionError as e:\n",
    "    print(e)\n"
   ]
  },
  {
   "cell_type": "markdown",
   "metadata": {},
   "source": [
    "# Till here, we know after 'raise' come Exception class, or an object of Exception class.\n",
    "Now:"
   ]
  },
  {
   "cell_type": "markdown",
   "metadata": {},
   "source": [
    "# Also we can declare  a new class for error and exceptions managment. That class:\n",
    "- Direct inheritance from Exception class\n",
    "- Indirect inheritance from Exception class"
   ]
  },
  {
   "cell_type": "code",
   "execution_count": 34,
   "metadata": {},
   "outputs": [
    {
     "name": "stdout",
     "output_type": "stream",
     "text": [
      "exception found <class '__main__.C'>\n"
     ]
    }
   ],
   "source": [
    "class A(Exception):\n",
    "    pass\n",
    "\n",
    "class B(A):\n",
    "    pass\n",
    "\n",
    "class C(B):\n",
    "    pass\n",
    "try:\n",
    "    raise C\n",
    "except A as e:\n",
    "    print('exception found', type(e))\n",
    "\n",
    "# exception found <class '__main__.C'>"
   ]
  },
  {
   "cell_type": "code",
   "execution_count": 38,
   "metadata": {},
   "outputs": [
    {
     "name": "stdout",
     "output_type": "stream",
     "text": [
      "Cannot calculate square root of a negative number\n"
     ]
    }
   ],
   "source": [
    "class NegativeNumberError(Exception):\n",
    "    pass\n",
    "\n",
    "def square_root(x):\n",
    "    if x < 0:\n",
    "        raise NegativeNumberError(\"Cannot calculate square root of a negative number\")\n",
    "    return x ** 0.5\n",
    "\n",
    "try:\n",
    "    print(square_root(-4))\n",
    "except NegativeNumberError as e:\n",
    "    print(e)\n"
   ]
  },
  {
   "cell_type": "code",
   "execution_count": null,
   "metadata": {},
   "outputs": [],
   "source": [
    "class InvalidInputError(ValueError):\n",
    "    pass\n",
    "\n",
    "def get_age():\n",
    "    age = input(\"Enter your age: \")\n",
    "    if not age.isdigit():\n",
    "        raise InvalidInputError(\"Age must be a positive integer\")\n",
    "    return int(age)\n",
    "\n",
    "try:\n",
    "    age = get_age()\n",
    "    print(f\"Your age is {age}\")\n",
    "except InvalidInputError as e:\n",
    "    print(e)\n"
   ]
  },
  {
   "cell_type": "markdown",
   "metadata": {},
   "source": [
    "# Queiz Chiraksi:\n",
    "......"
   ]
  },
  {
   "cell_type": "code",
   "execution_count": null,
   "metadata": {},
   "outputs": [],
   "source": [
    "......\n",
    "......\n"
   ]
  }
 ],
 "metadata": {
  "kernelspec": {
   "display_name": "Python 3",
   "language": "python",
   "name": "python3"
  },
  "language_info": {
   "codemirror_mode": {
    "name": "ipython",
    "version": 3
   },
   "file_extension": ".py",
   "mimetype": "text/x-python",
   "name": "python",
   "nbconvert_exporter": "python",
   "pygments_lexer": "ipython3",
   "version": "3.11.1"
  }
 },
 "nbformat": 4,
 "nbformat_minor": 2
}
