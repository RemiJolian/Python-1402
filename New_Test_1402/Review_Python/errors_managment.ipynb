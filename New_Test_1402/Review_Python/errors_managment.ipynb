{
 "cells": [
  {
   "cell_type": "markdown",
   "metadata": {},
   "source": [
    "# At first, run block of \"try\", then if error occur, block of \"except\" will run."
   ]
  },
  {
   "cell_type": "markdown",
   "metadata": {},
   "source": [
    "# The try-except statement is a way to handle errors and exceptions in Python. \n",
    "It allows you to write code that can handle errors gracefully, without crashing the program. The try block is used to enclose the code that may raise an exception, and the except block is used to handle the exception if it occurs\n"
   ]
  },
  {
   "cell_type": "code",
   "execution_count": null,
   "metadata": {},
   "outputs": [],
   "source": [
    "try:\n",
    "    x = int(input())\n",
    "    print(\"It's a number!\")\n",
    "except:\n",
    "    print(\"It's just a string!\")"
   ]
  },
  {
   "cell_type": "code",
   "execution_count": 4,
   "metadata": {},
   "outputs": [
    {
     "name": "stdout",
     "output_type": "stream",
     "text": [
      "ZeroDivisionError called\n",
      "ValueError called\n",
      "TypeError called\n"
     ]
    }
   ],
   "source": [
    "for i in range(3):\n",
    "    try:\n",
    "        if i == 0:\n",
    "            1/0\n",
    "        if i == 1:\n",
    "            int(\"salam\")\n",
    "        if i == 2:\n",
    "            \"salam\" + 1\n",
    "    except ZeroDivisionError:\n",
    "        print(\"ZeroDivisionError called\") # 1/0\n",
    "    except TypeError:\n",
    "        print(\"TypeError called\") # \"salam\" + 1\n",
    "    except ValueError:\n",
    "        print(\"ValueError called\") # int(\"salam\")"
   ]
  },
  {
   "cell_type": "code",
   "execution_count": 20,
   "metadata": {},
   "outputs": [
    {
     "name": "stdout",
     "output_type": "stream",
     "text": [
      "An error occurred: name 'ab' is not defined\n"
     ]
    }
   ],
   "source": [
    "try:\n",
    "    # Some code that may raise an exception\n",
    "    x = 1 / ab\n",
    "except ZeroDivisionError:\n",
    "    # Handle the ZeroDivisionError exception\n",
    "    print(\"Cannot divide by zero\")\n",
    "except Exception as e:\n",
    "    # Handle all other exceptions\n",
    "    print(f\"An error occurred: {e}\")\n"
   ]
  },
  {
   "cell_type": "code",
   "execution_count": null,
   "metadata": {},
   "outputs": [],
   "source": [
    "for i in range(3):\n",
    "    try:\n",
    "        if i == 0:\n",
    "                1/0\n",
    "        if i == 1:\n",
    "                int(\"salam\")\n",
    "        if i == 2:\n",
    "                \"salam\" + 1\n",
    "    except (ZeroDivisionError, TypeError, ValueError):\n",
    "            print(\"an error occurred\")\n"
   ]
  },
  {
   "cell_type": "markdown",
   "metadata": {},
   "source": [
    " see block 4:"
   ]
  },
  {
   "cell_type": "code",
   "execution_count": null,
   "metadata": {},
   "outputs": [],
   "source": [
    "for i in range(4):\n",
    "    try:\n",
    "        if i == 0:\n",
    "                1/0\n",
    "        if i == 1:\n",
    "                int(\"salam\")\n",
    "        if i == 2:\n",
    "                \"salam\" + 1\n",
    "        if i == 3:\n",
    "            1/ab\n",
    "    except (ZeroDivisionError, TypeError, ValueError):\n",
    "            print(\"an error occurred\")"
   ]
  },
  {
   "cell_type": "markdown",
   "metadata": {},
   "source": [
    "# error managment:\n",
    "- try:\n",
    "        Run this code\n",
    "- except:\n",
    "        Execute this code when there is an exception\n",
    "- else:\n",
    "        No exceptions? Run this code\n",
    "- finally:\n",
    "        Always run this code"
   ]
  },
  {
   "cell_type": "code",
   "execution_count": null,
   "metadata": {},
   "outputs": [],
   "source": [
    "n = int(input())\n",
    "try:\n",
    "    # Some code that may raise an exception\n",
    "    x = 1 / n\n",
    "except ZeroDivisionError:\n",
    "    # Handle the ZeroDivisionError exception\n",
    "    print(\"Cannot divide by zero\")\n",
    "except Exception as e:\n",
    "    # Handle all other exceptions\n",
    "    print(f\"An error occurred: {e}\")\n",
    "else:\n",
    "    # Execute if no exception occurs\n",
    "    print(\"No exception occurred\")\n",
    "finally:\n",
    "    # Clean-up action to be executed whether an exception occurs or not\n",
    "    print(\"Clean-up action\")\n"
   ]
  },
  {
   "cell_type": "markdown",
   "metadata": {},
   "source": [
    "# Also we can use class for error and exceptions managment:\n",
    "- ...\n",
    "- ...."
   ]
  },
  {
   "cell_type": "markdown",
   "metadata": {},
   "source": []
  }
 ],
 "metadata": {
  "kernelspec": {
   "display_name": "Python 3",
   "language": "python",
   "name": "python3"
  },
  "language_info": {
   "codemirror_mode": {
    "name": "ipython",
    "version": 3
   },
   "file_extension": ".py",
   "mimetype": "text/x-python",
   "name": "python",
   "nbconvert_exporter": "python",
   "pygments_lexer": "ipython3",
   "version": "3.11.1"
  }
 },
 "nbformat": 4,
 "nbformat_minor": 2
}
