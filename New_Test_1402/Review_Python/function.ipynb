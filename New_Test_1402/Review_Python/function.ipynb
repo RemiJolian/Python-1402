{
 "cells": [
  {
   "cell_type": "markdown",
   "metadata": {},
   "source": [
    "**pass, use in a function**"
   ]
  },
  {
   "cell_type": "markdown",
   "metadata": {},
   "source": [
    "'pass' is a null statement in Python that does nothing. It is often used as a placeholder for code that has not been implemented yet, or as a way to define empty functions or classes that will be filled in later."
   ]
  },
  {
   "cell_type": "code",
   "execution_count": 3,
   "metadata": {},
   "outputs": [
    {
     "name": "stdout",
     "output_type": "stream",
     "text": [
      "1 3 5 7 9 "
     ]
    }
   ],
   "source": [
    "for i in range(10):\n",
    "    if i % 2 == 0:\n",
    "        pass\n",
    "    else:\n",
    "        print(i, end = ' ')\n"
   ]
  },
  {
   "cell_type": "markdown",
   "metadata": {},
   "source": [
    "**default values for function if inputs not given**"
   ]
  },
  {
   "cell_type": "markdown",
   "metadata": {},
   "source": [
    "**Baran alan chasbide be mane dar 1 Aban 1402, wa nemizade code bezanam, freshte kochake lajbazz**"
   ]
  },
  {
   "cell_type": "code",
   "execution_count": null,
   "metadata": {},
   "outputs": [],
   "source": [
    "def f(a=0, b=1):\n",
    "    return a+b\n",
    "print(f(2,3))\n",
    "print(f(1))\n",
    "print(f())"
   ]
  },
  {
   "cell_type": "markdown",
   "metadata": {},
   "source": [
    "SyntaxError: non-default argument follows default argument"
   ]
  },
  {
   "cell_type": "code",
   "execution_count": null,
   "metadata": {},
   "outputs": [],
   "source": [
    "def f(a=0, b):          # error\n",
    "    return a+b\n",
    "f(2,1)\n"
   ]
  },
  {
   "cell_type": "markdown",
   "metadata": {},
   "source": [
    "نکته مهم دیگر در مورد مقادیر پیش‌فرض این است که فقط یک بار مقداردهی و در حافظه ذخیره می‌شوند. سپس در فراخوانی‌های بعدی از آن مقادیر ذخیره‌شده استفاده می‌شود و ممکن است همان مقدار دلخواه را نداشته باشند. برای مثال کد زیر را ببینید:"
   ]
  },
  {
   "cell_type": "code",
   "execution_count": 9,
   "metadata": {},
   "outputs": [
    {
     "data": {
      "text/plain": [
       "[2, 3]"
      ]
     },
     "execution_count": 9,
     "metadata": {},
     "output_type": "execute_result"
    }
   ],
   "source": [
    "def f(a, l=[]):\n",
    "    l.append(a)\n",
    "    return l\n",
    "f(2)\n",
    "f(3)"
   ]
  },
  {
   "cell_type": "markdown",
   "metadata": {},
   "source": [
    "so u should solve this issue by:"
   ]
  },
  {
   "cell_type": "code",
   "execution_count": 14,
   "metadata": {},
   "outputs": [
    {
     "data": {
      "text/plain": [
       "[3]"
      ]
     },
     "execution_count": 14,
     "metadata": {},
     "output_type": "execute_result"
    }
   ],
   "source": [
    "def f(a,l=[]):\n",
    "    l = []\n",
    "    l.append(a)\n",
    "    return l\n",
    "f(2)\n",
    "f(3)\n"
   ]
  },
  {
   "cell_type": "code",
   "execution_count": null,
   "metadata": {},
   "outputs": [],
   "source": [
    "def f(a, L=None):\n",
    "    if L == None:\n",
    "         L = []\n",
    "    L.append(a)\n",
    "    return L\n",
    "f(1)\n",
    "f(2)\n",
    "[2]\n",
    "f(2,f(1))\n",
    "[1, 2]"
   ]
  },
  {
   "cell_type": "markdown",
   "metadata": {},
   "source": [
    "**In Python, l = None assigns the value of None to the variable l, while l = [] assigns an empty list to the variable l. Here are the differences between the two:\n",
    "None is a built-in constant that represents the absence of a value. It is often used to indicate that a variable has not been assigned a value yet or that a function does not return a value. On the other hand, [] is an empty list that contains no elements.\n",
    "None is a singleton object, which means that there is only one instance of it in memory. This makes it useful for checking if a variable has been assigned a value or not. In contrast, [] creates a new empty list object every time it is assigned to a variable.\n",
    "None is considered a falsey value in Python, which means that it evaluates to False in a boolean context. An empty list [] is also considered falsey. However, they are not the same object and should not be used interchangeably.\n",
    "In summary, l = None assigns the absence of a value to the variable l, while l = [] assigns an empty list to the variable l. They are not the same and should be used appropriately based on the context in which they are used**\n"
   ]
  },
  {
   "cell_type": "markdown",
   "metadata": {},
   "source": [
    "**extra inputs**"
   ]
  },
  {
   "cell_type": "code",
   "execution_count": 19,
   "metadata": {},
   "outputs": [
    {
     "data": {
      "text/plain": [
       "6"
      ]
     },
     "execution_count": 19,
     "metadata": {},
     "output_type": "execute_result"
    }
   ],
   "source": [
    "def f(a, *args):\n",
    "    return (a + sum(args)) # args is tuple\n",
    "f(1,2,3)"
   ]
  },
  {
   "cell_type": "markdown",
   "metadata": {},
   "source": [
    "**dict as a input of a func**"
   ]
  },
  {
   "cell_type": "code",
   "execution_count": null,
   "metadata": {},
   "outputs": [],
   "source": [
    "def my_function(*args, **kwargs):\n",
    "    print(\"Positional arguments:\", args)\n",
    "    print(\"Keyword arguments:\", kwargs)\n",
    "\n",
    "my_function(1, 2, 3, name=\"Alice\", age=25)"
   ]
  },
  {
   "cell_type": "code",
   "execution_count": 20,
   "metadata": {},
   "outputs": [
    {
     "name": "stdout",
     "output_type": "stream",
     "text": [
      "Positional arguments: (1, 2, 3)\n",
      "Keyword arguments: {'name': 'Bob', 'age': 30}\n"
     ]
    }
   ],
   "source": [
    "def my_function(*args, **kwargs):\n",
    "    print(\"Positional arguments:\", args)\n",
    "    print(\"Keyword arguments:\", kwargs)\n",
    "\n",
    "my_list = [1, 2, 3]\n",
    "my_dict = {\"name\": \"Bob\", \"age\": 30}\n",
    "my_function(*my_list, **my_dict)"
   ]
  },
  {
   "cell_type": "code",
   "execution_count": null,
   "metadata": {},
   "outputs": [],
   "source": [
    "def add_numbers(*args):\n",
    "    total = 0\n",
    "    for num in args:\n",
    "        total += num\n",
    "    return total\n",
    "\n",
    "numbers = [1, 2, 3, 4, 5]\n",
    "print(add_numbers(*numbers))"
   ]
  },
  {
   "cell_type": "markdown",
   "metadata": {},
   "source": [
    "**Using *args and **kwargs to unpack arguments**"
   ]
  },
  {
   "cell_type": "code",
   "execution_count": null,
   "metadata": {},
   "outputs": [],
   "source": [
    "def my_function(a, b, c):\n",
    "    print(\"a =\", a)\n",
    "    print(\"b =\", b)\n",
    "    print(\"c =\", c)\n",
    "\n",
    "my_list = [1, 2, 3]\n",
    "my_function(*my_list)"
   ]
  },
  {
   "cell_type": "markdown",
   "metadata": {},
   "source": [
    "**Using *args and **kwargs in a class constructor**"
   ]
  },
  {
   "cell_type": "code",
   "execution_count": 21,
   "metadata": {},
   "outputs": [
    {
     "name": "stdout",
     "output_type": "stream",
     "text": [
      "Alice\n",
      "25\n",
      "{'city': 'New York', 'occupation': 'Engineer'}\n"
     ]
    }
   ],
   "source": [
    "class Person:\n",
    "    def __init__(self, name, age, **kwargs):\n",
    "        self.name = name\n",
    "        self.age = age\n",
    "        self.additional_info = kwargs\n",
    "\n",
    "person = Person(\"Alice\", 25, city=\"New York\", occupation=\"Engineer\")\n",
    "print(person.name)\n",
    "print(person.age)\n",
    "print(person.additional_info)"
   ]
  },
  {
   "cell_type": "code",
   "execution_count": null,
   "metadata": {},
   "outputs": [],
   "source": [
    "def printUsers(**users):\n",
    "    for name, age in users.items():\n",
    "        print(f'name is {name} and has {age} years old')\n",
    "printUsers(ali=21, jack=18, sara=21)"
   ]
  },
  {
   "cell_type": "code",
   "execution_count": 24,
   "metadata": {},
   "outputs": [
    {
     "data": {
      "text/plain": [
       "2.0"
      ]
     },
     "execution_count": 24,
     "metadata": {},
     "output_type": "execute_result"
    }
   ],
   "source": [
    "def mean(*numbers):\n",
    "    return sum(numbers)/ len(numbers)\n",
    "data = [1, 2, 3]\n",
    "mean(*data)"
   ]
  },
  {
   "cell_type": "code",
   "execution_count": null,
   "metadata": {},
   "outputs": [],
   "source": [
    ">>> def people(**people):\n",
    "...     for name, job in people.items():\n",
    "...         print(f'{name} is a {job}')\n",
    "...\n",
    ">>> data = {'mohamad': 'teacher', 'samad': 'worker'}\n",
    ">>> people(**data)\n",
    "'mohamad is a teacher'\n",
    "'samad is a worker'"
   ]
  }
 ],
 "metadata": {
  "kernelspec": {
   "display_name": "Python 3",
   "language": "python",
   "name": "python3"
  },
  "language_info": {
   "codemirror_mode": {
    "name": "ipython",
    "version": 3
   },
   "file_extension": ".py",
   "mimetype": "text/x-python",
   "name": "python",
   "nbconvert_exporter": "python",
   "pygments_lexer": "ipython3",
   "version": "3.11.1"
  }
 },
 "nbformat": 4,
 "nbformat_minor": 2
}
