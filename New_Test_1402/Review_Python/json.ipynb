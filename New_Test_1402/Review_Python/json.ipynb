{
 "cells": [
  {
   "cell_type": "markdown",
   "metadata": {},
   "source": [
    "# JSON stands for JavaScript Object Notation, which is a lightweight data interchange format. It is used to store and transfer data in a language-independent format that is easy to understand since it is self-describing in nature. JSON is a text-based format that is easy for humans to read and write, and easy for machines to parse and generate."
   ]
  },
  {
   "cell_type": "markdown",
   "metadata": {},
   "source": [
    "# Python is a programming language that has a built-in package called json that can be used to work with JSON data. The json package provides methods for encoding and decoding JSON data, as well as reading and writing JSON files."
   ]
  },
  {
   "cell_type": "markdown",
   "metadata": {},
   "source": [
    "# dict, in json file\n",
    "data =c\n",
    "{\n",
    "  \"firstName\": \"Mohamadreza\",\n",
    "  \"lastName\": \"Kariminejad\",\n",
    "  \"isAlive\": true,\n",
    "  \"age\": 18,\n",
    "  \"address\": {\n",
    "    \"city\": \"Yasuj\",\n",
    "    \"village\": \"Karim-Abad\"\n",
    "  },\n",
    "  \"children\": [],\n",
    "  \"wife\": null\n",
    "}\n"
   ]
  },
  {
   "cell_type": "markdown",
   "metadata": {},
   "source": [
    "# How to read a json file in python\n",
    "# loads() func\n",
    "# input of loads() must be a string"
   ]
  },
  {
   "cell_type": "code",
   "execution_count": 13,
   "metadata": {},
   "outputs": [
    {
     "name": "stdout",
     "output_type": "stream",
     "text": [
      "{'name': 'John', 'age': 30, 'city': 'New York'}\n"
     ]
    }
   ],
   "source": [
    "import json\n",
    "\n",
    "json_string = '{\"name\": \"John\", \"age\": 30, \"city\": \"New York\"}'\n",
    "data = json.loads(json_string)\n",
    "\n",
    "print(data)"
   ]
  },
  {
   "cell_type": "markdown",
   "metadata": {},
   "source": [
    "# dumps() : convert to json format"
   ]
  },
  {
   "cell_type": "code",
   "execution_count": 5,
   "metadata": {},
   "outputs": [
    {
     "data": {
      "text/plain": [
       "'true'"
      ]
     },
     "execution_count": 5,
     "metadata": {},
     "output_type": "execute_result"
    }
   ],
   "source": [
    "import json\n",
    "json.dumps(True)"
   ]
  },
  {
   "cell_type": "code",
   "execution_count": 6,
   "metadata": {},
   "outputs": [
    {
     "data": {
      "text/plain": [
       "'[1, 2, 3]'"
      ]
     },
     "execution_count": 6,
     "metadata": {},
     "output_type": "execute_result"
    }
   ],
   "source": [
    "import json\n",
    "json.dumps([1, 2, 3])"
   ]
  },
  {
   "cell_type": "markdown",
   "metadata": {},
   "source": [
    "# load() and dumps()\n",
    "# input of load() is a json file not a string in json format\n",
    "# input of dump() is a python object"
   ]
  },
  {
   "cell_type": "code",
   "execution_count": 12,
   "metadata": {},
   "outputs": [
    {
     "data": {
      "text/plain": [
       "{'name': 'John', 'age': 30, 'city': 'New York'}"
      ]
     },
     "execution_count": 12,
     "metadata": {},
     "output_type": "execute_result"
    }
   ],
   "source": [
    "import json\n",
    "\n",
    "# data.json exist here in directory, we want read it and convert to python format\n",
    "with open('data.json', 'r') as file1:\n",
    "    new_file = json.load(file1)\n",
    "new_file"
   ]
  },
  {
   "cell_type": "code",
   "execution_count": null,
   "metadata": {},
   "outputs": [],
   "source": [
    "import json\n",
    "\n",
    "data = {\n",
    "    \"name\": \"John\",\n",
    "    \"age\": 30,\n",
    "    \"city\": \"New York\"\n",
    "}\n",
    "\n",
    "with open(\"data.json\", \"w\") as file:\n",
    "    json.dump(data, file)\n",
    "\n"
   ]
  },
  {
   "cell_type": "markdown",
   "metadata": {},
   "source": [
    "# Queiz, Quera: chayson!"
   ]
  },
  {
   "cell_type": "code",
   "execution_count": 14,
   "metadata": {},
   "outputs": [
    {
     "name": "stdout",
     "output_type": "stream",
     "text": [
      "a = ['1', ' 2', ' 3']\n",
      "b = {\"\"2\"\": 1, \"\"1\"\": 4, \"\"4\"\": 5}\n",
      "print(a[1])\n",
      "print(b[\"1\"])\n",
      "\n"
     ]
    }
   ],
   "source": [
    "def convert_to_python(code_lines):\n",
    "    python_code = \"\"\n",
    "    for line in code_lines:\n",
    "        if line.startswith(\"a :=\"):\n",
    "            values = line.split(\":=\")[1].strip()[1:-1].split(\",\")\n",
    "            python_code += f\"a = {values}\\n\"\n",
    "        \n",
    "            python_dict = \"{\"\n",
    "            for pair in pairs:\n",
    "                key, value = pair.strip().split(\":\")\n",
    "                python_dict += f'\"{key.strip()}\": {value.strip()}, '\n",
    "            python_dict = python_dict[:-2] + \"}\"\n",
    "            python_code += f\"b = {python_dict}\\n\"\n",
    "        elif line.startswith(\"print a\"):\n",
    "            index = int(line.split(\"[\")[1].split(\"]\")[0])\n",
    "            python_code += f\"print(a[{index}])\\n\"\n",
    "      \n",
    "    return python_code\n",
    "\n",
    "code_lines = [\n",
    "    \"a := [1, 2, 3]\",\n",
    "    'b := {\"2\": 1, \"1\": 4, \"4\": 5}',\n",
    "    \"print a[1]\",\n",
    "    'print b[\"1\"]'\n",
    "]\n",
    "\n",
    "python_program = convert_to_python(code_lines)\n",
    "print(python_program)\n"
   ]
  },
  {
   "cell_type": "code",
   "execution_count": null,
   "metadata": {},
   "outputs": [],
   "source": [
    "import json\n",
    "n = int(input())\n",
    "for i in range(n):\n",
    "    line = input()\n",
    "    json.loads(line)\n"
   ]
  }
 ],
 "metadata": {
  "kernelspec": {
   "display_name": "Python 3",
   "language": "python",
   "name": "python3"
  },
  "language_info": {
   "codemirror_mode": {
    "name": "ipython",
    "version": 3
   },
   "file_extension": ".py",
   "mimetype": "text/x-python",
   "name": "python",
   "nbconvert_exporter": "python",
   "pygments_lexer": "ipython3",
   "version": "3.11.1"
  }
 },
 "nbformat": 4,
 "nbformat_minor": 2
}
