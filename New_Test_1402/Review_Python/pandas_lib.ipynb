{
 "cells": [
  {
   "cell_type": "code",
   "execution_count": null,
   "metadata": {},
   "outputs": [],
   "source": [
    "import pandas as pd"
   ]
  },
  {
   "cell_type": "markdown",
   "metadata": {},
   "source": [
    "pd = read_csv(avokado.csv)\n",
    "pd.info()"
   ]
  },
  {
   "cell_type": "markdown",
   "metadata": {},
   "source": [
    "print(df['type'].value_counts(dropna=False))\n",
    "print(df['geography'].value_counts(dropna=False))"
   ]
  },
  {
   "cell_type": "markdown",
   "metadata": {},
   "source": [
    "df['type'].value_counts(dropna=False): This is performing a specific operation using the pandas library. Here's a detailed explanation:\n",
    "\n",
    "df['type']: This part accesses a column named \"type\" within a DataFrame named \"df\". DataFrames are tabular data structures in pandas, similar to spreadsheets.\n",
    ".value_counts(): This method is applied to the \"type\" column to count the occurrences of each unique value within it.\n",
    "dropna=False: This argument is passed to value_counts() to control how missing values (NaN) are handled. Setting it to False ensures that missing values are included in the count, not ignored.\n",
    "\n",
    "In essence, this code:\n",
    "Counts the occurrences of each unique value in the \"type\" column of the DataFrame \"df\".\n",
    "Includes missing values (NaN) in the count.\n",
    "\n",
    "Example Output:\n",
    "Assuming the \"type\" column contains the values ['A', 'B', 'C', 'A', 'B', 'A', 'C', 'B'], the output would look like this:\n",
    "\n",
    "A    3\n",
    "B    3\n",
    "C    2\n",
    "Name: type, dtype: int64\n",
    "This indicates that:\n",
    "\n",
    "The value \"A\" appears 3 times.\n",
    "The value \"B\" appears 3 times.\n",
    "The value \"C\" appears 2 times."
   ]
  }
 ],
 "metadata": {
  "language_info": {
   "name": "python"
  }
 },
 "nbformat": 4,
 "nbformat_minor": 2
}
