{
 "cells": [
  {
   "cell_type": "markdown",
   "metadata": {},
   "source": [
    "# Read these topics deeply\n",
    "- Threading module: do some tasks together\n",
    "- race condition\n",
    "- Event\n",
    "- lock"
   ]
  },
  {
   "cell_type": "markdown",
   "metadata": {},
   "source": [
    "# A- Review threading, by Perplexity\n",
    "# B- Review threading, by bard, Google.\n",
    "\n",
    "You can also read threading topic in Faradars:\n",
    "https://blog.faradars.org/thread-%da%86%db%8c%d8%b3%d8%aa/   and\n",
    "https://blog.faradars.org/%D9%86%D8%AE-%D8%AF%D8%B1-%D9%BE%D8%A7%DB%8C%D8%AA%D9%88%D9%86/"
   ]
  },
  {
   "cell_type": "markdown",
   "metadata": {},
   "source": [
    "# threading module\n",
    "The threading module in Python provides a way to create and manage threads in a program.\n",
    " Threads are used to execute multiple tasks simultaneously, which can improve the performance of a program.\n",
    " Here are some examples of using the threading module in Python:"
   ]
  },
  {
   "cell_type": "markdown",
   "metadata": {},
   "source": [
    "1- Creating a new thread\n",
    "2 - Synchronizing threads:\n",
    "3 - Using locks"
   ]
  },
  {
   "cell_type": "code",
   "execution_count": 1,
   "metadata": {},
   "outputs": [
    {
     "name": "stdout",
     "output_type": "stream",
     "text": [
      "This is my function.\n"
     ]
    }
   ],
   "source": [
    "# 1- Creating thread\n",
    "\n",
    "import threading\n",
    "\n",
    "def my_function():\n",
    "    print(\"This is my function.\")\n",
    "\n",
    "my_thread11 = threading.Thread(target=my_function)\n",
    "my_thread1.start()\n"
   ]
  },
  {
   "cell_type": "markdown",
   "metadata": {},
   "source": [
    "In this example, we define a function called my_function that prints a message to the console. We then create a new thread using the Thread class from the threading module and pass my_function as the target. We start the thread using the start method."
   ]
  },
  {
   "cell_type": "code",
   "execution_count": null,
   "metadata": {},
   "outputs": [],
   "source": [
    "# 2 - Synchronizing threads\n",
    "\n",
    "import threading\n",
    "\n",
    "def my_function1():\n",
    "    for i in range(5):\n",
    "        print(\"Thread 1: \", i)\n",
    "\n",
    "def my_function2():\n",
    "    for i in range(5):\n",
    "        print(\"Thread 2: \", i)\n",
    "\n",
    "my_thread1 = threading.Thread(target = my_function1)\n",
    "my_thread2 = threading.Thread(target = my_function2)\n",
    "\n",
    "my_thread1.start()\n",
    "my_thread2.start()\n",
    "\n",
    "my_thread1.join()\n",
    "my_thread2.join()\n",
    "\n",
    "print(\"Done.\")"
   ]
  },
  {
   "cell_type": "markdown",
   "metadata": {},
   "source": [
    "In this example, we define two functions called my_function and my_function2 that print messages to the console. We create two threads using the Thread class and pass each function as the target. We start both threads using the start method. We then use the join method to wait for both threads to finish before printing \"Done\" to the console."
   ]
  },
  {
   "cell_type": "code",
   "execution_count": 13,
   "metadata": {},
   "outputs": [
    {
     "name": "stdout",
     "output_type": "stream",
     "text": [
      "Count:  10\n"
     ]
    }
   ],
   "source": [
    "# 3- Using locks\n",
    "\n",
    "import threading\n",
    "\n",
    "lock = threading.Lock()\n",
    "count = 0\n",
    "\n",
    "def increment():\n",
    "    global count\n",
    "    lock.acquire()\n",
    "    count += 1\n",
    "    lock.release()\n",
    "\n",
    "threads = []\n",
    "for i in range(10):\n",
    "    t = threading.Thread(target=increment)\n",
    "    threads.append(t)\n",
    "    t.start()\n",
    "\n",
    "for t in threads:\n",
    "    t.join()\n",
    "\n",
    "print(\"Count: \", count)\n"
   ]
  },
  {
   "cell_type": "markdown",
   "metadata": {},
   "source": [
    "In this example, we define a global variable called count and a lock using the Lock class from the threading module. We define a function called increment that increments the count variable while holding the lock. We create 10 threads and start them, each calling the increment function. We then use the join method to wait for all threads to finish before printing the final value of count to the console."
   ]
  },
  {
   "cell_type": "markdown",
   "metadata": {},
   "source": [
    "These are just a few examples of how to use the threading module in Python. The module provides many other features and methods for managing threads, such as synchronization, communication, and more."
   ]
  },
  {
   "cell_type": "markdown",
   "metadata": {},
   "source": [
    "# B- Review threading, by bard, Google."
   ]
  },
  {
   "cell_type": "markdown",
   "metadata": {},
   "source": [
    "In Python, the threading module provides a high-level interface for creating and managing threads. Threads are lightweight processes that can run concurrently within a single program, allowing for efficient multitasking and improved performance.\n",
    "\n",
    "Here's a brief overview of the threading module and some examples of its usage:"
   ]
  },
  {
   "cell_type": "markdown",
   "metadata": {},
   "source": [
    "# 1- Creating Threads:\n",
    " The threading module provides the Thread class for creating new threads. The Thread class constructor takes a callable object (a function or method) as its argument. The callable object is the code that the thread will execute when it starts."
   ]
  },
  {
   "cell_type": "code",
   "execution_count": null,
   "metadata": {},
   "outputs": [],
   "source": [
    "import threading\n",
    "\n",
    "def my_thread_function():\n",
    "    # Code to execute in the thread\n",
    "    print(\"Running in a separate thread\")\n",
    "\n",
    "thread = threading.Thread(target=my_thread_function)\n",
    "thread.start()\n"
   ]
  },
  {
   "cell_type": "markdown",
   "metadata": {},
   "source": [
    "# 2- Starting Threads:\n",
    "Once a thread is created, it is started using the start() method. The start() method causes the thread to begin executing its code concurrently with the main thread."
   ]
  },
  {
   "cell_type": "code",
   "execution_count": null,
   "metadata": {},
   "outputs": [],
   "source": [
    "thread.start()"
   ]
  },
  {
   "cell_type": "markdown",
   "metadata": {},
   "source": [
    "# 3- Joining Threads:\n",
    "To ensure that the main thread waits for all child threads to finish executing before exiting, the join() method is used."
   ]
  },
  {
   "cell_type": "code",
   "execution_count": null,
   "metadata": {},
   "outputs": [],
   "source": [
    "thread.join()  # Wait for the thread to finish"
   ]
  },
  {
   "cell_type": "markdown",
   "metadata": {},
   "source": [
    "# 4- Synchronization:\n",
    "When multiple threads access shared resources, synchronization mechanisms are necessary to prevent data corruption and race conditions. The threading module provides various synchronization primitives, such as locks and semaphores, to coordinate thread access to shared data."
   ]
  },
  {
   "cell_type": "code",
   "execution_count": null,
   "metadata": {},
   "outputs": [],
   "source": [
    "import threading\n",
    "\n",
    "def deposit(account, amount):\n",
    "    account.balance += amount\n",
    "\n",
    "account = {'balance': 0}\n",
    "\n",
    "thread1 = threading.Thread(target=deposit, args=(account, 100))\n",
    "thread2 = threading.Thread(target=deposit, args=(account, 50))\n",
    "\n",
    "thread1.start()\n",
    "thread2.start()\n",
    "\n",
    "thread1.join()\n",
    "thread2.join()\n",
    "\n",
    "print(account['balance'])  # Output: 150"
   ]
  },
  {
   "cell_type": "markdown",
   "metadata": {},
   "source": [
    "# 5- Thread Pools:\n",
    "For managing a pool of worker threads that can be reused for various tasks, the threading module provides the ThreadPoolExecutor class. This can be more efficient than creating individual threads for each task."
   ]
  },
  {
   "cell_type": "code",
   "execution_count": null,
   "metadata": {},
   "outputs": [],
   "source": [
    "import threading\n",
    "from concurrent.futures import ThreadPoolExecutor\n",
    "\n",
    "def process_data(data):\n",
    "    # Process the data\n",
    "    pass\n",
    "\n",
    "with ThreadPoolExecutor(max_workers=4) as executor:\n",
    "    executor.submit(process_data, data1)  # Submit tasks to the thread pool\n",
    "    executor.submit(process_data, data2)\n",
    "    executor.submit(process_data, data3)"
   ]
  },
  {
   "cell_type": "markdown",
   "metadata": {},
   "source": [
    "These examples demonstrate the basic usage of the threading module in Python for creating, managing, and synchronizing threads. Threads can be a powerful tool for improving the performance and responsiveness of applications that involve concurrent tasks or I/O operations."
   ]
  }
 ],
 "metadata": {
  "kernelspec": {
   "display_name": "Python 3",
   "language": "python",
   "name": "python3"
  },
  "language_info": {
   "codemirror_mode": {
    "name": "ipython",
    "version": 3
   },
   "file_extension": ".py",
   "mimetype": "text/x-python",
   "name": "python",
   "nbconvert_exporter": "python",
   "pygments_lexer": "ipython3",
   "version": "3.12.0"
  }
 },
 "nbformat": 4,
 "nbformat_minor": 2
}
