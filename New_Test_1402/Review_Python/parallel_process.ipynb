{
 "cells": [
  {
   "cell_type": "markdown",
   "metadata": {},
   "source": [
    "# Read these topics deeply\n",
    "- threading module: do some tasks together\n",
    "- race condition\n",
    "- Event\n",
    "- lock"
   ]
  },
  {
   "cell_type": "markdown",
   "metadata": {},
   "source": [
    "# A- Review threading, by Perplexity\n",
    "# B- Review threading, by bard, Google.\n",
    "# C- You can also read threading topic in Faradars:\n",
    "https://blog.faradars.org/thread-%da%86%db%8c%d8%b3%d8%aa/   and\n",
    "https://blog.faradars.org/%D9%86%D8%AE-%D8%AF%D8%B1-%D9%BE%D8%A7%DB%8C%D8%AA%D9%88%D9%86/"
   ]
  },
  {
   "cell_type": "markdown",
   "metadata": {},
   "source": [
    "# A- Review threading, by Perplexity"
   ]
  },
  {
   "cell_type": "markdown",
   "metadata": {},
   "source": [
    "# threading module\n",
    "The threading module in Python provides a way to create and manage threads in a program.\n",
    "Threads are used to execute multiple tasks simultaneously, which can improve the performance of a program.\n",
    "Here are some examples of using the threading module in Python:"
   ]
  },
  {
   "cell_type": "markdown",
   "metadata": {},
   "source": [
    "1- Creating a new thread\n",
    "2 - Synchronizing threads:\n",
    "3 - Using locks"
   ]
  },
  {
   "cell_type": "code",
   "execution_count": 1,
   "metadata": {},
   "outputs": [
    {
     "name": "stdout",
     "output_type": "stream",
     "text": [
      "This is my function.\n"
     ]
    }
   ],
   "source": [
    "# 1- Creating thread\n",
    "\n",
    "import threading\n",
    "\n",
    "def my_function():\n",
    "    print(\"This is my function.\")\n",
    "\n",
    "my_thread11 = threading.Thread(target = my_function)\n",
    "my_thread1.start()\n"
   ]
  },
  {
   "cell_type": "markdown",
   "metadata": {},
   "source": [
    "In this example, we define a function called my_function that prints a message to the console. We then create a new thread using the Thread class from the threading module and pass my_function as the target. We start the thread using the start method."
   ]
  },
  {
   "cell_type": "code",
   "execution_count": null,
   "metadata": {},
   "outputs": [],
   "source": [
    "# 2 - Synchronizing threads\n",
    "\n",
    "import threading\n",
    "\n",
    "def my_function1():\n",
    "    for i in range(5):\n",
    "        print(\"Thread 1: \", i)\n",
    "\n",
    "def my_function2():\n",
    "    for i in range(5):\n",
    "        print(\"Thread 2: \", i)\n",
    "\n",
    "my_thread1 = threading.Thread(target = my_function1)\n",
    "my_thread2 = threading.Thread(target = my_function2)\n",
    "\n",
    "my_thread1.start()\n",
    "my_thread2.start()\n",
    "\n",
    "my_thread1.join()\n",
    "my_thread2.join()\n",
    "\n",
    "print(\"Done.\")"
   ]
  },
  {
   "cell_type": "markdown",
   "metadata": {},
   "source": [
    "In this example, we define two functions called my_function and my_function2 that print messages to the console. We create two threads using the Thread class and pass each function as the target. We start both threads using the start method. We then use the join method to wait for both threads to finish before printing \"Done\" to the console."
   ]
  },
  {
   "cell_type": "code",
   "execution_count": 13,
   "metadata": {},
   "outputs": [
    {
     "name": "stdout",
     "output_type": "stream",
     "text": [
      "Count:  10\n"
     ]
    }
   ],
   "source": [
    "# 3- Using locks\n",
    "\n",
    "import threading\n",
    "\n",
    "lock = threading.Lock()\n",
    "count = 0\n",
    "\n",
    "def increment():\n",
    "    global count\n",
    "    lock.acquire()\n",
    "    count += 1\n",
    "    lock.release()\n",
    "\n",
    "threads = []\n",
    "for i in range(10):\n",
    "    t = threading.Thread(target=increment)\n",
    "    threads.append(t)\n",
    "    t.start()\n",
    "\n",
    "for t in threads:\n",
    "    t.join()\n",
    "\n",
    "print(\"Count: \", count)\n"
   ]
  },
  {
   "cell_type": "markdown",
   "metadata": {},
   "source": [
    "In this example, we define a global variable called count and a lock using the Lock class from the threading module. We define a function called increment that increments the count variable while holding the lock. We create 10 threads and start them, each calling the increment function. We then use the join method to wait for all threads to finish before printing the final value of count to the console."
   ]
  },
  {
   "cell_type": "markdown",
   "metadata": {},
   "source": [
    "These are just a few examples of how to use the threading module in Python. The module provides many other features and methods for managing threads, such as synchronization, communication, and more."
   ]
  },
  {
   "cell_type": "markdown",
   "metadata": {},
   "source": [
    "# ---------------------------------------------------------------------------------------------------------------------------"
   ]
  },
  {
   "cell_type": "markdown",
   "metadata": {},
   "source": [
    "# B- Review threading, by bard, Google."
   ]
  },
  {
   "cell_type": "markdown",
   "metadata": {},
   "source": [
    "In Python, the threading module provides a high-level interface for creating and managing threads. Threads are lightweight processes that can run concurrently within a single program, allowing for efficient multitasking and improved performance.\n",
    "\n",
    "Here's a brief overview of the threading module and some examples of its usage:"
   ]
  },
  {
   "cell_type": "markdown",
   "metadata": {},
   "source": [
    "# 1- Creating Threads:\n",
    " The threading module provides the Thread class for creating new threads. The Thread class constructor takes a callable object (a function or method) as its argument. The callable object is the code that the thread will execute when it starts."
   ]
  },
  {
   "cell_type": "code",
   "execution_count": 3,
   "metadata": {},
   "outputs": [
    {
     "name": "stdout",
     "output_type": "stream",
     "text": [
      "Running in a separate thread\n"
     ]
    }
   ],
   "source": [
    "import threading\n",
    "\n",
    "def my_thread_function():\n",
    "    # Code to execute in the thread\n",
    "    print(\"Running in a separate thread\")\n",
    "\n",
    "thread1 = threading.Thread(target = my_thread_function)\n",
    "thread1.start()\n"
   ]
  },
  {
   "cell_type": "markdown",
   "metadata": {},
   "source": [
    "# 2- Starting Threads:\n",
    "Once a thread is created, it is started using the start() method. The start() method causes the thread to begin executing its code concurrently with the main thread."
   ]
  },
  {
   "cell_type": "code",
   "execution_count": null,
   "metadata": {},
   "outputs": [],
   "source": [
    "thread1.start()"
   ]
  },
  {
   "cell_type": "markdown",
   "metadata": {},
   "source": [
    "# 3- Joining Threads:\n",
    "To ensure that the main thread waits for all child threads to finish executing before exiting, the join() method is used."
   ]
  },
  {
   "cell_type": "code",
   "execution_count": null,
   "metadata": {},
   "outputs": [],
   "source": [
    "thread1.join()  # Wait for the thread to finish"
   ]
  },
  {
   "cell_type": "markdown",
   "metadata": {},
   "source": [
    "# 4- Synchronization:\n",
    "When multiple threads access shared resources, synchronization mechanisms are necessary to prevent data corruption and race conditions(below explained). The threading module provides various synchronization primitives, such as locks and semaphores, to coordinate thread access to shared data."
   ]
  },
  {
   "cell_type": "code",
   "execution_count": 5,
   "metadata": {},
   "outputs": [
    {
     "name": "stderr",
     "output_type": "stream",
     "text": [
      "Exception in thread Exception in thread Thread-11 (deposit):\n",
      "Traceback (most recent call last):\n",
      "  File \"c:\\Users\\Laptop Market - LTM\\AppData\\Local\\Programs\\Python\\Python312\\Lib\\threading.py\", line 1052, in _bootstrap_inner\n",
      "Thread-10 (deposit):\n",
      "Traceback (most recent call last):\n",
      "  File \"c:\\Users\\Laptop Market - LTM\\AppData\\Local\\Programs\\Python\\Python312\\Lib\\threading.py\", line 1052, in _bootstrap_inner\n",
      "    self.run()\n",
      "  File \"c:\\Users\\Laptop Market - LTM\\AppData\\Local\\Programs\\Python\\Python312\\Lib\\threading.py\", line 989, in run\n",
      "    self.run()\n",
      "  File \"c:\\Users\\Laptop Market - LTM\\AppData\\Local\\Programs\\Python\\Python312\\Lib\\threading.py\", line 989, in run\n",
      "    self._target(*self._args, **self._kwargs)\n",
      "  File \"C:\\Users\\Laptop Market - LTM\\AppData\\Local\\Temp\\ipykernel_11392\\3741233492.py\", line 4, in deposit\n",
      "    self._target(*self._args, **self._kwargs)\n",
      "  File \"C:\\Users\\Laptop Market - LTM\\AppData\\Local\\Temp\\ipykernel_11392\\3741233492.py\", line 4, in deposit\n",
      "AttributeError: 'dict' object has no attribute 'balance'\n",
      "AttributeError: 'dict' object has no attribute 'balance'\n"
     ]
    },
    {
     "name": "stdout",
     "output_type": "stream",
     "text": [
      "0\n"
     ]
    }
   ],
   "source": [
    "import threading\n",
    "\n",
    "def deposit(account: dict, amount: int):      \n",
    "    account.balance += amount               # balance i a key of dict\n",
    "\n",
    "account = {'balance': 0}\n",
    "\n",
    "thread1 = threading.Thread(target=deposit, args=(account, 100))\n",
    "thread2 = threading.Thread(target=deposit, args=(account, 50))\n",
    "\n",
    "thread1.start()\n",
    "thread2.start()\n",
    "\n",
    "thread1.join()\n",
    "thread2.join()\n",
    "\n",
    "print(account['balance'])  # Output: 150"
   ]
  },
  {
   "cell_type": "markdown",
   "metadata": {},
   "source": [
    "This code defines a function called `deposit` that takes two arguments: an `account` dictionary and an `amount` integer. The function adds the `amount` to the `balance` key in the `account` dictionary.\n",
    "\n",
    "The code then creates a dictionary called `account` with a `balance` key set to 0. It creates two threads using the `Thread` class from the `threading` module and passes the `deposit` function and the `account` dictionary as arguments to each thread. The threads are started using the `start` method.\n",
    "\n",
    "The code then waits for both threads to finish using the `join` method. Finally, it prints the value of the `balance` key in the `account` dictionary, which should be 150 (the sum of the two deposit amounts).\n",
    "\n",
    "Overall, the code demonstrates how to use threads in Python to execute multiple tasks concurrently."
   ]
  },
  {
   "cell_type": "markdown",
   "metadata": {},
   "source": [
    "# 5- Thread Pools:\n",
    "For managing a pool of worker threads that can be reused for various tasks, the threading module provides the ThreadPoolExecutor class. This can be more efficient than creating individual threads for each task."
   ]
  },
  {
   "cell_type": "code",
   "execution_count": null,
   "metadata": {},
   "outputs": [],
   "source": [
    "import threading\n",
    "from concurrent.futures import ThreadPoolExecutor\n",
    "\n",
    "def process_data(data):\n",
    "    # Process the data\n",
    "    pass\n",
    "\n",
    "with ThreadPoolExecutor(max_workers=4) as executor:\n",
    "    executor.submit(process_data, data1)  # Submit tasks to the thread pool\n",
    "    executor.submit(process_data, data2)\n",
    "    executor.submit(process_data, data3)"
   ]
  },
  {
   "cell_type": "markdown",
   "metadata": {},
   "source": [
    "These examples demonstrate the basic usage of the threading module in Python for creating, managing, and synchronizing threads. Threads can be a powerful tool for improving the performance and responsiveness of applications that involve concurrent tasks or I/O operations."
   ]
  },
  {
   "cell_type": "markdown",
   "metadata": {},
   "source": [
    "# race condition\n",
    "A race condition in Python occurs when two or more threads attempt to modify the same data concurrently without proper synchronization. This can lead to unpredictable and erroneous behavior, as the outcome of the program depends on the timing of the thread execution."
   ]
  },
  {
   "cell_type": "markdown",
   "metadata": {},
   "source": [
    "Race conditions can happen in various situations, such as:\n",
    "\n",
    "# 1- Shared Variables:\n",
    " When multiple threads access and modify a shared variable without proper synchronization, the final value of the variable depends on the order in which the threads update it.\n",
    "\n",
    "# 2- Global Variables:\n",
    " Global variables are shared across all threads in a program, making them vulnerable to race conditions if accessed and modified by multiple threads.\n",
    "\n",
    "# 3- I/O Operations:\n",
    " Race conditions can also occur when multiple threads access and modify I/O resources, such as files or network sockets, without proper synchronization."
   ]
  },
  {
   "cell_type": "markdown",
   "metadata": {},
   "source": [
    "Here's an example of a race condition involving a shared variable:"
   ]
  },
  {
   "cell_type": "code",
   "execution_count": 2,
   "metadata": {},
   "outputs": [
    {
     "name": "stdout",
     "output_type": "stream",
     "text": [
      "20000\n"
     ]
    }
   ],
   "source": [
    "import threading\n",
    "\n",
    "shared_counter = 0\n",
    "\n",
    "def increment_counter():\n",
    "    global shared_counter\n",
    "    for _ in range(10000):\n",
    "        shared_counter += 1\n",
    "\n",
    "thread1 = threading.Thread(target=increment_counter)\n",
    "thread2 = threading.Thread(target=increment_counter)\n",
    "\n",
    "thread1.start()\n",
    "thread2.start()\n",
    "\n",
    "thread1.join()\n",
    "thread2.join()\n",
    "\n",
    "print(shared_counter)  # Output: unpredictable value between 0 and 20000"
   ]
  },
  {
   "cell_type": "markdown",
   "metadata": {},
   "source": [
    "In this example, two threads are simultaneously incrementing the shared_counter variable 10000 times each. The final value of the variable depends on the timing of the thread executions, leading to an unpredictable outcome."
   ]
  },
  {
   "cell_type": "markdown",
   "metadata": {},
   "source": [
    "To prevent race conditions, synchronization mechanisms such as locks or semaphores are used to ensure that threads access and modify shared resources in a controlled manner. These mechanisms prevent concurrent access and ensure that one thread completes its operation on a shared resource before another thread accesses it."
   ]
  },
  {
   "cell_type": "markdown",
   "metadata": {},
   "source": [
    "# Event class of threading\n",
    "In Python, the Event class from the threading module is a synchronization primitive used for inter-thread communication. It allows one thread to signal an event, notifying other waiting threads to proceed with their execution. This mechanism is useful for coordinating thread activities and ensuring that certain tasks are performed in a specific order."
   ]
  },
  {
   "cell_type": "markdown",
   "metadata": {},
   "source": [
    "he Event class provides two primary methods:\n",
    "\n",
    "1- set(): This method sets the internal flag of the event to true, indicating that the event has occurred. Any threads waiting on the event will be notified and awakened.\n",
    "\n",
    "2- wait(): This method blocks the calling thread until the event flag is set to true. Once the event is set, the waiting thread resumes execution."
   ]
  },
  {
   "cell_type": "markdown",
   "metadata": {},
   "source": [
    "Here's an example of how to use the Event class to synchronize two threads:"
   ]
  },
  {
   "cell_type": "code",
   "execution_count": 3,
   "metadata": {},
   "outputs": [],
   "source": [
    "import threading\n",
    "\n",
    "event = threading.Event()\n",
    "\n",
    "def thread1_function():\n",
    "    # Perform some task\n",
    "    event.set()  # Signal the event\n",
    "\n",
    "def thread2_function():\n",
    "    event.wait()  # Wait for the event to be set\n",
    "    # Perform some task\n",
    "\n",
    "thread1 = threading.Thread(target=thread1_function)\n",
    "thread2 = threading.Thread(target=thread2_function)\n",
    "\n",
    "thread1.start()\n",
    "thread2.start()\n",
    "\n",
    "thread1.join()\n",
    "thread2.join()"
   ]
  },
  {
   "cell_type": "markdown",
   "metadata": {},
   "source": [
    "In this example, thread1 performs some task and then signals the event using event.set(). This notifies thread2, which has been waiting on the event using event.wait(). Once thread2 receives the notification, it proceeds to perform its task. This ensures that thread2's task is executed only after thread1's task is completed."
   ]
  },
  {
   "cell_type": "markdown",
   "metadata": {},
   "source": [
    "The Event class is a versatile tool for thread synchronization in Python. It provides a simple and efficient way to signal events and coordinate thread execution, ensuring that tasks are performed in the desired order."
   ]
  },
  {
   "cell_type": "markdown",
   "metadata": {},
   "source": [
    "# Lock class in threading module\n",
    "n Python, the Lock class from the threading module is a synchronization primitive used for managing access to shared resources in multithreaded applications. It ensures that only one thread can access a critical section of code at a time, preventing race conditions and data corruption."
   ]
  },
  {
   "cell_type": "markdown",
   "metadata": {},
   "source": [
    "The Lock class has two primary methods:\n",
    "\n",
    "1- acquire(): This method attempts to acquire the lock. If the lock is not already acquired by another thread, the calling thread acquires the lock and can proceed to access the critical section.\n",
    "\n",
    "2- release(): This method releases the lock, allowing other threads to acquire it and access the critical section."
   ]
  },
  {
   "cell_type": "markdown",
   "metadata": {},
   "source": [
    "Here's an example of how to use the Lock class to protect a shared variable from concurrent access:"
   ]
  },
  {
   "cell_type": "code",
   "execution_count": null,
   "metadata": {},
   "outputs": [],
   "source": [
    "import threading\n",
    "\n",
    "shared_counter = 0\n",
    "lock = threading.Lock()\n",
    "\n",
    "def increment_counter():\n",
    "    global shared_counter\n",
    "    for _ in range(10000):\n",
    "        with lock:\n",
    "            shared_counter += 1\n",
    "\n",
    "thread1 = threading.Thread(target=increment_counter)\n",
    "thread2 = threading.Thread(target=increment_counter)\n",
    "\n",
    "thread1.start()\n",
    "thread2.start()\n",
    "\n",
    "thread1.join()\n",
    "thread2.join()\n",
    "\n",
    "print(shared_counter)  # Output: 20000 (expected value)"
   ]
  },
  {
   "cell_type": "markdown",
   "metadata": {},
   "source": [
    "In this example, the lock object is used to protect the shared_counter variable from concurrent access by multiple threads. Each thread acquires the lock before incrementing the counter, preventing race conditions and ensuring that the final value of the counter is accurate."
   ]
  },
  {
   "cell_type": "markdown",
   "metadata": {},
   "source": [
    "The Lock class is an essential tool for thread synchronization in Python. It provides a straightforward mechanism to protect shared resources from concurrent access, ensuring data integrity and preventing unpredictable behavior in multithreaded applications."
   ]
  }
 ],
 "metadata": {
  "kernelspec": {
   "display_name": "Python 3",
   "language": "python",
   "name": "python3"
  },
  "language_info": {
   "codemirror_mode": {
    "name": "ipython",
    "version": 3
   },
   "file_extension": ".py",
   "mimetype": "text/x-python",
   "name": "python",
   "nbconvert_exporter": "python",
   "pygments_lexer": "ipython3",
   "version": "3.12.0"
  }
 },
 "nbformat": 4,
 "nbformat_minor": 2
}
