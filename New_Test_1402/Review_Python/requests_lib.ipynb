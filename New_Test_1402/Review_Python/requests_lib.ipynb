{
 "cells": [
  {
   "cell_type": "markdown",
   "metadata": {},
   "source": [
    "# requests library\n",
    "# client-server system"
   ]
  },
  {
   "cell_type": "code",
   "execution_count": null,
   "metadata": {},
   "outputs": [],
   "source": [
    "import requests\n",
    "\n",
    "request_get = requests.get('https://faradars.org')\n",
    "print(f\"Response is : {request_get}\\n\")\n",
    "print(f\"Code Response is : {request_get.status_code}\\n\")\n",
    "print(f\"Response is ok or not  : {request_get.ok}\\n\")\n",
    "print(f\"HTML Code is : {request_get.text}\\n\")\n",
    "print(f\"Content is : {request_get.content}\\n\")"
   ]
  }
 ],
 "metadata": {
  "kernelspec": {
   "display_name": "Python 3",
   "language": "python",
   "name": "python3"
  },
  "language_info": {
   "codemirror_mode": {
    "name": "ipython",
    "version": 3
   },
   "file_extension": ".py",
   "mimetype": "text/x-python",
   "name": "python",
   "nbconvert_exporter": "python",
   "pygments_lexer": "ipython3",
   "version": "3.12.0"
  }
 },
 "nbformat": 4,
 "nbformat_minor": 2
}
