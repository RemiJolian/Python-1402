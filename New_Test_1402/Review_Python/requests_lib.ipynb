{
 "cells": [
  {
   "cell_type": "markdown",
   "metadata": {},
   "source": [
    "# requests library\n",
    "# client-server system"
   ]
  },
  {
   "cell_type": "code",
   "execution_count": null,
   "metadata": {},
   "outputs": [],
   "source": [
    "import requests\n",
    "import json\n",
    "\n",
    "request_get = requests.get('https://faradars.org')\n",
    "print(type(request_get))\n",
    "print(f\"Response is : {request_get}\\n\")\n",
    "print(f\"Code Response is : {request_get.status_code}\\n\")\n",
    "print(f\"Response is ok or not  : {request_get.ok}\\n\")\n",
    "print(f\"HTML Code is : {request_get.text}\\n\")\n",
    "print(f\"Content is : {request_get.content}\\n\")\n",
    "print(f\"the method is : {request_get.request}\\n\")\n",
    "print(f\"json is : {request_get.json()}\\n\")"
   ]
  },
  {
   "cell_type": "code",
   "execution_count": null,
   "metadata": {},
   "outputs": [],
   "source": [
    "import requests\n",
    "\n",
    "\n",
    "# Make an HTTP GET request\n",
    "response = requests.get('https://httpbin.org')\n",
    "\n",
    "# Check if the request was successful\n",
    "if response.status_code == 200:\n",
    "    # Parse the JSON response\n",
    "    data = response.json()\n",
    "    print(data)\n",
    "else:\n",
    "    print(f\"Failed to retrieve data: {response.status_code} - {response.reason}\")"
   ]
  },
  {
   "cell_type": "code",
   "execution_count": null,
   "metadata": {},
   "outputs": [],
   "source": [
    "import requests\n",
    "import json\n",
    "\n",
    "# Make an HTTP GET request\n",
    "response = requests.get('https://httpbin.org')\n",
    "\n",
    "# Print the status code and reason\n",
    "print(f\"Status code: {response.status_code}\")\n",
    "print(f\"Reason: {response.reason}\")\n",
    "\n",
    "# Check if the request was successful\n",
    "if response.status_code == 200:\n",
    "    # Parse the JSON response\n",
    "    data = response.json()\n",
    "    print(data)\n",
    "else:\n",
    "    print(f\"Failed to retrieve data: {response.status_code} - {response.reason}\")\n"
   ]
  },
  {
   "cell_type": "code",
   "execution_count": 37,
   "metadata": {},
   "outputs": [
    {
     "name": "stdout",
     "output_type": "stream",
     "text": [
      "B\n"
     ]
    }
   ],
   "source": [
    "s = {1, 2, 3}\n",
    "if len(s) in [0, 1]:\n",
    "    print('A')\n",
    "else:\n",
    "    print('B')\n"
   ]
  },
  {
   "cell_type": "markdown",
   "metadata": {},
   "source": [
    "# Quiz_Quera: ketabkhaneh darham"
   ]
  },
  {
   "cell_type": "code",
   "execution_count": null,
   "metadata": {},
   "outputs": [],
   "source": [
    "import requests\n",
    "\n",
    "def process(url):\n",
    "    resp1 = requests.get(url)\n",
    "    json_file = resp1.json()\n",
    "\n",
    "    try:\n",
    "        if resp1.status_code == 200:\n",
    "            cat_set = set()\n",
    "            for ch in json_file:\n",
    "                cat_set.add(ch[\"category\"])\n",
    "\n",
    "            if len(cat_set) == 1:\n",
    "                return list(cat_set)[0]\n",
    "            else:\n",
    "                return \"I can't recognize it\"\n",
    "    except:\n",
    "        return \"Bad Query\""
   ]
  },
  {
   "cell_type": "code",
   "execution_count": null,
   "metadata": {},
   "outputs": [],
   "source": [
    "import requests\n",
    "\n",
    "def process(url):\n",
    "    resp1 = requests.get(url)\n",
    "    json_file = resp1.json()\n",
    "\n",
    "    try:\n",
    "        if resp1.status_code == 200:\n",
    "            pass\n",
    "    except:\n",
    "        return \"Bad Query\"\n",
    "\n",
    "    cat_set = set()\n",
    "    for ch in json_file:\n",
    "        cat_set.add(ch[\"category\"])\n",
    "\n",
    "    if len(cat_set) == 1:\n",
    "        return list(cat_set)[0]\n",
    "    else:\n",
    "        return \"I can't recognize it\"\n"
   ]
  }
 ],
 "metadata": {
  "kernelspec": {
   "display_name": "Python 3",
   "language": "python",
   "name": "python3"
  },
  "language_info": {
   "codemirror_mode": {
    "name": "ipython",
    "version": 3
   },
   "file_extension": ".py",
   "mimetype": "text/x-python",
   "name": "python",
   "nbconvert_exporter": "python",
   "pygments_lexer": "ipython3",
   "version": "3.12.0"
  }
 },
 "nbformat": 4,
 "nbformat_minor": 2
}
