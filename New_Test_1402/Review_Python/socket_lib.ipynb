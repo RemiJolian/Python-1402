{
 "cells": [
  {
   "cell_type": "markdown",
   "metadata": {},
   "source": [
    "# Socket Programing\n",
    "- Connect some client(pc, ...) through IP and Port, by socket standard library in python"
   ]
  },
  {
   "cell_type": "markdown",
   "metadata": {},
   "source": [
    "# Here is a simple example of socket programming in Python:"
   ]
  },
  {
   "cell_type": "code",
   "execution_count": null,
   "metadata": {},
   "outputs": [],
   "source": [
    "import socket\n",
    "\n",
    "# create a socket object\n",
    "server_socket = socket.socket(socket.AF_INET, socket.SOCK_STREAM)\n",
    "\n",
    "# get local machine name\n",
    "host = socket.gethostname()\n",
    "\n",
    "# bind the socket to a public host and a well-known port\n",
    "server_socket.bind((host, 9999))\n",
    "\n",
    "# listen for incoming connections\n",
    "server_socket.listen(1)\n",
    "\n",
    "# wait for a connection\n",
    "print('Waiting for a connection...')\n",
    "client_socket, addr = server_socket.accept()\n",
    "\n",
    "# print the address of the client\n",
    "print('Connection from:', addr)\n",
    "\n",
    "# send a message to the client\n",
    "message = 'Thank you for connecting'\n",
    "client_socket.send(message.encode('ascii'))\n",
    "\n",
    "# close the connection\n",
    "client_socket.close()"
   ]
  },
  {
   "cell_type": "markdown",
   "metadata": {},
   "source": [
    "This code creates a socket object, binds it to a host and port, listens for incoming connections, and waits for a client to connect. Once a client connects, it prints the client's address, sends a message to the client, and closes the connection.\n",
    "\n",
    "The socket() function creates a new socket object. The AF_INET parameter specifies the address family, which is IPv4 in this case. The SOCK_STREAM parameter specifies the socket type, which is TCP in this case.\n",
    "\n",
    "The bind() function binds the socket to a specific address and port. In this example, it binds the socket to the local machine and port 9999\n",
    "\n",
    "The listen() function puts the socket into listening mode, waiting for incoming connections. The parameter specifies the maximum number of queued connections.\n",
    "\n",
    "The accept() function accepts a connection from a client and returns a new socket object \n",
    "for communication. The addr variable contains the address of the client.\n",
    "\n",
    "The send() function sends a message to the client.\n",
    "The encode() function converts the message to bytes, which is required for sending over the network.\n",
    "Finally, the close() function closes the connection.\n",
    "\n",
    "This is a very simple example of socket programming in Python. There are many more functions and options available in the socket module for more complex applications."
   ]
  }
 ],
 "metadata": {
  "language_info": {
   "name": "python"
  }
 },
 "nbformat": 4,
 "nbformat_minor": 2
}
