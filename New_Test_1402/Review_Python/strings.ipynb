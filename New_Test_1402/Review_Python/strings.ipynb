{
 "cells": [
  {
   "cell_type": "markdown",
   "metadata": {},
   "source": [
    "Review string, in Quera course:"
   ]
  },
  {
   "cell_type": "markdown",
   "metadata": {},
   "source": [
    "strings is immutable and change by-value:"
   ]
  },
  {
   "cell_type": "code",
   "execution_count": null,
   "metadata": {},
   "outputs": [],
   "source": [
    "hf"
   ]
  },
  {
   "cell_type": "code",
   "execution_count": 1,
   "metadata": {},
   "outputs": [
    {
     "data": {
      "text/plain": [
       "'salam'"
      ]
     },
     "execution_count": 1,
     "metadata": {},
     "output_type": "execute_result"
    }
   ],
   "source": [
    "s1 = 'salam'\n",
    "s2 = s1\n",
    "s2 = 'by'\n",
    "s1"
   ]
  },
  {
   "cell_type": "code",
   "execution_count": null,
   "metadata": {},
   "outputs": [],
   "source": [
    "s = 'salam'\n",
    "s * 2\n",
    "t = ' Hi '\n",
    "t + s\n",
    "print(s[0])\n",
    "print(s[1:3])\n",
    "print(s[1:])\n",
    "print(s[:3])\n",
    "print(s[:])\n",
    "print(s[-3:-1])\n",
    "print(s[:-1])\n",
    "\n",
    "print('len s :',len(s))\n",
    "print(s.lower())\n",
    "print(s.upper())\n",
    "print(s.isalpha())\n",
    "print(s.isdigit())\n",
    "print(s.zfill(9))  # zero added until length = 9\n"
   ]
  },
  {
   "cell_type": "markdown",
   "metadata": {},
   "source": [
    "other functions"
   ]
  },
  {
   "cell_type": "code",
   "execution_count": 44,
   "metadata": {},
   "outputs": [
    {
     "name": "stdout",
     "output_type": "stream",
     "text": [
      "4\n",
      "1\n",
      "Ki_everyone_Are u OK?\n",
      "['Hi_ever', 'one_Are u OK?']\n",
      "['Hello', 'word']\n",
      "Hi_everyone_Are X OK?\n",
      "HI_EVERYONE_ARE X OK?\n",
      "Hi_everyone_Are u OK?\n"
     ]
    }
   ],
   "source": [
    "s = 'Hi_everyone_Are u OK?'\n",
    "print(s.count('e'))\n",
    "print(s.find('i'))\n",
    "print(s.replace('H','K')) # replace\n",
    "print(s.split('y')) #split the string before and after 'y'\n",
    "print('Hello word'.split(' '))\n",
    "print(s.replace('u','X'))\n",
    "print(s.replace('u','X').upper())\n",
    "print(s)\n"
   ]
  },
  {
   "cell_type": "code",
   "execution_count": null,
   "metadata": {},
   "outputs": [],
   "source": [
    "s = 'spartacus'\n",
    "print(s.removeprefix('s'))\n",
    "print(s.removeprefix('tac')) # only remove at beginning of the string\n",
    "print(s.removesuffix('s'))\n",
    "print(s.removesuffix('s'))\n",
    "print(s.removesuffix('kus'))\n"
   ]
  },
  {
   "cell_type": "markdown",
   "metadata": {},
   "source": [
    "Queiz ESMHa, Karim:"
   ]
  },
  {
   "cell_type": "code",
   "execution_count": 41,
   "metadata": {},
   "outputs": [
    {
     "name": "stdout",
     "output_type": "stream",
     "text": [
      "9\n"
     ]
    }
   ],
   "source": [
    "n = int(input())\n",
    "len_max = 0\n",
    "for i in range(n):\n",
    "    name = input()\n",
    "    name_s = ''\n",
    "    for ch in name:\n",
    "        if ch not in name_s:\n",
    "            name_s += ch\n",
    "    result = len(name_s)\n",
    "    if result > len_max:\n",
    "        len_max = result\n",
    "print(len_max)"
   ]
  },
  {
   "cell_type": "markdown",
   "metadata": {},
   "source": [
    "solution 2:"
   ]
  },
  {
   "cell_type": "code",
   "execution_count": 42,
   "metadata": {},
   "outputs": [
    {
     "name": "stdout",
     "output_type": "stream",
     "text": [
      "7\n"
     ]
    }
   ],
   "source": [
    "n = int(input())\n",
    "names = []\n",
    "max = 0          \n",
    "for i in range(n):\n",
    "    name = input()\n",
    "    names.append(name)\n",
    "for i in names:\n",
    "  c = 0\n",
    "  s = []\n",
    "  for j in range(len(i)):\n",
    "     if i[j] not in s:\n",
    "        s.append(i[j])\n",
    "        c += 1\n",
    "  s = []\n",
    "  if max <= c:\n",
    "    max = c\n",
    "\n",
    "print(max)"
   ]
  },
  {
   "cell_type": "markdown",
   "metadata": {},
   "source": [
    "solution 3:"
   ]
  },
  {
   "cell_type": "code",
   "execution_count": 43,
   "metadata": {},
   "outputs": [
    {
     "name": "stdout",
     "output_type": "stream",
     "text": [
      "5\n"
     ]
    }
   ],
   "source": [
    "n = int(input())\n",
    "len_max = 0\n",
    "names = []\n",
    "for i in range(n):\n",
    "    name = input()\n",
    "    names.append(name)\n",
    "for ch in names:\n",
    "    set_new = set(name)\n",
    "    c = len(set_new)\n",
    "    if len_max < c:\n",
    "        len_max = c\n",
    "print(len_max)"
   ]
  },
  {
   "cell_type": "markdown",
   "metadata": {},
   "source": [
    "Ramz, GawSandogh:"
   ]
  },
  {
   "cell_type": "code",
   "execution_count": null,
   "metadata": {},
   "outputs": [],
   "source": [
    "count_r = 0\n",
    "k = int(input())      # 3\n",
    "nums = []               \n",
    "pass_k = input()    # pass_k = '325'\n",
    "\n",
    "for i in range(k):    \n",
    "    num = input()\n",
    "    nums.append(num)   # nums = ['567891234', 123456789, 891234567]\n",
    "    index = nums[i].find(pass_k[i])\n",
    "    print(index)\n",
    "    if index >=5 :\n",
    "        count_r += 9 - index\n",
    "    else:\n",
    "        count_r += index                     \n",
    "print('ans', count_r)                \n",
    "    "
   ]
  },
  {
   "cell_type": "code",
   "execution_count": 63,
   "metadata": {},
   "outputs": [
    {
     "data": {
      "text/plain": [
       "7"
      ]
     },
     "execution_count": 63,
     "metadata": {},
     "output_type": "execute_result"
    }
   ],
   "source": [
    "nums = ['567891234', '123456789', '891234567']\n",
    "s = '3'\n",
    "nums[0].find(s)"
   ]
  },
  {
   "cell_type": "markdown",
   "metadata": {},
   "source": [
    "pss_klid_gawsandoq"
   ]
  },
  {
   "cell_type": "code",
   "execution_count": null,
   "metadata": {},
   "outputs": [],
   "source": [
    "k = int(input())\n",
    "code = input()\n",
    "ans = 0\n",
    "for i in code:\n",
    "\tdial = input()\n",
    "\tmoves = dial.find(i)\n",
    "\tans = ans + min(moves, 9 - moves)\n",
    "print(ans)"
   ]
  },
  {
   "cell_type": "markdown",
   "metadata": {},
   "source": [
    "and this"
   ]
  },
  {
   "cell_type": "code",
   "execution_count": null,
   "metadata": {},
   "outputs": [],
   "source": [
    "k = int(input())             \n",
    "password = input()            \n",
    "nums = []\n",
    "ans = 0\n",
    "for i in range(len(k)):\n",
    "  nums.append(input())    \n",
    "for i in range(k):\n",
    "  for j in range(9):\n",
    "    if password[i] == nums[i][j]:\n",
    "      break\n",
    "  if j > 9//2:\n",
    "    ans += 9 - j\n",
    "  else:\n",
    "    ans += j\n",
    "print(ans)\n"
   ]
  },
  {
   "cell_type": "markdown",
   "metadata": {},
   "source": [
    "solution 2:"
   ]
  },
  {
   "cell_type": "code",
   "execution_count": null,
   "metadata": {},
   "outputs": [],
   "source": [
    "k = int(input())\n",
    "r = input()\n",
    "t = 0\n",
    "for i in range(k):\n",
    "    c = input()\n",
    "    p = c.find(r[i])\n",
    "    p = min(p,9-p)\n",
    "    t = t + p\n",
    "print(t)"
   ]
  },
  {
   "cell_type": "markdown",
   "metadata": {},
   "source": [
    "and this solution:"
   ]
  },
  {
   "cell_type": "code",
   "execution_count": null,
   "metadata": {},
   "outputs": [],
   "source": [
    "k = int(input())\n",
    "code = int(input())\n",
    "rotator_list = list()\n",
    "moves = 0\n",
    "rotater = 0\n",
    "for i in range(k):\n",
    "    new_rotator = input()\n",
    "    rotator_list.append(new_rotator)\n",
    "for code in str(code):\n",
    "    moves += (min(rotator_list[rotater].find(code),9-rotator_list[rotater].find(code)))\n",
    "    rotater += 1\n",
    "print(moves)"
   ]
  },
  {
   "cell_type": "markdown",
   "metadata": {},
   "source": [
    "string formatting"
   ]
  },
  {
   "cell_type": "code",
   "execution_count": 5,
   "metadata": {},
   "outputs": [
    {
     "data": {
      "text/plain": [
       "'age: 18, Heigh: 181, gender: m'"
      ]
     },
     "execution_count": 5,
     "metadata": {},
     "output_type": "execute_result"
    }
   ],
   "source": [
    "# use f\n",
    "age = 18\n",
    "heigh = 181\n",
    "gender = 'm'\n",
    "s = f'age: {age}, Heigh: {heigh}, gender: {gender}'\n",
    "s"
   ]
  },
  {
   "cell_type": "code",
   "execution_count": 8,
   "metadata": {},
   "outputs": [
    {
     "data": {
      "text/plain": [
       "'var = 33'"
      ]
     },
     "execution_count": 8,
     "metadata": {},
     "output_type": "execute_result"
    }
   ],
   "source": [
    "var = 33\n",
    "f'{var = }'"
   ]
  },
  {
   "cell_type": "markdown",
   "metadata": {},
   "source": [
    "use %:"
   ]
  },
  {
   "cell_type": "code",
   "execution_count": 5,
   "metadata": {},
   "outputs": [
    {
     "name": "stdout",
     "output_type": "stream",
     "text": [
      "Hello Baran!\n"
     ]
    }
   ],
   "source": [
    "greeting = \"Hello %s!\"\n",
    "name = input(\"Please enter your name:\")\n",
    "print(greeting % name)"
   ]
  },
  {
   "cell_type": "code",
   "execution_count": null,
   "metadata": {},
   "outputs": [],
   "source": [
    "greeting = 'Hello %s with %d years old'\n",
    "name = input('inter ur name:')\n",
    "age = int(input('enter ur age:'))\n",
    "print(greeting % (name, age))"
   ]
  },
  {
   "cell_type": "markdown",
   "metadata": {},
   "source": [
    "Use % for x digit decimal:"
   ]
  },
  {
   "cell_type": "code",
   "execution_count": 12,
   "metadata": {},
   "outputs": [
    {
     "name": "stdout",
     "output_type": "stream",
     "text": [
      "2.33\n"
     ]
    }
   ],
   "source": [
    "a = 2.32546987\n",
    "print('%.2f'%a)"
   ]
  },
  {
   "cell_type": "markdown",
   "metadata": {},
   "source": [
    "function format():"
   ]
  },
  {
   "cell_type": "code",
   "execution_count": 15,
   "metadata": {},
   "outputs": [
    {
     "name": "stdout",
     "output_type": "stream",
     "text": [
      "Hi Baran with 3 years old\n"
     ]
    }
   ],
   "source": [
    "greeting = 'Hi {} with {} years old'\n",
    "name = input('inter ur name:')\n",
    "age = int(input('inter ur age:'))\n",
    "print(greeting.format(name,age))"
   ]
  },
  {
   "cell_type": "markdown",
   "metadata": {},
   "source": [
    "other module in this function, .format():"
   ]
  },
  {
   "cell_type": "code",
   "execution_count": 17,
   "metadata": {},
   "outputs": [
    {
     "name": "stdout",
     "output_type": "stream",
     "text": [
      "+241.1 -124.21 +0\n",
      "122.000 33.222\n",
      "-100010 10101\n",
      "f1 7c\n",
      "361 174\n",
      "00000012 11121.12 312\n"
     ]
    }
   ],
   "source": [
    "print(\"{:+} {:+} {:+}\".format(241.1, -124.21, 0))    # add '+' to positive and zero num\n",
    "\n",
    "print(\"{:.3f} {:.3f}\".format(122, 33.22191))         # 3 decimal digit\n",
    "\n",
    "print(\"{:b} {:b}\".format(-34, 21))                      # عدد  به مبنای ۲ برده و آن را در رشته می‌ریزد\n",
    "\n",
    "print(\"{:x} {:x}\".format(241, 124))                     # hexadecimal representation \n",
    "\n",
    "print(\"{:o} {:o}\".format(241, 124))                     # Octal Representation - نمایش در مبنای 8\n",
    "\n",
    "print(\"{:0=8} {:1=8} {:2=2}\".format(12, 21.12, 312))   # add x (x=y) in beginning of string until length = y\n"
   ]
  },
  {
   "cell_type": "markdown",
   "metadata": {},
   "source": [
    "for hexadecimal representation we can use .format() or hexa():"
   ]
  },
  {
   "cell_type": "code",
   "execution_count": 18,
   "metadata": {},
   "outputs": [
    {
     "name": "stdout",
     "output_type": "stream",
     "text": [
      "f1 7c\n"
     ]
    }
   ],
   "source": [
    "print(\"{:x} {:x}\".format(241, 124)) \n"
   ]
  },
  {
   "cell_type": "code",
   "execution_count": 20,
   "metadata": {},
   "outputs": [
    {
     "name": "stdout",
     "output_type": "stream",
     "text": [
      "0xf1 0x7c\n"
     ]
    }
   ],
   "source": [
    "a = 241\n",
    "b = 124\n",
    "print(hex(a), hex(b))"
   ]
  },
  {
   "cell_type": "markdown",
   "metadata": {},
   "source": [
    "for octal representation of integers we can use .format() or oct():"
   ]
  },
  {
   "cell_type": "code",
   "execution_count": null,
   "metadata": {},
   "outputs": [],
   "source": [
    "a = 241\n",
    "b = 124\n",
    "print(oct(a), oct(b))"
   ]
  },
  {
   "cell_type": "markdown",
   "metadata": {},
   "source": [
    "also see these applications:"
   ]
  },
  {
   "cell_type": "code",
   "execution_count": null,
   "metadata": {},
   "outputs": [],
   "source": [
    "print(\"Hello {0} with {1} years old!\".format(\"Ali\", \"23\"))\n",
    "\n",
    "print(\"Hello {name} with {age} years old!\".format(name = \"Ali\", age = \"23\"))\n",
    "\n",
    "print(\"Hello {0} with {age} years old!\".format(\"Ali\", age = \"23\"))\n"
   ]
  },
  {
   "cell_type": "markdown",
   "metadata": {},
   "source": [
    "and:"
   ]
  },
  {
   "cell_type": "code",
   "execution_count": null,
   "metadata": {},
   "outputs": [],
   "source": [
    "print(\"{0:.3f} {0:+}\".format(23.12))\n",
    "\n",
    "print(\"{num:.3f} {num:+}\".format(num=23.12))\n"
   ]
  },
  {
   "cell_type": "markdown",
   "metadata": {},
   "source": [
    "  Queiz: somordane sakht: ur answer code only must be in one line"
   ]
  },
  {
   "cell_type": "markdown",
   "metadata": {},
   "source": [
    "before that a short review"
   ]
  },
  {
   "cell_type": "code",
   "execution_count": 14,
   "metadata": {},
   "outputs": [
    {
     "data": {
      "text/plain": [
       "'0b1110'"
      ]
     },
     "execution_count": 14,
     "metadata": {},
     "output_type": "execute_result"
    }
   ],
   "source": [
    "s = [1, 2, 2, 2, 3, 4]\n",
    "s.count(2)  # 3\n",
    "n = 14\n",
    "bin(n).count('1')   # 1110\n",
    "bin(n)"
   ]
  },
  {
   "cell_type": "markdown",
   "metadata": {},
   "source": [
    "solution 1:"
   ]
  },
  {
   "cell_type": "code",
   "execution_count": 15,
   "metadata": {},
   "outputs": [
    {
     "name": "stdout",
     "output_type": "stream",
     "text": [
      "3\n"
     ]
    }
   ],
   "source": [
    "print(bin(int(input())).count('1'))"
   ]
  },
  {
   "cell_type": "markdown",
   "metadata": {},
   "source": [
    "so 2:"
   ]
  },
  {
   "cell_type": "code",
   "execution_count": 19,
   "metadata": {},
   "outputs": [
    {
     "data": {
      "text/plain": [
       "3"
      ]
     },
     "execution_count": 19,
     "metadata": {},
     "output_type": "execute_result"
    }
   ],
   "source": [
    "'{:b}'.format(14)   # '1110'\n",
    "'{:b}'.format(14).count('1')"
   ]
  },
  {
   "cell_type": "markdown",
   "metadata": {},
   "source": [
    "isalnum() func: alphabet and number only"
   ]
  },
  {
   "cell_type": "code",
   "execution_count": 27,
   "metadata": {},
   "outputs": [
    {
     "name": "stdout",
     "output_type": "stream",
     "text": [
      "True\n",
      "False\n"
     ]
    }
   ],
   "source": [
    "s = 'python3'\n",
    "print(s.isalnum())\n",
    "print('aseman@'.isalnum())"
   ]
  },
  {
   "cell_type": "markdown",
   "metadata": {},
   "source": [
    "**isalpha() : the string must be alpha only, not number or sighn or ...**"
   ]
  },
  {
   "cell_type": "code",
   "execution_count": 28,
   "metadata": {},
   "outputs": [
    {
     "data": {
      "text/plain": [
       "False"
      ]
     },
     "execution_count": 28,
     "metadata": {},
     "output_type": "execute_result"
    }
   ],
   "source": [
    "'abcd123'.isalpha()"
   ]
  },
  {
   "cell_type": "code",
   "execution_count": 2,
   "metadata": {},
   "outputs": [
    {
     "name": "stdout",
     "output_type": "stream",
     "text": [
      "False\n"
     ]
    }
   ],
   "source": [
    "\n",
    "print('\\t'.isspace())"
   ]
  },
  {
   "cell_type": "markdown",
   "metadata": {},
   "source": [
    "**validation, enter a phone number**"
   ]
  },
  {
   "cell_type": "code",
   "execution_count": 16,
   "metadata": {},
   "outputs": [
    {
     "data": {
      "text/plain": [
       "True"
      ]
     },
     "execution_count": 16,
     "metadata": {},
     "output_type": "execute_result"
    }
   ],
   "source": [
    "num = '09126982466'\n",
    "num.isdigit()"
   ]
  },
  {
   "cell_type": "code",
   "execution_count": 21,
   "metadata": {},
   "outputs": [
    {
     "data": {
      "text/plain": [
       "True"
      ]
     },
     "execution_count": 21,
     "metadata": {},
     "output_type": "execute_result"
    }
   ],
   "source": [
    "num = '09126982466'\n",
    "prefixes = ('09', '0098', '+98')\n",
    "num.startswith(prefixes)  # Output: True\n"
   ]
  },
  {
   "cell_type": "code",
   "execution_count": 22,
   "metadata": {},
   "outputs": [
    {
     "data": {
      "text/plain": [
       "True"
      ]
     },
     "execution_count": 22,
     "metadata": {},
     "output_type": "execute_result"
    }
   ],
   "source": [
    "num = '09126982466'\n",
    "len(num) == 11\n"
   ]
  },
  {
   "cell_type": "markdown",
   "metadata": {},
   "source": [
    "**join in list**"
   ]
  },
  {
   "cell_type": "markdown",
   "metadata": {},
   "source": [
    "**The join() method in Python is used to join the elements of an iterable (such as a list, tuple, or set) into a single string. It takes a string separator as a parameter and returns a new string with the elements joined together, separated by the specified separator**"
   ]
  },
  {
   "cell_type": "code",
   "execution_count": null,
   "metadata": {},
   "outputs": [],
   "source": [
    "fruits = ['apple', 'banana', 'cherry']\n",
    "separator = ', '  # comma and space\n",
    "\n",
    "result = separator.join(fruits)\n",
    "print(result)\n",
    "# Output: 'apple, banana, cherry'\n"
   ]
  },
  {
   "cell_type": "code",
   "execution_count": 25,
   "metadata": {},
   "outputs": [
    {
     "data": {
      "text/plain": [
       "'Baran Sara Ava'"
      ]
     },
     "execution_count": 25,
     "metadata": {},
     "output_type": "execute_result"
    }
   ],
   "source": [
    "s = ['Baran', 'Sara', 'Ava']\n",
    "k = ' '.join(s)\n",
    "k"
   ]
  },
  {
   "cell_type": "markdown",
   "metadata": {},
   "source": [
    "**strip()**\n",
    "The strip() method in Python is used to remove characters from the beginning and end of a string.\n"
   ]
  },
  {
   "cell_type": "code",
   "execution_count": 3,
   "metadata": {},
   "outputs": [
    {
     "name": "stdout",
     "output_type": "stream",
     "text": [
      "Hello, world!\n"
     ]
    }
   ],
   "source": [
    "string = \"   Hello, world!   \"\n",
    "print(string.strip())\n"
   ]
  },
  {
   "cell_type": "code",
   "execution_count": 2,
   "metadata": {},
   "outputs": [
    {
     "name": "stdout",
     "output_type": "stream",
     "text": [
      "Hel#lo, world!\n"
     ]
    }
   ],
   "source": [
    "string = \"###Hel#lo, world!###\"\n",
    "print(string.strip(\"#\"))\n"
   ]
  },
  {
   "cell_type": "markdown",
   "metadata": {},
   "source": [
    "**rstrip**\n",
    "The rstrip() method in Python is used to remove trailing characters from the end of a string. By default, it removes whitespace characters from the end of the string."
   ]
  },
  {
   "cell_type": "code",
   "execution_count": 4,
   "metadata": {},
   "outputs": [
    {
     "name": "stdout",
     "output_type": "stream",
     "text": [
      "Hello, world!\n"
     ]
    }
   ],
   "source": [
    "string = \"Hello, world!   \"\n",
    "print(string.rstrip())"
   ]
  },
  {
   "cell_type": "code",
   "execution_count": 6,
   "metadata": {},
   "outputs": [
    {
     "name": "stdout",
     "output_type": "stream",
     "text": [
      "#Hello, world!\n"
     ]
    }
   ],
   "source": [
    "string = \"#Hello, world!###\"\n",
    "print(string.rstrip(\"#\"))"
   ]
  }
 ],
 "metadata": {
  "kernelspec": {
   "display_name": "Python 3",
   "language": "python",
   "name": "python3"
  },
  "language_info": {
   "codemirror_mode": {
    "name": "ipython",
    "version": 3
   },
   "file_extension": ".py",
   "mimetype": "text/x-python",
   "name": "python",
   "nbconvert_exporter": "python",
   "pygments_lexer": "ipython3",
   "version": "3.11.1"
  }
 },
 "nbformat": 4,
 "nbformat_minor": 2
}
