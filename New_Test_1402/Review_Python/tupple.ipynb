{
 "cells": [
  {
   "cell_type": "markdown",
   "metadata": {},
   "source": [
    "**tupple review, Quera**"
   ]
  },
  {
   "cell_type": "code",
   "execution_count": null,
   "metadata": {},
   "outputs": [],
   "source": [
    "t1 = (1, 'AFSANE', 3, 'a,')\n",
    "t1 = 1, 'AFSANE', 3, 'a,'\n",
    "t1 = 1,\n",
    "t1 = (1,)\n",
    "\n"
   ]
  },
  {
   "cell_type": "code",
   "execution_count": 3,
   "metadata": {},
   "outputs": [
    {
     "data": {
      "text/plain": [
       "int"
      ]
     },
     "execution_count": 3,
     "metadata": {},
     "output_type": "execute_result"
    }
   ],
   "source": [
    "# but this is not a tupple:\n",
    "t = (1)\n",
    "type(t)"
   ]
  },
  {
   "cell_type": "code",
   "execution_count": 5,
   "metadata": {},
   "outputs": [
    {
     "data": {
      "text/plain": [
       "int"
      ]
     },
     "execution_count": 5,
     "metadata": {},
     "output_type": "execute_result"
    }
   ],
   "source": [
    "a, b ,c = 1, 2, 3"
   ]
  },
  {
   "cell_type": "code",
   "execution_count": 6,
   "metadata": {},
   "outputs": [
    {
     "data": {
      "text/plain": [
       "(123, 2.5)"
      ]
     },
     "execution_count": 6,
     "metadata": {},
     "output_type": "execute_result"
    }
   ],
   "source": [
    "t = (\"ali\", 123, 2.5)\n",
    "t[1:3]"
   ]
  },
  {
   "cell_type": "code",
   "execution_count": null,
   "metadata": {},
   "outputs": [],
   "source": [
    "t = (\"ali\", 123, 2.5)\n",
    "## error\n",
    "t[0] = 'ava'"
   ]
  },
  {
   "cell_type": "code",
   "execution_count": null,
   "metadata": {},
   "outputs": [],
   "source": [
    "for it in t:\n",
    "    print(it)"
   ]
  },
  {
   "cell_type": "markdown",
   "metadata": {},
   "source": [
    "**important: when use functions and return a list of elements, it is useful to use tupple instead of list, becauase it is immutable:**"
   ]
  },
  {
   "cell_type": "code",
   "execution_count": 16,
   "metadata": {},
   "outputs": [
    {
     "data": {
      "text/plain": [
       "[1, 2, 3, 4]"
      ]
     },
     "execution_count": 16,
     "metadata": {},
     "output_type": "execute_result"
    }
   ],
   "source": [
    "list2 = [1, 2, 3] # use list\n",
    "def f():\n",
    "    return list2\n",
    "#f()\n",
    "#print(f())\n",
    "a = f()\n",
    "a.append(4)\n",
    "f()"
   ]
  },
  {
   "cell_type": "code",
   "execution_count": 20,
   "metadata": {},
   "outputs": [
    {
     "data": {
      "text/plain": [
       "(1, 2, 3)"
      ]
     },
     "execution_count": 20,
     "metadata": {},
     "output_type": "execute_result"
    }
   ],
   "source": [
    "my_tupple = 1, 2, 3   # use tupple\n",
    "def f():\n",
    "    return my_tupple\n",
    "a = f()\n",
    "a = 3, 4\n",
    "my_tupple"
   ]
  },
  {
   "cell_type": "markdown",
   "metadata": {},
   "source": [
    "**Queiz:Mohasebat chantaei**"
   ]
  },
  {
   "cell_type": "code",
   "execution_count": 45,
   "metadata": {},
   "outputs": [
    {
     "data": {
      "text/plain": [
       "(20.25, 24.5, 30)"
      ]
     },
     "execution_count": 45,
     "metadata": {},
     "output_type": "execute_result"
    }
   ],
   "source": [
    "# calculate average-median-maximum\n",
    "def calc(my_list:list) -> tupple\n",
    "    my_list = sorted(list(map(int,input().split())))\n",
    "    ave_list = sum(my_list)/len(my_list)\n",
    "    if len(my_list) % 2 != 0:\n",
    "        median_list = my_list[(len(my_list) + 1)//2] \n",
    "    else:\n",
    "        median_list = (my_list[len(my_list)//2] + my_list[len(my_list)//2 -1])/2\n",
    "    max_list = max(my_list)\n",
    "    return ave_list, median_list, max_list\n",
    "\n",
    "\n",
    "calc(my_list) # 1, 2, 3\n",
    "\n"
   ]
  },
  {
   "cell_type": "code",
   "execution_count": null,
   "metadata": {},
   "outputs": [],
   "source": [
    "a = []\n",
    "def calc(a:list) -> tuple:\n",
    "   a = sorted(a)\n",
    "   max_a = max(a)\n",
    "   ave_a = (sum(a)/len(a))\n",
    "   if len(a) % 2 != 0:\n",
    "       med_a = a[int((len(a) + 1)/2 -1)]\n",
    "   else:\n",
    "       med_a = (a[int(len(a)/2 -1)] + (a[int(len(a)/2)]))/2\n",
    "   ans = (ave_a, med_a, max_a)\n",
    "   return ans\n"
   ]
  },
  {
   "cell_type": "markdown",
   "metadata": {},
   "source": [
    "and this solution"
   ]
  },
  {
   "cell_type": "code",
   "execution_count": null,
   "metadata": {},
   "outputs": [],
   "source": [
    "def calc(a):\n",
    "    avg = sum(a) / len(a)\n",
    "    maxi = max(a)\n",
    "    median = ''\n",
    "    if len(a) % 2 == 0:\n",
    "        index = len(a)//2\n",
    "        median = sum(sorted(a)[index-1:index+1])/2\n",
    "    else:\n",
    "        median = sorted(a)[int(len(a)/2)]\n",
    "    return (avg, median, maxi)"
   ]
  },
  {
   "cell_type": "code",
   "execution_count": null,
   "metadata": {},
   "outputs": [],
   "source": [
    "def calc(a: list) -> tuple:\n",
    "    a.sort()\n",
    "    mianeh = 0\n",
    "    if len(a)%2 ==1:\n",
    "        mianeh = a[int(len(a)/2)]\n",
    "    else:\n",
    "        mianeh = (a[int(len(a)/2)] + a[(int(len(a)/2)-1)])/2\n",
    "    avg = sum(a)/len(a)\n",
    "    maxa = max(a)\n",
    "    return (avg, mianeh, maxa)\n",
    "\n"
   ]
  },
  {
   "cell_type": "markdown",
   "metadata": {},
   "source": [
    "**and see this solution for :mohasebat chan taey**"
   ]
  },
  {
   "cell_type": "code",
   "execution_count": 48,
   "metadata": {},
   "outputs": [
    {
     "data": {
      "text/plain": [
       "(20.25, 24.5, 30)"
      ]
     },
     "execution_count": 48,
     "metadata": {},
     "output_type": "execute_result"
    }
   ],
   "source": [
    "from statistics import median, mean\n",
    "def calc(a:list) -> tuple:\n",
    "    return mean(a), median(a), max(a)\n",
    "calc([2, 20, 30 ,29])"
   ]
  },
  {
   "cell_type": "code",
   "execution_count": null,
   "metadata": {},
   "outputs": [],
   "source": [
    "def calc(List: list) -> tuple:\n",
    "    List = sorted(List)\n",
    "    Average = 0 if len(List)==0 else sum(List)/len(List)\n",
    "    Median = (List[int(len(List)/2)] + List[int((len(List)-2)/2)])/2 if len(List) % 2 == 0 else List[int((len(List)-1)/2)]\n",
    "    Maximum = max(List)\n",
    "    return (Average, Median, Maximum)"
   ]
  }
 ],
 "metadata": {
  "kernelspec": {
   "display_name": "Python 3",
   "language": "python",
   "name": "python3"
  },
  "language_info": {
   "codemirror_mode": {
    "name": "ipython",
    "version": 3
   },
   "file_extension": ".py",
   "mimetype": "text/x-python",
   "name": "python",
   "nbconvert_exporter": "python",
   "pygments_lexer": "ipython3",
   "version": "3.11.1"
  }
 },
 "nbformat": 4,
 "nbformat_minor": 2
}
