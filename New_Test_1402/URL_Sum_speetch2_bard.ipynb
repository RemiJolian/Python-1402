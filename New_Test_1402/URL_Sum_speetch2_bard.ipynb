{
 "cells": [
  {
   "cell_type": "code",
   "execution_count": 2,
   "metadata": {},
   "outputs": [
    {
     "ename": "NameError",
     "evalue": "name 'playsound' is not defined",
     "output_type": "error",
     "traceback": [
      "\u001b[1;31m---------------------------------------------------------------------------\u001b[0m",
      "\u001b[1;31mNameError\u001b[0m                                 Traceback (most recent call last)",
      "\u001b[1;32md:\\1-Programming\\1-Training\\My_Test_Files\\New_Test_Gerash\\URL_Sum_speetch2_bard.ipynb Cell 1\u001b[0m line \u001b[0;36m2\n\u001b[0;32m     <a href='vscode-notebook-cell:/d%3A/1-Programming/1-Training/My_Test_Files/New_Test_Gerash/URL_Sum_speetch2_bard.ipynb#W0sZmlsZQ%3D%3D?line=19'>20</a>\u001b[0m   speak_summary(summary)\n\u001b[0;32m     <a href='vscode-notebook-cell:/d%3A/1-Programming/1-Training/My_Test_Files/New_Test_Gerash/URL_Sum_speetch2_bard.ipynb#W0sZmlsZQ%3D%3D?line=21'>22</a>\u001b[0m \u001b[39mif\u001b[39;00m \u001b[39m__name__\u001b[39m \u001b[39m==\u001b[39m \u001b[39m'\u001b[39m\u001b[39m__main__\u001b[39m\u001b[39m'\u001b[39m:\n\u001b[1;32m---> <a href='vscode-notebook-cell:/d%3A/1-Programming/1-Training/My_Test_Files/New_Test_Gerash/URL_Sum_speetch2_bard.ipynb#W0sZmlsZQ%3D%3D?line=22'>23</a>\u001b[0m   main()\n",
      "\u001b[1;32md:\\1-Programming\\1-Training\\My_Test_Files\\New_Test_Gerash\\URL_Sum_speetch2_bard.ipynb Cell 1\u001b[0m line \u001b[0;36m2\n\u001b[0;32m     <a href='vscode-notebook-cell:/d%3A/1-Programming/1-Training/My_Test_Files/New_Test_Gerash/URL_Sum_speetch2_bard.ipynb#W0sZmlsZQ%3D%3D?line=17'>18</a>\u001b[0m url \u001b[39m=\u001b[39m \u001b[39minput\u001b[39m(\u001b[39m'\u001b[39m\u001b[39mEnter a URL: \u001b[39m\u001b[39m'\u001b[39m)\n\u001b[0;32m     <a href='vscode-notebook-cell:/d%3A/1-Programming/1-Training/My_Test_Files/New_Test_Gerash/URL_Sum_speetch2_bard.ipynb#W0sZmlsZQ%3D%3D?line=18'>19</a>\u001b[0m summary \u001b[39m=\u001b[39m summarize_url(url)\n\u001b[1;32m---> <a href='vscode-notebook-cell:/d%3A/1-Programming/1-Training/My_Test_Files/New_Test_Gerash/URL_Sum_speetch2_bard.ipynb#W0sZmlsZQ%3D%3D?line=19'>20</a>\u001b[0m speak_summary(summary)\n",
      "\u001b[1;32md:\\1-Programming\\1-Training\\My_Test_Files\\New_Test_Gerash\\URL_Sum_speetch2_bard.ipynb Cell 1\u001b[0m line \u001b[0;36m1\n\u001b[0;32m     <a href='vscode-notebook-cell:/d%3A/1-Programming/1-Training/My_Test_Files/New_Test_Gerash/URL_Sum_speetch2_bard.ipynb#W0sZmlsZQ%3D%3D?line=12'>13</a>\u001b[0m tts \u001b[39m=\u001b[39m gTTS(text\u001b[39m=\u001b[39msummary, lang\u001b[39m=\u001b[39m\u001b[39m'\u001b[39m\u001b[39men\u001b[39m\u001b[39m'\u001b[39m)\n\u001b[0;32m     <a href='vscode-notebook-cell:/d%3A/1-Programming/1-Training/My_Test_Files/New_Test_Gerash/URL_Sum_speetch2_bard.ipynb#W0sZmlsZQ%3D%3D?line=13'>14</a>\u001b[0m tts\u001b[39m.\u001b[39msave(\u001b[39m'\u001b[39m\u001b[39msummary.mp3\u001b[39m\u001b[39m'\u001b[39m)\n\u001b[1;32m---> <a href='vscode-notebook-cell:/d%3A/1-Programming/1-Training/My_Test_Files/New_Test_Gerash/URL_Sum_speetch2_bard.ipynb#W0sZmlsZQ%3D%3D?line=14'>15</a>\u001b[0m playsound(\u001b[39m'\u001b[39m\u001b[39msummary.mp3\u001b[39m\u001b[39m'\u001b[39m)\n",
      "\u001b[1;31mNameError\u001b[0m: name 'playsound' is not defined"
     ]
    }
   ],
   "source": [
    "import requests\n",
    "from bs4 import BeautifulSoup\n",
    "from gtts import gTTS\n",
    "\n",
    "def summarize_url(url):\n",
    "  response = requests.get(url)\n",
    "  soup = BeautifulSoup(response.content, 'html.parser')\n",
    "  text = soup.get_text()\n",
    "  summary = text[:100]\n",
    "  return summary\n",
    "\n",
    "def speak_summary(summary):\n",
    "  tts = gTTS(text=summary, lang='en')\n",
    "  tts.save('summary.mp3')\n",
    "  playsound('summary.mp3')\n",
    "\n",
    "def main():\n",
    "  url = input('Enter a URL: ')\n",
    "  summary = summarize_url(url)\n",
    "  speak_summary(summary)\n",
    "\n",
    "if __name__ == '__main__':\n",
    "  main()"
   ]
  }
 ],
 "metadata": {
  "kernelspec": {
   "display_name": "Python 3",
   "language": "python",
   "name": "python3"
  },
  "language_info": {
   "codemirror_mode": {
    "name": "ipython",
    "version": 3
   },
   "file_extension": ".py",
   "mimetype": "text/x-python",
   "name": "python",
   "nbconvert_exporter": "python",
   "pygments_lexer": "ipython3",
   "version": "3.11.1"
  },
  "orig_nbformat": 4
 },
 "nbformat": 4,
 "nbformat_minor": 2
}
