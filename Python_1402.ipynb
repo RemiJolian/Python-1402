{
  "nbformat": 4,
  "nbformat_minor": 0,
  "metadata": {
    "colab": {
      "provenance": [],
      "authorship_tag": "ABX9TyPQKxqY5xIaTmePTNyjV0xK",
      "include_colab_link": true
    },
    "kernelspec": {
      "name": "python3",
      "display_name": "Python 3"
    },
    "language_info": {
      "name": "python"
    }
  },
  "cells": [
    {
      "cell_type": "markdown",
      "metadata": {
        "id": "view-in-github",
        "colab_type": "text"
      },
      "source": [
        "<a href=\"https://colab.research.google.com/github/RemiJolian/Python-1402/blob/main/Python_1402.ipynb\" target=\"_parent\"><img src=\"https://colab.research.google.com/assets/colab-badge.svg\" alt=\"Open In Colab\"/></a>"
      ]
    },
    {
      "cell_type": "markdown",
      "source": [
        "Rerview course: **Quera**"
      ],
      "metadata": {
        "id": "Fc2udk1PwQ2o"
      }
    },
    {
      "cell_type": "markdown",
      "source": [
        "Queiz:kelid gawsandogh"
      ],
      "metadata": {
        "id": "wKjdyrHixEUC"
      }
    },
    {
      "cell_type": "code",
      "source": [
        "k = int(input())\n",
        "r = input()\n",
        "t = 0\n",
        "for i in range(k):\n",
        "    c = input()\n",
        "    p = c.find(r[i])\n",
        "    p = min(p,9-p)\n",
        "    t = t + p\n",
        "print(t)"
      ],
      "metadata": {
        "colab": {
          "base_uri": "https://localhost:8080/"
        },
        "id": "Vlcoz8ABwxzt",
        "outputId": "46a1d0ec-e8ff-45d1-89bf-4ab807932306"
      },
      "execution_count": 1,
      "outputs": [
        {
          "output_type": "stream",
          "name": "stdout",
          "text": [
            "1\n",
            "5\n",
            "234567891\n",
            "3\n"
          ]
        }
      ]
    }
  ]
}