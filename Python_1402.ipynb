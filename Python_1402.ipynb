{
  "nbformat": 4,
  "nbformat_minor": 0,
  "metadata": {
    "colab": {
      "provenance": [],
      "authorship_tag": "ABX9TyMqDEu0z1FELHwGuOfMSc8I",
      "include_colab_link": true
    },
    "kernelspec": {
      "name": "python3",
      "display_name": "Python 3"
    },
    "language_info": {
      "name": "python"
    }
  },
  "cells": [
    {
      "cell_type": "markdown",
      "metadata": {
        "id": "view-in-github",
        "colab_type": "text"
      },
      "source": [
        "<a href=\"https://colab.research.google.com/github/RemiJolian/Python-1402/blob/master/Python_1402.ipynb\" target=\"_parent\"><img src=\"https://colab.research.google.com/assets/colab-badge.svg\" alt=\"Open In Colab\"/></a>"
      ]
    },
    {
      "cell_type": "markdown",
      "source": [
        "Rerview course: **Quera**"
      ],
      "metadata": {
        "id": "Fc2udk1PwQ2o"
      }
    },
    {
      "cell_type": "markdown",
      "source": [
        "Queiz:kelid gawsandogh"
      ],
      "metadata": {
        "id": "wKjdyrHixEUC"
      }
    },
    {
      "cell_type": "code",
      "source": [
        "#kelid gaw sandogh\n",
        "k = int(input())\n",
        "r = input()\n",
        "t = 0\n",
        "for i in range(k):\n",
        "    c = input()\n",
        "    p = c.find(r[i])\n",
        "    p = min(p,9-p)\n",
        "    t = t + p\n",
        "print(t)"
      ],
      "metadata": {
        "id": "Vlcoz8ABwxzt"
      },
      "execution_count": null,
      "outputs": []
    },
    {
      "cell_type": "markdown",
      "source": [
        "RegEx:"
      ],
      "metadata": {
        "id": "7hVqaw6_lrtw"
      }
    },
    {
      "cell_type": "code",
      "source": [
        "re.split('[0-9]+', 'you92398can820split729with26numbers')\n",
        "['you', 'can', 'split', 'with', 'numbers']\n",
        "re.split('[a-z]+', '2093ab20a120dk')\n",
        "['2093', '20', '120', '']"
      ],
      "metadata": {
        "id": "frX6qvX9lqYR"
      },
      "execution_count": null,
      "outputs": []
    },
    {
      "cell_type": "markdown",
      "source": [
        "List in python"
      ],
      "metadata": {
        "id": "zfP43By2rras"
      }
    }
  ]
}