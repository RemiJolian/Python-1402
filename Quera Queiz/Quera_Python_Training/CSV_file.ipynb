{
 "cells": [
  {
   "cell_type": "code",
   "execution_count": null,
   "metadata": {},
   "outputs": [],
   "source": [
    "import csv\n",
    "with open('My_CSV.csv' , 'r') as csv_file:\n",
    "    csv_reader = csv.reader(csv_file, delimiter= ',')\n",
    "    line_count = 0  \n",
    "    for row in csv_reader:\n",
    "        if line_count == 0:\n",
    "            print(f'column Title are {\"\",\"sep=\".join(row)}') # \"\" not ''\n",
    "            line_count += 1\n",
    "        else :\n",
    "            print(f'\\t{row[0]} worked in {row[1]} dep live in {row[2]} in city {row[3]}')\n",
    "            line_count += 1\n",
    "    print(f'{line_count} line process')"
   ]
  }
 ],
 "metadata": {
  "language_info": {
   "name": "python"
  },
  "orig_nbformat": 4
 },
 "nbformat": 4,
 "nbformat_minor": 2
}
