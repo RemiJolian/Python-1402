{
 "cells": [
  {
   "attachments": {},
   "cell_type": "markdown",
   "metadata": {},
   "source": [
    "not exact answer:"
   ]
  },
  {
   "cell_type": "code",
   "execution_count": null,
   "metadata": {},
   "outputs": [],
   "source": [
    "s = input()\n",
    "q = input()\n",
    "print(s)\n",
    "print(q)\n",
    "index = 0\n",
    "for i in range(len(s)):\n",
    "  if q in s:\n",
    "    index += s.index(q[0])\n",
    "    print(index+1)\n",
    "    k = s.index(q[len(q)-1]) + 1\n",
    "    #print(k)\n",
    "    s = s[k::]\n",
    "    #print(s)"
   ]
  },
  {
   "attachments": {},
   "cell_type": "markdown",
   "metadata": {},
   "source": [
    "best answer:"
   ]
  },
  {
   "cell_type": "code",
   "execution_count": 10,
   "metadata": {},
   "outputs": [
    {
     "name": "stdout",
     "output_type": "stream",
     "text": [
      "asdf\n",
      "sdfgghj\n"
     ]
    }
   ],
   "source": [
    "s = input()\n",
    "q = input()\n",
    "print(s)\n",
    "print(q)\n",
    "for i in range(len(s)):\n",
    "    flage = True\n",
    "    for j in range(len(q)):\n",
    "        if i + j < len(s):\n",
    "            if s[i+j] != q[j]:\n",
    "                flage = False\n",
    "        else:\n",
    "            flage = False\n",
    "    if flage == True:\n",
    "        print(i+1)"
   ]
  }
 ],
 "metadata": {
  "kernelspec": {
   "display_name": "Python 3",
   "language": "python",
   "name": "python3"
  },
  "language_info": {
   "codemirror_mode": {
    "name": "ipython",
    "version": 3
   },
   "file_extension": ".py",
   "mimetype": "text/x-python",
   "name": "python",
   "nbconvert_exporter": "python",
   "pygments_lexer": "ipython3",
   "version": "3.11.1"
  },
  "orig_nbformat": 4
 },
 "nbformat": 4,
 "nbformat_minor": 2
}
