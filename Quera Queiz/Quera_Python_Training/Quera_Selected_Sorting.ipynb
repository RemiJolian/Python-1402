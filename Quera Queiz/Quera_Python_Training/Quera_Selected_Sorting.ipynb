{
 "cells": [
  {
   "attachments": {},
   "cell_type": "markdown",
   "metadata": {},
   "source": [
    "# Quera,chapter 10:\n",
    " Selected sorting:"
   ]
  },
  {
   "cell_type": "code",
   "execution_count": null,
   "metadata": {},
   "outputs": [],
   "source": [
    "a = [5, 8, 1, 2, 3, 6]\n",
    "n = len(a)\n",
    "for i in range(n):\n",
    "    min_index = i\n",
    "    for j in range(i+1, n):\n",
    "        if a[min_index] > a[j]:\n",
    "           min_index = j\n",
    "        print('a[min_index]:', a[min_index])\n",
    "    print(a)\n",
    "    a[i], a[min_index] = a[min_index], a[i]\n",
    "    \n",
    "print(a)"
   ]
  },
  {
   "attachments": {},
   "cell_type": "markdown",
   "metadata": {},
   "source": [
    "Bubble Sorting:"
   ]
  },
  {
   "cell_type": "code",
   "execution_count": 19,
   "metadata": {},
   "outputs": [
    {
     "name": "stdout",
     "output_type": "stream",
     "text": [
      "[0, 1, 1, 2, 3, 5, 6, 8, 9]\n"
     ]
    }
   ],
   "source": [
    "a = [5, 8, 1, 2, 3, 6, 9, 0, 1]\n",
    "n = len(a)\n",
    "for j in range(n):\n",
    "    for i in range(n-1):\n",
    "        if a[i] > a[i+1]:\n",
    "            a[i], a[i+1] = a[i+1], a[i]\n",
    "print(a)"
   ]
  },
  {
   "attachments": {},
   "cell_type": "markdown",
   "metadata": {},
   "source": [
    "INSERTION-SORTING:"
   ]
  },
  {
   "cell_type": "code",
   "execution_count": 21,
   "metadata": {},
   "outputs": [
    {
     "name": "stdout",
     "output_type": "stream",
     "text": [
      "[0, 1, 2, 3, 5, 6, 8, 9]\n"
     ]
    }
   ],
   "source": [
    "a = [5, 8, 2, 3, 6, 9, 0, 1]\n",
    "n = len(a)\n",
    "for i in range(n):\n",
    "    p = i\n",
    "    while p > 0 and a[p] < a[p-1]:\n",
    "        a[p], a[p-1] = a[p-1], a[p]\n",
    "        p = p-1\n",
    "print(a)"
   ]
  }
 ],
 "metadata": {
  "kernelspec": {
   "display_name": "Python 3",
   "language": "python",
   "name": "python3"
  },
  "language_info": {
   "codemirror_mode": {
    "name": "ipython",
    "version": 3
   },
   "file_extension": ".py",
   "mimetype": "text/x-python",
   "name": "python",
   "nbconvert_exporter": "python",
   "pygments_lexer": "ipython3",
   "version": "3.11.1"
  },
  "orig_nbformat": 4
 },
 "nbformat": 4,
 "nbformat_minor": 2
}
