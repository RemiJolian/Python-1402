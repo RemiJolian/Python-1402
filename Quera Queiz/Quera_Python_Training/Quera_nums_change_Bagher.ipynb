{
 "cells": [
  {
   "cell_type": "code",
   "execution_count": 18,
   "metadata": {},
   "outputs": [
    {
     "name": "stdout",
     "output_type": "stream",
     "text": [
      "n:  214589\n",
      "214598\n"
     ]
    }
   ],
   "source": [
    "n = int(input()) \n",
    "print('n: ', n)\n",
    "digit_n = [0] * 10\n",
    "tmp = n\n",
    "while tmp:\n",
    "    digit_n[tmp % 10] += 1\n",
    "    tmp = tmp // 10\n",
    "#print(digit_n)\n",
    "for y in range(n+1, 1000000):\n",
    "    digit_y = [0] * 10\n",
    "    tmp = y\n",
    "    while tmp:\n",
    "        digit_y[tmp % 10] += 1\n",
    "        tmp = tmp // 10\n",
    "    for i in range(10):\n",
    "        if digit_y != digit_n:\n",
    "            break\n",
    "    else:\n",
    "        print(y)\n",
    "        break\n",
    "else:\n",
    "    print(0)"
   ]
  }
 ],
 "metadata": {
  "kernelspec": {
   "display_name": "Python 3",
   "language": "python",
   "name": "python3"
  },
  "language_info": {
   "codemirror_mode": {
    "name": "ipython",
    "version": 3
   },
   "file_extension": ".py",
   "mimetype": "text/x-python",
   "name": "python",
   "nbconvert_exporter": "python",
   "pygments_lexer": "ipython3",
   "version": "3.11.1"
  },
  "orig_nbformat": 4
 },
 "nbformat": 4,
 "nbformat_minor": 2
}
