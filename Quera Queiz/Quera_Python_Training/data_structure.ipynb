{
 "cells": [
  {
   "cell_type": "code",
   "execution_count": 24,
   "metadata": {},
   "outputs": [
    {
     "data": {
      "text/plain": [
       "['s', 'a', 'l', 'a', 'm']"
      ]
     },
     "execution_count": 24,
     "metadata": {},
     "output_type": "execute_result"
    }
   ],
   "source": [
    "s = 'salam'\n",
    "list(s)"
   ]
  },
  {
   "attachments": {},
   "cell_type": "markdown",
   "metadata": {},
   "source": [
    "print reverse"
   ]
  },
  {
   "cell_type": "code",
   "execution_count": 25,
   "metadata": {},
   "outputs": [
    {
     "ename": "ValueError",
     "evalue": "invalid literal for int() with base 10: '1 1'",
     "output_type": "error",
     "traceback": [
      "\u001b[1;31m---------------------------------------------------------------------------\u001b[0m",
      "\u001b[1;31mValueError\u001b[0m                                Traceback (most recent call last)",
      "Cell \u001b[1;32mIn[25], line 2\u001b[0m\n\u001b[0;32m      1\u001b[0m s \u001b[39m=\u001b[39m []\n\u001b[1;32m----> 2\u001b[0m n \u001b[39m=\u001b[39m \u001b[39mint\u001b[39;49m(\u001b[39minput\u001b[39;49m())\n\u001b[0;32m      3\u001b[0m \u001b[39mwhile\u001b[39;00m n \u001b[39m!=\u001b[39m \u001b[39m0\u001b[39m:\n\u001b[0;32m      4\u001b[0m     s\u001b[39m.\u001b[39mappend(n)\n",
      "\u001b[1;31mValueError\u001b[0m: invalid literal for int() with base 10: '1 1'"
     ]
    }
   ],
   "source": [
    "s = []\n",
    "n = int(input())\n",
    "while n != 0:\n",
    "    s.append(n)\n",
    "    n = int(input())\n",
    "s.reverse()\n",
    "#print(*s)\n",
    "for i in s:\n",
    "    print (i)"
   ]
  },
  {
   "cell_type": "code",
   "execution_count": null,
   "metadata": {},
   "outputs": [],
   "source": [
    "names = ['mohammad', 'reza', 'amir']\n",
    "names.top()\n"
   ]
  },
  {
   "cell_type": "code",
   "execution_count": null,
   "metadata": {},
   "outputs": [
    {
     "name": "stdout",
     "output_type": "stream",
     "text": [
      "0 mohammad\n",
      "1 reza\n",
      "2 amir\n"
     ]
    }
   ],
   "source": [
    "names = ['mohammad', 'reza', 'amir']\n",
    "for i, j in enumerate(names):\n",
    "    print(i,j)"
   ]
  },
  {
   "cell_type": "code",
   "execution_count": null,
   "metadata": {},
   "outputs": [
    {
     "name": "stdout",
     "output_type": "stream",
     "text": [
      "the 1th object in myList is mohammad .\n",
      "the 2th object in myList is reza .\n",
      "the 3th object in myList is amir .\n"
     ]
    }
   ],
   "source": [
    "names = ['mohammad', 'reza', 'amir']\n",
    "for i, it in enumerate(names):\n",
    "     print(\"the {0}th object in myList is {1} .\".format(i+1, it))"
   ]
  },
  {
   "cell_type": "code",
   "execution_count": null,
   "metadata": {},
   "outputs": [
    {
     "name": "stdout",
     "output_type": "stream",
     "text": [
      "the 1th alphabet or I in greece is a.\n",
      "the 2th alphabet or II in greece is b.\n",
      "the 3th alphabet or III in greece is c.\n",
      "the 4th alphabet or IV in greece is d.\n"
     ]
    }
   ],
   "source": [
    "listA = [1, 2, 3, 4]\n",
    "listB = ['a', 'b', 'c', 'd']\n",
    "listC = ['I', 'II', 'III', 'IV']\n",
    "for a, b, c in zip(listA,listB,listC):\n",
    "  print('the {0}th alphabet or {1} in greece is {2}.'.format(a,c,b))"
   ]
  },
  {
   "attachments": {},
   "cell_type": "markdown",
   "metadata": {},
   "source": [
    "Betayp!!"
   ]
  },
  {
   "cell_type": "code",
   "execution_count": null,
   "metadata": {},
   "outputs": [
    {
     "name": "stdout",
     "output_type": "stream",
     "text": [
      "testtwo\n"
     ]
    }
   ],
   "source": [
    "s = input()\n",
    "outp = []\n",
    "for ch in s:\n",
    "    if ch == '=':\n",
    "        if len(outp) != 0:\n",
    "            outp.pop()\n",
    "    else:\n",
    "        outp.append(ch)\n",
    "ans = ''\n",
    "for i in outp:\n",
    "    ans += i\n",
    "print(ans)"
   ]
  },
  {
   "attachments": {},
   "cell_type": "markdown",
   "metadata": {},
   "source": [
    "Bomb bazi:"
   ]
  },
  {
   "cell_type": "code",
   "execution_count": 67,
   "metadata": {},
   "outputs": [
    {
     "name": "stdout",
     "output_type": "stream",
     "text": [
      "* 2 * \n",
      "2 3 2 \n",
      "2 * 3 \n",
      "2 * * \n"
     ]
    }
   ],
   "source": [
    "n, m = map(int,input().split())\n",
    "k = int(input())\n",
    "matr = []\n",
    "for x in range(n):\n",
    "   matr.append([])\n",
    "   for y in range(m):\n",
    "     matr[x].append(0)\n",
    "\n",
    "\n",
    "for o in range(k):\n",
    "    a, b = map(int,input().split()) # 1 1\n",
    "    a = a -1\n",
    "    b = b -1\n",
    "    matr[a][b] = '*'\n",
    "    \n",
    "    for h in range(-1,2):\n",
    "        for p in range(-1,2):\n",
    "           if (h != 0 or p != 0)  and ((a+h) in range(0,n) and (b+p) in range(0,m)) and matr[a+h][b+p] != '*':\n",
    "            matr[a+h][b+p] += 1\n",
    "for i in range(n):\n",
    "    for j in range(m):\n",
    "        print(matr[i][j],end = ' ')\n",
    "    print()\n",
    "\n"
   ]
  },
  {
   "attachments": {},
   "cell_type": "markdown",
   "metadata": {},
   "source": [
    "Asone Sakht:"
   ]
  },
  {
   "cell_type": "code",
   "execution_count": 69,
   "metadata": {},
   "outputs": [
    {
     "name": "stdout",
     "output_type": "stream",
     "text": [
      "6\n"
     ]
    }
   ],
   "source": [
    "print(*list(map(int, input().split()))[5::6])"
   ]
  },
  {
   "cell_type": "code",
   "execution_count": null,
   "metadata": {},
   "outputs": [],
   "source": [
    "l = [2, 3, 5 , 6, 7, 8, 12]\n",
    "print(*1[4::9])"
   ]
  },
  {
   "attachments": {},
   "cell_type": "markdown",
   "metadata": {},
   "source": [
    "again Review of Data structure"
   ]
  },
  {
   "cell_type": "code",
   "execution_count": null,
   "metadata": {},
   "outputs": [],
   "source": [
    "a = [2, 3, 4, 5, 6]\n",
    "type(a)\n",
    "len(a)\n",
    "a.index(3)\n",
    "print(a[2])\n",
    "a[1] = 8\n",
    "a"
   ]
  },
  {
   "cell_type": "code",
   "execution_count": null,
   "metadata": {},
   "outputs": [],
   "source": [
    "s = 'python'\n",
    "s[1] = 'd' # error,immutable\n"
   ]
  },
  {
   "cell_type": "code",
   "execution_count": 11,
   "metadata": {},
   "outputs": [
    {
     "name": "stdout",
     "output_type": "stream",
     "text": [
      "ali\n",
      "ahmad\n",
      "hashem\n"
     ]
    }
   ],
   "source": [
    "a = [1, 2]\n",
    "b = [2, 1]\n",
    "a == b\n",
    "friend = ['ali', 'ahmad', 'hashem']\n",
    "for i in range(3):\n",
    "    print(friend[i])\n",
    "    \n"
   ]
  },
  {
   "cell_type": "code",
   "execution_count": 23,
   "metadata": {},
   "outputs": [
    {
     "name": "stdout",
     "output_type": "stream",
     "text": [
      "[5, 30, 2]\n",
      "[7, 5, 30]\n",
      "[2, 6, 25]\n",
      "[]\n",
      "[25, 6, 2, 30, 5, 7]\n",
      "[7, 5, 30, 2, 6, 25]\n",
      "[7, 30, 6]\n",
      "[7, 2]\n",
      "[25, 6, 2]\n",
      "[7, 5, 30, 0, 99, 25]\n"
     ]
    }
   ],
   "source": [
    "#lst = [2, 3, 'hashem', True, [3, 4]]\n",
    "\n",
    "a = [7, 5, 30, 2, 6, 25]\n",
    "print(a[1:4])\n",
    "print(a[:3])\n",
    "print(a[3:])\n",
    "print(a[3:0])\n",
    "print(a[::-1])\n",
    "print(a[::1])\n",
    "print(a[0:7:2])\n",
    "print(a[::3])\n",
    "print(a[6:2:-1])\n",
    "a[3:5] = [0,99]\n",
    "print(a)\n"
   ]
  },
  {
   "cell_type": "code",
   "execution_count": null,
   "metadata": {},
   "outputs": [],
   "source": [
    "a = [2, 3]\n",
    "b = a * 2\n",
    "print(a)\n",
    "c = ['A', 'B']\n",
    "print(a+b)\n"
   ]
  },
  {
   "cell_type": "code",
   "execution_count": 27,
   "metadata": {},
   "outputs": [
    {
     "name": "stdout",
     "output_type": "stream",
     "text": [
      "True\n"
     ]
    }
   ],
   "source": [
    "MyList = [2, 5, 9, 5, 8]\n",
    "print(3 not in MyList)"
   ]
  },
  {
   "cell_type": "code",
   "execution_count": null,
   "metadata": {},
   "outputs": [],
   "source": [
    "a = [3, [109, 27], 4, 15]\n",
    "a[1][0]\n",
    "print(max(a)) #error"
   ]
  },
  {
   "cell_type": "code",
   "execution_count": 31,
   "metadata": {},
   "outputs": [
    {
     "data": {
      "text/plain": [
       "15"
      ]
     },
     "execution_count": 31,
     "metadata": {},
     "output_type": "execute_result"
    }
   ],
   "source": [
    "a = [3, 7, 4, 15]\n",
    "max(a)\n",
    "min(a)\n",
    "sum(a)"
   ]
  },
  {
   "cell_type": "code",
   "execution_count": 33,
   "metadata": {},
   "outputs": [
    {
     "data": {
      "text/plain": [
       "1"
      ]
     },
     "execution_count": 33,
     "metadata": {},
     "output_type": "execute_result"
    }
   ],
   "source": [
    "a = [2, [2, 27], 4, 15]\n",
    "a.count(2)"
   ]
  },
  {
   "cell_type": "code",
   "execution_count": 35,
   "metadata": {},
   "outputs": [
    {
     "data": {
      "text/plain": [
       "[3, 8, 4, 15, 3]"
      ]
     },
     "execution_count": 35,
     "metadata": {},
     "output_type": "execute_result"
    }
   ],
   "source": [
    "a = [3, 8, 4, 15]\n",
    "a.insert(11, 3)\n",
    "a"
   ]
  },
  {
   "cell_type": "code",
   "execution_count": 37,
   "metadata": {},
   "outputs": [
    {
     "data": {
      "text/plain": [
       "[3, 4, 15, 3]"
      ]
     },
     "execution_count": 37,
     "metadata": {},
     "output_type": "execute_result"
    }
   ],
   "source": [
    "a.remove(8)\n",
    "a"
   ]
  },
  {
   "cell_type": "code",
   "execution_count": 42,
   "metadata": {},
   "outputs": [
    {
     "name": "stdout",
     "output_type": "stream",
     "text": [
      "[3, 8, 4] /// ? 15\n"
     ]
    }
   ],
   "source": [
    "a = [3, 8, 4, 15]\n",
    "b = a.pop()\n",
    "print(a,'///', b)"
   ]
  },
  {
   "cell_type": "code",
   "execution_count": 45,
   "metadata": {},
   "outputs": [
    {
     "data": {
      "text/plain": [
       "[15]"
      ]
     },
     "execution_count": 45,
     "metadata": {},
     "output_type": "execute_result"
    }
   ],
   "source": [
    "a = [3, 8, 4, 15]\n",
    "del(a[2])\n",
    "del(a[0:2])\n",
    "a"
   ]
  },
  {
   "cell_type": "code",
   "execution_count": 48,
   "metadata": {},
   "outputs": [
    {
     "data": {
      "text/plain": [
       "[15, 4, 8, 3]"
      ]
     },
     "execution_count": 48,
     "metadata": {},
     "output_type": "execute_result"
    }
   ],
   "source": [
    "a = [3, 8, 4, 15]\n",
    "a.reverse() #a[::-1]"
   ]
  },
  {
   "cell_type": "code",
   "execution_count": 50,
   "metadata": {},
   "outputs": [
    {
     "data": {
      "text/plain": [
       "[3, 4, 8, 15]"
      ]
     },
     "execution_count": 50,
     "metadata": {},
     "output_type": "execute_result"
    }
   ],
   "source": [
    "a = [3, 8, 4, 15]\n",
    "a.sort()\n",
    "a"
   ]
  },
  {
   "cell_type": "code",
   "execution_count": 53,
   "metadata": {},
   "outputs": [
    {
     "data": {
      "text/plain": [
       "[1, 2, 3, [4, 5]]"
      ]
     },
     "execution_count": 53,
     "metadata": {},
     "output_type": "execute_result"
    }
   ],
   "source": [
    "x = [1, 2, 3]\n",
    "y = [4, 5]\n",
    "#x.extend(y)    #s = x + y\n",
    "x.append(y)\n",
    "x"
   ]
  },
  {
   "cell_type": "code",
   "execution_count": null,
   "metadata": {},
   "outputs": [],
   "source": [
    "a = [3, 8, 4, 15]\n",
    "a.clear()\n",
    "print(a)\n",
    "print(len(a))\n",
    "del a\n",
    "a"
   ]
  },
  {
   "cell_type": "code",
   "execution_count": 57,
   "metadata": {},
   "outputs": [
    {
     "data": {
      "text/plain": [
       "[3, 8, 4, 15]"
      ]
     },
     "execution_count": 57,
     "metadata": {},
     "output_type": "execute_result"
    }
   ],
   "source": [
    "a = [3, 8, 4, 15]\n",
    "b = a.copy()\n",
    "b"
   ]
  },
  {
   "cell_type": "code",
   "execution_count": 62,
   "metadata": {},
   "outputs": [
    {
     "data": {
      "text/plain": [
       "[0, 4, 16, 36, 64]"
      ]
     },
     "execution_count": 62,
     "metadata": {},
     "output_type": "execute_result"
    }
   ],
   "source": [
    "lst1 = [i**2 for i in range(0, 10) if i % 2 == 0]\n",
    "lst1 "
   ]
  },
  {
   "cell_type": "code",
   "execution_count": 70,
   "metadata": {},
   "outputs": [
    {
     "name": "stdout",
     "output_type": "stream",
     "text": [
      "[3]\n",
      "[3.14159]\n",
      "[3.1, 3.14, 3.142, 3.1416]\n"
     ]
    }
   ],
   "source": [
    "import math\n",
    "a = [round(math.pi)]\n",
    "b = [round(math.pi,5)]\n",
    "c = [round(math.pi,i) for i in range(1,5)]\n",
    "print(a)\n",
    "print(b)\n",
    "print(c)"
   ]
  },
  {
   "cell_type": "code",
   "execution_count": null,
   "metadata": {},
   "outputs": [],
   "source": [
    "a = [round(math.pi,5)]"
   ]
  },
  {
   "cell_type": "code",
   "execution_count": null,
   "metadata": {},
   "outputs": [],
   "source": [
    "a = ['@sara','saba@']\n",
    "b = [i.strip('@') for i in a]\n",
    "b"
   ]
  },
  {
   "cell_type": "code",
   "execution_count": 73,
   "metadata": {},
   "outputs": [
    {
     "data": {
      "text/plain": [
       "[(1, 3), (1, 4), (2, 1), (2, 3), (2, 4)]"
      ]
     },
     "execution_count": 73,
     "metadata": {},
     "output_type": "execute_result"
    }
   ],
   "source": [
    "a = [1, 2]\n",
    "b = [1, 3, 4]\n",
    "c = []\n",
    "for i in a:\n",
    "    for j in b:\n",
    "        if i != j:\n",
    "            c.append((i,j))\n",
    "            \n",
    "c"
   ]
  },
  {
   "cell_type": "code",
   "execution_count": 76,
   "metadata": {},
   "outputs": [
    {
     "data": {
      "text/plain": [
       "[2.6, nan, 4.8, 6.9, nan]"
      ]
     },
     "execution_count": 76,
     "metadata": {},
     "output_type": "execute_result"
    }
   ],
   "source": [
    "a = [2.6, float('NaN') , 4.8 , 6.9, float('NaN')]\n",
    "a"
   ]
  },
  {
   "cell_type": "code",
   "execution_count": null,
   "metadata": {},
   "outputs": [],
   "source": [
    "import math\n",
    "print(math.isnan('a'))"
   ]
  },
  {
   "cell_type": "code",
   "execution_count": null,
   "metadata": {},
   "outputs": [],
   "source": [
    "# Import math Library\n",
    "import math\n",
    "\n",
    "# Check whether some values are NaN(Not a Number) or not\n",
    "print (math.isnan (56))\n",
    "print (math.isnan (-45.34))\n",
    "\n",
    "print (math.isnan (math.inf))\n",
    "print (math.isnan (float(\"nan\")))\n",
    "print (math.isnan (float(\"inf\")))\n",
    "print (math.isnan (float(\"-inf\")))\n",
    "print (math.isnan (math.nan))"
   ]
  },
  {
   "cell_type": "code",
   "execution_count": 98,
   "metadata": {},
   "outputs": [
    {
     "data": {
      "text/plain": [
       "[2.6, True, 4.8, 6.9]"
      ]
     },
     "execution_count": 98,
     "metadata": {},
     "output_type": "execute_result"
    }
   ],
   "source": [
    "import math\n",
    "a = [2.6, True, float('NaN') , 4.8 , 6.9, float('NaN')]\n",
    "b = []\n",
    "for i in a:\n",
    "    if not math.isnan(i):\n",
    "        b.append(i)\n",
    "    \n",
    "b"
   ]
  },
  {
   "cell_type": "code",
   "execution_count": 126,
   "metadata": {},
   "outputs": [
    {
     "name": "stdout",
     "output_type": "stream",
     "text": [
      "[1, 2, 3]\n",
      "[4, 5, 6]\n",
      "[7, 8, 9]\n",
      "\"\"\"\"\"\"\"\n",
      "1\n",
      "4\n",
      "7\n",
      "\"\"\"\"\"\"\n",
      "1 5 9 \n",
      "\"\"\"\"\"\"\n",
      "7 5 3 \"\"\"\"\"\"\n"
     ]
    }
   ],
   "source": [
    "m = [\n",
    "    [1, 2, 3],\n",
    "    [4, 5, 6],\n",
    "    [7, 8, 9]\n",
    "]\n",
    "for i in m :\n",
    "    print(i)\n",
    "print('\"\"\"\"\"\"\"')\n",
    "\n",
    "for i in m :\n",
    "    print(i[0])\n",
    "    \n",
    "print('\"\"\"\"\"\"')\n",
    "\"\"\"\n",
    "for i in range(3):\n",
    "    for j in range(3):\n",
    "        print(m[i][j],end=' ')\n",
    "    print()\n",
    "\"\"\"\n",
    "    \n",
    "\n",
    "for i in range(3):\n",
    "    print(m[i][i], end = ' ')\n",
    "print()   \n",
    "print('\"\"\"\"\"\"')\n",
    "\n",
    "for i in range(3):\n",
    "    print(m[2-i][i],end = ' ')\n",
    "\n",
    "print('\"\"\"\"\"\"')\n",
    "\n"
   ]
  },
  {
   "cell_type": "code",
   "execution_count": 130,
   "metadata": {},
   "outputs": [
    {
     "name": "stdout",
     "output_type": "stream",
     "text": [
      "6 15 24 \n",
      "----------\n",
      "12 15 18 \n",
      "or use this solution\n",
      "h = [12, 15, 18]\n"
     ]
    },
    {
     "data": {
      "text/plain": [
       "[6, 15, 24]"
      ]
     },
     "execution_count": 130,
     "metadata": {},
     "output_type": "execute_result"
    }
   ],
   "source": [
    "m = [\n",
    "    [1, 2, 3],\n",
    "    [4, 5, 6],\n",
    "    [7, 8, 9]\n",
    "]\n",
    "\n",
    "for i in range(3):\n",
    "    print(sum(m[i]),end = ' ')\n",
    "print()\n",
    "print('----------')\n",
    "\n",
    "ans = 0\n",
    "for i in range(3):   \n",
    "    for j in range(3):\n",
    "        ans += m[j][i]\n",
    "    print(ans, end = ' ')\n",
    "    ans = 0\n",
    "    \n",
    "print()\n",
    "print('or use this solution')\n",
    "h = []\n",
    "for i in range(3):\n",
    "    h.append(sum(ch[i] for ch in m))\n",
    "print('h =', h)\n",
    "\n",
    "a = []\n",
    "a.extend([sum(i) for i in m])\n",
    "a\n"
   ]
  },
  {
   "cell_type": "code",
   "execution_count": 125,
   "metadata": {},
   "outputs": [
    {
     "data": {
      "text/plain": [
       "[6, 15, 24]"
      ]
     },
     "execution_count": 125,
     "metadata": {},
     "output_type": "execute_result"
    }
   ],
   "source": [
    "b = []\n",
    "for i in (m):\n",
    "    b.append(sum(i))\n",
    "b"
   ]
  },
  {
   "cell_type": "code",
   "execution_count": 131,
   "metadata": {},
   "outputs": [
    {
     "name": "stdout",
     "output_type": "stream",
     "text": [
      "[2] [2]\n"
     ]
    }
   ],
   "source": [
    "x = []\n",
    "y = x\n",
    "y.append(2)\n",
    "print(y)\n",
    "print(x)"
   ]
  },
  {
   "cell_type": "code",
   "execution_count": 133,
   "metadata": {},
   "outputs": [
    {
     "data": {
      "text/plain": [
       "2"
      ]
     },
     "execution_count": 133,
     "metadata": {},
     "output_type": "execute_result"
    }
   ],
   "source": [
    "f = 2\n",
    "g = f\n",
    "g += 1\n",
    "g\n",
    "f"
   ]
  },
  {
   "cell_type": "code",
   "execution_count": 139,
   "metadata": {},
   "outputs": [
    {
     "data": {
      "text/plain": [
       "['1a', '1w', '1e', '3a', '3w', '3e', '4a', '4w', '4e']"
      ]
     },
     "execution_count": 139,
     "metadata": {},
     "output_type": "execute_result"
    }
   ],
   "source": [
    "l = [0 for i in range(3)]\n",
    "l\n",
    "s = [str(y)+z for y in [1, 3, 4] for z in ['a', 'w','e']]\n",
    "s"
   ]
  },
  {
   "cell_type": "code",
   "execution_count": 140,
   "metadata": {},
   "outputs": [
    {
     "data": {
      "text/plain": [
       "[[0, 0, 0, 0], [0, 0, 0, 0], [0, 0, 0, 0]]"
      ]
     },
     "execution_count": 140,
     "metadata": {},
     "output_type": "execute_result"
    }
   ],
   "source": [
    "zeros = [[0 for c in range(4)] for r in range(3)]\n",
    "zeros"
   ]
  },
  {
   "cell_type": "code",
   "execution_count": 162,
   "metadata": {},
   "outputs": [
    {
     "name": "stdout",
     "output_type": "stream",
     "text": [
      "<generator object <genexpr> at 0x000001FB36317AC0>\n"
     ]
    }
   ],
   "source": [
    "# TODO: Just in one line!\n",
    "s = [0, 1, 2, 4, 5, 7, 6]\n",
    "lb= i for i in s)"
   ]
  },
  {
   "cell_type": "code",
   "execution_count": 145,
   "metadata": {},
   "outputs": [
    {
     "name": "stdout",
     "output_type": "stream",
     "text": [
      "7\n"
     ]
    }
   ],
   "source": [
    "print(*list(map(int, input().split()))[5::6])\n"
   ]
  },
  {
   "cell_type": "code",
   "execution_count": 153,
   "metadata": {},
   "outputs": [
    {
     "data": {
      "text/plain": [
       "[7]"
      ]
     },
     "execution_count": 153,
     "metadata": {},
     "output_type": "execute_result"
    }
   ],
   "source": [
    "o = [2, 3, 4, 5, 6, 7, 9] \n",
    "o[5::6]"
   ]
  },
  {
   "attachments": {},
   "cell_type": "markdown",
   "metadata": {},
   "source": [
    "Tuple;data structure"
   ]
  },
  {
   "cell_type": "code",
   "execution_count": 6,
   "metadata": {},
   "outputs": [
    {
     "data": {
      "text/plain": [
       "(30, 20)"
      ]
     },
     "execution_count": 6,
     "metadata": {},
     "output_type": "execute_result"
    }
   ],
   "source": [
    "t = (2, 3, 4, 5)\n",
    "t[0]\n",
    "t2 = 6, 7, 8\n",
    "type(t2) # tuple\n",
    "t = 3,\n",
    "t\n",
    "a = 20\n",
    "b = 30\n",
    "a, b = b, a\n",
    "a, b"
   ]
  },
  {
   "attachments": {},
   "cell_type": "markdown",
   "metadata": {},
   "source": [
    "compare use of tuple and list here.u see that tuple is suitable than list"
   ]
  },
  {
   "cell_type": "code",
   "execution_count": 9,
   "metadata": {},
   "outputs": [
    {
     "name": "stdout",
     "output_type": "stream",
     "text": [
      "[1, 2]\n",
      "[9, 2]\n",
      "[9, 2]\n"
     ]
    }
   ],
   "source": [
    "lst1 = [1, 2]\n",
    "def f():\n",
    "    return lst1\n",
    "a = f()\n",
    "print(a)\n",
    "a[0] = 9\n",
    "print(a)\n",
    "print(lst1)\n"
   ]
  },
  {
   "cell_type": "code",
   "execution_count": 14,
   "metadata": {},
   "outputs": [
    {
     "name": "stdout",
     "output_type": "stream",
     "text": [
      "(1, 2)\n"
     ]
    },
    {
     "ename": "TypeError",
     "evalue": "'tuple' object does not support item assignment",
     "output_type": "error",
     "traceback": [
      "\u001b[1;31m---------------------------------------------------------------------------\u001b[0m",
      "\u001b[1;31mTypeError\u001b[0m                                 Traceback (most recent call last)",
      "Cell \u001b[1;32mIn[14], line 6\u001b[0m\n\u001b[0;32m      4\u001b[0m a \u001b[39m=\u001b[39m f()\n\u001b[0;32m      5\u001b[0m \u001b[39mprint\u001b[39m(a)\n\u001b[1;32m----> 6\u001b[0m a[\u001b[39m0\u001b[39;49m] \u001b[39m=\u001b[39m \u001b[39m6\u001b[39m\n",
      "\u001b[1;31mTypeError\u001b[0m: 'tuple' object does not support item assignment"
     ]
    }
   ],
   "source": [
    "t = (1, 2)\n",
    "def f():\n",
    "    return t\n",
    "a = f()\n",
    "print(a)\n",
    "a[0] = 6\n"
   ]
  },
  {
   "cell_type": "code",
   "execution_count": 17,
   "metadata": {},
   "outputs": [
    {
     "ename": "TypeError",
     "evalue": "'tuple' object does not support item assignment",
     "output_type": "error",
     "traceback": [
      "\u001b[1;31m---------------------------------------------------------------------------\u001b[0m",
      "\u001b[1;31mTypeError\u001b[0m                                 Traceback (most recent call last)",
      "Cell \u001b[1;32mIn[17], line 2\u001b[0m\n\u001b[0;32m      1\u001b[0m a \u001b[39m=\u001b[39m (\u001b[39m9\u001b[39m, \u001b[39m3\u001b[39m)\n\u001b[1;32m----> 2\u001b[0m a[\u001b[39m0\u001b[39;49m] \u001b[39m=\u001b[39m \u001b[39m2\u001b[39m\n",
      "\u001b[1;31mTypeError\u001b[0m: 'tuple' object does not support item assignment"
     ]
    }
   ],
   "source": [
    "a = (9, 3)\n",
    "a[0] = 2"
   ]
  },
  {
   "cell_type": "code",
   "execution_count": 19,
   "metadata": {},
   "outputs": [
    {
     "ename": "TypeError",
     "evalue": "'str' object does not support item assignment",
     "output_type": "error",
     "traceback": [
      "\u001b[1;31m---------------------------------------------------------------------------\u001b[0m",
      "\u001b[1;31mTypeError\u001b[0m                                 Traceback (most recent call last)",
      "Cell \u001b[1;32mIn[19], line 2\u001b[0m\n\u001b[0;32m      1\u001b[0m s \u001b[39m=\u001b[39m \u001b[39m'\u001b[39m\u001b[39mabcd\u001b[39m\u001b[39m'\u001b[39m\n\u001b[1;32m----> 2\u001b[0m s[\u001b[39m0\u001b[39;49m] \u001b[39m=\u001b[39m \u001b[39m'\u001b[39m\u001b[39ms\u001b[39m\u001b[39m'\u001b[39m\n",
      "\u001b[1;31mTypeError\u001b[0m: 'str' object does not support item assignment"
     ]
    }
   ],
   "source": [
    "s = 'abcd'\n",
    "s[0] = 's'"
   ]
  },
  {
   "attachments": {},
   "cell_type": "markdown",
   "metadata": {},
   "source": [
    "Quera_mohasebat chan taeiy:"
   ]
  },
  {
   "cell_type": "code",
   "execution_count": 50,
   "metadata": {},
   "outputs": [
    {
     "data": {
      "text/plain": [
       "(4.0, 4, 7)"
      ]
     },
     "execution_count": 50,
     "metadata": {},
     "output_type": "execute_result"
    }
   ],
   "source": [
    "a = []\n",
    "def calc(a:list) -> tuple:\n",
    "   a = list(map(int,input().split())) \n",
    "   a = sorted(a)\n",
    "   max_a = max(a)\n",
    "   ave_a = (sum(a)/len(a))\n",
    "   if len(a) % 2 != 0:\n",
    "       med_a = a[int((len(a) + 1)/2 -1)]\n",
    "   else:\n",
    "       med_a = (a[int(len(a)/2 -1)] + (a[int(len(a)/2)]))/2\n",
    "   ans = (ave_a, med_a, max_a)\n",
    "   return ans\n",
    "calc(a)"
   ]
  },
  {
   "cell_type": "code",
   "execution_count": 43,
   "metadata": {},
   "outputs": [
    {
     "name": "stdout",
     "output_type": "stream",
     "text": [
      "[<map object at 0x00000216DB5FCC10>]\n"
     ]
    }
   ],
   "source": [
    "a = []\n",
    "a.append(map(int,input().split()))\n",
    "print(list(a))"
   ]
  },
  {
   "attachments": {},
   "cell_type": "markdown",
   "metadata": {},
   "source": [
    "set,{}, an Review"
   ]
  },
  {
   "cell_type": "code",
   "execution_count": 68,
   "metadata": {},
   "outputs": [
    {
     "data": {
      "text/plain": [
       "{1, 2, 3, 5, 6}"
      ]
     },
     "execution_count": 68,
     "metadata": {},
     "output_type": "execute_result"
    }
   ],
   "source": [
    "n = {1, 2, 3, 4}\n",
    "n.add(0)\n",
    "n\n",
    "n.remove(0)\n",
    "n\n",
    "n.discard(9) #remove here has error\n",
    "m = {4, 5, 6}\n",
    "n - m\n",
    "n & m\n",
    "n | m\n",
    "n.union(m)\n",
    "n.intersection(m)\n",
    "m - n\n",
    "m.difference(n)\n",
    "n ^ m\n",
    "n.symmetric_difference(m)"
   ]
  },
  {
   "cell_type": "code",
   "execution_count": 71,
   "metadata": {},
   "outputs": [
    {
     "data": {
      "text/plain": [
       "{'s'}"
      ]
     },
     "execution_count": 71,
     "metadata": {},
     "output_type": "execute_result"
    }
   ],
   "source": [
    "s1 = set('salam')\n",
    "s2 = set('balam')\n",
    "s3 = {x for x in s1 if x not in s2}\n",
    "s3"
   ]
  },
  {
   "attachments": {},
   "cell_type": "markdown",
   "metadata": {},
   "source": [
    "Review of Dictionary,  {key/:value}"
   ]
  },
  {
   "cell_type": "code",
   "execution_count": null,
   "metadata": {},
   "outputs": [],
   "source": [
    "d = dict()\n",
    "type(d)\n",
    "d = {'baran':1, 'sara': 2}\n",
    "d[1]\n"
   ]
  },
  {
   "cell_type": "code",
   "execution_count": null,
   "metadata": {},
   "outputs": [],
   "source": [
    "d = {\n",
    "    'brand':'toyota',\n",
    "    'model': 'vxr',\n",
    "    'color': 'red'\n",
    "}\n",
    "len(d)\n",
    "\n",
    "# see that\n",
    "d = dict(brand = 'toyota', model = 'vxr', color = 'red')\n",
    "d['brand']\n",
    "d['year'] = 2022\n",
    "d\n",
    "x = d.get('model')\n",
    "x\n",
    "y = d.get('cylendar')  # none\n",
    "y\n",
    "k = list(d.keys())\n",
    "k\n",
    "v = list(d.values())\n",
    "v\n",
    "itms = list(d.items())\n",
    "itms\n",
    "for k, v in d.items():\n",
    "    print(k,':',v)\n",
    "d.pop('model')\n",
    "d\n",
    "d.popitem()\n",
    "d\n",
    "d.clear()\n",
    "d  # {}\n",
    "del d\n",
    "d    # not define\n"
   ]
  },
  {
   "cell_type": "code",
   "execution_count": 102,
   "metadata": {},
   "outputs": [
    {
     "data": {
      "text/plain": [
       "{'x': 3, 'y': 1, 'z': 1}"
      ]
     },
     "execution_count": 102,
     "metadata": {},
     "output_type": "execute_result"
    }
   ],
   "source": [
    "a = ['x', 'y', 'x', 'z','x']\n",
    "d = {}\n",
    "for i in a:\n",
    "    if i not in d:\n",
    "        d[i] = 1\n",
    "    else:\n",
    "        d[i] += 1\n",
    "d\n"
   ]
  },
  {
   "attachments": {},
   "cell_type": "markdown",
   "metadata": {},
   "source": [
    "OR:"
   ]
  },
  {
   "cell_type": "code",
   "execution_count": 107,
   "metadata": {},
   "outputs": [
    {
     "data": {
      "text/plain": [
       "{'x': 3, 'y': 1, 'z': 1}"
      ]
     },
     "execution_count": 107,
     "metadata": {},
     "output_type": "execute_result"
    }
   ],
   "source": [
    "d = {}\n",
    "for i in a:\n",
    "    d[i] = d.get(i,0) + 1\n",
    "d\n",
    "d2 = d.copy()\n",
    "d2"
   ]
  },
  {
   "cell_type": "code",
   "execution_count": 110,
   "metadata": {},
   "outputs": [
    {
     "data": {
      "text/plain": [
       "{'a': 3, 'c': 1, 'e': 1, 'n': 2}"
      ]
     },
     "execution_count": 110,
     "metadata": {},
     "output_type": "execute_result"
    }
   ],
   "source": [
    "s = 'acaeann'\n",
    "d = {}\n",
    "for i in s:\n",
    "   d[i] = d.get(i,0) + 1\n",
    "d"
   ]
  },
  {
   "cell_type": "code",
   "execution_count": 116,
   "metadata": {},
   "outputs": [
    {
     "data": {
      "text/plain": [
       "5"
      ]
     },
     "execution_count": 116,
     "metadata": {},
     "output_type": "execute_result"
    }
   ],
   "source": [
    "line = 'a dictionary is a datastructure.'\n",
    "l = line.split()\n",
    "l\n",
    "d = {}\n",
    "for i in l:\n",
    "    d[i] = d.get(i,0) + 1\n",
    "s = sum(d.values())\n",
    "# or\n",
    "s = 0\n",
    "for i in d:\n",
    "    s += d[i]"
   ]
  },
  {
   "attachments": {},
   "cell_type": "markdown",
   "metadata": {},
   "source": [
    "operator lib"
   ]
  },
  {
   "cell_type": "code",
   "execution_count": 118,
   "metadata": {},
   "outputs": [
    {
     "name": "stdout",
     "output_type": "stream",
     "text": [
      "[('f', 1), ('d', 1), ('c', 1), ('b', 2), ('a', 4)]\n",
      "[('a', 4), ('b', 2), ('c', 1), ('d', 1), ('f', 1)]\n"
     ]
    }
   ],
   "source": [
    "import operator\n",
    "# sort \n",
    "\n",
    "d = {'a': 4, 'b': 2, 'f': 1, 'd': 1, 'c': 1}\n",
    "k = operator.itemgetter(1)\n",
    "print(sorted(d.items(),key = k))\n",
    "# [('f', 1), ('d', 1), ('c', 1), ('b', 2), ('a', 4)]\n",
    "k = operator.itemgetter(0)\n",
    "print(sorted(d.items(),key = k))\n",
    "# [('a', 4), ('b', 2), ('c', 1), ('d', 1), ('f', 1)]\n"
   ]
  },
  {
   "cell_type": "code",
   "execution_count": 121,
   "metadata": {},
   "outputs": [
    {
     "data": {
      "text/plain": [
       "{'x': 3, 'y': 2, 'z': 1, 'w': 8, 't': 7}"
      ]
     },
     "execution_count": 121,
     "metadata": {},
     "output_type": "execute_result"
    }
   ],
   "source": [
    "d1 = {'x' : 3 , 'y': 2 , 'z':1}\n",
    "d2 = {'w' : 8 , 't': 7 }\n",
    "d = {**d1, **d2}\n",
    "d"
   ]
  },
  {
   "cell_type": "code",
   "execution_count": 125,
   "metadata": {},
   "outputs": [
    {
     "data": {
      "text/plain": [
       "{'sara': 19, 'baran': 20}"
      ]
     },
     "execution_count": 125,
     "metadata": {},
     "output_type": "execute_result"
    }
   ],
   "source": [
    "name = ['sara', 'baran']\n",
    "point = [19, 20]\n",
    "z = zip(name, point)\n",
    "d = dict(lz)\n",
    "d"
   ]
  },
  {
   "cell_type": "code",
   "execution_count": 3,
   "metadata": {},
   "outputs": [
    {
     "data": {
      "text/plain": [
       "{'a': 1, 'b': 2, 'f': 1, 'd': 1}"
      ]
     },
     "execution_count": 3,
     "metadata": {},
     "output_type": "execute_result"
    }
   ],
   "source": [
    "\n",
    "d = {'a': 0, 'b': 2, 'f': 1, 'd': 1, 'a': 1}\n",
    "d"
   ]
  },
  {
   "attachments": {},
   "cell_type": "markdown",
   "metadata": {},
   "source": [
    "Karmandan ziadey:"
   ]
  },
  {
   "cell_type": "code",
   "execution_count": 27,
   "metadata": {},
   "outputs": [
    {
     "name": "stdout",
     "output_type": "stream",
     "text": [
      "{'baran': 2, 'sara': 1}\n",
      "2\n"
     ]
    }
   ],
   "source": [
    "d = {}\n",
    "n = int(input())\n",
    "for i in range(n):\n",
    "    first_n, last_n = map(str,input().split())\n",
    "    x = d.get(first_n,-1)\n",
    "    if x == -1:\n",
    "        d[first_n] = 1\n",
    "    else:\n",
    "        d[first_n] += 1\n",
    "print(d)\n",
    "print(max(d.values()))\n"
   ]
  },
  {
   "cell_type": "code",
   "execution_count": 29,
   "metadata": {},
   "outputs": [
    {
     "name": "stdout",
     "output_type": "stream",
     "text": [
      "{'baran': 2, 'sara': 1}\n"
     ]
    }
   ],
   "source": [
    "names = dict()\n",
    "n = int(input())\n",
    "for i in range(n):\n",
    "    first, family = input().split()\n",
    "    names[first ] = names.get(first, 0) + 1\n",
    "print(names)"
   ]
  },
  {
   "cell_type": "code",
   "execution_count": null,
   "metadata": {},
   "outputs": [],
   "source": [
    "s = [1, 2, 3, 4]\n",
    "print(*s)\n",
    "d = {'a': 1, 'b':2}\n",
    "print(*d)\n"
   ]
  },
  {
   "cell_type": "code",
   "execution_count": 9,
   "metadata": {},
   "outputs": [
    {
     "data": {
      "text/plain": [
       "3.0"
      ]
     },
     "execution_count": 9,
     "metadata": {},
     "output_type": "execute_result"
    }
   ],
   "source": [
    "def mean(*nums):\n",
    "    return sum(nums)/ len(nums)\n",
    "numbers = [1, 2, 3, 4, 5]\n",
    "mean(*numbers)"
   ]
  },
  {
   "cell_type": "code",
   "execution_count": 11,
   "metadata": {},
   "outputs": [
    {
     "name": "stdout",
     "output_type": "stream",
     "text": [
      "kara is a teacher\n",
      "nima is a driver\n"
     ]
    }
   ],
   "source": [
    "def people(**person):\n",
    "    for k, v in person.items():\n",
    "        print(f'{k} is a {v}')\n",
    "p = {'kara':'teacher', 'nima': 'driver'}\n",
    "people(**p)"
   ]
  },
  {
   "attachments": {},
   "cell_type": "markdown",
   "metadata": {},
   "source": [
    "Lambda Function:"
   ]
  },
  {
   "cell_type": "code",
   "execution_count": 4,
   "metadata": {},
   "outputs": [
    {
     "data": {
      "text/plain": [
       "4"
      ]
     },
     "execution_count": 4,
     "metadata": {},
     "output_type": "execute_result"
    }
   ],
   "source": [
    "poer = lambda x: x**2\n",
    "poer(4)\n"
   ]
  },
  {
   "cell_type": "code",
   "execution_count": 6,
   "metadata": {},
   "outputs": [
    {
     "data": {
      "text/plain": [
       "9"
      ]
     },
     "execution_count": 6,
     "metadata": {},
     "output_type": "execute_result"
    }
   ],
   "source": [
    "(lambda x: x * x)(3)"
   ]
  },
  {
   "cell_type": "code",
   "execution_count": 11,
   "metadata": {},
   "outputs": [
    {
     "name": "stdout",
     "output_type": "stream",
     "text": [
      "6\n"
     ]
    },
    {
     "data": {
      "text/plain": [
       "[19.0, 20]"
      ]
     },
     "execution_count": 11,
     "metadata": {},
     "output_type": "execute_result"
    }
   ],
   "source": [
    "statics = lambda a, b: (a*b)\n",
    "print(statics(2, 3))\n",
    "lam2 = lambda a, b : [(a+b)/2, max(a, b)]\n",
    "lam2(20, 18)"
   ]
  },
  {
   "cell_type": "code",
   "execution_count": 13,
   "metadata": {},
   "outputs": [
    {
     "name": "stdout",
     "output_type": "stream",
     "text": [
      "12\n"
     ]
    }
   ],
   "source": [
    "def my_func(n):\n",
    "    return lambda x: x * n\n",
    "trip = my_func(2)\n",
    "print(trip(6))"
   ]
  },
  {
   "cell_type": "code",
   "execution_count": 4,
   "metadata": {},
   "outputs": [
    {
     "data": {
      "text/plain": [
       "4"
      ]
     },
     "execution_count": 4,
     "metadata": {},
     "output_type": "execute_result"
    }
   ],
   "source": [
    "import math\n",
    "math.floor(4.1)"
   ]
  },
  {
   "cell_type": "code",
   "execution_count": 21,
   "metadata": {},
   "outputs": [
    {
     "data": {
      "text/plain": [
       "True"
      ]
     },
     "execution_count": 21,
     "metadata": {},
     "output_type": "execute_result"
    }
   ],
   "source": [
    "s = '321'\n",
    "s.isdigit() is not True"
   ]
  },
  {
   "attachments": {},
   "cell_type": "markdown",
   "metadata": {},
   "source": [
    "again review of data structure\n",
    "\n",
    "Dict, {}"
   ]
  },
  {
   "cell_type": "code",
   "execution_count": null,
   "metadata": {},
   "outputs": [],
   "source": [
    "d = { 'brand':'Nissan',\n",
    "      'model': 'maxima',\n",
    "      'color': 'red',\n",
    "      'year': 2020\n",
    "    }\n",
    "type(d)\n",
    "len(d)\n",
    "# od: d = dict(brand = 'Nissan', model = '....',...)\n",
    "d['year']\n",
    "d.get('color')\n",
    "x = d.get('year')\n",
    "x\n",
    "y = d.get('door') #none\n",
    "y = d.get('door', -1)\n",
    "y\n",
    "d.values()\n",
    "d.keys()\n",
    "k = list(d.items())\n",
    "for k,v in d.items():\n",
    "    print(k,':',v)\n",
    "d.pop('model')\n",
    "d.append('model':'maxima')"
   ]
  },
  {
   "cell_type": "code",
   "execution_count": 50,
   "metadata": {},
   "outputs": [
    {
     "name": "stdout",
     "output_type": "stream",
     "text": [
      "{'x': 3, 'y': 2, 'z': 1}\n"
     ]
    }
   ],
   "source": [
    "a = ['x', 'y', 'x', 'z', 'y', 'x']\n",
    "d1 = {}\n",
    "for i in a:\n",
    "    d1[i] = d1.get(i,0) + 1\n",
    "    \n",
    "print(d1)  "
   ]
  },
  {
   "cell_type": "code",
   "execution_count": 52,
   "metadata": {},
   "outputs": [
    {
     "data": {
      "text/plain": [
       "{'brand': 'Nissan', 'color': 'red'}"
      ]
     },
     "execution_count": 52,
     "metadata": {},
     "output_type": "execute_result"
    }
   ],
   "source": [
    "d\n",
    "d.popitem()\n",
    "d"
   ]
  },
  {
   "cell_type": "code",
   "execution_count": 55,
   "metadata": {},
   "outputs": [
    {
     "data": {
      "text/plain": [
       "['a', 'programming', 'lang', 'is', 'python']"
      ]
     },
     "execution_count": 55,
     "metadata": {},
     "output_type": "execute_result"
    }
   ],
   "source": [
    "s = ' a programming lang is python'\n",
    "d = {}\n",
    "d = s.split()\n",
    "d"
   ]
  },
  {
   "cell_type": "code",
   "execution_count": 1,
   "metadata": {},
   "outputs": [
    {
     "data": {
      "text/plain": [
       "{1, 2, 3, 4, 6, 8, 9}"
      ]
     },
     "execution_count": 1,
     "metadata": {},
     "output_type": "execute_result"
    }
   ],
   "source": [
    "s = {1, 2, 3, 4, 1, 6, 9, 8}\n",
    "s"
   ]
  },
  {
   "cell_type": "code",
   "execution_count": 2,
   "metadata": {},
   "outputs": [],
   "source": [
    "a = s"
   ]
  },
  {
   "cell_type": "code",
   "execution_count": 10,
   "metadata": {},
   "outputs": [
    {
     "data": {
      "text/plain": [
       "{1, 'a', 's'}"
      ]
     },
     "execution_count": 10,
     "metadata": {},
     "output_type": "execute_result"
    }
   ],
   "source": [
    "a\n",
    "b = {'s','a', 1}\n",
    "c = a.union(b)\n",
    "b\n"
   ]
  },
  {
   "cell_type": "code",
   "execution_count": 13,
   "metadata": {},
   "outputs": [
    {
     "name": "stdout",
     "output_type": "stream",
     "text": [
      "{1, 2, 3, 4, 6, 8, 9}\n",
      "{1, 'a', 's'}\n",
      "{1}\n",
      "{2, 3, 4, 6, 8, 9}\n",
      "{'a', 's'}\n"
     ]
    }
   ],
   "source": [
    "k = a.intersection(b)\n",
    "h = a.difference(b)\n",
    "print(a)\n",
    "print(b)\n",
    "print(k)\n",
    "print(h)\n",
    "print(b.difference(a))"
   ]
  },
  {
   "cell_type": "code",
   "execution_count": 18,
   "metadata": {},
   "outputs": [
    {
     "data": {
      "text/plain": [
       "'stop'"
      ]
     },
     "execution_count": 18,
     "metadata": {},
     "output_type": "execute_result"
    }
   ],
   "source": [
    "def f(l):\n",
    "    for i in l:\n",
    "        if i == 5:\n",
    "            return 'stop'\n",
    "    return l\n",
    "l = [1, 2, 3, 4, 5]\n",
    "f(l)"
   ]
  },
  {
   "cell_type": "code",
   "execution_count": 21,
   "metadata": {},
   "outputs": [
    {
     "data": {
      "text/plain": [
       "complex"
      ]
     },
     "execution_count": 21,
     "metadata": {},
     "output_type": "execute_result"
    }
   ],
   "source": [
    "a = 1 + 2j\n",
    "type(a)"
   ]
  },
  {
   "cell_type": "code",
   "execution_count": 29,
   "metadata": {},
   "outputs": [
    {
     "data": {
      "text/plain": [
       "False"
      ]
     },
     "execution_count": 29,
     "metadata": {},
     "output_type": "execute_result"
    }
   ],
   "source": [
    "import keyword as kw\n",
    "kw.iskeyword('and')"
   ]
  },
  {
   "cell_type": "code",
   "execution_count": 32,
   "metadata": {},
   "outputs": [
    {
     "data": {
      "text/plain": [
       "1"
      ]
     },
     "execution_count": 32,
     "metadata": {},
     "output_type": "execute_result"
    }
   ],
   "source": [
    "8 ** 2\n",
    "8 ** 0\n",
    "0 ** 0"
   ]
  },
  {
   "cell_type": "code",
   "execution_count": 38,
   "metadata": {},
   "outputs": [
    {
     "data": {
      "text/plain": [
       "0"
      ]
     },
     "execution_count": 38,
     "metadata": {},
     "output_type": "execute_result"
    }
   ],
   "source": [
    "1>>2\n",
    "\n"
   ]
  },
  {
   "cell_type": "code",
   "execution_count": 45,
   "metadata": {},
   "outputs": [
    {
     "name": "stdout",
     "output_type": "stream",
     "text": [
      "2.12\n"
     ]
    },
    {
     "data": {
      "text/plain": [
       "0"
      ]
     },
     "execution_count": 45,
     "metadata": {},
     "output_type": "execute_result"
    }
   ],
   "source": [
    "n = 2.123654\n",
    "print('%.2f'%n)\n",
    "s = 'abcde'\n",
    "s.find('l')\n",
    "s.index('a')\n"
   ]
  },
  {
   "cell_type": "code",
   "execution_count": 62,
   "metadata": {},
   "outputs": [
    {
     "name": "stdout",
     "output_type": "stream",
     "text": [
      "[3, 6]\n"
     ]
    },
    {
     "data": {
      "text/plain": [
       "1"
      ]
     },
     "execution_count": 62,
     "metadata": {},
     "output_type": "execute_result"
    }
   ],
   "source": [
    "a = [2, 6, 7, 3]\n",
    "print(a[4:0:-2])\n",
    "min(a)\n",
    "max(a)\n",
    "sum(a)\n",
    "a.count(2)\n"
   ]
  },
  {
   "cell_type": "code",
   "execution_count": 63,
   "metadata": {},
   "outputs": [
    {
     "data": {
      "text/plain": [
       "[2, 6, 7, 3, ['a', 'b']]"
      ]
     },
     "execution_count": 63,
     "metadata": {},
     "output_type": "execute_result"
    }
   ],
   "source": [
    "b = ['a', 'b']\n",
    "a.append(b)\n",
    "a"
   ]
  },
  {
   "cell_type": "code",
   "execution_count": 65,
   "metadata": {},
   "outputs": [
    {
     "data": {
      "text/plain": [
       "[2, 6, 7, 3, 'a', 'b']"
      ]
     },
     "execution_count": 65,
     "metadata": {},
     "output_type": "execute_result"
    }
   ],
   "source": [
    "a = [2, 6, 7, 3]\n",
    "b = ['a', 'b']\n",
    "a.extend(b)\n",
    "a"
   ]
  },
  {
   "cell_type": "code",
   "execution_count": 69,
   "metadata": {},
   "outputs": [
    {
     "data": {
      "text/plain": [
       "['Python is a best lang.']"
      ]
     },
     "execution_count": 69,
     "metadata": {},
     "output_type": "execute_result"
    }
   ],
   "source": [
    "s = 'Python is a best lang.'\n",
    "new_s = s.split(' ')\n",
    "new_s"
   ]
  },
  {
   "cell_type": "code",
   "execution_count": 73,
   "metadata": {},
   "outputs": [
    {
     "data": {
      "text/plain": [
       "True"
      ]
     },
     "execution_count": 73,
     "metadata": {},
     "output_type": "execute_result"
    }
   ],
   "source": [
    "isinstance(s, str)"
   ]
  },
  {
   "cell_type": "code",
   "execution_count": 78,
   "metadata": {},
   "outputs": [
    {
     "data": {
      "text/plain": [
       "5"
      ]
     },
     "execution_count": 78,
     "metadata": {},
     "output_type": "execute_result"
    }
   ],
   "source": [
    "import operator\n",
    "d = {'brand':3, 'model': 2, 'year': 2020}\n",
    "#operator.itemgetter(1)\n",
    "x = 2\n",
    "y = 3\n",
    "operator.add(x, y)"
   ]
  },
  {
   "cell_type": "code",
   "execution_count": 79,
   "metadata": {},
   "outputs": [
    {
     "data": {
      "text/plain": [
       "{'brand': 'BMW', 'model': 730, 'year': 2020, 'color:': 'red'}"
      ]
     },
     "execution_count": 79,
     "metadata": {},
     "output_type": "execute_result"
    }
   ],
   "source": [
    "d1 = {'brand':'BMW', 'model': 730, 'year': 2020}\n",
    "d2 = {'color:':'red'}\n",
    "d = {**d1, **d2}\n",
    "d"
   ]
  },
  {
   "cell_type": "code",
   "execution_count": 99,
   "metadata": {},
   "outputs": [
    {
     "name": "stdout",
     "output_type": "stream",
     "text": [
      "My name is name='Ava'. I am 7 years old. My heigh is 1.2132 m.\n",
      "My name is Ava. I am 7 years old. My heigh is 1.21 m.\n"
     ]
    }
   ],
   "source": [
    "name = 'Ava'\n",
    "age = 7\n",
    "heigh = 1.2132 # also use {name =}\n",
    "print(f'My name is {name}. I am {age} years old. My heigh is {heigh} m.')\n",
    "print(f'My name is %s. I am %d years old. My heigh is %.2f m.' %(name, age, heigh))"
   ]
  },
  {
   "cell_type": "code",
   "execution_count": 90,
   "metadata": {},
   "outputs": [
    {
     "data": {
      "text/plain": [
       "['Ava', 'Baran', 'Ziba']"
      ]
     },
     "execution_count": 90,
     "metadata": {},
     "output_type": "execute_result"
    }
   ],
   "source": [
    "name = ['Ziba', 'Baran', 'Ava']\n",
    "name.sort()\n",
    "name\n"
   ]
  },
  {
   "cell_type": "code",
   "execution_count": 94,
   "metadata": {},
   "outputs": [
    {
     "data": {
      "text/plain": [
       "24"
      ]
     },
     "execution_count": 94,
     "metadata": {},
     "output_type": "execute_result"
    }
   ],
   "source": [
    "12 * 2\n",
    "k = 'ans'\n",
    "d = 9\n",
    "# _ last data that printed return:\n",
    "_"
   ]
  },
  {
   "cell_type": "code",
   "execution_count": 95,
   "metadata": {},
   "outputs": [
    {
     "data": {
      "text/plain": [
       "2"
      ]
     },
     "execution_count": 95,
     "metadata": {},
     "output_type": "execute_result"
    }
   ],
   "source": [
    "int(2.36)"
   ]
  },
  {
   "cell_type": "code",
   "execution_count": 98,
   "metadata": {},
   "outputs": [
    {
     "name": "stdout",
     "output_type": "stream",
     "text": [
      "9\n"
     ]
    }
   ],
   "source": [
    "def f():\n",
    "  pass\n",
    "print(9)"
   ]
  },
  {
   "cell_type": "code",
   "execution_count": 4,
   "metadata": {},
   "outputs": [
    {
     "name": "stdout",
     "output_type": "stream",
     "text": [
      "Hello asa!\n"
     ]
    }
   ],
   "source": [
    "greating = 'Hello %s!'\n",
    "name = input('plz inter ur name:\\n')\n",
    "print(greating % name)"
   ]
  },
  {
   "cell_type": "code",
   "execution_count": 6,
   "metadata": {},
   "outputs": [
    {
     "name": "stdout",
     "output_type": "stream",
     "text": [
      "Hello anahita with 12 years old\n"
     ]
    }
   ],
   "source": [
    "greating = 'Hello %s with %d years old'\n",
    "name = input()\n",
    "age = int(input())\n",
    "print(greating % (name,age))"
   ]
  },
  {
   "cell_type": "code",
   "execution_count": 7,
   "metadata": {},
   "outputs": [
    {
     "name": "stdout",
     "output_type": "stream",
     "text": [
      "Hello ava with 22 years old.\n"
     ]
    }
   ],
   "source": [
    "greating = \"Hello {} with {} years old.\"\n",
    "name = input()\n",
    "age = int(input())\n",
    "print(greating.format(name,age))\n",
    "\n"
   ]
  },
  {
   "cell_type": "code",
   "execution_count": 16,
   "metadata": {},
   "outputs": [
    {
     "data": {
      "text/plain": [
       "True"
      ]
     },
     "execution_count": 16,
     "metadata": {},
     "output_type": "execute_result"
    }
   ],
   "source": [
    "a = '09126982466'\n",
    "a.startswith('09')"
   ]
  },
  {
   "cell_type": "code",
   "execution_count": 17,
   "metadata": {},
   "outputs": [
    {
     "data": {
      "text/plain": [
       "True"
      ]
     },
     "execution_count": 17,
     "metadata": {},
     "output_type": "execute_result"
    }
   ],
   "source": [
    "a.isdigit()"
   ]
  },
  {
   "attachments": {},
   "cell_type": "markdown",
   "metadata": {},
   "source": [
    "Lambda:"
   ]
  },
  {
   "cell_type": "code",
   "execution_count": 20,
   "metadata": {},
   "outputs": [
    {
     "data": {
      "text/plain": [
       "8"
      ]
     },
     "execution_count": 20,
     "metadata": {},
     "output_type": "execute_result"
    }
   ],
   "source": [
    "k = (lambda x : x * 2 )(4)\n",
    "k"
   ]
  },
  {
   "cell_type": "code",
   "execution_count": 21,
   "metadata": {},
   "outputs": [
    {
     "data": {
      "text/plain": [
       "10"
      ]
     },
     "execution_count": 21,
     "metadata": {},
     "output_type": "execute_result"
    }
   ],
   "source": [
    "lam1 = lambda x, y : x + y\n",
    "lam1(x = 2, y = 8)"
   ]
  }
 ],
 "metadata": {
  "kernelspec": {
   "display_name": "Python 3",
   "language": "python",
   "name": "python3"
  },
  "language_info": {
   "codemirror_mode": {
    "name": "ipython",
    "version": 3
   },
   "file_extension": ".py",
   "mimetype": "text/x-python",
   "name": "python",
   "nbconvert_exporter": "python",
   "pygments_lexer": "ipython3",
   "version": "3.11.1"
  },
  "orig_nbformat": 4
 },
 "nbformat": 4,
 "nbformat_minor": 2
}
