{
 "cells": [
  {
   "cell_type": "code",
   "execution_count": 1,
   "metadata": {},
   "outputs": [
    {
     "name": "stdout",
     "output_type": "stream",
     "text": [
      "2.0\n",
      "<class 'float'>\n"
     ]
    }
   ],
   "source": [
    "n = float(input())\n",
    "print(n)\n",
    "print(type(n))"
   ]
  },
  {
   "cell_type": "code",
   "execution_count": 4,
   "metadata": {},
   "outputs": [
    {
     "name": "stdout",
     "output_type": "stream",
     "text": [
      "ha\n"
     ]
    }
   ],
   "source": [
    "n = int(input())\n",
    "if n > 20 :\n",
    "    print ('ha')\n",
    "elif n > 10:\n",
    "    print('hoo')\n",
    "elif n > 0 :\n",
    "    print ('hi')\n",
    "else:\n",
    "    print('mines dig')"
   ]
  },
  {
   "cell_type": "code",
   "execution_count": 7,
   "metadata": {},
   "outputs": [
    {
     "name": "stdout",
     "output_type": "stream",
     "text": [
      "a b c 1 2 3 A B C "
     ]
    }
   ],
   "source": [
    "s = [\n",
    "    ['a', 'b', 'c'],\n",
    "    [1, 2, 3],\n",
    "    ['A', 'B', 'C']\n",
    "]\n",
    "for ch1 in s:\n",
    "    for ch2 in ch1:\n",
    "        print(ch2, end = ' ')"
   ]
  },
  {
   "cell_type": "code",
   "execution_count": 13,
   "metadata": {},
   "outputs": [
    {
     "name": "stdout",
     "output_type": "stream",
     "text": [
      "@@@ salam\n",
      "@@@ na\n"
     ]
    }
   ],
   "source": [
    "words = ['salam', 'khobi', 'na']\n",
    "for i in range(0, len(words), 2):\n",
    "    print('@@@', words[i])"
   ]
  },
  {
   "attachments": {},
   "cell_type": "markdown",
   "metadata": {},
   "source": [
    "jadwal zarb:"
   ]
  },
  {
   "cell_type": "code",
   "execution_count": null,
   "metadata": {},
   "outputs": [],
   "source": [
    "n = int(input())\n",
    "for i in range(1, n+1):\n",
    "    for j in range(1, n+1):\n",
    "        print(i * j, end = ' ')\n",
    "    print()"
   ]
  },
  {
   "cell_type": "code",
   "execution_count": 16,
   "metadata": {},
   "outputs": [
    {
     "name": "stdout",
     "output_type": "stream",
     "text": [
      "24\n"
     ]
    }
   ],
   "source": [
    "def combo(k):\n",
    "    import math # or : from math import factorial as f\n",
    "    print(math.factorial(k))\n",
    "combo(k = 4)"
   ]
  },
  {
   "cell_type": "code",
   "execution_count": 61,
   "metadata": {},
   "outputs": [
    {
     "name": "stdout",
     "output_type": "stream",
     "text": [
      "2.079\n",
      "4.796\n",
      "sin:  0.1411200080598672\n"
     ]
    },
    {
     "data": {
      "text/plain": [
       "3"
      ]
     },
     "execution_count": 61,
     "metadata": {},
     "output_type": "execute_result"
    }
   ],
   "source": [
    "import math\n",
    "math.gcd(4, 24)\n",
    "math.fabs(-4)\n",
    "math.factorial(8)\n",
    "math.pow(2,8)\n",
    "m = math.log(8)\n",
    "print('%.3f' % m)\n",
    "math.log(16,2)\n",
    "n = math.sqrt(23)\n",
    "print('%.3f' %n)\n",
    "math.pi\n",
    "print('sin: ',math.sin(3))\n",
    "math.radians(57)\n",
    "math.floor(3.9)\n"
   ]
  },
  {
   "cell_type": "code",
   "execution_count": 56,
   "metadata": {},
   "outputs": [
    {
     "name": "stdout",
     "output_type": "stream",
     "text": [
      "89.99992398025215\n",
      "-1145.9155902616465\n",
      "57.29577951308232\n",
      "5156.620156177409\n"
     ]
    }
   ],
   "source": [
    "import math\n",
    "\n",
    "# Convert from radians to degrees:\n",
    "print (math.degrees(3.14159/2))\n",
    "print (math.degrees(-20))\n",
    "print (math.degrees(1))\n",
    "print (math.degrees(90))\n"
   ]
  },
  {
   "cell_type": "code",
   "execution_count": 67,
   "metadata": {},
   "outputs": [
    {
     "name": "stdout",
     "output_type": "stream",
     "text": [
      "2023-05-14 14:22:33\n"
     ]
    }
   ],
   "source": [
    "from datetime import datetime\n",
    "t = datetime(2023, 5, 14, 14, 22, 33)\n",
    "print(t)"
   ]
  },
  {
   "cell_type": "code",
   "execution_count": 66,
   "metadata": {},
   "outputs": [
    {
     "data": {
      "text/plain": [
       "datetime.datetime(2023, 7, 6, 10, 59, 45, 799406)"
      ]
     },
     "execution_count": 66,
     "metadata": {},
     "output_type": "execute_result"
    }
   ],
   "source": [
    "datetime.now()"
   ]
  },
  {
   "cell_type": "code",
   "execution_count": 73,
   "metadata": {},
   "outputs": [
    {
     "name": "stdout",
     "output_type": "stream",
     "text": [
      "2023\n",
      "8\n",
      "17\n"
     ]
    }
   ],
   "source": [
    "date = datetime.strptime('2023-08-17', '%Y-%m-%d')\n",
    "print(date.year)\n",
    "print(date.month)\n",
    "print(date.day)"
   ]
  },
  {
   "cell_type": "code",
   "execution_count": 81,
   "metadata": {},
   "outputs": [
    {
     "data": {
      "text/plain": [
       "'konchengchon'"
      ]
     },
     "execution_count": 81,
     "metadata": {},
     "output_type": "execute_result"
    }
   ],
   "source": [
    "s = 'konchengchonka'\n",
    "s.removeprefix('konch')\n",
    "s.removesuffix('ka')"
   ]
  },
  {
   "cell_type": "code",
   "execution_count": 85,
   "metadata": {},
   "outputs": [
    {
     "name": "stdout",
     "output_type": "stream",
     "text": [
      "Age of my duaghter is 3 years, and her hieght is 110cm and gender is True.\n"
     ]
    }
   ],
   "source": [
    "age = 3\n",
    "height = 110\n",
    "isFemale = True\n",
    "print(f'Age of my duaghter is {age} years, and her hieght is {height}cm and gender is {isFemale}.')"
   ]
  },
  {
   "cell_type": "code",
   "execution_count": 86,
   "metadata": {},
   "outputs": [
    {
     "data": {
      "text/plain": [
       "'var = 2'"
      ]
     },
     "execution_count": 86,
     "metadata": {},
     "output_type": "execute_result"
    }
   ],
   "source": [
    "var = 2\n",
    "f'{var = }'"
   ]
  },
  {
   "cell_type": "code",
   "execution_count": 88,
   "metadata": {},
   "outputs": [
    {
     "name": "stdout",
     "output_type": "stream",
     "text": [
      "Hello kl!\n"
     ]
    }
   ],
   "source": [
    "greeting = \"Hello %s!\"\n",
    "name = input(\"Please enter your name:\\n\")\n",
    "print(greeting % name)"
   ]
  },
  {
   "cell_type": "code",
   "execution_count": 92,
   "metadata": {},
   "outputs": [
    {
     "name": "stdout",
     "output_type": "stream",
     "text": [
      "Hello kami with 12 years old!\n"
     ]
    }
   ],
   "source": [
    "greeting = \"Hello %s with %d years old!\"\n",
    "name = input('input name:\\n')\n",
    "age = 12\n",
    "print(greeting % (name,age))"
   ]
  },
  {
   "cell_type": "code",
   "execution_count": 94,
   "metadata": {},
   "outputs": [
    {
     "data": {
      "text/plain": [
       "['th', 'th']"
      ]
     },
     "execution_count": 94,
     "metadata": {},
     "output_type": "execute_result"
    }
   ],
   "source": [
    "import re\n",
    "text1 = 'Python is a object oriented lang.Python is so nice to learn.'\n",
    "re.findall('th', text1)"
   ]
  },
  {
   "cell_type": "code",
   "execution_count": 107,
   "metadata": {},
   "outputs": [
    {
     "data": {
      "text/plain": [
       "['ef', 'ef']"
      ]
     },
     "execution_count": 107,
     "metadata": {},
     "output_type": "execute_result"
    }
   ],
   "source": [
    "x = re.search('e[a-z]', 'abced e abcd')\n",
    "x.string\n",
    "x.span()\n",
    "x.group()\n",
    "re.findall('ef', 'i have to efoort ef ')\n",
    "re.split('a', s)"
   ]
  },
  {
   "cell_type": "code",
   "execution_count": 111,
   "metadata": {},
   "outputs": [
    {
     "data": {
      "text/plain": [
       "['you', 'can', 'split', 'with', 'numbers']"
      ]
     },
     "execution_count": 111,
     "metadata": {},
     "output_type": "execute_result"
    }
   ],
   "source": [
    "re.split('[0-9]+','you92398can820split729with26numbers')"
   ]
  },
  {
   "cell_type": "code",
   "execution_count": 118,
   "metadata": {},
   "outputs": [
    {
     "data": {
      "text/plain": [
       "['2093', '20', '120', '']"
      ]
     },
     "execution_count": 118,
     "metadata": {},
     "output_type": "execute_result"
    }
   ],
   "source": [
    "re.split('[a-z]+','2093ab20a120dk')"
   ]
  },
  {
   "cell_type": "code",
   "execution_count": 120,
   "metadata": {},
   "outputs": [
    {
     "data": {
      "text/plain": [
       "'s9df'"
      ]
     },
     "execution_count": 120,
     "metadata": {},
     "output_type": "execute_result"
    }
   ],
   "source": [
    "s = 'sadf'\n",
    "re.sub('a', '9', s)"
   ]
  },
  {
   "cell_type": "code",
   "execution_count": null,
   "metadata": {},
   "outputs": [],
   "source": [
    "import re\n",
    "\n",
    "def validate_email(email):\n",
    "    return bool(re.match(r\"[a-zA-Z0-9\\.\\_] + @[a-zA\") , email)"
   ]
  }
 ],
 "metadata": {
  "kernelspec": {
   "display_name": "Python 3",
   "language": "python",
   "name": "python3"
  },
  "language_info": {
   "codemirror_mode": {
    "name": "ipython",
    "version": 3
   },
   "file_extension": ".py",
   "mimetype": "text/x-python",
   "name": "python",
   "nbconvert_exporter": "python",
   "pygments_lexer": "ipython3",
   "version": "3.11.1"
  },
  "orig_nbformat": 4
 },
 "nbformat": 4,
 "nbformat_minor": 2
}
