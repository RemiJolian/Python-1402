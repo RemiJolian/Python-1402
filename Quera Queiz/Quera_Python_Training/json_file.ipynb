{
 "cells": [
  {
   "cell_type": "code",
   "execution_count": 19,
   "metadata": {},
   "outputs": [
    {
     "name": "stdout",
     "output_type": "stream",
     "text": [
      "{'people': [{'name': 'Hamid Bagheri', 'phone': '0912..', 'email': ['h.bagheri58@gmail.com', 'hamid58b@gmail.com'], 'has Registered': False}, {'name': 'Baran Bagheri', 'phone': '0912', 'email': None, 'has Registered': True}]}\n",
      "{'name': 'Baran Bagheri', 'phone': '0912', 'email': None, 'has Registered': True}\n",
      "dict_keys(['people'])\n",
      "dict_values([[{'name': 'Hamid Bagheri', 'phone': '0912..', 'email': ['h.bagheri58@gmail.com', 'hamid58b@gmail.com'], 'has Registered': False}, {'name': 'Baran Bagheri', 'phone': '0912', 'email': None, 'has Registered': True}]])\n",
      "<class 'dict'>\n",
      "<class 'dict'>\n",
      "-------------------\n",
      "{'name': 'Hamid Bagheri', 'phone': '0912..', 'email': ['h.bagheri58@gmail.com', 'hamid58b@gmail.com'], 'has Registered': False}\n",
      "{'name': 'Baran Bagheri', 'phone': '0912', 'email': None, 'has Registered': True}\n",
      "again convert to json:--------------------------------------------\n",
      "<class 'str'>\n",
      "{\"people\": [{\"name\": \"Hamid Bagheri\", \"phone\": \"0912..\", \"email\": [\"h.bagheri58@gmail.com\", \"hamid58b@gmail.com\"], \"has Registered\": false}, {\"name\": \"Baran Bagheri\", \"phone\": \"0912\", \"email\": null, \"has Registered\": true}]}\n"
     ]
    },
    {
     "name": "stderr",
     "output_type": "stream",
     "text": [
      "<>:32: SyntaxWarning: 'ellipsis' object is not callable; perhaps you missed a comma?\n",
      "<>:32: SyntaxWarning: 'ellipsis' object is not callable; perhaps you missed a comma?\n",
      "C:\\Users\\rbagh\\AppData\\Local\\Temp\\ipykernel_13892\\1344161462.py:32: SyntaxWarning: 'ellipsis' object is not callable; perhaps you missed a comma?\n",
      "  new_string = json.dumps(data) or ...(data,indent = 2)\n"
     ]
    }
   ],
   "source": [
    "import json\n",
    "people_string = '''\n",
    "{\n",
    "    \"people\" : [\n",
    "        {\n",
    "            \"name\" : \"Hamid Bagheri\",\n",
    "            \"phone\" : \"0912..\",\n",
    "            \"email\" : [\"h.bagheri58@gmail.com\", \"hamid58b@gmail.com\"],\n",
    "            \"has Registered\" : false\n",
    "        },\n",
    "        {\n",
    "            \"name\" : \"Baran Bagheri\",\n",
    "            \"phone\" : \"0912\",\n",
    "            \"email\" : null,\n",
    "            \"has Registered\" : true \n",
    "        }\n",
    "    ]\n",
    "}\n",
    "'''\n",
    "data = json.loads(people_string)\n",
    "print(data)\n",
    "print(data['people'][1])\n",
    "print(data.keys())\n",
    "print(data.values())\n",
    "print(type(data))\n",
    "print(type(data['people'][0]))\n",
    "print('-------------------')\n",
    "for person in data['people']:\n",
    "    print(person) # or del person['phone]\n",
    "print('again convert to json:--------------------------------------------')\n",
    "# again convert to json\n",
    "new_string = json.dumps(data) # or ...(data, indent = 2)\n",
    "print(type(new_string))\n",
    "print(new_string)\n"
   ]
  }
 ],
 "metadata": {
  "kernelspec": {
   "display_name": "Python 3",
   "language": "python",
   "name": "python3"
  },
  "language_info": {
   "codemirror_mode": {
    "name": "ipython",
    "version": 3
   },
   "file_extension": ".py",
   "mimetype": "text/x-python",
   "name": "python",
   "nbconvert_exporter": "python",
   "pygments_lexer": "ipython3",
   "version": "3.11.1"
  },
  "orig_nbformat": 4
 },
 "nbformat": 4,
 "nbformat_minor": 2
}
