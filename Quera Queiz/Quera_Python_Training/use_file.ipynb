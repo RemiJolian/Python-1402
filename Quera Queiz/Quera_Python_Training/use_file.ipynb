{
 "cells": [
  {
   "cell_type": "code",
   "execution_count": 18,
   "metadata": {},
   "outputs": [],
   "source": [
    "with open ('ramin_text.txt', 'w') as t:\n",
    "    \n",
    "    t.write('this is test text.\\n') \n",
    "    t.write('Hi guys.')"
   ]
  },
  {
   "cell_type": "code",
   "execution_count": null,
   "metadata": {},
   "outputs": [],
   "source": [
    "with open('G:\\\\Ramin\\\\Programming\\\\1-Training\\\\My_Test_Files\\\\demo.txt', 'w')as demo:\n",
    "    demo.write(\"Hi\")"
   ]
  },
  {
   "cell_type": "code",
   "execution_count": 36,
   "metadata": {},
   "outputs": [
    {
     "name": "stdout",
     "output_type": "stream",
     "text": [
      " Hi guys.\n",
      " "
     ]
    }
   ],
   "source": [
    "f = open('ramin_text.txt', 'r')\n",
    "lines = []\n",
    "while True:\n",
    "    if f.readline() == '':\n",
    "        break\n",
    "    lines.append(f.readline())\n",
    "lines.reverse()\n",
    "for line in lines:\n",
    "    print(line, end = ' ')\n",
    "#print(lines)"
   ]
  },
  {
   "cell_type": "code",
   "execution_count": 49,
   "metadata": {},
   "outputs": [
    {
     "name": "stdout",
     "output_type": "stream",
     "text": [
      "['Hi!\\n', 'How are you?\\n', 'I am Ramin.']\n",
      "I am Ramin. How are you?\n",
      " Hi!\n",
      " "
     ]
    }
   ],
   "source": [
    "f = open(\"Info.txt\", \"r\")\n",
    "lines = []\n",
    "while True:\n",
    "    line = f.readline()\n",
    "    if line == '':\n",
    "        break # end of file\n",
    "    lines.append(line)\n",
    "print(lines)\n",
    "lines.reverse()\n",
    "for line in lines:\n",
    "    print(line, end = ' ')\n",
    "f.close()"
   ]
  },
  {
   "cell_type": "code",
   "execution_count": 47,
   "metadata": {},
   "outputs": [
    {
     "name": "stdout",
     "output_type": "stream",
     "text": [
      "How are you?\n",
      "Hi!\n"
     ]
    }
   ],
   "source": [
    "with open('info.txt', 'r') as f:\n",
    "    lines = []\n",
    "    while True:\n",
    "        line = f.readline()\n",
    "        if line == '':\n",
    "           break\n",
    "        lines.append(line)\n",
    "    lines.reverse()\n",
    "    for line in lines:\n",
    "        print(line, end = '')\n",
    "    "
   ]
  },
  {
   "cell_type": "code",
   "execution_count": 59,
   "metadata": {},
   "outputs": [
    {
     "data": {
      "text/plain": [
       "'How are you?\\n'"
      ]
     },
     "execution_count": 59,
     "metadata": {},
     "output_type": "execute_result"
    }
   ],
   "source": [
    "f = open('info.txt', 'r')\n",
    "#f.read(13)\n",
    "#f.read(3)\n",
    "#f.read()\n",
    "f.readline()\n",
    "f.readline()"
   ]
  },
  {
   "cell_type": "code",
   "execution_count": 76,
   "metadata": {},
   "outputs": [
    {
     "data": {
      "text/plain": [
       "''"
      ]
     },
     "execution_count": 76,
     "metadata": {},
     "output_type": "execute_result"
    }
   ],
   "source": [
    "n = int(input())\n",
    "f = open('ds.txt', 'r+')\n",
    "for i in range (n):\n",
    "    line = input()\n",
    "    f.write(line + '\\n')\n",
    "f.read()\n",
    "    "
   ]
  },
  {
   "cell_type": "code",
   "execution_count": 83,
   "metadata": {},
   "outputs": [
    {
     "data": {
      "text/plain": [
       "'asd\\nqwer\\ntyui\\n'"
      ]
     },
     "execution_count": 83,
     "metadata": {},
     "output_type": "execute_result"
    }
   ],
   "source": [
    "f= open('ds.txt', 'r')\n",
    "#f.readline()\n",
    "f.read()\n"
   ]
  },
  {
   "cell_type": "code",
   "execution_count": 132,
   "metadata": {},
   "outputs": [
    {
     "data": {
      "text/plain": [
       "8"
      ]
     },
     "execution_count": 132,
     "metadata": {},
     "output_type": "execute_result"
    }
   ],
   "source": [
    "f = open('test_3.txt', 'w')\n",
    "f.tell()\n",
    "f.write('salam'+ '\\n')\n",
    "f.write('Hi again')"
   ]
  },
  {
   "attachments": {},
   "cell_type": "markdown",
   "metadata": {},
   "source": [
    "count code's line of the file \"test_4.py\":"
   ]
  },
  {
   "cell_type": "code",
   "execution_count": null,
   "metadata": {},
   "outputs": [],
   "source": [
    "\n",
    "def code_line(code):\n",
    "    f =  open('test_4.py', 'r')\n",
    "    c = 0\n",
    "    import re\n",
    "    while True:\n",
    "        line = f.readline()\n",
    "        if line != ' ' and bool(re.match(r\"^(#)\", line)) is False:\n",
    "            c += 1\n",
    "    return c\n",
    "\n",
    "code_line(line)"
   ]
  },
  {
   "cell_type": "code",
   "execution_count": null,
   "metadata": {},
   "outputs": [],
   "source": [
    "def solve(filename):\n",
    "\tf =  open('filename', 'r')\n",
    "\tans = 0\n",
    "\tfor line in f.readlines():\n",
    "\t\tline = line.strip()\n",
    "\t\tif line == '' or line[0] == '#':\n",
    "\t\t    continue\n",
    "\t\tans += 1\n",
    "\treturn ans\n",
    "solve(test_4.py)\n"
   ]
  },
  {
   "cell_type": "code",
   "execution_count": 135,
   "metadata": {},
   "outputs": [],
   "source": [
    "def solve(test_4.py):\n",
    "    with open('test_4.py', \"r\") as file:\n",
    "        cnt = 0\n",
    "        for row in file:\n",
    "            cnt +=1\n",
    "            txt = row.strip()\n",
    "            if txt == '' or txt[0] == '#':\n",
    "                cnt -=1\n",
    "           # print(row[0])\n",
    "        return(cnt)"
   ]
  },
  {
   "cell_type": "code",
   "execution_count": 140,
   "metadata": {},
   "outputs": [
    {
     "data": {
      "text/plain": [
       "16"
      ]
     },
     "execution_count": 140,
     "metadata": {},
     "output_type": "execute_result"
    }
   ],
   "source": [
    "h = open('test_3.txt', 'w')\n",
    "type(h)\n",
    "h.write('student\\number\\t4')"
   ]
  },
  {
   "cell_type": "code",
   "execution_count": 152,
   "metadata": {},
   "outputs": [
    {
     "data": {
      "text/plain": [
       "2"
      ]
     },
     "execution_count": 152,
     "metadata": {},
     "output_type": "execute_result"
    }
   ],
   "source": [
    "f = open('G:\\Film\\demo.txt', 'w')\n",
    "f.write('Hi')"
   ]
  },
  {
   "cell_type": "code",
   "execution_count": 5,
   "metadata": {},
   "outputs": [
    {
     "name": "stdout",
     "output_type": "stream",
     "text": [
      "['salam\\n', 'Hi again\\t4']\n"
     ]
    }
   ],
   "source": [
    "with open ('test_3.txt','r') as f:\n",
    "    list1 = f.readlines()\n",
    "    print(list1)\n",
    "    "
   ]
  },
  {
   "cell_type": "code",
   "execution_count": 9,
   "metadata": {},
   "outputs": [
    {
     "name": "stdout",
     "output_type": "stream",
     "text": [
      "['salam\\n', 'Hi again\\n', '4']"
     ]
    }
   ],
   "source": [
    "with open ('test_3.txt','r') as f:\n",
    "    print(f.readlines(),end = '')\n",
    "    for line in f:\n",
    "        print(line,end = '')"
   ]
  },
  {
   "cell_type": "code",
   "execution_count": 30,
   "metadata": {},
   "outputs": [
    {
     "name": "stdout",
     "output_type": "stream",
     "text": [
      "[]\n"
     ]
    }
   ],
   "source": [
    "with open('test_5.txt', 'w+') as m, open('test_3.txt', 'r') as n:\n",
    "   m.writelines((n.readlines()))\n",
    "   print(m.readlines())"
   ]
  },
  {
   "cell_type": "code",
   "execution_count": 31,
   "metadata": {},
   "outputs": [
    {
     "name": "stdout",
     "output_type": "stream",
     "text": [
      "['salam\\n', 'Hi again\\n', '4']\n"
     ]
    }
   ],
   "source": [
    "with open('test_5.txt' , 'r') as d:\n",
    "    print(d.readlines())"
   ]
  },
  {
   "attachments": {},
   "cell_type": "markdown",
   "metadata": {},
   "source": [
    "CSV files:"
   ]
  },
  {
   "cell_type": "code",
   "execution_count": 3,
   "metadata": {},
   "outputs": [
    {
     "name": "stdout",
     "output_type": "stream",
     "text": [
      "column Title are ('', 'Namesep=Depsep=Addresssep=City')\n",
      "\tMahsa worked in IT dep live in A St. in city Saqez\n",
      "\tBaran worked in Phys dep live in Sat Av. in city Tehran\n",
      "3 line process\n"
     ]
    }
   ],
   "source": [
    "import csv\n",
    "with open('My_CSV.csv' , 'r') as csv_file:\n",
    "    csv_reader = csv.reader(csv_file, delimiter= ',')\n",
    "    line_count = 0  \n",
    "    for row in csv_reader:\n",
    "        if line_count == 0:\n",
    "            print(f'column Title are {\"\",\"sep=\".join(row)}') # \"\" not ''\n",
    "            line_count += 1\n",
    "        else :\n",
    "            print(f'\\t{row[0]} worked in {row[1]} dep live in {row[2]} in city {row[3]}')\n",
    "            line_count += 1\n",
    "    print(f'{line_count} line process')"
   ]
  },
  {
   "cell_type": "code",
   "execution_count": 12,
   "metadata": {},
   "outputs": [
    {
     "name": "stdout",
     "output_type": "stream",
     "text": [
      "<_io.TextIOWrapper name='a.text' mode='w' encoding='cp1252'>\n",
      "<class '_io.TextIOWrapper'>\n"
     ]
    }
   ],
   "source": [
    "f = open('a.text', 'w')\n",
    "print(f)\n",
    "print(type(f))"
   ]
  },
  {
   "cell_type": "code",
   "execution_count": 16,
   "metadata": {},
   "outputs": [],
   "source": [
    "n = int(input())\n",
    "with open ('a.txt', 'w') as f:\n",
    "    for i in range (n):\n",
    "        line = input()\n",
    "        f.write(line + '\\n')\n"
   ]
  },
  {
   "cell_type": "code",
   "execution_count": null,
   "metadata": {},
   "outputs": [],
   "source": [
    "f = open('a.txt', 'w')\n",
    "print(f.tell())\n",
    "f.write('salam\\n')\n",
    "print(f.tell())\n",
    "f.write('ava')\n",
    "print(f.tell())\n"
   ]
  },
  {
   "cell_type": "code",
   "execution_count": 56,
   "metadata": {},
   "outputs": [],
   "source": [
    "def process(path):\n",
    "    with open('My_CSV_2.csv', 'r') as csv_file:\n",
    "        #path = My_CSV_2.csv\n",
    "        for row in csv_file.readlines():\n",
    "            return row.rstrip().split(',')"
   ]
  },
  {
   "cell_type": "code",
   "execution_count": 67,
   "metadata": {},
   "outputs": [],
   "source": [
    "with open('test_3.txt', 'r') as m, open('test_5.txt', 'w') as n:\n",
    "    line = m.readlines()\n",
    "    n.write(str(line) + '\\n')\n",
    "    "
   ]
  },
  {
   "cell_type": "code",
   "execution_count": 2,
   "metadata": {},
   "outputs": [
    {
     "data": {
      "text/plain": [
       "'g:\\\\1-Ramin\\\\Programming\\\\1-Training\\\\My_Test_Files\\\\Quera\\\\Quera_Python_Training'"
      ]
     },
     "execution_count": 2,
     "metadata": {},
     "output_type": "execute_result"
    }
   ],
   "source": [
    "import os\n",
    "os.getcwd()"
   ]
  },
  {
   "cell_type": "code",
   "execution_count": null,
   "metadata": {},
   "outputs": [],
   "source": [
    "os.listdir()"
   ]
  },
  {
   "cell_type": "code",
   "execution_count": 6,
   "metadata": {},
   "outputs": [
    {
     "data": {
      "text/plain": [
       "True"
      ]
     },
     "execution_count": 6,
     "metadata": {},
     "output_type": "execute_result"
    }
   ],
   "source": [
    "os.path.exists('a.txt')"
   ]
  },
  {
   "cell_type": "code",
   "execution_count": 8,
   "metadata": {},
   "outputs": [],
   "source": [
    "with open('abc.txt', 'x') as f:\n",
    "    f.write('hi guys!')"
   ]
  },
  {
   "cell_type": "code",
   "execution_count": 2,
   "metadata": {},
   "outputs": [
    {
     "name": "stdout",
     "output_type": "stream",
     "text": [
      "Hi guys!\n",
      "How are u?\n",
      "Today is thursday.\n",
      "Weather is hot.\n",
      "It is summer.\n",
      "It is 10:00 o\"clock."
     ]
    }
   ],
   "source": [
    "with open('abc.txt', 'r') as g:\n",
    "    for x in g:\n",
    "        print (x, end = '')"
   ]
  }
 ],
 "metadata": {
  "kernelspec": {
   "display_name": "Python 3",
   "language": "python",
   "name": "python3"
  },
  "language_info": {
   "codemirror_mode": {
    "name": "ipython",
    "version": 3
   },
   "file_extension": ".py",
   "mimetype": "text/x-python",
   "name": "python",
   "nbconvert_exporter": "python",
   "pygments_lexer": "ipython3",
   "version": "3.11.1"
  },
  "orig_nbformat": 4
 },
 "nbformat": 4,
 "nbformat_minor": 2
}
