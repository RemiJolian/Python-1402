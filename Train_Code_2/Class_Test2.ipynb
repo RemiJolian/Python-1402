{
 "cells": [
  {
   "attachments": {},
   "cell_type": "markdown",
   "metadata": {},
   "source": [
    "OOP :\n",
    "        class\n",
    "        object\n",
    "        __init__\n",
    "        "
   ]
  },
  {
   "attachments": {},
   "cell_type": "markdown",
   "metadata": {},
   "source": [
    "what is \"self\" parameter:\n",
    "The self parameter is a reference to the current instance of the class, and is used to access variables that belongs to the class.\n",
    "\n",
    "It does not have to be named self , you can call it whatever you like, but it has to be the first parameter of any function in the class:\n",
    "\n",
    "example 1:"
   ]
  },
  {
   "cell_type": "code",
   "execution_count": 38,
   "metadata": {},
   "outputs": [
    {
     "name": "stdout",
     "output_type": "stream",
     "text": [
      "3\n",
      "4\n",
      "7\n",
      "{'a': 3, 'b': 4}\n",
      " class for set and add variables \n",
      "5\n",
      "6\n",
      "11\n",
      "{'a': 5}\n"
     ]
    }
   ],
   "source": [
    "class Test:\n",
    "    ''' class for set and add variables '''\n",
    "    def set_var(self,a,b):\n",
    "        self.a = a\n",
    "        self.b = b\n",
    "        \n",
    "    def add(self):\n",
    "        return self.a + self.b\n",
    "    \n",
    "obj1 = Test()\n",
    "\n",
    "obj1.set_var(3,4)\n",
    "print(obj1.a)\n",
    "print(obj1.b)\n",
    "\n",
    "print(obj1.add())\n",
    "\n",
    "print(obj1.__dict__)\n",
    "print(obj1.__doc__)\n",
    "\n",
    "obj2 = Test()\n",
    "obj2.set_var(5,6)\n",
    "print(obj2.a)\n",
    "print(obj2.b)\n",
    "print(obj2.add())\n",
    "\n",
    "del obj1\n",
    "# print(obj1.a)   # NameError: name 'obj1' is not defined\n",
    "\n",
    "del obj2.b\n",
    "print(obj2.__dict__)"
   ]
  },
  {
   "attachments": {},
   "cell_type": "markdown",
   "metadata": {},
   "source": [
    "__init__ function == set function:\n",
    "\n",
    "example 2"
   ]
  },
  {
   "cell_type": "code",
   "execution_count": 5,
   "metadata": {},
   "outputs": [
    {
     "name": "stdout",
     "output_type": "stream",
     "text": [
      "4\n",
      "5\n",
      "20\n",
      "16\n"
     ]
    }
   ],
   "source": [
    "class Test2:\n",
    "    def __init__(self,a,b):\n",
    "        self.a = a\n",
    "        self.b = b\n",
    "    def mul(self):\n",
    "        return self.a * self.b\n",
    "obj1 = Test2(4,5)\n",
    "\n",
    "print(obj1.a)\n",
    "print(obj1.b)\n",
    "\n",
    "print(obj1.mul())\n",
    "\n",
    "obj2 = Test2(8,2)\n",
    "y = obj2.mul()\n",
    "print(y)\n",
    "\n",
    "\n"
   ]
  },
  {
   "attachments": {},
   "cell_type": "markdown",
   "metadata": {},
   "source": [
    "example 3:"
   ]
  },
  {
   "cell_type": "code",
   "execution_count": 40,
   "metadata": {},
   "outputs": [
    {
     "name": "stdout",
     "output_type": "stream",
     "text": [
      "hafez:divan\n"
     ]
    }
   ],
   "source": [
    "class Book:\n",
    "    def __init__(self,author,title):\n",
    "        self.author = author\n",
    "        self.title = title\n",
    "    def info(self):\n",
    "        print(self.author + ':' + self.title )\n",
    "b1 = Book('hafez', 'divan')\n",
    "b1.info()"
   ]
  },
  {
   "attachments": {},
   "cell_type": "markdown",
   "metadata": {},
   "source": [
    "example 4 :"
   ]
  },
  {
   "cell_type": "code",
   "execution_count": 41,
   "metadata": {},
   "outputs": [
    {
     "name": "stdout",
     "output_type": "stream",
     "text": [
      "[{'name': 'mahsa', 'score': 17}, {'name': 'baran', 'score': 19}]\n",
      "{'name': 'mahsa', 'score': 17}\n",
      "True\n"
     ]
    }
   ],
   "source": [
    "class Student:\n",
    "    def __init__(self, name, score):\n",
    "        self.d = {}\n",
    "        self.d['name'] = name\n",
    "        self.d['score'] = score\n",
    "    def get(self):\n",
    "        return self.d\n",
    "stu1 = Student('mahsa', 17)\n",
    "stu2 = Student('baran', 19)\n",
    "lst = []\n",
    "lst.append(stu1.get())\n",
    "lst.append(stu2.get())\n",
    "print (lst)\n",
    "print(lst[0])\n",
    "print (isinstance(stu2,Student))\n",
    "        \n"
   ]
  },
  {
   "attachments": {},
   "cell_type": "markdown",
   "metadata": {},
   "source": [
    "example 5:"
   ]
  },
  {
   "cell_type": "code",
   "execution_count": 42,
   "metadata": {},
   "outputs": [
    {
     "name": "stdout",
     "output_type": "stream",
     "text": [
      "3\n",
      "5\n",
      "4\n"
     ]
    }
   ],
   "source": [
    "class Counter:\n",
    "    def __init__(self,x):\n",
    "        self.x = x\n",
    "    def up(self):\n",
    "        self.x += 1\n",
    "    def down(self):\n",
    "        self.x -= 1\n",
    "ob1 = Counter(3)\n",
    "print(ob1.x)\n",
    "ob1.up()\n",
    "ob1.up()\n",
    "print(ob1.x)\n",
    "ob1.down()\n",
    "print(ob1.x)"
   ]
  },
  {
   "attachments": {},
   "cell_type": "markdown",
   "metadata": {},
   "source": [
    "example 6:"
   ]
  },
  {
   "cell_type": "code",
   "execution_count": 43,
   "metadata": {},
   "outputs": [
    {
     "data": {
      "text/plain": [
       "''"
      ]
     },
     "execution_count": 43,
     "metadata": {},
     "output_type": "execute_result"
    }
   ],
   "source": [
    "class C():\n",
    "    def __init__(self):\n",
    "        self.s = ''\n",
    "    def get_string(self):\n",
    "        self.s = input('input name')\n",
    "    def show(self):\n",
    "        return self.s.upper()\n",
    "    \n",
    "name = C()\n",
    "name.get_string()\n",
    "name.show()\n",
    "    "
   ]
  },
  {
   "attachments": {},
   "cell_type": "markdown",
   "metadata": {},
   "source": [
    "example 7: without init function"
   ]
  },
  {
   "cell_type": "code",
   "execution_count": 44,
   "metadata": {},
   "outputs": [
    {
     "name": "stdout",
     "output_type": "stream",
     "text": [
      "False\n",
      "True\n"
     ]
    }
   ],
   "source": [
    "class Email:\n",
    "    def f(self):\n",
    "        self.sent = False\n",
    "    def g(self):\n",
    "        self.sent = True\n",
    "ob1 = Email()\n",
    "ob1.f()\n",
    "print (ob1.sent)\n",
    "ob1.g()\n",
    "print (ob1.sent)"
   ]
  },
  {
   "attachments": {},
   "cell_type": "markdown",
   "metadata": {},
   "source": [
    "example 8:"
   ]
  },
  {
   "cell_type": "code",
   "execution_count": 3,
   "metadata": {},
   "outputs": [
    {
     "name": "stdout",
     "output_type": "stream",
     "text": [
      "206\n",
      "407\n",
      "Peguet\n",
      "Peguet\n"
     ]
    }
   ],
   "source": [
    "class Car:\n",
    "    model = 'Peguet'\n",
    "    def __init__(self,t):\n",
    "        self.t = t\n",
    "c1 = Car('206')\n",
    "c2 = Car('407')\n",
    "print(c1.t)\n",
    "print(c2.t)\n",
    "\n",
    "print(c1.model)\n",
    "print(c2.model)\n"
   ]
  },
  {
   "attachments": {},
   "cell_type": "markdown",
   "metadata": {},
   "source": [
    "example 9:"
   ]
  },
  {
   "cell_type": "code",
   "execution_count": 8,
   "metadata": {},
   "outputs": [
    {
     "name": "stdout",
     "output_type": "stream",
     "text": [
      "[1, 2, 4]\n",
      "[1, 2, 4]\n"
     ]
    }
   ],
   "source": [
    "class C:\n",
    "    lst = []\n",
    "    def __init__(self, name):\n",
    "        self.name = name\n",
    "    def f(self, x):\n",
    "        self.lst.append(x)\n",
    "ob1 = C('A')\n",
    "ob1.f(1)\n",
    "ob1.f(2)\n",
    "ob2 = C('B')\n",
    "ob2.f(4)\n",
    "print(ob2.lst)\n",
    "print(ob1.lst)\n"
   ]
  },
  {
   "cell_type": "code",
   "execution_count": 22,
   "metadata": {},
   "outputs": [
    {
     "name": "stdout",
     "output_type": "stream",
     "text": [
      "120\n"
     ]
    }
   ],
   "source": [
    "k = int(input())\n",
    "def f(n):\n",
    "    c = 0\n",
    "    for i in range(1,n+1):\n",
    "        if n%i == 0:\n",
    "            c = c + 1\n",
    "    return c\n",
    "#f(n)\n",
    "n = 0\n",
    "i = 0\n",
    "while f(n) < k:\n",
    "  n = n + i\n",
    "  i = i + 1\n",
    "  \n",
    "print(n)\n"
   ]
  }
 ],
 "metadata": {
  "kernelspec": {
   "display_name": "Python 3",
   "language": "python",
   "name": "python3"
  },
  "language_info": {
   "codemirror_mode": {
    "name": "ipython",
    "version": 3
   },
   "file_extension": ".py",
   "mimetype": "text/x-python",
   "name": "python",
   "nbconvert_exporter": "python",
   "pygments_lexer": "ipython3",
   "version": "3.11.1"
  },
  "orig_nbformat": 4,
  "vscode": {
   "interpreter": {
    "hash": "5238573367df39f7286bb46f9ff5f08f63a01a80960060ce41e3c79b190280fa"
   }
  }
 },
 "nbformat": 4,
 "nbformat_minor": 2
}
