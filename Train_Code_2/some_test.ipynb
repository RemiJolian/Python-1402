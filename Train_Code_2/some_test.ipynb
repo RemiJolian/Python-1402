{
 "cells": [
  {
   "cell_type": "code",
   "execution_count": null,
   "metadata": {},
   "outputs": [],
   "source": [
    "n = int(input())\n",
    "def gcd(a,b):\n",
    "  for i in range(1, a+b):\n",
    "     x = a+b - i \n",
    "     #print(x)\n",
    "     if a%x == 0 and b%x == 0 :\n",
    "        return x\n",
    "#gcd(a,b)\n",
    "def lcm(a,b):\n",
    "    return (a*b)/gcd(a,b)\n",
    "\n",
    "def f3(n):\n",
    "    answer = 1\n",
    "    for i in range(1,n):\n",
    "        if gcd(i, n) == 1:\n",
    "            answer =  int(lcm(answer , i))\n",
    "    return answer\n",
    "\n",
    "f3(n)"
   ]
  },
  {
   "attachments": {},
   "cell_type": "markdown",
   "metadata": {},
   "source": [
    "sange paa_Shayan:"
   ]
  },
  {
   "cell_type": "code",
   "execution_count": null,
   "metadata": {},
   "outputs": [],
   "source": [
    "def is_prime(n):\n",
    "  aval = True\n",
    "  for i in range(2,n):\n",
    "    if n % i == 0:\n",
    "      aval = False\n",
    "  return aval\n",
    "price_prime = 0\n",
    "def number_prime(w_sp):\n",
    "  global price_prime\n",
    "  #if is_prime(w_sp):\n",
    "  for j in range(2,w_sp):\n",
    "      if is_prime(j):\n",
    "        price_prime += 1\n",
    "  return price_prime  \n",
    "\n",
    "price_tmm = 0\n",
    "def tmm(w_sp):\n",
    "    global price_tmm \n",
    "    for i in range(2,w_sp):\n",
    "      if w_sp % i == 0 and is_prime(i):\n",
    "        price_tmm += 1\n",
    "    return price_tmm    \n",
    "#------------------------------------\n",
    "n_sp = int(input())\n",
    "for i in range(n_sp):\n",
    "  w_sp = int(input())\n",
    "  #is_prime(w_sp)\n",
    "  if w_sp != 1 and is_prime(w_sp):\n",
    "    number_prime(w_sp)\n",
    "  else:\n",
    "    tmm(w_sp)\n",
    "#-----------------------------------\n",
    "price = price_prime + price_tmm\n",
    "\n",
    "final_price = 0\n",
    "if is_prime(price):\n",
    "    price_prime = 0\n",
    "    final_price = price - number_prime(price)\n",
    "else:\n",
    "  price_tmm = 0\n",
    "  final_price = price - tmm(price)\n",
    "print(final_price)"
   ]
  },
  {
   "cell_type": "code",
   "execution_count": null,
   "metadata": {},
   "outputs": [],
   "source": [
    "array = list(map(int,input().split()))"
   ]
  },
  {
   "cell_type": "code",
   "execution_count": null,
   "metadata": {},
   "outputs": [],
   "source": [
    "array = [int (x) for x in input().split()]"
   ]
  },
  {
   "cell_type": "code",
   "execution_count": null,
   "metadata": {},
   "outputs": [],
   "source": [
    "array = list()\n",
    "for i in range (1,101):\n",
    "    array.append(i)\n",
    "print(array)"
   ]
  },
  {
   "cell_type": "code",
   "execution_count": null,
   "metadata": {},
   "outputs": [],
   "source": [
    "array = [i + 1 for i in range (100)]"
   ]
  },
  {
   "cell_type": "code",
   "execution_count": null,
   "metadata": {},
   "outputs": [
    {
     "name": "stdout",
     "output_type": "stream",
     "text": [
      "['1', '2', '3']\n"
     ]
    }
   ],
   "source": [
    "l = list(input())\n",
    "print(l)"
   ]
  },
  {
   "cell_type": "code",
   "execution_count": null,
   "metadata": {},
   "outputs": [
    {
     "name": "stdout",
     "output_type": "stream",
     "text": [
      "1\n",
      "2\n",
      "3\n"
     ]
    }
   ],
   "source": [
    "n = int(input())\n",
    "a = list()\n",
    "while n != 0 :\n",
    "    a.append(n)\n",
    "    n = int(input())\n",
    "\n",
    "for i in range(len(a)-1,-1,-1):\n",
    "    print (a[i])"
   ]
  },
  {
   "cell_type": "code",
   "execution_count": null,
   "metadata": {},
   "outputs": [
    {
     "name": "stdout",
     "output_type": "stream",
     "text": [
      "[4, 5, 6, 7]\n",
      "[6, 7, 4, 5]\n"
     ]
    }
   ],
   "source": [
    "n, x = map(int, input().split())\n",
    "a = list(map(int, input().split()))\n",
    "print(a)\n",
    "for i in range(x):\n",
    "    k = a[len(a)-1]\n",
    "    for j in range(0, len(a)-1):\n",
    "      a[(len(a)-1)-j] = a[(len(a)-1)-j-1]\n",
    "    a[0] = k\n",
    "    \n",
    "print(a)"
   ]
  },
  {
   "cell_type": "code",
   "execution_count": 15,
   "metadata": {},
   "outputs": [
    {
     "name": "stdout",
     "output_type": "stream",
     "text": [
      "[[1, 1], [2, 2]]\n",
      "[[3, 3], [4, 4]]\n",
      "[[4, 4], [6, 6]]\n"
     ]
    }
   ],
   "source": [
    "#n , m = map(int,input().split())\n",
    "n = 2\n",
    "m = 2\n",
    "l1 = [[1, 1],[2, 2]]\n",
    "l2 = [[3, 3], [4, 4]]\n",
    "l3 = [[0, 0],[0, 0]] \n",
    "k = 0\n",
    "#for i in range (0,n):\n",
    "    #l1.append(list(map(int,input().split())))\n",
    "#for i in range(n):\n",
    "      #l2.append(list(map(int,input().split())))\n",
    "\n",
    "for i in range(0,n):\n",
    "  for j in range(0,m):\n",
    "   l3[i][j] = l1[i][j]+l2[i][j]\n",
    "   \n",
    "\n",
    "print(l1)\n",
    "print(l2)\n",
    "print(l3)"
   ]
  },
  {
   "cell_type": "code",
   "execution_count": 12,
   "metadata": {},
   "outputs": [
    {
     "name": "stdout",
     "output_type": "stream",
     "text": [
      "1, 2, 3, 4, "
     ]
    }
   ],
   "source": [
    "l1 = [[1, 2],\n",
    "      [3, 4]]\n",
    "l2 = [[5, 6],\n",
    "      [7, 8]]\n",
    "#k = l1[1][1]\n",
    "#print(k)\n",
    "for i in range(2):\n",
    "    for j in range(2):\n",
    "        print(l1[i][j],end=', ')\n",
    "        "
   ]
  },
  {
   "cell_type": "code",
   "execution_count": null,
   "metadata": {},
   "outputs": [
    {
     "name": "stdout",
     "output_type": "stream",
     "text": [
      "4 4 \n",
      "6 6 \n"
     ]
    }
   ],
   "source": [
    "n, m = map(int, input().split())\n",
    "\n",
    "a = []\n",
    "for i in range(n):\n",
    "\ta.append(list(map(int, input().split())))\n",
    "\t\n",
    "b = []\n",
    "for i in range(n):\n",
    "\tb.append(list(map(int, input().split())))\n",
    "\n",
    "c = [[a[i][j] + b[i][j] for j in range(m)] for i in range(n)]\n",
    "\n",
    "for i in range(n):\n",
    "    for j in range(m):\n",
    "        print(c[i][j], end=' ')\n",
    "    print()"
   ]
  },
  {
   "attachments": {},
   "cell_type": "markdown",
   "metadata": {},
   "source": [
    "Taghirat arrays_Quiez:"
   ]
  },
  {
   "cell_type": "code",
   "execution_count": null,
   "metadata": {},
   "outputs": [],
   "source": [
    "q = int(input())\n",
    "a = list()\n",
    "b = list()\n",
    "\n",
    "for i in range (q):\n",
    "    a.append(list(map(str, input().split())))\n",
    "\n",
    "for i in range (q):\n",
    "    if (a[i][0] == '+'):\n",
    "        b.insert(int(a[i][1]) - 1, int(a[i][2]))\n",
    "    elif (a[i][0] == '-'):\n",
    "        b.pop(int(a[i][1]) - 1)\n",
    "\n",
    "    if (len(b) == 0):\n",
    "        print(\"EMPTY\")\n",
    "    else:\n",
    "        print(*b)"
   ]
  },
  {
   "cell_type": "code",
   "execution_count": 5,
   "metadata": {},
   "outputs": [
    {
     "name": "stdout",
     "output_type": "stream",
     "text": [
      "I am 23 years old\n",
      "I am 23 years old.\n"
     ]
    }
   ],
   "source": [
    "a = 23\n",
    "print('I am %d years old' % a)\n",
    "print(f'I am {a} years old.')"
   ]
  },
  {
   "cell_type": "code",
   "execution_count": 6,
   "metadata": {},
   "outputs": [
    {
     "name": "stdout",
     "output_type": "stream",
     "text": [
      "Sum : 21.000000  \n",
      "Average : 5.250000 \n",
      "Product : 630.000000\n",
      "Max : 7.000000 \n",
      "Min : 3.000000 \n"
     ]
    }
   ],
   "source": [
    "num1 = int(input())\n",
    "num2 = int(input())\n",
    "num3 = int(input())\n",
    "num4 = int(input())\n",
    "\n",
    "s = num1 + num2 + num3 + num4\n",
    "ave = s/4\n",
    "mul = num1 * num2 * num3 * num4\n",
    "max_nums = max(num1, num2, num3, num4)\n",
    "min_nums = min(num1, num2, num3, num4)\n",
    "\n",
    "print('Sum : %.6f  ' % s)\n",
    "print('Average : %.6f ' % ave)\n",
    "print('Product : %.6f' % mul)\n",
    "print('Max : %6f ' % max_nums)\n",
    "print('Min : %6f ' % min_nums)"
   ]
  },
  {
   "cell_type": "code",
   "execution_count": 8,
   "metadata": {},
   "outputs": [
    {
     "name": "stdout",
     "output_type": "stream",
     "text": [
      "07:56\n"
     ]
    }
   ],
   "source": [
    "a , b = input().split()\n",
    "a = int(a)\n",
    "b = int(b)\n",
    "if a == 0:\n",
    "    hh = 0\n",
    "else:\n",
    "    hh = 12 - int(a)\n",
    "if b == 0:\n",
    "    mm = 0\n",
    "else:\n",
    "    mm = 60 - int(b)\n",
    "print(f\"{hh:02d}:{mm:02d}\")"
   ]
  },
  {
   "cell_type": "code",
   "execution_count": 9,
   "metadata": {},
   "outputs": [
    {
     "name": "stdout",
     "output_type": "stream",
     "text": [
      "5 7 9\n",
      "5/7/9\n"
     ]
    }
   ],
   "source": [
    "n = int(input())\n",
    "\n",
    "a = list(map(int,input().split()))\n",
    "b = list(map(int,input().split()))\n",
    "c = list()\n",
    "for i in range(n):\n",
    "    c.append(a[i] + b[i])\n",
    "print(*c) \n",
    "print(*c, sep = '/')"
   ]
  },
  {
   "cell_type": "code",
   "execution_count": 16,
   "metadata": {},
   "outputs": [
    {
     "name": "stdout",
     "output_type": "stream",
     "text": [
      "2324\n",
      "23243234\n",
      "232432344243\n"
     ]
    }
   ],
   "source": [
    "n = int(input())\n"
   ]
  }
 ],
 "metadata": {
  "kernelspec": {
   "display_name": "Python 3",
   "language": "python",
   "name": "python3"
  },
  "language_info": {
   "codemirror_mode": {
    "name": "ipython",
    "version": 3
   },
   "file_extension": ".py",
   "mimetype": "text/x-python",
   "name": "python",
   "nbconvert_exporter": "python",
   "pygments_lexer": "ipython3",
   "version": "3.11.1"
  },
  "orig_nbformat": 4,
  "vscode": {
   "interpreter": {
    "hash": "5238573367df39f7286bb46f9ff5f08f63a01a80960060ce41e3c79b190280fa"
   }
  }
 },
 "nbformat": 4,
 "nbformat_minor": 2
}
