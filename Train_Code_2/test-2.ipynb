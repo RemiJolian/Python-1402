{
 "cells": [
  {
   "cell_type": "code",
   "execution_count": 3,
   "metadata": {},
   "outputs": [
    {
     "name": "stdout",
     "output_type": "stream",
     "text": [
      "Baran\n",
      "Hello World Baran\n",
      "4\n",
      "name : Baran birthday\n"
     ]
    }
   ],
   "source": [
    "def hello(n, age, t):\n",
    "    print(n)\n",
    "    print ('Hello World', n)\n",
    "    \n",
    "    kids_age = age + 1\n",
    "    print(kids_age)\n",
    "    \n",
    "    \n",
    "    # take topic and and then pritn ti\n",
    "    new_var = \"name : \" + n + ' ' + t\n",
    "    print(new_var)\n",
    "\n",
    "name = 'Baran'\n",
    "topic = \"birthday\"\n",
    "age = 3\n",
    "hello(name, age, topic)"
   ]
  },
  {
   "cell_type": "code",
   "execution_count": 8,
   "metadata": {},
   "outputs": [
    {
     "data": {
      "text/plain": [
       "'Hello World 2'"
      ]
     },
     "execution_count": 8,
     "metadata": {},
     "output_type": "execute_result"
    }
   ],
   "source": [
    "def hello2():\n",
    "    return 'Hello World 2'\n",
    "hello2()"
   ]
  },
  {
   "cell_type": "code",
   "execution_count": 10,
   "metadata": {},
   "outputs": [
    {
     "name": "stdout",
     "output_type": "stream",
     "text": [
      "Hello World 2\n"
     ]
    }
   ],
   "source": [
    "s = hello2()\n",
    "print (s)"
   ]
  },
  {
   "cell_type": "code",
   "execution_count": 12,
   "metadata": {},
   "outputs": [
    {
     "name": "stdout",
     "output_type": "stream",
     "text": [
      "Helow world\n"
     ]
    }
   ],
   "source": [
    "def hello3(p):\n",
    "    print(p)\n",
    "s = 'Helow world'\n",
    "hello3(s)"
   ]
  },
  {
   "cell_type": "code",
   "execution_count": 13,
   "metadata": {},
   "outputs": [
    {
     "data": {
      "text/plain": [
       "7"
      ]
     },
     "execution_count": 13,
     "metadata": {},
     "output_type": "execute_result"
    }
   ],
   "source": [
    "def add2num(a,b):\n",
    "    return a+b\n",
    "add2num(3,4)"
   ]
  },
  {
   "cell_type": "code",
   "execution_count": 15,
   "metadata": {},
   "outputs": [
    {
     "name": "stdout",
     "output_type": "stream",
     "text": [
      "6\n"
     ]
    },
    {
     "data": {
      "text/plain": [
       "7"
      ]
     },
     "execution_count": 15,
     "metadata": {},
     "output_type": "execute_result"
    }
   ],
   "source": [
    "def f(a):\n",
    "    a *= 2\n",
    "    print (a)\n",
    "    return a + 1\n",
    "f(3)"
   ]
  },
  {
   "cell_type": "code",
   "execution_count": 16,
   "metadata": {},
   "outputs": [
    {
     "name": "stdout",
     "output_type": "stream",
     "text": [
      "10\n",
      "11\n"
     ]
    }
   ],
   "source": [
    "b = 5\n",
    "r = f(b)\n",
    "print (r)"
   ]
  },
  {
   "cell_type": "code",
   "execution_count": 25,
   "metadata": {},
   "outputs": [
    {
     "data": {
      "text/plain": [
       "3"
      ]
     },
     "execution_count": 25,
     "metadata": {},
     "output_type": "execute_result"
    }
   ],
   "source": [
    "def f(a,b):\n",
    "    if a > b:\n",
    "        return a\n",
    "    return b\n",
    "f(3,2)    "
   ]
  },
  {
   "cell_type": "code",
   "execution_count": 28,
   "metadata": {},
   "outputs": [
    {
     "data": {
      "text/plain": [
       "4"
      ]
     },
     "execution_count": 28,
     "metadata": {},
     "output_type": "execute_result"
    }
   ],
   "source": [
    "def g(x,y,z):\n",
    "    return f(x,f(y,z))\n",
    "g(2,3,4)"
   ]
  },
  {
   "cell_type": "code",
   "execution_count": 35,
   "metadata": {},
   "outputs": [
    {
     "name": "stdout",
     "output_type": "stream",
     "text": [
      "25.12\n",
      "50.24\n"
     ]
    }
   ],
   "source": [
    "pi = 3.14\n",
    "def area(r):\n",
    "    return pi * r * r\n",
    "def circum(r):\n",
    "    return 2 * r * pi\n",
    "def main():\n",
    "    r = 4\n",
    "    print (circum(r))\n",
    "    print (area(r))\n",
    "main()"
   ]
  },
  {
   "cell_type": "code",
   "execution_count": 47,
   "metadata": {},
   "outputs": [
    {
     "name": "stdout",
     "output_type": "stream",
     "text": [
      "5\n",
      "8\n",
      "8\n"
     ]
    }
   ],
   "source": [
    "x = 5\n",
    "def f():\n",
    "    global x\n",
    "    print (x)\n",
    "    x = 8\n",
    "    print (x)\n",
    "f()\n",
    "print (x)"
   ]
  },
  {
   "cell_type": "code",
   "execution_count": 52,
   "metadata": {},
   "outputs": [
    {
     "name": "stdout",
     "output_type": "stream",
     "text": [
      "2    6\n"
     ]
    }
   ],
   "source": [
    "def f(x, y):\n",
    "    x -= 1\n",
    "    y += 1\n",
    "    return x , y\n",
    "a = 3\n",
    "y = 4\n",
    "m , n = f(a,b)\n",
    "print (m,'  ', n)"
   ]
  },
  {
   "cell_type": "code",
   "execution_count": 54,
   "metadata": {},
   "outputs": [
    {
     "name": "stdout",
     "output_type": "stream",
     "text": [
      "1\n",
      "4\n"
     ]
    }
   ],
   "source": [
    "def f(a):\n",
    "    a[0] -= 1\n",
    "    a[1] += 1\n",
    "    print (a[0])\n",
    "    print(a[1])\n",
    "a = [2,3]\n",
    "f(a) "
   ]
  },
  {
   "cell_type": "code",
   "execution_count": 55,
   "metadata": {},
   "outputs": [
    {
     "name": "stdout",
     "output_type": "stream",
     "text": [
      "{'a': 1, 'b': 4}\n"
     ]
    }
   ],
   "source": [
    "def f (d):\n",
    "    d['a'] -= 1\n",
    "    d['b'] += 1\n",
    "    print (d)\n",
    "d = {'a': 2, 'b': 3}\n",
    "f(d)"
   ]
  },
  {
   "cell_type": "code",
   "execution_count": 1,
   "metadata": {},
   "outputs": [
    {
     "name": "stdout",
     "output_type": "stream",
     "text": [
      "1 2\n"
     ]
    }
   ],
   "source": [
    "def f(a,b):\n",
    "    print (a,b)\n",
    "f(a=1, b=2)    \n"
   ]
  },
  {
   "cell_type": "code",
   "execution_count": 5,
   "metadata": {},
   "outputs": [
    {
     "name": "stdout",
     "output_type": "stream",
     "text": [
      "12\n"
     ]
    }
   ],
   "source": [
    "def f(*t):\n",
    "    s = 0\n",
    "    for i in t:\n",
    "        s +=i\n",
    "    print(s)\n",
    "f(3,4,5)    "
   ]
  },
  {
   "cell_type": "code",
   "execution_count": 7,
   "metadata": {},
   "outputs": [
    {
     "name": "stdout",
     "output_type": "stream",
     "text": [
      "11\n"
     ]
    }
   ],
   "source": [
    "def add(a,b, *more):\n",
    "    r = a + b + sum(more)\n",
    "    print(r)\n",
    "add(3,5,1,2)    "
   ]
  },
  {
   "cell_type": "code",
   "execution_count": 11,
   "metadata": {},
   "outputs": [
    {
     "data": {
      "text/plain": [
       "'saman/sadeqi'"
      ]
     },
     "execution_count": 11,
     "metadata": {},
     "output_type": "execute_result"
    }
   ],
   "source": [
    "def concat(*n, sep='.'):\n",
    "        return sep.join(n)\n",
    "concat('sara', 'ahmadi')\n",
    "concat('saman', 'sadeqi', sep='/')           "
   ]
  },
  {
   "cell_type": "code",
   "execution_count": 13,
   "metadata": {},
   "outputs": [
    {
     "name": "stdout",
     "output_type": "stream",
     "text": [
      "{'L': 3, 'U': 9}\n"
     ]
    }
   ],
   "source": [
    "count = {\n",
    "    'L': 0,\n",
    "     'U': 0\n",
    "}\n",
    "def f(s):\n",
    "    for ch in s:\n",
    "        if ch.islower():\n",
    "            count['L'] += 1\n",
    "        else:\n",
    "            count['U'] += 1\n",
    "    print (count)\n",
    "f('BaRanBAGHERI')"
   ]
  },
  {
   "attachments": {},
   "cell_type": "markdown",
   "metadata": {},
   "source": [
    "## Dictionary"
   ]
  },
  {
   "cell_type": "code",
   "execution_count": 16,
   "metadata": {},
   "outputs": [
    {
     "name": "stdout",
     "output_type": "stream",
     "text": [
      "{'d': 2, 'a': 2}\n"
     ]
    }
   ],
   "source": [
    "\n",
    "def f(s):\n",
    "    d = {}\n",
    "    for i in s:\n",
    "       if i in d.keys():  \n",
    "            d[i] += 1\n",
    "       else:\n",
    "            d[i] = 1\n",
    "    print(d)\n",
    "f('dada')"
   ]
  },
  {
   "cell_type": "code",
   "execution_count": 18,
   "metadata": {},
   "outputs": [
    {
     "name": "stdout",
     "output_type": "stream",
     "text": [
      "{'Python': 1, 'is': 1, 'good': 1, 'lang.': 1}\n"
     ]
    }
   ],
   "source": [
    "def f(s):\n",
    "    d = {}\n",
    "    word = s.split()\n",
    "    for ch in word:\n",
    "        if ch in d:\n",
    "            d[ch] += 1\n",
    "        else:\n",
    "            d[ch] = 1\n",
    "    print(d)\n",
    "s = 'Python is good lang.'\n",
    "f(s)"
   ]
  },
  {
   "cell_type": "code",
   "execution_count": 23,
   "metadata": {},
   "outputs": [
    {
     "data": {
      "text/plain": [
       "'tow'"
      ]
     },
     "execution_count": 23,
     "metadata": {},
     "output_type": "execute_result"
    }
   ],
   "source": [
    "def switch(a):\n",
    "    d = {1:'one', 2:'tow'}\n",
    "    return d.get(a,'nothing')\n",
    "switch(2)"
   ]
  },
  {
   "cell_type": "code",
   "execution_count": 25,
   "metadata": {},
   "outputs": [
    {
     "data": {
      "text/plain": [
       "[{'id': 1, 'ave': 75.0}, {'id': 2, 'ave': 57.5}]"
      ]
     },
     "execution_count": 25,
     "metadata": {},
     "output_type": "execute_result"
    }
   ],
   "source": [
    "lst = [\n",
    "    {'id': 1, 'm':70, 'f': 80},\n",
    "    { 'id': 2, 'm': 55, 'f':60}\n",
    "]\n",
    "def f(lst):\n",
    "    for i in lst:\n",
    "        n1 = i.pop('m')\n",
    "        n2 = i.pop('f')\n",
    "        i['ave'] = (n1+n2)/2\n",
    "    return lst\n",
    "f(lst)"
   ]
  },
  {
   "cell_type": "code",
   "execution_count": 27,
   "metadata": {},
   "outputs": [
    {
     "data": {
      "text/plain": [
       "'dcba'"
      ]
     },
     "execution_count": 27,
     "metadata": {},
     "output_type": "execute_result"
    }
   ],
   "source": [
    "def f(s):\n",
    "     r = ''.join(reversed(s))\n",
    "     return r\n",
    "f('abcd')"
   ]
  },
  {
   "cell_type": "code",
   "execution_count": 33,
   "metadata": {},
   "outputs": [
    {
     "data": {
      "text/plain": [
       "True"
      ]
     },
     "execution_count": 33,
     "metadata": {},
     "output_type": "execute_result"
    }
   ],
   "source": [
    "def palindrome(s):\n",
    "    return s == s[::-1]\n",
    "palindrome('damad')"
   ]
  },
  {
   "cell_type": "code",
   "execution_count": 34,
   "metadata": {},
   "outputs": [
    {
     "data": {
      "text/plain": [
       "[1, 2, 3, 4]"
      ]
     },
     "execution_count": 34,
     "metadata": {},
     "output_type": "execute_result"
    }
   ],
   "source": [
    "def f(lst):\n",
    "    r = []\n",
    "    for i in lst:\n",
    "        if i not in r:\n",
    "            r.append(i)\n",
    "    return r\n",
    "f([1,2,3,4,1,2])"
   ]
  },
  {
   "cell_type": "code",
   "execution_count": 36,
   "metadata": {},
   "outputs": [
    {
     "data": {
      "text/plain": [
       "[1, 2, 5, 10]"
      ]
     },
     "execution_count": 36,
     "metadata": {},
     "output_type": "execute_result"
    }
   ],
   "source": [
    "def f(n):\n",
    "    m = [1]\n",
    "    for i in range (2,n +1):\n",
    "        if n % i == 0:\n",
    "            m.append(i)\n",
    "    return m\n",
    "f(10)"
   ]
  },
  {
   "cell_type": "code",
   "execution_count": 41,
   "metadata": {},
   "outputs": [
    {
     "data": {
      "text/plain": [
       "True"
      ]
     },
     "execution_count": 41,
     "metadata": {},
     "output_type": "execute_result"
    }
   ],
   "source": [
    "'a_r'.isidentifier()"
   ]
  },
  {
   "cell_type": "code",
   "execution_count": 48,
   "metadata": {},
   "outputs": [
    {
     "data": {
      "text/plain": [
       "False"
      ]
     },
     "execution_count": 48,
     "metadata": {},
     "output_type": "execute_result"
    }
   ],
   "source": [
    "from keyword import iskeyword\n",
    "iskeyword('dif')"
   ]
  },
  {
   "cell_type": "code",
   "execution_count": 55,
   "metadata": {},
   "outputs": [
    {
     "data": {
      "text/plain": [
       "720"
      ]
     },
     "execution_count": 55,
     "metadata": {},
     "output_type": "execute_result"
    }
   ],
   "source": [
    "import math\n",
    "\n",
    "math.trunc(4.5)\n",
    "math.factorial(6)"
   ]
  },
  {
   "cell_type": "code",
   "execution_count": 57,
   "metadata": {},
   "outputs": [
    {
     "data": {
      "text/plain": [
       "datetime.datetime(2023, 2, 8, 14, 13, 13, 184361)"
      ]
     },
     "execution_count": 57,
     "metadata": {},
     "output_type": "execute_result"
    }
   ],
   "source": [
    "import datetime\n",
    "datetime.datetime.now()"
   ]
  },
  {
   "cell_type": "code",
   "execution_count": 58,
   "metadata": {},
   "outputs": [
    {
     "name": "stdout",
     "output_type": "stream",
     "text": [
      "pass\n"
     ]
    }
   ],
   "source": [
    "n = 22\n",
    "if n > 10:\n",
    "    print('pass')\n",
    "elif n <= 10:\n",
    "    print ('fail')"
   ]
  },
  {
   "cell_type": "code",
   "execution_count": 62,
   "metadata": {},
   "outputs": [
    {
     "name": "stdout",
     "output_type": "stream",
     "text": [
      "[12, 18, 19]\n"
     ]
    }
   ],
   "source": [
    "g = [12, 7, 18, 19]\n",
    "l = [ i for i in g if i >= 10]\n",
    "print (l)"
   ]
  },
  {
   "cell_type": "code",
   "execution_count": 2,
   "metadata": {},
   "outputs": [
    {
     "name": "stdout",
     "output_type": "stream",
     "text": [
      "(7, -1)\n"
     ]
    }
   ],
   "source": [
    "f = lambda x , y :(x+y, x-y)\n",
    "print (f(3,4))"
   ]
  },
  {
   "cell_type": "code",
   "execution_count": 7,
   "metadata": {},
   "outputs": [
    {
     "name": "stdout",
     "output_type": "stream",
     "text": [
      "['baran', 'kefayat']\n"
     ]
    }
   ],
   "source": [
    "lst = ['BARAN', 'KEFAYAT']\n",
    "def f(lst):\n",
    "    a =[]\n",
    "    for i in lst:\n",
    "        a.append(i.lower())\n",
    "    print(a)\n",
    "f(lst)"
   ]
  },
  {
   "cell_type": "code",
   "execution_count": 8,
   "metadata": {},
   "outputs": [
    {
     "name": "stdout",
     "output_type": "stream",
     "text": [
      "['baran', 'kefayat']\n"
     ]
    }
   ],
   "source": [
    "print(list(map(str.lower,lst)))"
   ]
  },
  {
   "cell_type": "code",
   "execution_count": 9,
   "metadata": {},
   "outputs": [
    {
     "name": "stdout",
     "output_type": "stream",
     "text": [
      "[('taha', 6), ('ali', 12), ('sara', 17)]\n"
     ]
    }
   ],
   "source": [
    "d = {'ali': 12, 'sara': 17, 'taha': 6}\n",
    "print (sorted(d.items() , key = lambda x: x[1]))"
   ]
  },
  {
   "cell_type": "code",
   "execution_count": 12,
   "metadata": {},
   "outputs": [
    {
     "name": "stdout",
     "output_type": "stream",
     "text": [
      "78.5\n"
     ]
    }
   ],
   "source": [
    "class Circle:\n",
    "    def __init__(self,r):\n",
    "        self.r = r\n",
    "    def area(self):\n",
    "        return self.r ** 2 * 3.14\n",
    "obj1 = Circle(5)\n",
    "s = obj1.area()\n",
    "print(s)"
   ]
  },
  {
   "attachments": {},
   "cell_type": "markdown",
   "metadata": {},
   "source": []
  },
  {
   "attachments": {},
   "cell_type": "markdown",
   "metadata": {},
   "source": [
    "## OOP test 1\n",
    "- TODO add docs"
   ]
  },
  {
   "cell_type": "code",
   "execution_count": 21,
   "metadata": {},
   "outputs": [
    {
     "name": "stdout",
     "output_type": "stream",
     "text": [
      "1\n"
     ]
    }
   ],
   "source": [
    "class Count:\n",
    "    def __init__(self, a):\n",
    "        self.a = a \n",
    "    def up(self):\n",
    "        self.a += 1\n",
    "    def down(self):\n",
    "        self.a -= 1\n",
    "obj1 = Count(2)\n",
    "obj1.down()\n",
    "print(obj1.a)\n",
    "        "
   ]
  },
  {
   "cell_type": "code",
   "execution_count": 23,
   "metadata": {},
   "outputs": [
    {
     "name": "stdout",
     "output_type": "stream",
     "text": [
      "ALI\n"
     ]
    }
   ],
   "source": [
    "class C:\n",
    "    def __init__(self):\n",
    "        self.s = ''\n",
    "    def get(self):\n",
    "        self.s = input('input')\n",
    "    def show(self):\n",
    "        print(self.s.upper())\n",
    "obj1 = C()\n",
    "obj1.get()\n",
    "obj1.show()"
   ]
  },
  {
   "cell_type": "code",
   "execution_count": 24,
   "metadata": {},
   "outputs": [
    {
     "name": "stdout",
     "output_type": "stream",
     "text": [
      "2\n"
     ]
    }
   ],
   "source": [
    "class Complex :\n",
    "    def __init__(self,r ,i ):\n",
    "        self.r = r\n",
    "        self.i = i\n",
    "x = Complex(2,4)\n",
    "print(x.r)"
   ]
  },
  {
   "cell_type": "code",
   "execution_count": 27,
   "metadata": {},
   "outputs": [
    {
     "name": "stdout",
     "output_type": "stream",
     "text": [
      "True\n"
     ]
    }
   ],
   "source": [
    "class Email:\n",
    "    def f(self):\n",
    "        self.sent = False\n",
    "    def g(self):\n",
    "        self.sent = True\n",
    "obj1 = Email()\n",
    "obj1.g()\n",
    "print(obj1.sent)"
   ]
  },
  {
   "cell_type": "code",
   "execution_count": 29,
   "metadata": {},
   "outputs": [
    {
     "name": "stdout",
     "output_type": "stream",
     "text": [
      "welcome: Baran\n",
      "name: Baran\n"
     ]
    }
   ],
   "source": [
    "# INHERITANCE\n",
    "class Person:\n",
    "    def __init__(self,name):\n",
    "        self.name = name\n",
    "    def show(self):\n",
    "        print('name:', self.name)\n",
    "class Student(Person):\n",
    "    def __init__(self,name, score):\n",
    "        Person.__init__(self,name)\n",
    "        self.score = score\n",
    "    def welcome(self):\n",
    "        print('welcome:' , self.name)\n",
    "stu1 = Student('Baran', 19)\n",
    "stu1.welcome()\n",
    "stu1.show()\n",
    "        "
   ]
  },
  {
   "cell_type": "code",
   "execution_count": null,
   "metadata": {},
   "outputs": [],
   "source": [
    "# Parent class\n",
    "\n",
    "class Person:\n",
    "    def __init__(self,name, id):\n",
    "        self.name = name\n",
    "        self.id = id \n",
    "    def display(self):\n",
    "        print(self.name)\n",
    "        \n",
    "obj1 = Person('ahmad', 123)\n",
    "        "
   ]
  },
  {
   "cell_type": "code",
   "execution_count": 5,
   "metadata": {},
   "outputs": [
    {
     "name": "stdout",
     "output_type": "stream",
     "text": [
      "R\n"
     ]
    },
    {
     "data": {
      "text/plain": [
       "'\\n3 M\\n\\nL M\\nR L\\nM L\\n'"
      ]
     },
     "execution_count": 5,
     "metadata": {},
     "output_type": "execute_result"
    }
   ],
   "source": [
    "n , x = input().split() # x = L, M, R\n",
    "ans = x\n",
    "n = int(n)\n",
    "for i in range(n):\n",
    "    r1, r2 = input().split()\n",
    "    if r1 ==  ans:\n",
    "        ans = r2\n",
    "    elif r2 == ans:\n",
    "        ans = r1\n",
    "    \n",
    "print(ans)\n",
    "'''\n",
    "3 M\n",
    "\n",
    "L M\n",
    "R L\n",
    "M L\n",
    "'''"
   ]
  },
  {
   "cell_type": "code",
   "execution_count": 2,
   "metadata": {},
   "outputs": [
    {
     "data": {
      "text/plain": [
       "'age of my doughter is: 12'"
      ]
     },
     "execution_count": 2,
     "metadata": {},
     "output_type": "execute_result"
    }
   ],
   "source": [
    "v = 12\n",
    "f'age of my doughter is: {v}'"
   ]
  },
  {
   "cell_type": "code",
   "execution_count": 5,
   "metadata": {},
   "outputs": [
    {
     "data": {
      "text/plain": [
       "'son is 12 years old. His hight is 1.55 cm'"
      ]
     },
     "execution_count": 5,
     "metadata": {},
     "output_type": "execute_result"
    }
   ],
   "source": [
    "age = 12\n",
    "height = 1.55\n",
    "f'son is {age} years old. His hight is {height} cm'"
   ]
  },
  {
   "cell_type": "code",
   "execution_count": 8,
   "metadata": {},
   "outputs": [
    {
     "data": {
      "text/plain": [
       "'age = 11'"
      ]
     },
     "execution_count": 8,
     "metadata": {},
     "output_type": "execute_result"
    }
   ],
   "source": [
    "age = 11\n",
    "f'{age = }'"
   ]
  },
  {
   "cell_type": "code",
   "execution_count": 9,
   "metadata": {},
   "outputs": [
    {
     "name": "stdout",
     "output_type": "stream",
     "text": [
      "Hello Baran\n"
     ]
    }
   ],
   "source": [
    "greeting = 'Hello %s'\n",
    "name = \"Baran\"\n",
    "print(greeting % name)"
   ]
  },
  {
   "cell_type": "code",
   "execution_count": 12,
   "metadata": {},
   "outputs": [
    {
     "name": "stdout",
     "output_type": "stream",
     "text": [
      "Hello d\n"
     ]
    }
   ],
   "source": [
    "g = 'Hello %s'\n",
    "name = input('Plz enter name:\\n')\n",
    "print(g % name)"
   ]
  },
  {
   "cell_type": "code",
   "execution_count": 13,
   "metadata": {},
   "outputs": [
    {
     "name": "stdout",
     "output_type": "stream",
     "text": [
      "Hello aser with 22 years old\n"
     ]
    }
   ],
   "source": [
    "g = 'Hello %s with %d years old'\n",
    "name = input('enter the name:\\n')\n",
    "age = int(input('enter age:\\n'))\n",
    "print(g % (name,age))"
   ]
  },
  {
   "cell_type": "code",
   "execution_count": 16,
   "metadata": {},
   "outputs": [
    {
     "name": "stdout",
     "output_type": "stream",
     "text": [
      " Hello dear Baran with 2.5 years old!\n"
     ]
    }
   ],
   "source": [
    "greeting = ' Hello dear {} with {} years old!'\n",
    "name = \"Baran\"\n",
    "age = 2.5\n",
    "print(greeting.format(name,age))"
   ]
  },
  {
   "cell_type": "code",
   "execution_count": 17,
   "metadata": {},
   "outputs": [
    {
     "data": {
      "text/plain": [
       "'10'"
      ]
     },
     "execution_count": 17,
     "metadata": {},
     "output_type": "execute_result"
    }
   ],
   "source": [
    "'{:b}'.format(2)"
   ]
  },
  {
   "cell_type": "code",
   "execution_count": 25,
   "metadata": {},
   "outputs": [
    {
     "name": "stdout",
     "output_type": "stream",
     "text": [
      "1100011\n",
      "4\n"
     ]
    }
   ],
   "source": [
    "n = int(input())\n",
    "m = '{:b}'.format(n)\n",
    "c = 0\n",
    "for i in m:\n",
    "    if i == '1':\n",
    "        c += 1\n",
    "print(m)\n",
    "print(c)"
   ]
  },
  {
   "cell_type": "code",
   "execution_count": 34,
   "metadata": {},
   "outputs": [
    {
     "name": "stdout",
     "output_type": "stream",
     "text": [
      "5\n"
     ]
    }
   ],
   "source": [
    "print('{:b}'.format(int(input())).count('1'))"
   ]
  },
  {
   "cell_type": "code",
   "execution_count": 33,
   "metadata": {},
   "outputs": [
    {
     "data": {
      "text/plain": [
       "'11011100'"
      ]
     },
     "execution_count": 33,
     "metadata": {},
     "output_type": "execute_result"
    }
   ],
   "source": [
    "'{:b}'.format(220)"
   ]
  },
  {
   "cell_type": "code",
   "execution_count": 42,
   "metadata": {},
   "outputs": [
    {
     "data": {
      "text/plain": [
       "str"
      ]
     },
     "execution_count": 42,
     "metadata": {},
     "output_type": "execute_result"
    }
   ],
   "source": [
    "a = bin(220)\n",
    "type(a)"
   ]
  },
  {
   "cell_type": "code",
   "execution_count": 43,
   "metadata": {},
   "outputs": [
    {
     "name": "stdout",
     "output_type": "stream",
     "text": [
      "✅Valid mobile number\n"
     ]
    }
   ],
   "source": [
    "mobile_number = input()\n",
    "if len(mobile_number) == 11 and mobile_number.startswith('09') and mobile_number.isdigit(): \n",
    "    print('✅Valid mobile number')\n",
    "else:\n",
    "    print('❌Invalid mobile number')"
   ]
  },
  {
   "cell_type": "code",
   "execution_count": 45,
   "metadata": {},
   "outputs": [
    {
     "data": {
      "text/plain": [
       "True"
      ]
     },
     "execution_count": 45,
     "metadata": {},
     "output_type": "execute_result"
    }
   ],
   "source": [
    "a = '09126982466'\n",
    "a.isdigit()"
   ]
  },
  {
   "cell_type": "code",
   "execution_count": 48,
   "metadata": {},
   "outputs": [
    {
     "data": {
      "text/plain": [
       "True"
      ]
     },
     "execution_count": 48,
     "metadata": {},
     "output_type": "execute_result"
    }
   ],
   "source": [
    "a.startswith('09') "
   ]
  },
  {
   "cell_type": "code",
   "execution_count": 50,
   "metadata": {},
   "outputs": [
    {
     "data": {
      "text/plain": [
       "['th', 'th']"
      ]
     },
     "execution_count": 50,
     "metadata": {},
     "output_type": "execute_result"
    }
   ],
   "source": [
    "import re\n",
    "a = 'Python is a object oriented lang.python is a nice lan!'\n",
    "re.findall('th', a)"
   ]
  },
  {
   "cell_type": "code",
   "execution_count": 52,
   "metadata": {},
   "outputs": [
    {
     "data": {
      "text/plain": [
       "['eg', 'ex', 'eg']"
      ]
     },
     "execution_count": 52,
     "metadata": {},
     "output_type": "execute_result"
    }
   ],
   "source": [
    "re.findall(\"e[a-z]\", \"regex college\")\n",
    "#['eg', 'ex', 'eg']\n",
    "#re.findall(\"python\", \"regex college\")"
   ]
  },
  {
   "cell_type": "code",
   "execution_count": 4,
   "metadata": {},
   "outputs": [
    {
     "data": {
      "text/plain": [
       "[0, 1, 2, 3, 4, 5, 6, 7, 8, 9]"
      ]
     },
     "execution_count": 4,
     "metadata": {},
     "output_type": "execute_result"
    }
   ],
   "source": [
    "list(range(10))"
   ]
  },
  {
   "cell_type": "code",
   "execution_count": 2,
   "metadata": {},
   "outputs": [
    {
     "name": "stdout",
     "output_type": "stream",
     "text": [
      "Hello word\n",
      "5\n"
     ]
    }
   ],
   "source": [
    "#Hi again guys. It is Ramin, now in Gerash\n",
    "print('Hello word')\n",
    "a = 2\n",
    "b = 3\n",
    "print(a+b)"
   ]
  }
 ],
 "metadata": {
  "kernelspec": {
   "display_name": "Python 3",
   "language": "python",
   "name": "python3"
  },
  "language_info": {
   "codemirror_mode": {
    "name": "ipython",
    "version": 3
   },
   "file_extension": ".py",
   "mimetype": "text/x-python",
   "name": "python",
   "nbconvert_exporter": "python",
   "pygments_lexer": "ipython3",
   "version": "3.11.1"
  },
  "orig_nbformat": 4,
  "vscode": {
   "interpreter": {
    "hash": "5238573367df39f7286bb46f9ff5f08f63a01a80960060ce41e3c79b190280fa"
   }
  }
 },
 "nbformat": 4,
 "nbformat_minor": 2
}
