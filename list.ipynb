{
  "cells": [
    {
      "cell_type": "markdown",
      "metadata": {
        "id": "view-in-github",
        "colab_type": "text"
      },
      "source": [
        "<a href=\"https://colab.research.google.com/github/RemiJolian/Python-1402/blob/main/list.ipynb\" target=\"_parent\"><img src=\"https://colab.research.google.com/assets/colab-badge.svg\" alt=\"Open In Colab\"/></a>"
      ]
    },
    {
      "cell_type": "markdown",
      "metadata": {
        "id": "op7A8jYXsib7"
      },
      "source": [
        "**Review from Quera**"
      ]
    },
    {
      "cell_type": "code",
      "execution_count": null,
      "metadata": {
        "id": "zkMWkZgssib_",
        "outputId": "1902052f-8839-475c-db2c-ce904191a381"
      },
      "outputs": [
        {
          "data": {
            "text/plain": [
              "[1, 1, 1, 1, 1]"
            ]
          },
          "execution_count": 2,
          "metadata": {},
          "output_type": "execute_result"
        }
      ],
      "source": [
        "my_list = [1] * 5\n",
        "my_list"
      ]
    },
    {
      "cell_type": "code",
      "execution_count": null,
      "metadata": {
        "id": "3wnp6gEjsicC",
        "outputId": "a995ec16-bb3f-42a4-c996-ad3152a62ab8"
      },
      "outputs": [
        {
          "data": {
            "text/plain": [
              "[10, 20, 30]"
            ]
          },
          "execution_count": 3,
          "metadata": {},
          "output_type": "execute_result"
        }
      ],
      "source": [
        "my_list = [10, 20, 30]\n",
        "my_list[:]"
      ]
    },
    {
      "cell_type": "code",
      "execution_count": null,
      "metadata": {
        "id": "IO_KZ51DsicD",
        "outputId": "86cd7390-95f9-4c5f-e77d-514908a89d9a"
      },
      "outputs": [
        {
          "data": {
            "text/plain": [
              "[10, 20]"
            ]
          },
          "execution_count": 6,
          "metadata": {},
          "output_type": "execute_result"
        }
      ],
      "source": [
        "my_list[0:2]"
      ]
    },
    {
      "cell_type": "code",
      "execution_count": null,
      "metadata": {
        "id": "6r2vZQ2rsicD",
        "outputId": "b618fc89-08d4-49c6-8ea9-79d2fe59e395"
      },
      "outputs": [
        {
          "data": {
            "text/plain": [
              "[]"
            ]
          },
          "execution_count": 7,
          "metadata": {},
          "output_type": "execute_result"
        }
      ],
      "source": [
        "my_list[1:0]"
      ]
    },
    {
      "cell_type": "code",
      "execution_count": 2,
      "metadata": {
        "colab": {
          "base_uri": "https://localhost:8080/"
        },
        "id": "RWeivUlisicE",
        "outputId": "86c41598-9d12-464b-d34b-ffee4317d7ee"
      },
      "outputs": [
        {
          "output_type": "execute_result",
          "data": {
            "text/plain": [
              "[10, 0, 30]"
            ]
          },
          "metadata": {},
          "execution_count": 2
        }
      ],
      "source": [
        "num = [10, 20, 30]\n",
        "num[1] = 0\n",
        "num"
      ]
    },
    {
      "cell_type": "code",
      "execution_count": 3,
      "metadata": {
        "colab": {
          "base_uri": "https://localhost:8080/"
        },
        "id": "kwg5mwm6sicF",
        "outputId": "4025bb7b-24dd-4515-f0b7-d6e5a0324d9c"
      },
      "outputs": [
        {
          "output_type": "execute_result",
          "data": {
            "text/plain": [
              "[1, 2, 30]"
            ]
          },
          "metadata": {},
          "execution_count": 3
        }
      ],
      "source": [
        "num[0:2] = [1, 2]\n",
        "num"
      ]
    },
    {
      "cell_type": "code",
      "execution_count": null,
      "metadata": {
        "id": "RexAIwersicF",
        "outputId": "7290801b-6fea-4717-9bd8-61c8dfbb792e"
      },
      "outputs": [
        {
          "data": {
            "text/plain": [
              "['s', 'a', 'l', 'a', 'm']"
            ]
          },
          "execution_count": 10,
          "metadata": {},
          "output_type": "execute_result"
        }
      ],
      "source": [
        "s = 'salam'\n",
        "list(s)"
      ]
    },
    {
      "cell_type": "code",
      "execution_count": null,
      "metadata": {
        "id": "kxaSGwodsicG",
        "outputId": "f885ec2a-5680-47ce-81bf-c0567f0de316"
      },
      "outputs": [
        {
          "data": {
            "text/plain": [
              "[10, 12, 13]"
            ]
          },
          "execution_count": 12,
          "metadata": {},
          "output_type": "execute_result"
        }
      ],
      "source": [
        "list1 = [10]\n",
        "list1.append(12)\n",
        "list1.append(13)\n",
        "list1"
      ]
    },
    {
      "cell_type": "code",
      "execution_count": null,
      "metadata": {
        "id": "BGpV_C87sicH",
        "outputId": "cf518b0c-edc6-4fcd-90f7-7a1d22baea40"
      },
      "outputs": [
        {
          "data": {
            "text/plain": [
              "[10, 12, 13, 14, 15, 16]"
            ]
          },
          "execution_count": 13,
          "metadata": {},
          "output_type": "execute_result"
        }
      ],
      "source": [
        "list1.extend([14, 15, 16])\n",
        "list1"
      ]
    },
    {
      "cell_type": "code",
      "execution_count": null,
      "metadata": {
        "id": "UuBpPikLsicI",
        "outputId": "484f9204-deb9-41da-a297-c5920a462d77"
      },
      "outputs": [
        {
          "data": {
            "text/plain": [
              "[10, 0, 12, 13, 14, 15, 16]"
            ]
          },
          "execution_count": 14,
          "metadata": {},
          "output_type": "execute_result"
        }
      ],
      "source": [
        "list1.insert(1,0)\n",
        "list1"
      ]
    },
    {
      "cell_type": "code",
      "execution_count": null,
      "metadata": {
        "id": "DxE2AJMusicI",
        "outputId": "acfa8c6b-cfec-4734-9d15-388919b99a33"
      },
      "outputs": [
        {
          "data": {
            "text/plain": [
              "[2, 3]"
            ]
          },
          "execution_count": 16,
          "metadata": {},
          "output_type": "execute_result"
        }
      ],
      "source": [
        "l = [1, 2, 3]\n",
        "l.remove(1)\n",
        "l"
      ]
    },
    {
      "cell_type": "code",
      "execution_count": null,
      "metadata": {
        "id": "U-b5q1QHsicJ",
        "outputId": "a6f7a61c-cc40-4bf2-bf42-986c57ea81e1"
      },
      "outputs": [
        {
          "data": {
            "text/plain": [
              "[2, 3, 4, 1]"
            ]
          },
          "execution_count": 18,
          "metadata": {},
          "output_type": "execute_result"
        }
      ],
      "source": [
        "l = [1, 2, 3, 4, 1]\n",
        "l.remove(1)    # delete only first 1\n",
        "l\n"
      ]
    },
    {
      "cell_type": "code",
      "execution_count": null,
      "metadata": {
        "id": "87eMWIR2sicJ"
      },
      "outputs": [],
      "source": [
        "l.remove(12)   # error, 12 not in list l"
      ]
    },
    {
      "cell_type": "code",
      "execution_count": null,
      "metadata": {
        "id": "5CgjrHz_sicK",
        "outputId": "bdf99f0f-a6bc-42c5-cbd8-2adc633aea49"
      },
      "outputs": [
        {
          "data": {
            "text/plain": [
              "20"
            ]
          },
          "execution_count": 23,
          "metadata": {},
          "output_type": "execute_result"
        }
      ],
      "source": [
        "l = [10, 20, 30, 40]\n",
        "l.pop()\n",
        "l\n",
        "l.pop(1)"
      ]
    },
    {
      "cell_type": "code",
      "execution_count": null,
      "metadata": {
        "id": "mx31W_JnsicK",
        "outputId": "6f40397b-23b3-4567-b547-647dcdcb4c94"
      },
      "outputs": [
        {
          "data": {
            "text/plain": [
              "[]"
            ]
          },
          "execution_count": 24,
          "metadata": {},
          "output_type": "execute_result"
        }
      ],
      "source": [
        "l.clear()\n",
        "l"
      ]
    },
    {
      "cell_type": "code",
      "execution_count": null,
      "metadata": {
        "id": "0iqr8f_ZsicL",
        "outputId": "661658d3-f571-415f-8335-ee6a987e408b"
      },
      "outputs": [
        {
          "data": {
            "text/plain": [
              "1"
            ]
          },
          "execution_count": 26,
          "metadata": {},
          "output_type": "execute_result"
        }
      ],
      "source": [
        "myList = [\"amir\", \"ali\", \"amir\", \"ali\"]\n",
        "myList.index('ali')"
      ]
    },
    {
      "cell_type": "code",
      "execution_count": null,
      "metadata": {
        "id": "hpNOoMvksicL"
      },
      "outputs": [],
      "source": [
        "myList.index('ali', 0, 2) # from 0 to 2, search ali"
      ]
    },
    {
      "cell_type": "code",
      "execution_count": null,
      "metadata": {
        "id": "7BReGYOHsicL",
        "outputId": "c8eeba08-b910-444e-9e29-b602bcd1508a"
      },
      "outputs": [
        {
          "data": {
            "text/plain": [
              "2"
            ]
          },
          "execution_count": 27,
          "metadata": {},
          "output_type": "execute_result"
        }
      ],
      "source": [
        "myList = [\"amir\", \"ali\", \"amir\", \"ali\"]\n",
        "myList.count('ali')"
      ]
    },
    {
      "cell_type": "markdown",
      "metadata": {
        "id": "xw_haxilsicM"
      },
      "source": [
        "**sorting**"
      ]
    },
    {
      "cell_type": "code",
      "execution_count": null,
      "metadata": {
        "id": "Ubw1U9q8sicM",
        "outputId": "3170afe4-9239-41de-fc5e-cf7aa27d32a6"
      },
      "outputs": [
        {
          "data": {
            "text/plain": [
              "['apple', 'nokia', 'samsung', 'sony', 'xiaomi']"
            ]
          },
          "execution_count": 29,
          "metadata": {},
          "output_type": "execute_result"
        }
      ],
      "source": [
        "companies = ['apple', 'samsung', 'xiaomi', 'sony', 'nokia']\n",
        "companies.sort()\n",
        "companies"
      ]
    },
    {
      "cell_type": "code",
      "execution_count": null,
      "metadata": {
        "id": "Lsp1_iZmsicN",
        "outputId": "e0bd4533-a40f-487d-da1d-7c4988db2b5c"
      },
      "outputs": [
        {
          "data": {
            "text/plain": [
              "[4, 3, 2, 1]"
            ]
          },
          "execution_count": 44,
          "metadata": {},
          "output_type": "execute_result"
        }
      ],
      "source": [
        "nums = [1, 2, 3, 4]\n",
        "nums.reverse()\n",
        "nums"
      ]
    },
    {
      "cell_type": "markdown",
      "metadata": {
        "id": "TzW5gztgsicN"
      },
      "source": [
        "**join func**"
      ]
    },
    {
      "cell_type": "code",
      "execution_count": null,
      "metadata": {
        "id": "hJjPajHKsicN",
        "outputId": "a0138567-a667-4a5f-9b07-415578e9df05"
      },
      "outputs": [
        {
          "data": {
            "text/plain": [
              "'Alla Taghikhan Moghtaderi'"
            ]
          },
          "execution_count": 34,
          "metadata": {},
          "output_type": "execute_result"
        }
      ],
      "source": [
        "names = ['Alla', 'Taghikhan', 'Moghtaderi']\n",
        "ch = ' '\n",
        "ch.join(names)"
      ]
    },
    {
      "cell_type": "code",
      "execution_count": null,
      "metadata": {
        "id": "_KGQCnD3sicO"
      },
      "outputs": [],
      "source": []
    },
    {
      "cell_type": "code",
      "execution_count": null,
      "metadata": {
        "id": "mxeon5ZNsicO",
        "outputId": "e1967329-2227-46b1-8160-20f0a7fefe26"
      },
      "outputs": [
        {
          "data": {
            "text/plain": [
              "['Alla', 'Taghikhan', 'Moghtaderi']"
            ]
          },
          "execution_count": 35,
          "metadata": {},
          "output_type": "execute_result"
        }
      ],
      "source": [
        "names.copy()"
      ]
    },
    {
      "cell_type": "markdown",
      "metadata": {
        "id": "ZCQYm3axsicO"
      },
      "source": [
        "**Queiz: chap bar aks**"
      ]
    },
    {
      "cell_type": "code",
      "execution_count": null,
      "metadata": {
        "id": "pB_85pKlsicP"
      },
      "outputs": [],
      "source": [
        "numbers = []\n",
        "num = int(input())\n",
        "while num != 0:\n",
        "    numbers.append(num)\n",
        "    num = int(input())\n",
        "numbers.reverse()\n",
        "for i in numbers:\n",
        "    print (i)"
      ]
    },
    {
      "cell_type": "markdown",
      "metadata": {
        "id": "DTA9Z0MtsicP"
      },
      "source": [
        "**Queue and stack**"
      ]
    },
    {
      "cell_type": "markdown",
      "metadata": {
        "id": "nWwZjOOJsicP"
      },
      "source": [
        "**diffrent between append and extend method on lists**"
      ]
    },
    {
      "cell_type": "code",
      "execution_count": null,
      "metadata": {
        "id": "FWV7EA2msicP",
        "outputId": "852ec816-b52d-419d-ed33-0295d5af283c"
      },
      "outputs": [
        {
          "name": "stdout",
          "output_type": "stream",
          "text": [
            "[1, 2, 3, 4, 5, 6, 7]\n"
          ]
        }
      ],
      "source": [
        "a = [1, 2, 3, 4]\n",
        "b = [5, 6, 7]\n",
        "a.extend(b)\n",
        "print(a)"
      ]
    },
    {
      "cell_type": "code",
      "execution_count": null,
      "metadata": {
        "id": "ncN4VlpTsicQ",
        "outputId": "ee5cd7c0-d663-43fd-ba43-62f664a00631"
      },
      "outputs": [
        {
          "name": "stdout",
          "output_type": "stream",
          "text": [
            "[1, 2, 3, 4, [5, 6, 7]]\n"
          ]
        }
      ],
      "source": [
        "a = [1, 2, 3, 4]\n",
        "b = [5, 6, 7]\n",
        "a.append(b)\n",
        "print(a)"
      ]
    },
    {
      "cell_type": "markdown",
      "metadata": {
        "id": "Z1pdtJvbsicQ"
      },
      "source": [
        "**non,NaN, not a number means.**"
      ]
    },
    {
      "cell_type": "code",
      "execution_count": null,
      "metadata": {
        "id": "9JRJ65QPsicQ",
        "outputId": "1c585cd6-2619-48f4-f15e-bb5e2a19797f"
      },
      "outputs": [
        {
          "data": {
            "text/plain": [
              "[2.6, nan]"
            ]
          },
          "execution_count": 10,
          "metadata": {},
          "output_type": "execute_result"
        }
      ],
      "source": [
        "a = [2.6, float('nan')]\n",
        "a"
      ]
    },
    {
      "cell_type": "code",
      "execution_count": null,
      "metadata": {
        "id": "BUdg3d3XsicR",
        "outputId": "496a240c-3524-4d12-8031-b07b643d64d7"
      },
      "outputs": [
        {
          "name": "stdout",
          "output_type": "stream",
          "text": [
            "nan\n"
          ]
        }
      ],
      "source": [
        "# Import math Library\n",
        "import math\n",
        "\n",
        "# Print the value of nan\n",
        "print (math.nan)"
      ]
    },
    {
      "cell_type": "code",
      "execution_count": null,
      "metadata": {
        "id": "1oPCXnwnsicR",
        "outputId": "7345f8c6-3c5c-42ad-a40d-0cfb6a9e073e"
      },
      "outputs": [
        {
          "data": {
            "text/plain": [
              "True"
            ]
          },
          "execution_count": 14,
          "metadata": {},
          "output_type": "execute_result"
        }
      ],
      "source": [
        "l = [1, 2, 3]\n",
        "isinstance(l,list)"
      ]
    },
    {
      "cell_type": "code",
      "execution_count": null,
      "metadata": {
        "id": "9fyb60zqsicR",
        "outputId": "2658ba40-c660-4078-80a8-fda4a2564681"
      },
      "outputs": [
        {
          "data": {
            "text/plain": [
              "True"
            ]
          },
          "execution_count": 18,
          "metadata": {},
          "output_type": "execute_result"
        }
      ],
      "source": [
        "s = 'Python3'\n",
        "s.isalnum()"
      ]
    }
  ],
  "metadata": {
    "kernelspec": {
      "display_name": "Python 3",
      "language": "python",
      "name": "python3"
    },
    "language_info": {
      "codemirror_mode": {
        "name": "ipython",
        "version": 3
      },
      "file_extension": ".py",
      "mimetype": "text/x-python",
      "name": "python",
      "nbconvert_exporter": "python",
      "pygments_lexer": "ipython3",
      "version": "3.11.1"
    },
    "colab": {
      "provenance": [],
      "include_colab_link": true
    }
  },
  "nbformat": 4,
  "nbformat_minor": 0
}